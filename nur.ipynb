{
 "cells": [
  {
   "cell_type": "markdown",
   "metadata": {},
   "source": [
    "# National University Ranking\n",
    "\n",
    "![](images/2023-07-13-00-48-01.png)\n",
    "\n",
    "## Introduction\n",
    "\n",
    "## Reasearch Idea: \n",
    "### Developing a searchable database to help high school students identify colleges that match their criteria in terms of tuition, graduation rate, location, and rank."
   ]
  },
  {
   "cell_type": "markdown",
   "metadata": {},
   "source": [
    "ROUGH OUTLINE\n",
    "1. extract the state short code from location\n",
    "2. extract the year founded from description\n",
    "3. clean up the fees, in-state and enrollment columns\n",
    "4. clean up the columns names\n",
    "\n",
    "* 51 states\n",
    "\n",
    "5. seperate each state schools\n",
    "6. each state will be a table of it's own in the database for database optimization\n",
    "7. create a state table\n",
    "8. can rank school inside each state based on enrollment\n",
    "\n",
    "-- EDA\n",
    "\n",
    "9. Top school based on rank, tuition fees, instate fees, and enrollment\n",
    "10. Top 2 schools within 56 states\n",
    "11. oldest schools based on year founded\n",
    "12. oldest school within 51 states\n",
    "* Word cloud for each state\n",
    "\n",
    "-- App interface\n",
    "\n",
    "13. A brief overview with visuals from top school based on rank (overall)\n",
    "14. selection box to select state. Once selected, brief overview with a visual of the top school in that state.\n",
    "* Overview will include details based on the available data like average tuition and top ranked school.\n",
    "15. Another section where we take in input from the user to recommend a movie within a choosen state.\n",
    "16. If no state is choosen, we recommend based on the user location, and closest state.\n",
    "* For closest state, we can do some resear to know which state is closer to each other (Feature engineering) \n",
    "\n",
    "## Objectives\n",
    "Outline breakdown\n",
    "\n",
    "### Data Cleaning: \n",
    "* Objective: Clean the data and feature engineer new columns\n",
    "* Tools: Python\n",
    "\n",
    "### EDA\n",
    "* Objective: Create visuals from the cleaned data\n",
    "* Tools: Power BI, Python\n",
    "\n",
    "### Database Engineers\n",
    "* Objective: Create the database and the schema. Views if possible\n",
    "* Tools: SQL\n",
    "\n",
    "### Project App\n",
    "* Objective: Create the user interface\n",
    "* Tools: Python, SQL, USer\n",
    "\n",
    "### Technical Writers\n",
    "* Objective: Document every process\n",
    "* Microsoft/Google Suites (Slide, Docs, Excel, etc)\n",
    "\n",
    "## Have a video meeting to discuss milestone achievement"
   ]
  },
  {
   "cell_type": "markdown",
   "metadata": {},
   "source": [
    "### Import Libraries"
   ]
  },
  {
   "cell_type": "code",
   "execution_count": 2,
   "metadata": {},
   "outputs": [],
   "source": [
    "import pandas as pd\n",
    "import plotly.express as px"
   ]
  },
  {
   "cell_type": "code",
   "execution_count": 3,
   "metadata": {},
   "outputs": [
    {
     "data": {
      "text/plain": [
       "(231, 7)"
      ]
     },
     "execution_count": 3,
     "metadata": {},
     "output_type": "execute_result"
    }
   ],
   "source": [
    "# Loading the dataset\n",
    "nur = pd.read_csv(\"dataset/National Universities Rankings.csv\", index_col=0)\n",
    "nur.shape"
   ]
  },
  {
   "cell_type": "code",
   "execution_count": 4,
   "metadata": {},
   "outputs": [
    {
     "data": {
      "text/html": [
       "<div>\n",
       "<style scoped>\n",
       "    .dataframe tbody tr th:only-of-type {\n",
       "        vertical-align: middle;\n",
       "    }\n",
       "\n",
       "    .dataframe tbody tr th {\n",
       "        vertical-align: top;\n",
       "    }\n",
       "\n",
       "    .dataframe thead th {\n",
       "        text-align: right;\n",
       "    }\n",
       "</style>\n",
       "<table border=\"1\" class=\"dataframe\">\n",
       "  <thead>\n",
       "    <tr style=\"text-align: right;\">\n",
       "      <th></th>\n",
       "      <th>Name</th>\n",
       "      <th>Location</th>\n",
       "      <th>Rank</th>\n",
       "      <th>Description</th>\n",
       "      <th>Tuition and fees</th>\n",
       "      <th>In-state</th>\n",
       "      <th>Undergrad Enrollment</th>\n",
       "    </tr>\n",
       "    <tr>\n",
       "      <th>index</th>\n",
       "      <th></th>\n",
       "      <th></th>\n",
       "      <th></th>\n",
       "      <th></th>\n",
       "      <th></th>\n",
       "      <th></th>\n",
       "      <th></th>\n",
       "    </tr>\n",
       "  </thead>\n",
       "  <tbody>\n",
       "    <tr>\n",
       "      <th>0</th>\n",
       "      <td>Princeton University</td>\n",
       "      <td>Princeton, NJ</td>\n",
       "      <td>1</td>\n",
       "      <td>Princeton, the fourth-oldest college in the Un...</td>\n",
       "      <td>$45,320</td>\n",
       "      <td>NaN</td>\n",
       "      <td>5,402</td>\n",
       "    </tr>\n",
       "    <tr>\n",
       "      <th>1</th>\n",
       "      <td>Harvard University</td>\n",
       "      <td>Cambridge, MA</td>\n",
       "      <td>2</td>\n",
       "      <td>Harvard is located in Cambridge, Massachusetts...</td>\n",
       "      <td>$47,074</td>\n",
       "      <td>NaN</td>\n",
       "      <td>6,699</td>\n",
       "    </tr>\n",
       "    <tr>\n",
       "      <th>2</th>\n",
       "      <td>University of Chicago</td>\n",
       "      <td>Chicago, IL</td>\n",
       "      <td>3</td>\n",
       "      <td>The University of Chicago, situated in Chicago...</td>\n",
       "      <td>$52,491</td>\n",
       "      <td>NaN</td>\n",
       "      <td>5,844</td>\n",
       "    </tr>\n",
       "    <tr>\n",
       "      <th>3</th>\n",
       "      <td>Yale University</td>\n",
       "      <td>New Haven, CT</td>\n",
       "      <td>3</td>\n",
       "      <td>Yale University, located in New Haven, Connect...</td>\n",
       "      <td>$49,480</td>\n",
       "      <td>NaN</td>\n",
       "      <td>5,532</td>\n",
       "    </tr>\n",
       "    <tr>\n",
       "      <th>4</th>\n",
       "      <td>Columbia University</td>\n",
       "      <td>New York, NY</td>\n",
       "      <td>5</td>\n",
       "      <td>Columbia University, located in Manhattan's Mo...</td>\n",
       "      <td>$55,056</td>\n",
       "      <td>NaN</td>\n",
       "      <td>6,102</td>\n",
       "    </tr>\n",
       "  </tbody>\n",
       "</table>\n",
       "</div>"
      ],
      "text/plain": [
       "                        Name       Location  Rank  \\\n",
       "index                                               \n",
       "0       Princeton University  Princeton, NJ     1   \n",
       "1         Harvard University  Cambridge, MA     2   \n",
       "2      University of Chicago    Chicago, IL     3   \n",
       "3            Yale University  New Haven, CT     3   \n",
       "4        Columbia University   New York, NY     5   \n",
       "\n",
       "                                             Description Tuition and fees  \\\n",
       "index                                                                       \n",
       "0      Princeton, the fourth-oldest college in the Un...         $45,320    \n",
       "1      Harvard is located in Cambridge, Massachusetts...         $47,074    \n",
       "2      The University of Chicago, situated in Chicago...         $52,491    \n",
       "3      Yale University, located in New Haven, Connect...         $49,480    \n",
       "4      Columbia University, located in Manhattan's Mo...         $55,056    \n",
       "\n",
       "      In-state Undergrad Enrollment  \n",
       "index                                \n",
       "0          NaN                5,402  \n",
       "1          NaN                6,699  \n",
       "2          NaN                5,844  \n",
       "3          NaN                5,532  \n",
       "4          NaN                6,102  "
      ]
     },
     "execution_count": 4,
     "metadata": {},
     "output_type": "execute_result"
    }
   ],
   "source": [
    "nur.head()"
   ]
  },
  {
   "cell_type": "code",
   "execution_count": 5,
   "metadata": {},
   "outputs": [],
   "source": [
    "df_nur = nur.copy()"
   ]
  },
  {
   "cell_type": "code",
   "execution_count": 6,
   "metadata": {},
   "outputs": [],
   "source": [
    "# Promise\n",
    "# Remove the dollar sign ($) and comma\n",
    "df_nur['Tuition and fees'] = df_nur['Tuition and fees'].str.replace('$', '', regex=False).str.replace(',', '')\n",
    "\n",
    "# convert the column datatype to integer\n",
    "df_nur['Tuition and fees'] = df_nur['Tuition and fees'].fillna('0').astype(int)"
   ]
  },
  {
   "cell_type": "code",
   "execution_count": 7,
   "metadata": {},
   "outputs": [],
   "source": [
    "# Chinaza\n",
    "# Cleaning In-state column\n",
    "df_nur['In-state'] = df_nur['In-state'].str.replace('$','', regex=False).str.replace(',', '')\n",
    "df_nur['In-state'] = df_nur['In-state'].fillna('0').astype(int)\n"
   ]
  },
  {
   "cell_type": "code",
   "execution_count": 8,
   "metadata": {},
   "outputs": [],
   "source": [
    "# precious\n",
    "# data cleaning by replacing ',' with '' and converting column to integer\n",
    "df_nur['Undergrad Enrollment'] = df_nur['Undergrad Enrollment'].str.replace(',','').astype('int')"
   ]
  },
  {
   "cell_type": "code",
   "execution_count": 9,
   "metadata": {},
   "outputs": [],
   "source": [
    "#task.toyosi - Extract the states from the location table, make it a column of it's own\n",
    "df_nur['State'] = nur['Location'].str.split(',').str[-1].str.strip()"
   ]
  },
  {
   "cell_type": "code",
   "execution_count": 10,
   "metadata": {},
   "outputs": [
    {
     "data": {
      "text/html": [
       "<div>\n",
       "<style scoped>\n",
       "    .dataframe tbody tr th:only-of-type {\n",
       "        vertical-align: middle;\n",
       "    }\n",
       "\n",
       "    .dataframe tbody tr th {\n",
       "        vertical-align: top;\n",
       "    }\n",
       "\n",
       "    .dataframe thead th {\n",
       "        text-align: right;\n",
       "    }\n",
       "</style>\n",
       "<table border=\"1\" class=\"dataframe\">\n",
       "  <thead>\n",
       "    <tr style=\"text-align: right;\">\n",
       "      <th></th>\n",
       "      <th>name</th>\n",
       "      <th>location</th>\n",
       "      <th>rank</th>\n",
       "      <th>description</th>\n",
       "      <th>tuition_and_fees</th>\n",
       "      <th>in_state</th>\n",
       "      <th>undergrad_enrollment</th>\n",
       "      <th>state</th>\n",
       "    </tr>\n",
       "    <tr>\n",
       "      <th>index</th>\n",
       "      <th></th>\n",
       "      <th></th>\n",
       "      <th></th>\n",
       "      <th></th>\n",
       "      <th></th>\n",
       "      <th></th>\n",
       "      <th></th>\n",
       "      <th></th>\n",
       "    </tr>\n",
       "  </thead>\n",
       "  <tbody>\n",
       "    <tr>\n",
       "      <th>0</th>\n",
       "      <td>Princeton University</td>\n",
       "      <td>Princeton, NJ</td>\n",
       "      <td>1</td>\n",
       "      <td>Princeton, the fourth-oldest college in the Un...</td>\n",
       "      <td>45320</td>\n",
       "      <td>0</td>\n",
       "      <td>5402</td>\n",
       "      <td>NJ</td>\n",
       "    </tr>\n",
       "    <tr>\n",
       "      <th>1</th>\n",
       "      <td>Harvard University</td>\n",
       "      <td>Cambridge, MA</td>\n",
       "      <td>2</td>\n",
       "      <td>Harvard is located in Cambridge, Massachusetts...</td>\n",
       "      <td>47074</td>\n",
       "      <td>0</td>\n",
       "      <td>6699</td>\n",
       "      <td>MA</td>\n",
       "    </tr>\n",
       "    <tr>\n",
       "      <th>2</th>\n",
       "      <td>University of Chicago</td>\n",
       "      <td>Chicago, IL</td>\n",
       "      <td>3</td>\n",
       "      <td>The University of Chicago, situated in Chicago...</td>\n",
       "      <td>52491</td>\n",
       "      <td>0</td>\n",
       "      <td>5844</td>\n",
       "      <td>IL</td>\n",
       "    </tr>\n",
       "    <tr>\n",
       "      <th>3</th>\n",
       "      <td>Yale University</td>\n",
       "      <td>New Haven, CT</td>\n",
       "      <td>3</td>\n",
       "      <td>Yale University, located in New Haven, Connect...</td>\n",
       "      <td>49480</td>\n",
       "      <td>0</td>\n",
       "      <td>5532</td>\n",
       "      <td>CT</td>\n",
       "    </tr>\n",
       "    <tr>\n",
       "      <th>4</th>\n",
       "      <td>Columbia University</td>\n",
       "      <td>New York, NY</td>\n",
       "      <td>5</td>\n",
       "      <td>Columbia University, located in Manhattan's Mo...</td>\n",
       "      <td>55056</td>\n",
       "      <td>0</td>\n",
       "      <td>6102</td>\n",
       "      <td>NY</td>\n",
       "    </tr>\n",
       "  </tbody>\n",
       "</table>\n",
       "</div>"
      ],
      "text/plain": [
       "                        name       location  rank  \\\n",
       "index                                               \n",
       "0       Princeton University  Princeton, NJ     1   \n",
       "1         Harvard University  Cambridge, MA     2   \n",
       "2      University of Chicago    Chicago, IL     3   \n",
       "3            Yale University  New Haven, CT     3   \n",
       "4        Columbia University   New York, NY     5   \n",
       "\n",
       "                                             description  tuition_and_fees  \\\n",
       "index                                                                        \n",
       "0      Princeton, the fourth-oldest college in the Un...             45320   \n",
       "1      Harvard is located in Cambridge, Massachusetts...             47074   \n",
       "2      The University of Chicago, situated in Chicago...             52491   \n",
       "3      Yale University, located in New Haven, Connect...             49480   \n",
       "4      Columbia University, located in Manhattan's Mo...             55056   \n",
       "\n",
       "       in_state  undergrad_enrollment state  \n",
       "index                                        \n",
       "0             0                  5402    NJ  \n",
       "1             0                  6699    MA  \n",
       "2             0                  5844    IL  \n",
       "3             0                  5532    CT  \n",
       "4             0                  6102    NY  "
      ]
     },
     "execution_count": 10,
     "metadata": {},
     "output_type": "execute_result"
    }
   ],
   "source": [
    "#Olufemilite\n",
    "#Changing column headers to lower case and changing spaces to underscore\n",
    "df_nur.rename(columns={\"Name\":\"name\",\"Location\":\"location\",\"Rank\":\"rank\",\"Description\":\"description\",\n",
    "                       \"Tuition and fees\":\"tuition_and_fees\",\"In-state\":\"in_state\",\"Undergrad Enrollment\":\"undergrad_enrollment\",\n",
    "                       \"State\": \"state\"}, inplace=True)\n",
    "df_nur.head()"
   ]
  },
  {
   "cell_type": "code",
   "execution_count": 11,
   "metadata": {},
   "outputs": [],
   "source": [
    "# Goodrich\n",
    "# Extract the year using regex and create a new column\n",
    "df_nur['year'] = df_nur['description'].str.extract(r'(\\d{4})')\n",
    "df_nur['year'] = df_nur['year'].fillna('0').astype(int)"
   ]
  },
  {
   "cell_type": "code",
   "execution_count": 12,
   "metadata": {},
   "outputs": [
    {
     "data": {
      "text/plain": [
       "dict_keys(['NJ', 'MA', 'IL', 'CT', 'NY', 'CA', 'NC', 'PA', 'MD', 'NH', 'RI', 'TX', 'IN', 'TN', 'MO', 'GA', 'DC', 'VA', 'MI', 'OH', 'LA', 'FL', 'WI', 'WA', 'SC', 'UT', 'MN', 'DE', 'CO', 'IA', 'OK', 'VT', 'AL', 'OR', 'NE', 'KS', 'AZ', 'KY', 'AR', 'MS', 'HI', 'ID', 'WY', 'NM', 'ME', 'WV', 'ND', 'NV', 'SD', 'AK', 'MT'])"
      ]
     },
     "execution_count": 12,
     "metadata": {},
     "output_type": "execute_result"
    }
   ],
   "source": [
    "# grace_oby\n",
    "# Get the full name of the 51 states and make it a column of it's own. \n",
    "# Note, you must make sure they match when adding it to the dataframe\n",
    "state_abbrev = {\n",
    "            'NJ': 'New Jersey',\n",
    "            'MA': 'Massachusetts',\n",
    "            'IL': 'Illinois',\n",
    "            'CT': 'Connecticut',\n",
    "            'NY': 'New York',\n",
    "            'CA': 'California',\n",
    "            'NC': 'North Carolina',\n",
    "            'PA': 'Pennsylvania',\n",
    "            'MD': 'Maryland',\n",
    "            'NH': 'New Hampshire',\n",
    "            'RI': 'Rhode Island',\n",
    "            'TX': 'Texas',\n",
    "            'IN': 'Indiana',    \n",
    "            'TN': 'Tennessee',\n",
    "            'MO': 'Missouri',\n",
    "            'GA': 'Georgia',\n",
    "            'DC': 'District of Columbia',\n",
    "            'VA': 'Virginia',\n",
    "            'MI': 'Michigan',\n",
    "            'OH': 'Ohio',\n",
    "            'LA': 'Louisiana',\n",
    "            'FL': 'Florida',\n",
    "            'WI': 'Wisconsin',\n",
    "            'WA': 'Washington',\n",
    "            'SC': 'South Carolina',\n",
    "            'UT': 'Utah',\n",
    "            'MN': 'Minnesota',\n",
    "            'DE': 'Delaware',\n",
    "            'CO': 'Colorado',\n",
    "            'IA': 'Iowa',\n",
    "            'OK': 'Oklahoma',\n",
    "            'VT': 'Vermont',\n",
    "            'AL': 'Alabama',\n",
    "            'OR': 'Oregon',\n",
    "            'NE': 'Nebraska',\n",
    "            'KS': 'Kansas',\n",
    "            'AZ': 'Arizona',\n",
    "            'KY': 'Kentucky',\n",
    "            'AR': 'Arkansas',\n",
    "            'MS': 'Mississippi',\n",
    "            'HI': 'Hawaii',\n",
    "            'ID': 'Idaho',\n",
    "            'WY': 'Wyoming',\n",
    "            'NM': 'New Mexico',\n",
    "            'ME': 'Maine',\n",
    "            'WV': 'West Virginia',\n",
    "            'ND': 'North Dakota',\n",
    "            'NV': 'Nevada',\n",
    "            'SD': 'South Dakota',\n",
    "            'AK': 'Alaska',\n",
    "            'MT': 'Montana',\n",
    "    \n",
    "}\n",
    "state_abbrev.keys()"
   ]
  },
  {
   "cell_type": "code",
   "execution_count": 13,
   "metadata": {},
   "outputs": [],
   "source": [
    "df_nur[\"state_full\"] = df_nur[\"state\"].map(state_abbrev)\n"
   ]
  },
  {
   "cell_type": "code",
   "execution_count": 14,
   "metadata": {},
   "outputs": [
    {
     "data": {
      "text/html": [
       "<div>\n",
       "<style scoped>\n",
       "    .dataframe tbody tr th:only-of-type {\n",
       "        vertical-align: middle;\n",
       "    }\n",
       "\n",
       "    .dataframe tbody tr th {\n",
       "        vertical-align: top;\n",
       "    }\n",
       "\n",
       "    .dataframe thead th {\n",
       "        text-align: right;\n",
       "    }\n",
       "</style>\n",
       "<table border=\"1\" class=\"dataframe\">\n",
       "  <thead>\n",
       "    <tr style=\"text-align: right;\">\n",
       "      <th></th>\n",
       "      <th>name</th>\n",
       "      <th>location</th>\n",
       "      <th>rank</th>\n",
       "      <th>description</th>\n",
       "      <th>tuition_and_fees</th>\n",
       "      <th>in_state</th>\n",
       "      <th>undergrad_enrollment</th>\n",
       "      <th>state</th>\n",
       "      <th>year</th>\n",
       "      <th>state_full</th>\n",
       "    </tr>\n",
       "    <tr>\n",
       "      <th>index</th>\n",
       "      <th></th>\n",
       "      <th></th>\n",
       "      <th></th>\n",
       "      <th></th>\n",
       "      <th></th>\n",
       "      <th></th>\n",
       "      <th></th>\n",
       "      <th></th>\n",
       "      <th></th>\n",
       "      <th></th>\n",
       "    </tr>\n",
       "  </thead>\n",
       "  <tbody>\n",
       "    <tr>\n",
       "      <th>0</th>\n",
       "      <td>Princeton University</td>\n",
       "      <td>Princeton, NJ</td>\n",
       "      <td>1</td>\n",
       "      <td>Princeton, the fourth-oldest college in the Un...</td>\n",
       "      <td>45320</td>\n",
       "      <td>0</td>\n",
       "      <td>5402</td>\n",
       "      <td>NJ</td>\n",
       "      <td>0</td>\n",
       "      <td>New Jersey</td>\n",
       "    </tr>\n",
       "    <tr>\n",
       "      <th>1</th>\n",
       "      <td>Harvard University</td>\n",
       "      <td>Cambridge, MA</td>\n",
       "      <td>2</td>\n",
       "      <td>Harvard is located in Cambridge, Massachusetts...</td>\n",
       "      <td>47074</td>\n",
       "      <td>0</td>\n",
       "      <td>6699</td>\n",
       "      <td>MA</td>\n",
       "      <td>0</td>\n",
       "      <td>Massachusetts</td>\n",
       "    </tr>\n",
       "    <tr>\n",
       "      <th>2</th>\n",
       "      <td>University of Chicago</td>\n",
       "      <td>Chicago, IL</td>\n",
       "      <td>3</td>\n",
       "      <td>The University of Chicago, situated in Chicago...</td>\n",
       "      <td>52491</td>\n",
       "      <td>0</td>\n",
       "      <td>5844</td>\n",
       "      <td>IL</td>\n",
       "      <td>0</td>\n",
       "      <td>Illinois</td>\n",
       "    </tr>\n",
       "    <tr>\n",
       "      <th>3</th>\n",
       "      <td>Yale University</td>\n",
       "      <td>New Haven, CT</td>\n",
       "      <td>3</td>\n",
       "      <td>Yale University, located in New Haven, Connect...</td>\n",
       "      <td>49480</td>\n",
       "      <td>0</td>\n",
       "      <td>5532</td>\n",
       "      <td>CT</td>\n",
       "      <td>0</td>\n",
       "      <td>Connecticut</td>\n",
       "    </tr>\n",
       "    <tr>\n",
       "      <th>4</th>\n",
       "      <td>Columbia University</td>\n",
       "      <td>New York, NY</td>\n",
       "      <td>5</td>\n",
       "      <td>Columbia University, located in Manhattan's Mo...</td>\n",
       "      <td>55056</td>\n",
       "      <td>0</td>\n",
       "      <td>6102</td>\n",
       "      <td>NY</td>\n",
       "      <td>0</td>\n",
       "      <td>New York</td>\n",
       "    </tr>\n",
       "  </tbody>\n",
       "</table>\n",
       "</div>"
      ],
      "text/plain": [
       "                        name       location  rank  \\\n",
       "index                                               \n",
       "0       Princeton University  Princeton, NJ     1   \n",
       "1         Harvard University  Cambridge, MA     2   \n",
       "2      University of Chicago    Chicago, IL     3   \n",
       "3            Yale University  New Haven, CT     3   \n",
       "4        Columbia University   New York, NY     5   \n",
       "\n",
       "                                             description  tuition_and_fees  \\\n",
       "index                                                                        \n",
       "0      Princeton, the fourth-oldest college in the Un...             45320   \n",
       "1      Harvard is located in Cambridge, Massachusetts...             47074   \n",
       "2      The University of Chicago, situated in Chicago...             52491   \n",
       "3      Yale University, located in New Haven, Connect...             49480   \n",
       "4      Columbia University, located in Manhattan's Mo...             55056   \n",
       "\n",
       "       in_state  undergrad_enrollment state  year     state_full  \n",
       "index                                                             \n",
       "0             0                  5402    NJ     0     New Jersey  \n",
       "1             0                  6699    MA     0  Massachusetts  \n",
       "2             0                  5844    IL     0       Illinois  \n",
       "3             0                  5532    CT     0    Connecticut  \n",
       "4             0                  6102    NY     0       New York  "
      ]
     },
     "execution_count": 14,
     "metadata": {},
     "output_type": "execute_result"
    }
   ],
   "source": [
    "df_nur.head()"
   ]
  },
  {
   "cell_type": "code",
   "execution_count": 15,
   "metadata": {},
   "outputs": [
    {
     "name": "stdout",
     "output_type": "stream",
     "text": [
      "<class 'pandas.core.frame.DataFrame'>\n",
      "Int64Index: 231 entries, 0 to 230\n",
      "Data columns (total 10 columns):\n",
      " #   Column                Non-Null Count  Dtype \n",
      "---  ------                --------------  ----- \n",
      " 0   name                  231 non-null    object\n",
      " 1   location              231 non-null    object\n",
      " 2   rank                  231 non-null    int64 \n",
      " 3   description           231 non-null    object\n",
      " 4   tuition_and_fees      231 non-null    int32 \n",
      " 5   in_state              231 non-null    int32 \n",
      " 6   undergrad_enrollment  231 non-null    int32 \n",
      " 7   state                 231 non-null    object\n",
      " 8   year                  231 non-null    int32 \n",
      " 9   state_full            231 non-null    object\n",
      "dtypes: int32(4), int64(1), object(5)\n",
      "memory usage: 16.2+ KB\n"
     ]
    }
   ],
   "source": [
    "df_nur.info()"
   ]
  },
  {
   "cell_type": "code",
   "execution_count": 16,
   "metadata": {},
   "outputs": [
    {
     "data": {
      "text/plain": [
       "name                    0\n",
       "location                0\n",
       "rank                    0\n",
       "description             0\n",
       "tuition_and_fees        0\n",
       "in_state                0\n",
       "undergrad_enrollment    0\n",
       "state                   0\n",
       "year                    0\n",
       "state_full              0\n",
       "dtype: int64"
      ]
     },
     "execution_count": 16,
     "metadata": {},
     "output_type": "execute_result"
    }
   ],
   "source": [
    "df_nur.isna().sum()"
   ]
  },
  {
   "cell_type": "code",
   "execution_count": 17,
   "metadata": {},
   "outputs": [
    {
     "data": {
      "text/plain": [
       "array(['NJ', 'MA', 'IL', 'CT', 'NY', 'CA', 'NC', 'PA', 'MD', 'NH', 'RI',\n",
       "       'TX', 'IN', 'TN', 'MO', 'GA', 'DC', 'VA', 'MI', 'OH', 'LA', 'FL',\n",
       "       'WI', 'WA', 'SC', 'UT', 'MN', 'DE', 'CO', 'IA', 'OK', 'VT', 'AL',\n",
       "       'OR', 'NE', 'KS', 'AZ', 'KY', 'AR', 'MS', 'HI', 'ID', 'WY', 'NM',\n",
       "       'ME', 'WV', 'ND', 'NV', 'SD', 'AK', 'MT'], dtype=object)"
      ]
     },
     "execution_count": 17,
     "metadata": {},
     "output_type": "execute_result"
    }
   ],
   "source": [
    "df_nur['state'].unique()"
   ]
  },
  {
   "cell_type": "code",
   "execution_count": 19,
   "metadata": {},
   "outputs": [],
   "source": [
    "#SERAH\n",
    "#Filter the dataframe for the following 5 states. NJ, MA, IL, CT, and NY. \n",
    "#For each of them, there should be a dataframe sorted by tuition fees, in state, and undergrad enrollment. E.g. Seperate NJ entries, a df sorted by tuition desc order, another df still for NJ sorted by in state column desc, lastly another df sorted by enrollment\n",
    "\n",
    "nj = df_nur[df_nur['state'] =='NJ']\n",
    "nj_grad = nj.sort_values('undergrad_enrollment', ascending=False).reset_index(drop=True)\n",
    "nj_instate = nj.sort_values('in_state', ascending=False).reset_index(drop=True)"
   ]
  },
  {
   "cell_type": "code",
   "execution_count": 20,
   "metadata": {},
   "outputs": [],
   "source": [
    "ma = df_nur[df_nur['state'] =='MA']\n",
    "ma_fees = ma.sort_values('tuition_and_fees', ascending=False).reset_index(drop=True)\n",
    "ma_grad = ma.sort_values('undergrad_enrollment', ascending=False).reset_index(drop=True)\n",
    "ma_instate= ma.sort_values('in_state', ascending=False).reset_index(drop=True)\n"
   ]
  },
  {
   "cell_type": "code",
   "execution_count": 21,
   "metadata": {},
   "outputs": [],
   "source": [
    "il = df_nur[df_nur['state'] =='IL']\n",
    "il_fees = il.sort_values('tuition_and_fees', ascending=False).reset_index(drop=True)\n",
    "il_grad = il.sort_values('undergrad_enrollment', ascending=False).reset_index(drop=True)\n",
    "il_instate = il.sort_values('in_state', ascending=False).reset_index(drop=True)\n"
   ]
  },
  {
   "cell_type": "code",
   "execution_count": 22,
   "metadata": {},
   "outputs": [],
   "source": [
    "ct = df_nur[df_nur['state'] =='CT']\n",
    "ct_fees = ct.sort_values('tuition_and_fees', ascending=False).reset_index(drop=True)\n",
    "ct_grad = ct.sort_values('undergrad_enrollment', ascending=False).reset_index(drop=True)\n",
    "ct_instate = ct.sort_values('in_state', ascending=False).reset_index(drop=True)\n"
   ]
  },
  {
   "cell_type": "code",
   "execution_count": 23,
   "metadata": {},
   "outputs": [],
   "source": [
    "ny = df_nur[df_nur['state'] =='NY']\n",
    "ny_fees = ny.sort_values('tuition_and_fees', ascending=False).reset_index(drop=True)\n",
    "ny_grad = ny.sort_values('undergrad_enrollment', ascending=False)\n",
    "ny_instate = ny.sort_values('in_state', ascending=False)\n"
   ]
  },
  {
   "cell_type": "code",
   "execution_count": 24,
   "metadata": {},
   "outputs": [
    {
     "name": "stdout",
     "output_type": "stream",
     "text": [
      "                           tuition_and_fees  rank\n",
      "name                                             \n",
      "Yale University                     49480.0     3\n",
      "University of Hartford              37790.0   188\n",
      "University of Connecticut           35858.0    60\n",
      "-------------------------------------------------------\n",
      "                           in_state  rank\n",
      "name                                     \n",
      "University of Connecticut   14066.0    60\n",
      "University of Hartford          0.0   188\n",
      "Yale University                 0.0     3\n",
      "-------------------------------------------------------\n",
      "                           undergrad_enrollment  rank\n",
      "name                                                 \n",
      "University of Connecticut               18826.0    60\n",
      "Yale University                          5532.0     3\n",
      "University of Hartford                   5246.0   188\n"
     ]
    }
   ],
   "source": [
    "# graceoby task16 EDA\n",
    "# Create a function that does it automatically for any given state. \n",
    "# Your function should return three dataframe based on the sorting dataframes mentioned in the task.\n",
    "\n",
    "# function to view feature reports of schools in each state\n",
    "def show_report(state_code):\n",
    "    state_df = df_nur[df_nur[\"state\"]==state_code]\n",
    "    tuition = pd.DataFrame(state_df.groupby(\"name\").agg({\"tuition_and_fees\":\"mean\", \"rank\":\"sum\"}).sort_values(\"tuition_and_fees\",ascending=False))\n",
    "    instate = pd.DataFrame(state_df.groupby(\"name\").agg({\"in_state\":\"mean\", \"rank\":\"sum\"}).sort_values(\"in_state\",ascending=False))\n",
    "    enroll = pd.DataFrame(state_df.groupby(\"name\").agg({\"undergrad_enrollment\":\"mean\", \"rank\":\"sum\"}).sort_values(\"undergrad_enrollment\",ascending=False))\n",
    "    print(tuition)\n",
    "    print(\"-------------------------------------------------------\")\n",
    "    print(instate)\n",
    "    print(\"-------------------------------------------------------\")\n",
    "    print(enroll)\n",
    "    \n",
    "    \n",
    "show_report(\"CT\")"
   ]
  },
  {
   "cell_type": "code",
   "execution_count": 25,
   "metadata": {},
   "outputs": [
    {
     "name": "stdout",
     "output_type": "stream",
     "text": [
      "                            name           location  rank  \\\n",
      "index                                                       \n",
      "3                Yale University      New Haven, CT     3   \n",
      "192       University of Hartford  West Hartford, CT   188   \n",
      "62     University of Connecticut         Storrs, CT    60   \n",
      "\n",
      "                                             description  tuition_and_fees  \\\n",
      "index                                                                        \n",
      "3      Yale University, located in New Haven, Connect...             49480   \n",
      "192    The University of Hartford, also known as UHar...             37790   \n",
      "62     The University of Connecticut, located in Stor...             35858   \n",
      "\n",
      "       in_state  undergrad_enrollment state  year   state_full  \n",
      "index                                                           \n",
      "3             0                  5532    CT     0  Connecticut  \n",
      "192           0                  5246    CT     0  Connecticut  \n",
      "62        14066                 18826    CT  1940  Connecticut  \n",
      "-------------------------------------------------------\n",
      "                            name           location  rank  \\\n",
      "index                                                       \n",
      "62     University of Connecticut         Storrs, CT    60   \n",
      "3                Yale University      New Haven, CT     3   \n",
      "192       University of Hartford  West Hartford, CT   188   \n",
      "\n",
      "                                             description  tuition_and_fees  \\\n",
      "index                                                                        \n",
      "62     The University of Connecticut, located in Stor...             35858   \n",
      "3      Yale University, located in New Haven, Connect...             49480   \n",
      "192    The University of Hartford, also known as UHar...             37790   \n",
      "\n",
      "       in_state  undergrad_enrollment state  year   state_full  \n",
      "index                                                           \n",
      "62        14066                 18826    CT  1940  Connecticut  \n",
      "3             0                  5532    CT     0  Connecticut  \n",
      "192           0                  5246    CT     0  Connecticut  \n",
      "-------------------------------------------------------\n",
      "                            name           location  rank  \\\n",
      "index                                                       \n",
      "62     University of Connecticut         Storrs, CT    60   \n",
      "3                Yale University      New Haven, CT     3   \n",
      "192       University of Hartford  West Hartford, CT   188   \n",
      "\n",
      "                                             description  tuition_and_fees  \\\n",
      "index                                                                        \n",
      "62     The University of Connecticut, located in Stor...             35858   \n",
      "3      Yale University, located in New Haven, Connect...             49480   \n",
      "192    The University of Hartford, also known as UHar...             37790   \n",
      "\n",
      "       in_state  undergrad_enrollment state  year   state_full  \n",
      "index                                                           \n",
      "62        14066                 18826    CT  1940  Connecticut  \n",
      "3             0                  5532    CT     0  Connecticut  \n",
      "192           0                  5246    CT     0  Connecticut  \n"
     ]
    }
   ],
   "source": [
    "# This could also be used(but not my best option because of how it disfigures the output even when I tried with return statement... please verify)\n",
    "\n",
    "def show_report_2(state_code):\n",
    "    state_df = df_nur[df_nur[\"state\"]==state_code]\n",
    "    tuition = state_df.sort_values(\"tuition_and_fees\",ascending=False)\n",
    "    instate = state_df.sort_values(\"in_state\",ascending=False)\n",
    "    enroll = state_df.sort_values(\"undergrad_enrollment\",ascending=False)\n",
    "    #return tuition, instate, enroll\n",
    "    print(tuition)\n",
    "    print(\"-------------------------------------------------------\")\n",
    "    print(instate)\n",
    "    print(\"-------------------------------------------------------\")\n",
    "    print(enroll)\n",
    "    \n",
    "    \n",
    "show_report_2(\"CT\")"
   ]
  },
  {
   "cell_type": "markdown",
   "metadata": {},
   "source": [
    "### EDA"
   ]
  },
  {
   "cell_type": "code",
   "execution_count": 36,
   "metadata": {},
   "outputs": [
    {
     "data": {
      "application/vnd.plotly.v1+json": {
       "config": {
        "plotlyServerURL": "https://plot.ly"
       },
       "data": [
        {
         "alignmentgroup": "True",
         "hovertemplate": "name=%{y}<br>rank=%{x}<extra></extra>",
         "legendgroup": "Princeton University",
         "marker": {
          "color": "#636efa",
          "pattern": {
           "shape": ""
          }
         },
         "name": "Princeton University",
         "offsetgroup": "Princeton University",
         "orientation": "h",
         "showlegend": true,
         "textposition": "auto",
         "texttemplate": "%{x}",
         "type": "bar",
         "x": [
          1
         ],
         "xaxis": "x",
         "y": [
          "Princeton University"
         ],
         "yaxis": "y"
        },
        {
         "alignmentgroup": "True",
         "hovertemplate": "name=%{y}<br>rank=%{x}<extra></extra>",
         "legendgroup": "Harvard University",
         "marker": {
          "color": "#EF553B",
          "pattern": {
           "shape": ""
          }
         },
         "name": "Harvard University",
         "offsetgroup": "Harvard University",
         "orientation": "h",
         "showlegend": true,
         "textposition": "auto",
         "texttemplate": "%{x}",
         "type": "bar",
         "x": [
          2
         ],
         "xaxis": "x",
         "y": [
          "Harvard University"
         ],
         "yaxis": "y"
        },
        {
         "alignmentgroup": "True",
         "hovertemplate": "name=%{y}<br>rank=%{x}<extra></extra>",
         "legendgroup": "University of Chicago",
         "marker": {
          "color": "#00cc96",
          "pattern": {
           "shape": ""
          }
         },
         "name": "University of Chicago",
         "offsetgroup": "University of Chicago",
         "orientation": "h",
         "showlegend": true,
         "textposition": "auto",
         "texttemplate": "%{x}",
         "type": "bar",
         "x": [
          3
         ],
         "xaxis": "x",
         "y": [
          "University of Chicago"
         ],
         "yaxis": "y"
        }
       ],
       "layout": {
        "barmode": "relative",
        "height": 500,
        "legend": {
         "title": {
          "text": "name"
         },
         "tracegroupgap": 0
        },
        "margin": {
         "t": 60
        },
        "template": {
         "data": {
          "bar": [
           {
            "error_x": {
             "color": "#2a3f5f"
            },
            "error_y": {
             "color": "#2a3f5f"
            },
            "marker": {
             "line": {
              "color": "#E5ECF6",
              "width": 0.5
             },
             "pattern": {
              "fillmode": "overlay",
              "size": 10,
              "solidity": 0.2
             }
            },
            "type": "bar"
           }
          ],
          "barpolar": [
           {
            "marker": {
             "line": {
              "color": "#E5ECF6",
              "width": 0.5
             },
             "pattern": {
              "fillmode": "overlay",
              "size": 10,
              "solidity": 0.2
             }
            },
            "type": "barpolar"
           }
          ],
          "carpet": [
           {
            "aaxis": {
             "endlinecolor": "#2a3f5f",
             "gridcolor": "white",
             "linecolor": "white",
             "minorgridcolor": "white",
             "startlinecolor": "#2a3f5f"
            },
            "baxis": {
             "endlinecolor": "#2a3f5f",
             "gridcolor": "white",
             "linecolor": "white",
             "minorgridcolor": "white",
             "startlinecolor": "#2a3f5f"
            },
            "type": "carpet"
           }
          ],
          "choropleth": [
           {
            "colorbar": {
             "outlinewidth": 0,
             "ticks": ""
            },
            "type": "choropleth"
           }
          ],
          "contour": [
           {
            "colorbar": {
             "outlinewidth": 0,
             "ticks": ""
            },
            "colorscale": [
             [
              0,
              "#0d0887"
             ],
             [
              0.1111111111111111,
              "#46039f"
             ],
             [
              0.2222222222222222,
              "#7201a8"
             ],
             [
              0.3333333333333333,
              "#9c179e"
             ],
             [
              0.4444444444444444,
              "#bd3786"
             ],
             [
              0.5555555555555556,
              "#d8576b"
             ],
             [
              0.6666666666666666,
              "#ed7953"
             ],
             [
              0.7777777777777778,
              "#fb9f3a"
             ],
             [
              0.8888888888888888,
              "#fdca26"
             ],
             [
              1,
              "#f0f921"
             ]
            ],
            "type": "contour"
           }
          ],
          "contourcarpet": [
           {
            "colorbar": {
             "outlinewidth": 0,
             "ticks": ""
            },
            "type": "contourcarpet"
           }
          ],
          "heatmap": [
           {
            "colorbar": {
             "outlinewidth": 0,
             "ticks": ""
            },
            "colorscale": [
             [
              0,
              "#0d0887"
             ],
             [
              0.1111111111111111,
              "#46039f"
             ],
             [
              0.2222222222222222,
              "#7201a8"
             ],
             [
              0.3333333333333333,
              "#9c179e"
             ],
             [
              0.4444444444444444,
              "#bd3786"
             ],
             [
              0.5555555555555556,
              "#d8576b"
             ],
             [
              0.6666666666666666,
              "#ed7953"
             ],
             [
              0.7777777777777778,
              "#fb9f3a"
             ],
             [
              0.8888888888888888,
              "#fdca26"
             ],
             [
              1,
              "#f0f921"
             ]
            ],
            "type": "heatmap"
           }
          ],
          "heatmapgl": [
           {
            "colorbar": {
             "outlinewidth": 0,
             "ticks": ""
            },
            "colorscale": [
             [
              0,
              "#0d0887"
             ],
             [
              0.1111111111111111,
              "#46039f"
             ],
             [
              0.2222222222222222,
              "#7201a8"
             ],
             [
              0.3333333333333333,
              "#9c179e"
             ],
             [
              0.4444444444444444,
              "#bd3786"
             ],
             [
              0.5555555555555556,
              "#d8576b"
             ],
             [
              0.6666666666666666,
              "#ed7953"
             ],
             [
              0.7777777777777778,
              "#fb9f3a"
             ],
             [
              0.8888888888888888,
              "#fdca26"
             ],
             [
              1,
              "#f0f921"
             ]
            ],
            "type": "heatmapgl"
           }
          ],
          "histogram": [
           {
            "marker": {
             "pattern": {
              "fillmode": "overlay",
              "size": 10,
              "solidity": 0.2
             }
            },
            "type": "histogram"
           }
          ],
          "histogram2d": [
           {
            "colorbar": {
             "outlinewidth": 0,
             "ticks": ""
            },
            "colorscale": [
             [
              0,
              "#0d0887"
             ],
             [
              0.1111111111111111,
              "#46039f"
             ],
             [
              0.2222222222222222,
              "#7201a8"
             ],
             [
              0.3333333333333333,
              "#9c179e"
             ],
             [
              0.4444444444444444,
              "#bd3786"
             ],
             [
              0.5555555555555556,
              "#d8576b"
             ],
             [
              0.6666666666666666,
              "#ed7953"
             ],
             [
              0.7777777777777778,
              "#fb9f3a"
             ],
             [
              0.8888888888888888,
              "#fdca26"
             ],
             [
              1,
              "#f0f921"
             ]
            ],
            "type": "histogram2d"
           }
          ],
          "histogram2dcontour": [
           {
            "colorbar": {
             "outlinewidth": 0,
             "ticks": ""
            },
            "colorscale": [
             [
              0,
              "#0d0887"
             ],
             [
              0.1111111111111111,
              "#46039f"
             ],
             [
              0.2222222222222222,
              "#7201a8"
             ],
             [
              0.3333333333333333,
              "#9c179e"
             ],
             [
              0.4444444444444444,
              "#bd3786"
             ],
             [
              0.5555555555555556,
              "#d8576b"
             ],
             [
              0.6666666666666666,
              "#ed7953"
             ],
             [
              0.7777777777777778,
              "#fb9f3a"
             ],
             [
              0.8888888888888888,
              "#fdca26"
             ],
             [
              1,
              "#f0f921"
             ]
            ],
            "type": "histogram2dcontour"
           }
          ],
          "mesh3d": [
           {
            "colorbar": {
             "outlinewidth": 0,
             "ticks": ""
            },
            "type": "mesh3d"
           }
          ],
          "parcoords": [
           {
            "line": {
             "colorbar": {
              "outlinewidth": 0,
              "ticks": ""
             }
            },
            "type": "parcoords"
           }
          ],
          "pie": [
           {
            "automargin": true,
            "type": "pie"
           }
          ],
          "scatter": [
           {
            "fillpattern": {
             "fillmode": "overlay",
             "size": 10,
             "solidity": 0.2
            },
            "type": "scatter"
           }
          ],
          "scatter3d": [
           {
            "line": {
             "colorbar": {
              "outlinewidth": 0,
              "ticks": ""
             }
            },
            "marker": {
             "colorbar": {
              "outlinewidth": 0,
              "ticks": ""
             }
            },
            "type": "scatter3d"
           }
          ],
          "scattercarpet": [
           {
            "marker": {
             "colorbar": {
              "outlinewidth": 0,
              "ticks": ""
             }
            },
            "type": "scattercarpet"
           }
          ],
          "scattergeo": [
           {
            "marker": {
             "colorbar": {
              "outlinewidth": 0,
              "ticks": ""
             }
            },
            "type": "scattergeo"
           }
          ],
          "scattergl": [
           {
            "marker": {
             "colorbar": {
              "outlinewidth": 0,
              "ticks": ""
             }
            },
            "type": "scattergl"
           }
          ],
          "scattermapbox": [
           {
            "marker": {
             "colorbar": {
              "outlinewidth": 0,
              "ticks": ""
             }
            },
            "type": "scattermapbox"
           }
          ],
          "scatterpolar": [
           {
            "marker": {
             "colorbar": {
              "outlinewidth": 0,
              "ticks": ""
             }
            },
            "type": "scatterpolar"
           }
          ],
          "scatterpolargl": [
           {
            "marker": {
             "colorbar": {
              "outlinewidth": 0,
              "ticks": ""
             }
            },
            "type": "scatterpolargl"
           }
          ],
          "scatterternary": [
           {
            "marker": {
             "colorbar": {
              "outlinewidth": 0,
              "ticks": ""
             }
            },
            "type": "scatterternary"
           }
          ],
          "surface": [
           {
            "colorbar": {
             "outlinewidth": 0,
             "ticks": ""
            },
            "colorscale": [
             [
              0,
              "#0d0887"
             ],
             [
              0.1111111111111111,
              "#46039f"
             ],
             [
              0.2222222222222222,
              "#7201a8"
             ],
             [
              0.3333333333333333,
              "#9c179e"
             ],
             [
              0.4444444444444444,
              "#bd3786"
             ],
             [
              0.5555555555555556,
              "#d8576b"
             ],
             [
              0.6666666666666666,
              "#ed7953"
             ],
             [
              0.7777777777777778,
              "#fb9f3a"
             ],
             [
              0.8888888888888888,
              "#fdca26"
             ],
             [
              1,
              "#f0f921"
             ]
            ],
            "type": "surface"
           }
          ],
          "table": [
           {
            "cells": {
             "fill": {
              "color": "#EBF0F8"
             },
             "line": {
              "color": "white"
             }
            },
            "header": {
             "fill": {
              "color": "#C8D4E3"
             },
             "line": {
              "color": "white"
             }
            },
            "type": "table"
           }
          ]
         },
         "layout": {
          "annotationdefaults": {
           "arrowcolor": "#2a3f5f",
           "arrowhead": 0,
           "arrowwidth": 1
          },
          "autotypenumbers": "strict",
          "coloraxis": {
           "colorbar": {
            "outlinewidth": 0,
            "ticks": ""
           }
          },
          "colorscale": {
           "diverging": [
            [
             0,
             "#8e0152"
            ],
            [
             0.1,
             "#c51b7d"
            ],
            [
             0.2,
             "#de77ae"
            ],
            [
             0.3,
             "#f1b6da"
            ],
            [
             0.4,
             "#fde0ef"
            ],
            [
             0.5,
             "#f7f7f7"
            ],
            [
             0.6,
             "#e6f5d0"
            ],
            [
             0.7,
             "#b8e186"
            ],
            [
             0.8,
             "#7fbc41"
            ],
            [
             0.9,
             "#4d9221"
            ],
            [
             1,
             "#276419"
            ]
           ],
           "sequential": [
            [
             0,
             "#0d0887"
            ],
            [
             0.1111111111111111,
             "#46039f"
            ],
            [
             0.2222222222222222,
             "#7201a8"
            ],
            [
             0.3333333333333333,
             "#9c179e"
            ],
            [
             0.4444444444444444,
             "#bd3786"
            ],
            [
             0.5555555555555556,
             "#d8576b"
            ],
            [
             0.6666666666666666,
             "#ed7953"
            ],
            [
             0.7777777777777778,
             "#fb9f3a"
            ],
            [
             0.8888888888888888,
             "#fdca26"
            ],
            [
             1,
             "#f0f921"
            ]
           ],
           "sequentialminus": [
            [
             0,
             "#0d0887"
            ],
            [
             0.1111111111111111,
             "#46039f"
            ],
            [
             0.2222222222222222,
             "#7201a8"
            ],
            [
             0.3333333333333333,
             "#9c179e"
            ],
            [
             0.4444444444444444,
             "#bd3786"
            ],
            [
             0.5555555555555556,
             "#d8576b"
            ],
            [
             0.6666666666666666,
             "#ed7953"
            ],
            [
             0.7777777777777778,
             "#fb9f3a"
            ],
            [
             0.8888888888888888,
             "#fdca26"
            ],
            [
             1,
             "#f0f921"
            ]
           ]
          },
          "colorway": [
           "#636efa",
           "#EF553B",
           "#00cc96",
           "#ab63fa",
           "#FFA15A",
           "#19d3f3",
           "#FF6692",
           "#B6E880",
           "#FF97FF",
           "#FECB52"
          ],
          "font": {
           "color": "#2a3f5f"
          },
          "geo": {
           "bgcolor": "white",
           "lakecolor": "white",
           "landcolor": "#E5ECF6",
           "showlakes": true,
           "showland": true,
           "subunitcolor": "white"
          },
          "hoverlabel": {
           "align": "left"
          },
          "hovermode": "closest",
          "mapbox": {
           "style": "light"
          },
          "paper_bgcolor": "white",
          "plot_bgcolor": "#E5ECF6",
          "polar": {
           "angularaxis": {
            "gridcolor": "white",
            "linecolor": "white",
            "ticks": ""
           },
           "bgcolor": "#E5ECF6",
           "radialaxis": {
            "gridcolor": "white",
            "linecolor": "white",
            "ticks": ""
           }
          },
          "scene": {
           "xaxis": {
            "backgroundcolor": "#E5ECF6",
            "gridcolor": "white",
            "gridwidth": 2,
            "linecolor": "white",
            "showbackground": true,
            "ticks": "",
            "zerolinecolor": "white"
           },
           "yaxis": {
            "backgroundcolor": "#E5ECF6",
            "gridcolor": "white",
            "gridwidth": 2,
            "linecolor": "white",
            "showbackground": true,
            "ticks": "",
            "zerolinecolor": "white"
           },
           "zaxis": {
            "backgroundcolor": "#E5ECF6",
            "gridcolor": "white",
            "gridwidth": 2,
            "linecolor": "white",
            "showbackground": true,
            "ticks": "",
            "zerolinecolor": "white"
           }
          },
          "shapedefaults": {
           "line": {
            "color": "#2a3f5f"
           }
          },
          "ternary": {
           "aaxis": {
            "gridcolor": "white",
            "linecolor": "white",
            "ticks": ""
           },
           "baxis": {
            "gridcolor": "white",
            "linecolor": "white",
            "ticks": ""
           },
           "bgcolor": "#E5ECF6",
           "caxis": {
            "gridcolor": "white",
            "linecolor": "white",
            "ticks": ""
           }
          },
          "title": {
           "x": 0.05
          },
          "xaxis": {
           "automargin": true,
           "gridcolor": "white",
           "linecolor": "white",
           "ticks": "",
           "title": {
            "standoff": 15
           },
           "zerolinecolor": "white",
           "zerolinewidth": 2
          },
          "yaxis": {
           "automargin": true,
           "gridcolor": "white",
           "linecolor": "white",
           "ticks": "",
           "title": {
            "standoff": 15
           },
           "zerolinecolor": "white",
           "zerolinewidth": 2
          }
         }
        },
        "title": {
         "text": "Top Universities by Rank"
        },
        "width": 700,
        "xaxis": {
         "anchor": "y",
         "categoryorder": "total ascending",
         "domain": [
          0,
          1
         ],
         "title": {
          "text": "rank"
         }
        },
        "yaxis": {
         "anchor": "x",
         "categoryarray": [
          "University of Chicago",
          "Harvard University",
          "Princeton University"
         ],
         "categoryorder": "array",
         "domain": [
          0,
          1
         ],
         "title": {
          "text": "name"
         }
        }
       }
      }
     },
     "metadata": {},
     "output_type": "display_data"
    }
   ],
   "source": [
    "fig = px.bar(df_nur[:3], x=\"rank\", y=\"name\", color=\"name\", text_auto=True,height = 500, width= 700)\n",
    "fig.update_layout(xaxis={\"categoryorder\": \"total ascending\"}, title_text=\"Top Universities by Rank\")\n",
    "fig.show()"
   ]
  },
  {
   "cell_type": "code",
   "execution_count": 32,
   "metadata": {},
   "outputs": [
    {
     "data": {
      "text/html": [
       "<div>\n",
       "<style scoped>\n",
       "    .dataframe tbody tr th:only-of-type {\n",
       "        vertical-align: middle;\n",
       "    }\n",
       "\n",
       "    .dataframe tbody tr th {\n",
       "        vertical-align: top;\n",
       "    }\n",
       "\n",
       "    .dataframe thead th {\n",
       "        text-align: right;\n",
       "    }\n",
       "</style>\n",
       "<table border=\"1\" class=\"dataframe\">\n",
       "  <thead>\n",
       "    <tr style=\"text-align: right;\">\n",
       "      <th></th>\n",
       "      <th>name</th>\n",
       "      <th>location</th>\n",
       "      <th>rank</th>\n",
       "      <th>description</th>\n",
       "      <th>tuition_and_fees</th>\n",
       "      <th>in_state</th>\n",
       "      <th>undergrad_enrollment</th>\n",
       "      <th>state</th>\n",
       "      <th>year</th>\n",
       "      <th>state_full</th>\n",
       "    </tr>\n",
       "    <tr>\n",
       "      <th>index</th>\n",
       "      <th></th>\n",
       "      <th></th>\n",
       "      <th></th>\n",
       "      <th></th>\n",
       "      <th></th>\n",
       "      <th></th>\n",
       "      <th></th>\n",
       "      <th></th>\n",
       "      <th></th>\n",
       "      <th></th>\n",
       "    </tr>\n",
       "  </thead>\n",
       "  <tbody>\n",
       "    <tr>\n",
       "      <th>0</th>\n",
       "      <td>Princeton University</td>\n",
       "      <td>Princeton, NJ</td>\n",
       "      <td>1</td>\n",
       "      <td>Princeton, the fourth-oldest college in the Un...</td>\n",
       "      <td>45320</td>\n",
       "      <td>0</td>\n",
       "      <td>5402</td>\n",
       "      <td>NJ</td>\n",
       "      <td>0</td>\n",
       "      <td>New Jersey</td>\n",
       "    </tr>\n",
       "    <tr>\n",
       "      <th>1</th>\n",
       "      <td>Harvard University</td>\n",
       "      <td>Cambridge, MA</td>\n",
       "      <td>2</td>\n",
       "      <td>Harvard is located in Cambridge, Massachusetts...</td>\n",
       "      <td>47074</td>\n",
       "      <td>0</td>\n",
       "      <td>6699</td>\n",
       "      <td>MA</td>\n",
       "      <td>0</td>\n",
       "      <td>Massachusetts</td>\n",
       "    </tr>\n",
       "    <tr>\n",
       "      <th>2</th>\n",
       "      <td>University of Chicago</td>\n",
       "      <td>Chicago, IL</td>\n",
       "      <td>3</td>\n",
       "      <td>The University of Chicago, situated in Chicago...</td>\n",
       "      <td>52491</td>\n",
       "      <td>0</td>\n",
       "      <td>5844</td>\n",
       "      <td>IL</td>\n",
       "      <td>0</td>\n",
       "      <td>Illinois</td>\n",
       "    </tr>\n",
       "    <tr>\n",
       "      <th>3</th>\n",
       "      <td>Yale University</td>\n",
       "      <td>New Haven, CT</td>\n",
       "      <td>3</td>\n",
       "      <td>Yale University, located in New Haven, Connect...</td>\n",
       "      <td>49480</td>\n",
       "      <td>0</td>\n",
       "      <td>5532</td>\n",
       "      <td>CT</td>\n",
       "      <td>0</td>\n",
       "      <td>Connecticut</td>\n",
       "    </tr>\n",
       "    <tr>\n",
       "      <th>4</th>\n",
       "      <td>Columbia University</td>\n",
       "      <td>New York, NY</td>\n",
       "      <td>5</td>\n",
       "      <td>Columbia University, located in Manhattan's Mo...</td>\n",
       "      <td>55056</td>\n",
       "      <td>0</td>\n",
       "      <td>6102</td>\n",
       "      <td>NY</td>\n",
       "      <td>0</td>\n",
       "      <td>New York</td>\n",
       "    </tr>\n",
       "  </tbody>\n",
       "</table>\n",
       "</div>"
      ],
      "text/plain": [
       "                        name       location  rank  \\\n",
       "index                                               \n",
       "0       Princeton University  Princeton, NJ     1   \n",
       "1         Harvard University  Cambridge, MA     2   \n",
       "2      University of Chicago    Chicago, IL     3   \n",
       "3            Yale University  New Haven, CT     3   \n",
       "4        Columbia University   New York, NY     5   \n",
       "\n",
       "                                             description  tuition_and_fees  \\\n",
       "index                                                                        \n",
       "0      Princeton, the fourth-oldest college in the Un...             45320   \n",
       "1      Harvard is located in Cambridge, Massachusetts...             47074   \n",
       "2      The University of Chicago, situated in Chicago...             52491   \n",
       "3      Yale University, located in New Haven, Connect...             49480   \n",
       "4      Columbia University, located in Manhattan's Mo...             55056   \n",
       "\n",
       "       in_state  undergrad_enrollment state  year     state_full  \n",
       "index                                                             \n",
       "0             0                  5402    NJ     0     New Jersey  \n",
       "1             0                  6699    MA     0  Massachusetts  \n",
       "2             0                  5844    IL     0       Illinois  \n",
       "3             0                  5532    CT     0    Connecticut  \n",
       "4             0                  6102    NY     0       New York  "
      ]
     },
     "execution_count": 32,
     "metadata": {},
     "output_type": "execute_result"
    }
   ],
   "source": [
    "df_nur.head()"
   ]
  },
  {
   "cell_type": "code",
   "execution_count": 28,
   "metadata": {},
   "outputs": [],
   "source": [
    "# fig = px.bar(df_nur, y=\"tuition_and_fees\", x=\"name\", color=\"name\", text_auto=True,height = 900, width= 2500)\n",
    "# fig.update_layout(barmode=\"stack\", xaxis={\"categoryorder\": \"total descending\"}, title_text=\"Top Universities by Tuition_and_fees\")\n",
    "# fig.show()"
   ]
  },
  {
   "cell_type": "code",
   "execution_count": 30,
   "metadata": {},
   "outputs": [],
   "source": [
    "# fig = px.bar(df_nur, y=\"undergrad_enrollment\", x=\"name\", color=\"name\", text_auto=True,height = 900, width= 2500)\n",
    "# fig.update_layout(barmode=\"stack\", xaxis={\"categoryorder\": \"total descending\"}, title_text=\"Top Universities by Undergrad_enrollment\")\n",
    "# fig.show()"
   ]
  },
  {
   "cell_type": "markdown",
   "metadata": {},
   "source": [
    "# ALL YOUR TASK SHOULD BE DONE BELOW THIS MARKDOWN FOR EASY MERGING"
   ]
  },
  {
   "cell_type": "code",
   "execution_count": null,
   "metadata": {},
   "outputs": [],
   "source": []
  },
  {
   "cell_type": "code",
   "execution_count": null,
   "metadata": {},
   "outputs": [],
   "source": []
  }
 ],
 "metadata": {
  "kernelspec": {
   "display_name": "Python 3 (ipykernel)",
   "language": "python",
   "name": "python3"
  },
  "language_info": {
   "codemirror_mode": {
    "name": "ipython",
    "version": 3
   },
   "file_extension": ".py",
   "mimetype": "text/x-python",
   "name": "python",
   "nbconvert_exporter": "python",
   "pygments_lexer": "ipython3",
   "version": "3.10.9"
  }
 },
 "nbformat": 4,
 "nbformat_minor": 2
}
