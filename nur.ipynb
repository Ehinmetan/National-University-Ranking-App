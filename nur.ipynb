{
 "cells": [
  {
   "cell_type": "markdown",
   "metadata": {},
   "source": [
    "# National University Ranking\n",
    "\n",
    "![](images/2023-07-13-00-48-01.png)\n",
    "\n",
    "## Introduction\n",
    "\n",
    "## Reasearch Idea: \n",
    "### Developing a searchable database to help high school students identify colleges that match their criteria in terms of tuition, graduation rate, location, and rank."
   ]
  },
  {
   "cell_type": "markdown",
   "metadata": {},
   "source": [
    "ROUGH OUTLINE\n",
    "1. extract the state short code from location\n",
    "2. extract the year founded from description\n",
    "3. clean up the fees, in-state and enrollment columns\n",
    "4. clean up the columns names\n",
    "\n",
    "* 51 states\n",
    "\n",
    "5. seperate each state schools\n",
    "6. each state will be a table of it's own in the database for database optimization\n",
    "7. create a state table\n",
    "8. can rank school inside each state based on enrollment\n",
    "\n",
    "-- EDA\n",
    "\n",
    "9. Top school based on rank, tuition fees, instate fees, and enrollment\n",
    "10. Top 2 schools within 56 states\n",
    "11. oldest schools based on year founded\n",
    "12. oldest school within 51 states\n",
    "* Word cloud for each state\n",
    "\n",
    "-- App interface\n",
    "\n",
    "13. A brief overview with visuals from top school based on rank (overall)\n",
    "14. selection box to select state. Once selected, brief overview with a visual of the top school in that state.\n",
    "* Overview will include details based on the available data like average tuition and top ranked school.\n",
    "15. Another section where we take in input from the user to recommend a movie within a choosen state.\n",
    "16. If no state is choosen, we recommend based on the user location, and closest state.\n",
    "* For closest state, we can do some resear to know which state is closer to each other (Feature engineering) \n",
    "\n",
    "## Objectives\n",
    "Outline breakdown\n",
    "\n",
    "### Data Cleaning: \n",
    "* Objective: Clean the data and feature engineer new columns\n",
    "* Tools: Python\n",
    "\n",
    "### EDA\n",
    "* Objective: Create visuals from the cleaned data\n",
    "* Tools: Power BI, Python\n",
    "\n",
    "### Database Engineers\n",
    "* Objective: Create the database and the schema. Views if possible\n",
    "* Tools: SQL\n",
    "\n",
    "### Project App\n",
    "* Objective: Create the user interface\n",
    "* Tools: Python, SQL, USer\n",
    "\n",
    "### Technical Writers\n",
    "* Objective: Document every process\n",
    "* Microsoft/Google Suites (Slide, Docs, Excel, etc)\n",
    "\n",
    "## Have a video meeting to discuss milestone achievement"
   ]
  },
  {
   "cell_type": "markdown",
   "metadata": {},
   "source": [
    "### Import Libraries"
   ]
  },
  {
   "cell_type": "code",
   "execution_count": 126,
   "metadata": {},
   "outputs": [],
   "source": [
    "import pandas as pd\n",
    "import plotly.express as px\n"
   ]
  },
  {
   "cell_type": "code",
   "execution_count": 127,
   "metadata": {},
   "outputs": [
    {
     "data": {
      "text/plain": [
       "(231, 7)"
      ]
     },
     "execution_count": 127,
     "metadata": {},
     "output_type": "execute_result"
    }
   ],
   "source": [
    "# Loading the dataset\n",
    "nur = pd.read_csv(\"dataset/National Universities Rankings.csv\", index_col=0)\n",
    "nur.shape"
   ]
  },
  {
   "cell_type": "code",
   "execution_count": 128,
   "metadata": {},
   "outputs": [
    {
     "data": {
      "text/html": [
       "<div>\n",
       "<style scoped>\n",
       "    .dataframe tbody tr th:only-of-type {\n",
       "        vertical-align: middle;\n",
       "    }\n",
       "\n",
       "    .dataframe tbody tr th {\n",
       "        vertical-align: top;\n",
       "    }\n",
       "\n",
       "    .dataframe thead th {\n",
       "        text-align: right;\n",
       "    }\n",
       "</style>\n",
       "<table border=\"1\" class=\"dataframe\">\n",
       "  <thead>\n",
       "    <tr style=\"text-align: right;\">\n",
       "      <th></th>\n",
       "      <th>Name</th>\n",
       "      <th>Location</th>\n",
       "      <th>Rank</th>\n",
       "      <th>Description</th>\n",
       "      <th>Tuition and fees</th>\n",
       "      <th>In-state</th>\n",
       "      <th>Undergrad Enrollment</th>\n",
       "    </tr>\n",
       "    <tr>\n",
       "      <th>index</th>\n",
       "      <th></th>\n",
       "      <th></th>\n",
       "      <th></th>\n",
       "      <th></th>\n",
       "      <th></th>\n",
       "      <th></th>\n",
       "      <th></th>\n",
       "    </tr>\n",
       "  </thead>\n",
       "  <tbody>\n",
       "    <tr>\n",
       "      <th>0</th>\n",
       "      <td>Princeton University</td>\n",
       "      <td>Princeton, NJ</td>\n",
       "      <td>1</td>\n",
       "      <td>Princeton, the fourth-oldest college in the Un...</td>\n",
       "      <td>$45,320</td>\n",
       "      <td>NaN</td>\n",
       "      <td>5,402</td>\n",
       "    </tr>\n",
       "    <tr>\n",
       "      <th>1</th>\n",
       "      <td>Harvard University</td>\n",
       "      <td>Cambridge, MA</td>\n",
       "      <td>2</td>\n",
       "      <td>Harvard is located in Cambridge, Massachusetts...</td>\n",
       "      <td>$47,074</td>\n",
       "      <td>NaN</td>\n",
       "      <td>6,699</td>\n",
       "    </tr>\n",
       "    <tr>\n",
       "      <th>2</th>\n",
       "      <td>University of Chicago</td>\n",
       "      <td>Chicago, IL</td>\n",
       "      <td>3</td>\n",
       "      <td>The University of Chicago, situated in Chicago...</td>\n",
       "      <td>$52,491</td>\n",
       "      <td>NaN</td>\n",
       "      <td>5,844</td>\n",
       "    </tr>\n",
       "    <tr>\n",
       "      <th>3</th>\n",
       "      <td>Yale University</td>\n",
       "      <td>New Haven, CT</td>\n",
       "      <td>3</td>\n",
       "      <td>Yale University, located in New Haven, Connect...</td>\n",
       "      <td>$49,480</td>\n",
       "      <td>NaN</td>\n",
       "      <td>5,532</td>\n",
       "    </tr>\n",
       "    <tr>\n",
       "      <th>4</th>\n",
       "      <td>Columbia University</td>\n",
       "      <td>New York, NY</td>\n",
       "      <td>5</td>\n",
       "      <td>Columbia University, located in Manhattan's Mo...</td>\n",
       "      <td>$55,056</td>\n",
       "      <td>NaN</td>\n",
       "      <td>6,102</td>\n",
       "    </tr>\n",
       "  </tbody>\n",
       "</table>\n",
       "</div>"
      ],
      "text/plain": [
       "                        Name       Location  Rank  \\\n",
       "index                                               \n",
       "0       Princeton University  Princeton, NJ     1   \n",
       "1         Harvard University  Cambridge, MA     2   \n",
       "2      University of Chicago    Chicago, IL     3   \n",
       "3            Yale University  New Haven, CT     3   \n",
       "4        Columbia University   New York, NY     5   \n",
       "\n",
       "                                             Description Tuition and fees  \\\n",
       "index                                                                       \n",
       "0      Princeton, the fourth-oldest college in the Un...         $45,320    \n",
       "1      Harvard is located in Cambridge, Massachusetts...         $47,074    \n",
       "2      The University of Chicago, situated in Chicago...         $52,491    \n",
       "3      Yale University, located in New Haven, Connect...         $49,480    \n",
       "4      Columbia University, located in Manhattan's Mo...         $55,056    \n",
       "\n",
       "      In-state Undergrad Enrollment  \n",
       "index                                \n",
       "0          NaN                5,402  \n",
       "1          NaN                6,699  \n",
       "2          NaN                5,844  \n",
       "3          NaN                5,532  \n",
       "4          NaN                6,102  "
      ]
     },
     "execution_count": 128,
     "metadata": {},
     "output_type": "execute_result"
    }
   ],
   "source": [
    "nur.head()"
   ]
  },
  {
   "cell_type": "code",
   "execution_count": 129,
   "metadata": {},
   "outputs": [],
   "source": [
    "df_nur = nur.copy()"
   ]
  },
  {
   "cell_type": "code",
   "execution_count": 130,
   "metadata": {},
   "outputs": [],
   "source": [
    "# Promise\n",
    "# Remove the dollar sign ($) and comma\n",
    "df_nur['Tuition and fees'] = df_nur['Tuition and fees'].str.replace('$', '', regex=False).str.replace(',', '')\n",
    "\n",
    "# convert the column datatype to integer\n",
    "df_nur['Tuition and fees'] = df_nur['Tuition and fees'].fillna('0').astype(int)"
   ]
  },
  {
   "cell_type": "code",
   "execution_count": 131,
   "metadata": {},
   "outputs": [],
   "source": [
    "# Chinaza\n",
    "# Cleaning In-state column\n",
    "df_nur['In-state'] = df_nur['In-state'].str.replace('$','', regex=False).str.replace(',', '')\n",
    "df_nur['In-state'] = df_nur['In-state'].fillna('0').astype(int)\n"
   ]
  },
  {
   "cell_type": "code",
   "execution_count": 132,
   "metadata": {},
   "outputs": [],
   "source": [
    "# precious\n",
    "# data cleaning by replacing ',' with '' and converting column to integer\n",
    "df_nur['Undergrad Enrollment'] = df_nur['Undergrad Enrollment'].str.replace(',','').astype('int')"
   ]
  },
  {
   "cell_type": "code",
   "execution_count": 133,
   "metadata": {},
   "outputs": [],
   "source": [
    "#task.toyosi - Extract the states from the location table, make it a column of it's own\n",
    "df_nur['State'] = nur['Location'].str.split(',').str[-1].str.strip()"
   ]
  },
  {
   "cell_type": "code",
   "execution_count": 134,
   "metadata": {},
   "outputs": [
    {
     "data": {
      "text/html": [
       "<div>\n",
       "<style scoped>\n",
       "    .dataframe tbody tr th:only-of-type {\n",
       "        vertical-align: middle;\n",
       "    }\n",
       "\n",
       "    .dataframe tbody tr th {\n",
       "        vertical-align: top;\n",
       "    }\n",
       "\n",
       "    .dataframe thead th {\n",
       "        text-align: right;\n",
       "    }\n",
       "</style>\n",
       "<table border=\"1\" class=\"dataframe\">\n",
       "  <thead>\n",
       "    <tr style=\"text-align: right;\">\n",
       "      <th></th>\n",
       "      <th>name</th>\n",
       "      <th>location</th>\n",
       "      <th>rank</th>\n",
       "      <th>description</th>\n",
       "      <th>tuition_and_fees</th>\n",
       "      <th>in_state</th>\n",
       "      <th>undergrad_enrollment</th>\n",
       "      <th>state</th>\n",
       "    </tr>\n",
       "    <tr>\n",
       "      <th>index</th>\n",
       "      <th></th>\n",
       "      <th></th>\n",
       "      <th></th>\n",
       "      <th></th>\n",
       "      <th></th>\n",
       "      <th></th>\n",
       "      <th></th>\n",
       "      <th></th>\n",
       "    </tr>\n",
       "  </thead>\n",
       "  <tbody>\n",
       "    <tr>\n",
       "      <th>0</th>\n",
       "      <td>Princeton University</td>\n",
       "      <td>Princeton, NJ</td>\n",
       "      <td>1</td>\n",
       "      <td>Princeton, the fourth-oldest college in the Un...</td>\n",
       "      <td>45320</td>\n",
       "      <td>0</td>\n",
       "      <td>5402</td>\n",
       "      <td>NJ</td>\n",
       "    </tr>\n",
       "    <tr>\n",
       "      <th>1</th>\n",
       "      <td>Harvard University</td>\n",
       "      <td>Cambridge, MA</td>\n",
       "      <td>2</td>\n",
       "      <td>Harvard is located in Cambridge, Massachusetts...</td>\n",
       "      <td>47074</td>\n",
       "      <td>0</td>\n",
       "      <td>6699</td>\n",
       "      <td>MA</td>\n",
       "    </tr>\n",
       "    <tr>\n",
       "      <th>2</th>\n",
       "      <td>University of Chicago</td>\n",
       "      <td>Chicago, IL</td>\n",
       "      <td>3</td>\n",
       "      <td>The University of Chicago, situated in Chicago...</td>\n",
       "      <td>52491</td>\n",
       "      <td>0</td>\n",
       "      <td>5844</td>\n",
       "      <td>IL</td>\n",
       "    </tr>\n",
       "    <tr>\n",
       "      <th>3</th>\n",
       "      <td>Yale University</td>\n",
       "      <td>New Haven, CT</td>\n",
       "      <td>3</td>\n",
       "      <td>Yale University, located in New Haven, Connect...</td>\n",
       "      <td>49480</td>\n",
       "      <td>0</td>\n",
       "      <td>5532</td>\n",
       "      <td>CT</td>\n",
       "    </tr>\n",
       "    <tr>\n",
       "      <th>4</th>\n",
       "      <td>Columbia University</td>\n",
       "      <td>New York, NY</td>\n",
       "      <td>5</td>\n",
       "      <td>Columbia University, located in Manhattan's Mo...</td>\n",
       "      <td>55056</td>\n",
       "      <td>0</td>\n",
       "      <td>6102</td>\n",
       "      <td>NY</td>\n",
       "    </tr>\n",
       "  </tbody>\n",
       "</table>\n",
       "</div>"
      ],
      "text/plain": [
       "                        name       location  rank  \\\n",
       "index                                               \n",
       "0       Princeton University  Princeton, NJ     1   \n",
       "1         Harvard University  Cambridge, MA     2   \n",
       "2      University of Chicago    Chicago, IL     3   \n",
       "3            Yale University  New Haven, CT     3   \n",
       "4        Columbia University   New York, NY     5   \n",
       "\n",
       "                                             description  tuition_and_fees  \\\n",
       "index                                                                        \n",
       "0      Princeton, the fourth-oldest college in the Un...             45320   \n",
       "1      Harvard is located in Cambridge, Massachusetts...             47074   \n",
       "2      The University of Chicago, situated in Chicago...             52491   \n",
       "3      Yale University, located in New Haven, Connect...             49480   \n",
       "4      Columbia University, located in Manhattan's Mo...             55056   \n",
       "\n",
       "       in_state  undergrad_enrollment state  \n",
       "index                                        \n",
       "0             0                  5402    NJ  \n",
       "1             0                  6699    MA  \n",
       "2             0                  5844    IL  \n",
       "3             0                  5532    CT  \n",
       "4             0                  6102    NY  "
      ]
     },
     "execution_count": 134,
     "metadata": {},
     "output_type": "execute_result"
    }
   ],
   "source": [
    "#Olufemilite\n",
    "#Changing column headers to lower case and changing spaces to underscore\n",
    "df_nur.rename(columns={\"Name\":\"name\",\"Location\":\"location\",\"Rank\":\"rank\",\"Description\":\"description\",\n",
    "                       \"Tuition and fees\":\"tuition_and_fees\",\"In-state\":\"in_state\",\"Undergrad Enrollment\":\"undergrad_enrollment\",\n",
    "                       \"State\": \"state\"}, inplace=True)\n",
    "df_nur.head()"
   ]
  },
  {
   "cell_type": "code",
   "execution_count": 135,
   "metadata": {},
   "outputs": [],
   "source": [
    "# Goodrich\n",
    "# Extract the year using regex and create a new column\n",
    "df_nur['year'] = df_nur['description'].str.extract(r'(\\d{4})')\n",
    "df_nur['year'] = df_nur['year'].fillna('0').astype(int)"
   ]
  },
  {
   "cell_type": "code",
   "execution_count": 136,
   "metadata": {},
   "outputs": [
    {
     "data": {
      "text/html": [
       "<div>\n",
       "<style scoped>\n",
       "    .dataframe tbody tr th:only-of-type {\n",
       "        vertical-align: middle;\n",
       "    }\n",
       "\n",
       "    .dataframe tbody tr th {\n",
       "        vertical-align: top;\n",
       "    }\n",
       "\n",
       "    .dataframe thead th {\n",
       "        text-align: right;\n",
       "    }\n",
       "</style>\n",
       "<table border=\"1\" class=\"dataframe\">\n",
       "  <thead>\n",
       "    <tr style=\"text-align: right;\">\n",
       "      <th></th>\n",
       "      <th>name</th>\n",
       "      <th>location</th>\n",
       "      <th>rank</th>\n",
       "      <th>description</th>\n",
       "      <th>tuition_and_fees</th>\n",
       "      <th>in_state</th>\n",
       "      <th>undergrad_enrollment</th>\n",
       "      <th>state</th>\n",
       "      <th>year</th>\n",
       "    </tr>\n",
       "    <tr>\n",
       "      <th>index</th>\n",
       "      <th></th>\n",
       "      <th></th>\n",
       "      <th></th>\n",
       "      <th></th>\n",
       "      <th></th>\n",
       "      <th></th>\n",
       "      <th></th>\n",
       "      <th></th>\n",
       "      <th></th>\n",
       "    </tr>\n",
       "  </thead>\n",
       "  <tbody>\n",
       "    <tr>\n",
       "      <th>0</th>\n",
       "      <td>Princeton University</td>\n",
       "      <td>Princeton, NJ</td>\n",
       "      <td>1</td>\n",
       "      <td>Princeton, the fourth-oldest college in the Un...</td>\n",
       "      <td>45320</td>\n",
       "      <td>0</td>\n",
       "      <td>5402</td>\n",
       "      <td>NJ</td>\n",
       "      <td>0</td>\n",
       "    </tr>\n",
       "    <tr>\n",
       "      <th>1</th>\n",
       "      <td>Harvard University</td>\n",
       "      <td>Cambridge, MA</td>\n",
       "      <td>2</td>\n",
       "      <td>Harvard is located in Cambridge, Massachusetts...</td>\n",
       "      <td>47074</td>\n",
       "      <td>0</td>\n",
       "      <td>6699</td>\n",
       "      <td>MA</td>\n",
       "      <td>0</td>\n",
       "    </tr>\n",
       "    <tr>\n",
       "      <th>2</th>\n",
       "      <td>University of Chicago</td>\n",
       "      <td>Chicago, IL</td>\n",
       "      <td>3</td>\n",
       "      <td>The University of Chicago, situated in Chicago...</td>\n",
       "      <td>52491</td>\n",
       "      <td>0</td>\n",
       "      <td>5844</td>\n",
       "      <td>IL</td>\n",
       "      <td>0</td>\n",
       "    </tr>\n",
       "    <tr>\n",
       "      <th>3</th>\n",
       "      <td>Yale University</td>\n",
       "      <td>New Haven, CT</td>\n",
       "      <td>3</td>\n",
       "      <td>Yale University, located in New Haven, Connect...</td>\n",
       "      <td>49480</td>\n",
       "      <td>0</td>\n",
       "      <td>5532</td>\n",
       "      <td>CT</td>\n",
       "      <td>0</td>\n",
       "    </tr>\n",
       "    <tr>\n",
       "      <th>4</th>\n",
       "      <td>Columbia University</td>\n",
       "      <td>New York, NY</td>\n",
       "      <td>5</td>\n",
       "      <td>Columbia University, located in Manhattan's Mo...</td>\n",
       "      <td>55056</td>\n",
       "      <td>0</td>\n",
       "      <td>6102</td>\n",
       "      <td>NY</td>\n",
       "      <td>0</td>\n",
       "    </tr>\n",
       "  </tbody>\n",
       "</table>\n",
       "</div>"
      ],
      "text/plain": [
       "                        name       location  rank  \\\n",
       "index                                               \n",
       "0       Princeton University  Princeton, NJ     1   \n",
       "1         Harvard University  Cambridge, MA     2   \n",
       "2      University of Chicago    Chicago, IL     3   \n",
       "3            Yale University  New Haven, CT     3   \n",
       "4        Columbia University   New York, NY     5   \n",
       "\n",
       "                                             description  tuition_and_fees  \\\n",
       "index                                                                        \n",
       "0      Princeton, the fourth-oldest college in the Un...             45320   \n",
       "1      Harvard is located in Cambridge, Massachusetts...             47074   \n",
       "2      The University of Chicago, situated in Chicago...             52491   \n",
       "3      Yale University, located in New Haven, Connect...             49480   \n",
       "4      Columbia University, located in Manhattan's Mo...             55056   \n",
       "\n",
       "       in_state  undergrad_enrollment state  year  \n",
       "index                                              \n",
       "0             0                  5402    NJ     0  \n",
       "1             0                  6699    MA     0  \n",
       "2             0                  5844    IL     0  \n",
       "3             0                  5532    CT     0  \n",
       "4             0                  6102    NY     0  "
      ]
     },
     "execution_count": 136,
     "metadata": {},
     "output_type": "execute_result"
    }
   ],
   "source": [
    "df_nur.head()"
   ]
  },
  {
   "cell_type": "code",
   "execution_count": 137,
   "metadata": {},
   "outputs": [
    {
     "name": "stdout",
     "output_type": "stream",
     "text": [
      "<class 'pandas.core.frame.DataFrame'>\n",
      "Index: 231 entries, 0 to 230\n",
      "Data columns (total 9 columns):\n",
      " #   Column                Non-Null Count  Dtype \n",
      "---  ------                --------------  ----- \n",
      " 0   name                  231 non-null    object\n",
      " 1   location              231 non-null    object\n",
      " 2   rank                  231 non-null    int64 \n",
      " 3   description           231 non-null    object\n",
      " 4   tuition_and_fees      231 non-null    int32 \n",
      " 5   in_state              231 non-null    int32 \n",
      " 6   undergrad_enrollment  231 non-null    int32 \n",
      " 7   state                 231 non-null    object\n",
      " 8   year                  231 non-null    int32 \n",
      "dtypes: int32(4), int64(1), object(4)\n",
      "memory usage: 14.4+ KB\n"
     ]
    }
   ],
   "source": [
    "df_nur.info()"
   ]
  },
  {
   "cell_type": "code",
   "execution_count": 138,
   "metadata": {},
   "outputs": [
    {
     "data": {
      "text/plain": [
       "name                    0\n",
       "location                0\n",
       "rank                    0\n",
       "description             0\n",
       "tuition_and_fees        0\n",
       "in_state                0\n",
       "undergrad_enrollment    0\n",
       "state                   0\n",
       "year                    0\n",
       "dtype: int64"
      ]
     },
     "execution_count": 138,
     "metadata": {},
     "output_type": "execute_result"
    }
   ],
   "source": [
    "df_nur.isna().sum()"
   ]
  },
  {
   "cell_type": "code",
   "execution_count": 139,
   "metadata": {},
   "outputs": [
    {
     "data": {
      "text/plain": [
       "array(['NJ', 'MA', 'IL', 'CT', 'NY', 'CA', 'NC', 'PA', 'MD', 'NH', 'RI',\n",
       "       'TX', 'IN', 'TN', 'MO', 'GA', 'DC', 'VA', 'MI', 'OH', 'LA', 'FL',\n",
       "       'WI', 'WA', 'SC', 'UT', 'MN', 'DE', 'CO', 'IA', 'OK', 'VT', 'AL',\n",
       "       'OR', 'NE', 'KS', 'AZ', 'KY', 'AR', 'MS', 'HI', 'ID', 'WY', 'NM',\n",
       "       'ME', 'WV', 'ND', 'NV', 'SD', 'AK', 'MT'], dtype=object)"
      ]
     },
     "execution_count": 139,
     "metadata": {},
     "output_type": "execute_result"
    }
   ],
   "source": [
    "df_nur['state'].unique()"
   ]
  },
  {
   "cell_type": "code",
   "execution_count": 153,
   "metadata": {},
   "outputs": [],
   "source": [
    "#SERAH\n",
    "#Filter the dataframe for the following 5 states. NJ, MA, IL, CT, and NY. \n",
    "#For each of them, there should be a dataframe sorted by tuition fees, in state, and undergrad enrollment. E.g. Seperate NJ entries, a df sorted by tuition desc order, another df still for NJ sorted by in state column desc, lastly another df sorted by enrollment\n",
    "\n",
    "nj = df_nur[df_nur['state'] =='NJ']\n",
    "nj_grad = nj.sort_values('undergrad_enrollment', ascending=False).reset_index(drop=True)\n",
    "nj_fees = nj.sort_values('tuition_and_fees', ascending=False).reset_index(drop=True)\n",
    "nj_instate = nj.sort_values('in_state', ascending=False).reset_index(drop=True)\n"
   ]
  },
  {
   "cell_type": "code",
   "execution_count": 154,
   "metadata": {},
   "outputs": [],
   "source": [
    "ma = df_nur[df_nur['state'] =='MA']\n",
    "ma_fees = ma.sort_values('tuition_and_fees', ascending=False).reset_index(drop=True)\n",
    "ma_grad = ma.sort_values('undergrad_enrollment', ascending=False).reset_index(drop=True)\n",
    "ma_instate= ma.sort_values('in_state', ascending=False).reset_index(drop=True)\n"
   ]
  },
  {
   "cell_type": "code",
   "execution_count": 155,
   "metadata": {},
   "outputs": [],
   "source": [
    "il = df_nur[df_nur['state'] =='IL']\n",
    "il_fees = il.sort_values('tuition_and_fees', ascending=False).reset_index(drop=True)\n",
    "il_grad = il.sort_values('undergrad_enrollment', ascending=False).reset_index(drop=True)\n",
    "il_instate = il.sort_values('in_state', ascending=False).reset_index(drop=True)\n"
   ]
  },
  {
   "cell_type": "code",
   "execution_count": 156,
   "metadata": {},
   "outputs": [],
   "source": [
    "ct = df_nur[df_nur['state'] =='CT']\n",
    "ct_fees = ct.sort_values('tuition_and_fees', ascending=False).reset_index(drop=True)\n",
    "ct_grad = ct.sort_values('undergrad_enrollment', ascending=False).reset_index(drop=True)\n",
    "ct_instate = ct.sort_values('in_state', ascending=False).reset_index(drop=True)\n"
   ]
  },
  {
   "cell_type": "code",
   "execution_count": 157,
   "metadata": {},
   "outputs": [],
   "source": [
    "ny = df_nur[df_nur['state'] =='NY']\n",
    "ny_fees = ny.sort_values('tuition_and_fees', ascending=False).reset_index(drop=True)\n",
    "ny_grad = ny.sort_values('undergrad_enrollment', ascending=False)\n",
    "ny_instate = ny.sort_values('in_state', ascending=False)\n"
   ]
  },
  {
   "cell_type": "code",
   "execution_count": 20,
   "metadata": {},
   "outputs": [
    {
     "data": {
      "application/vnd.plotly.v1+json": {
       "config": {
        "plotlyServerURL": "https://plot.ly"
       },
       "data": [
        {
         "alignmentgroup": "True",
         "hovertemplate": "name=%{x}<br>rank=%{y}<extra></extra>",
         "legendgroup": "Princeton University",
         "marker": {
          "color": "#636efa",
          "pattern": {
           "shape": ""
          }
         },
         "name": "Princeton University",
         "offsetgroup": "Princeton University",
         "orientation": "v",
         "showlegend": true,
         "textposition": "auto",
         "texttemplate": "%{y}",
         "type": "bar",
         "x": [
          "Princeton University"
         ],
         "xaxis": "x",
         "y": [
          1
         ],
         "yaxis": "y"
        },
        {
         "alignmentgroup": "True",
         "hovertemplate": "name=%{x}<br>rank=%{y}<extra></extra>",
         "legendgroup": "Harvard University",
         "marker": {
          "color": "#EF553B",
          "pattern": {
           "shape": ""
          }
         },
         "name": "Harvard University",
         "offsetgroup": "Harvard University",
         "orientation": "v",
         "showlegend": true,
         "textposition": "auto",
         "texttemplate": "%{y}",
         "type": "bar",
         "x": [
          "Harvard University"
         ],
         "xaxis": "x",
         "y": [
          2
         ],
         "yaxis": "y"
        },
        {
         "alignmentgroup": "True",
         "hovertemplate": "name=%{x}<br>rank=%{y}<extra></extra>",
         "legendgroup": "University of Chicago",
         "marker": {
          "color": "#00cc96",
          "pattern": {
           "shape": ""
          }
         },
         "name": "University of Chicago",
         "offsetgroup": "University of Chicago",
         "orientation": "v",
         "showlegend": true,
         "textposition": "auto",
         "texttemplate": "%{y}",
         "type": "bar",
         "x": [
          "University of Chicago"
         ],
         "xaxis": "x",
         "y": [
          3
         ],
         "yaxis": "y"
        },
        {
         "alignmentgroup": "True",
         "hovertemplate": "name=%{x}<br>rank=%{y}<extra></extra>",
         "legendgroup": "Yale University",
         "marker": {
          "color": "#ab63fa",
          "pattern": {
           "shape": ""
          }
         },
         "name": "Yale University",
         "offsetgroup": "Yale University",
         "orientation": "v",
         "showlegend": true,
         "textposition": "auto",
         "texttemplate": "%{y}",
         "type": "bar",
         "x": [
          "Yale University"
         ],
         "xaxis": "x",
         "y": [
          3
         ],
         "yaxis": "y"
        },
        {
         "alignmentgroup": "True",
         "hovertemplate": "name=%{x}<br>rank=%{y}<extra></extra>",
         "legendgroup": "Columbia University",
         "marker": {
          "color": "#FFA15A",
          "pattern": {
           "shape": ""
          }
         },
         "name": "Columbia University",
         "offsetgroup": "Columbia University",
         "orientation": "v",
         "showlegend": true,
         "textposition": "auto",
         "texttemplate": "%{y}",
         "type": "bar",
         "x": [
          "Columbia University"
         ],
         "xaxis": "x",
         "y": [
          5
         ],
         "yaxis": "y"
        },
        {
         "alignmentgroup": "True",
         "hovertemplate": "name=%{x}<br>rank=%{y}<extra></extra>",
         "legendgroup": "Stanford University",
         "marker": {
          "color": "#19d3f3",
          "pattern": {
           "shape": ""
          }
         },
         "name": "Stanford University",
         "offsetgroup": "Stanford University",
         "orientation": "v",
         "showlegend": true,
         "textposition": "auto",
         "texttemplate": "%{y}",
         "type": "bar",
         "x": [
          "Stanford University"
         ],
         "xaxis": "x",
         "y": [
          5
         ],
         "yaxis": "y"
        },
        {
         "alignmentgroup": "True",
         "hovertemplate": "name=%{x}<br>rank=%{y}<extra></extra>",
         "legendgroup": "Massachusetts Institute of Technology",
         "marker": {
          "color": "#FF6692",
          "pattern": {
           "shape": ""
          }
         },
         "name": "Massachusetts Institute of Technology",
         "offsetgroup": "Massachusetts Institute of Technology",
         "orientation": "v",
         "showlegend": true,
         "textposition": "auto",
         "texttemplate": "%{y}",
         "type": "bar",
         "x": [
          "Massachusetts Institute of Technology"
         ],
         "xaxis": "x",
         "y": [
          7
         ],
         "yaxis": "y"
        },
        {
         "alignmentgroup": "True",
         "hovertemplate": "name=%{x}<br>rank=%{y}<extra></extra>",
         "legendgroup": "Duke University",
         "marker": {
          "color": "#B6E880",
          "pattern": {
           "shape": ""
          }
         },
         "name": "Duke University",
         "offsetgroup": "Duke University",
         "orientation": "v",
         "showlegend": true,
         "textposition": "auto",
         "texttemplate": "%{y}",
         "type": "bar",
         "x": [
          "Duke University"
         ],
         "xaxis": "x",
         "y": [
          8
         ],
         "yaxis": "y"
        },
        {
         "alignmentgroup": "True",
         "hovertemplate": "name=%{x}<br>rank=%{y}<extra></extra>",
         "legendgroup": "University of Pennsylvania",
         "marker": {
          "color": "#FF97FF",
          "pattern": {
           "shape": ""
          }
         },
         "name": "University of Pennsylvania",
         "offsetgroup": "University of Pennsylvania",
         "orientation": "v",
         "showlegend": true,
         "textposition": "auto",
         "texttemplate": "%{y}",
         "type": "bar",
         "x": [
          "University of Pennsylvania"
         ],
         "xaxis": "x",
         "y": [
          8
         ],
         "yaxis": "y"
        },
        {
         "alignmentgroup": "True",
         "hovertemplate": "name=%{x}<br>rank=%{y}<extra></extra>",
         "legendgroup": "Johns Hopkins University",
         "marker": {
          "color": "#FECB52",
          "pattern": {
           "shape": ""
          }
         },
         "name": "Johns Hopkins University",
         "offsetgroup": "Johns Hopkins University",
         "orientation": "v",
         "showlegend": true,
         "textposition": "auto",
         "texttemplate": "%{y}",
         "type": "bar",
         "x": [
          "Johns Hopkins University"
         ],
         "xaxis": "x",
         "y": [
          10
         ],
         "yaxis": "y"
        },
        {
         "alignmentgroup": "True",
         "hovertemplate": "name=%{x}<br>rank=%{y}<extra></extra>",
         "legendgroup": "Dartmouth College",
         "marker": {
          "color": "#636efa",
          "pattern": {
           "shape": ""
          }
         },
         "name": "Dartmouth College",
         "offsetgroup": "Dartmouth College",
         "orientation": "v",
         "showlegend": true,
         "textposition": "auto",
         "texttemplate": "%{y}",
         "type": "bar",
         "x": [
          "Dartmouth College"
         ],
         "xaxis": "x",
         "y": [
          11
         ],
         "yaxis": "y"
        },
        {
         "alignmentgroup": "True",
         "hovertemplate": "name=%{x}<br>rank=%{y}<extra></extra>",
         "legendgroup": "California Institute of Technology",
         "marker": {
          "color": "#EF553B",
          "pattern": {
           "shape": ""
          }
         },
         "name": "California Institute of Technology",
         "offsetgroup": "California Institute of Technology",
         "orientation": "v",
         "showlegend": true,
         "textposition": "auto",
         "texttemplate": "%{y}",
         "type": "bar",
         "x": [
          "California Institute of Technology"
         ],
         "xaxis": "x",
         "y": [
          12
         ],
         "yaxis": "y"
        },
        {
         "alignmentgroup": "True",
         "hovertemplate": "name=%{x}<br>rank=%{y}<extra></extra>",
         "legendgroup": "Northwestern University",
         "marker": {
          "color": "#00cc96",
          "pattern": {
           "shape": ""
          }
         },
         "name": "Northwestern University",
         "offsetgroup": "Northwestern University",
         "orientation": "v",
         "showlegend": true,
         "textposition": "auto",
         "texttemplate": "%{y}",
         "type": "bar",
         "x": [
          "Northwestern University"
         ],
         "xaxis": "x",
         "y": [
          12
         ],
         "yaxis": "y"
        },
        {
         "alignmentgroup": "True",
         "hovertemplate": "name=%{x}<br>rank=%{y}<extra></extra>",
         "legendgroup": "Brown University",
         "marker": {
          "color": "#ab63fa",
          "pattern": {
           "shape": ""
          }
         },
         "name": "Brown University",
         "offsetgroup": "Brown University",
         "orientation": "v",
         "showlegend": true,
         "textposition": "auto",
         "texttemplate": "%{y}",
         "type": "bar",
         "x": [
          "Brown University"
         ],
         "xaxis": "x",
         "y": [
          14
         ],
         "yaxis": "y"
        },
        {
         "alignmentgroup": "True",
         "hovertemplate": "name=%{x}<br>rank=%{y}<extra></extra>",
         "legendgroup": "Cornell University",
         "marker": {
          "color": "#FFA15A",
          "pattern": {
           "shape": ""
          }
         },
         "name": "Cornell University",
         "offsetgroup": "Cornell University",
         "orientation": "v",
         "showlegend": true,
         "textposition": "auto",
         "texttemplate": "%{y}",
         "type": "bar",
         "x": [
          "Cornell University"
         ],
         "xaxis": "x",
         "y": [
          15
         ],
         "yaxis": "y"
        },
        {
         "alignmentgroup": "True",
         "hovertemplate": "name=%{x}<br>rank=%{y}<extra></extra>",
         "legendgroup": "Rice University",
         "marker": {
          "color": "#19d3f3",
          "pattern": {
           "shape": ""
          }
         },
         "name": "Rice University",
         "offsetgroup": "Rice University",
         "orientation": "v",
         "showlegend": true,
         "textposition": "auto",
         "texttemplate": "%{y}",
         "type": "bar",
         "x": [
          "Rice University"
         ],
         "xaxis": "x",
         "y": [
          15
         ],
         "yaxis": "y"
        },
        {
         "alignmentgroup": "True",
         "hovertemplate": "name=%{x}<br>rank=%{y}<extra></extra>",
         "legendgroup": "University of Notre Dame",
         "marker": {
          "color": "#FF6692",
          "pattern": {
           "shape": ""
          }
         },
         "name": "University of Notre Dame",
         "offsetgroup": "University of Notre Dame",
         "orientation": "v",
         "showlegend": true,
         "textposition": "auto",
         "texttemplate": "%{y}",
         "type": "bar",
         "x": [
          "University of Notre Dame"
         ],
         "xaxis": "x",
         "y": [
          15
         ],
         "yaxis": "y"
        },
        {
         "alignmentgroup": "True",
         "hovertemplate": "name=%{x}<br>rank=%{y}<extra></extra>",
         "legendgroup": "Vanderbilt University",
         "marker": {
          "color": "#B6E880",
          "pattern": {
           "shape": ""
          }
         },
         "name": "Vanderbilt University",
         "offsetgroup": "Vanderbilt University",
         "orientation": "v",
         "showlegend": true,
         "textposition": "auto",
         "texttemplate": "%{y}",
         "type": "bar",
         "x": [
          "Vanderbilt University"
         ],
         "xaxis": "x",
         "y": [
          15
         ],
         "yaxis": "y"
        },
        {
         "alignmentgroup": "True",
         "hovertemplate": "name=%{x}<br>rank=%{y}<extra></extra>",
         "legendgroup": "Washington University in St. Louis",
         "marker": {
          "color": "#FF97FF",
          "pattern": {
           "shape": ""
          }
         },
         "name": "Washington University in St. Louis",
         "offsetgroup": "Washington University in St. Louis",
         "orientation": "v",
         "showlegend": true,
         "textposition": "auto",
         "texttemplate": "%{y}",
         "type": "bar",
         "x": [
          "Washington University in St. Louis"
         ],
         "xaxis": "x",
         "y": [
          19
         ],
         "yaxis": "y"
        },
        {
         "alignmentgroup": "True",
         "hovertemplate": "name=%{x}<br>rank=%{y}<extra></extra>",
         "legendgroup": "Emory University",
         "marker": {
          "color": "#FECB52",
          "pattern": {
           "shape": ""
          }
         },
         "name": "Emory University",
         "offsetgroup": "Emory University",
         "orientation": "v",
         "showlegend": true,
         "textposition": "auto",
         "texttemplate": "%{y}",
         "type": "bar",
         "x": [
          "Emory University"
         ],
         "xaxis": "x",
         "y": [
          20
         ],
         "yaxis": "y"
        },
        {
         "alignmentgroup": "True",
         "hovertemplate": "name=%{x}<br>rank=%{y}<extra></extra>",
         "legendgroup": "Georgetown University",
         "marker": {
          "color": "#636efa",
          "pattern": {
           "shape": ""
          }
         },
         "name": "Georgetown University",
         "offsetgroup": "Georgetown University",
         "orientation": "v",
         "showlegend": true,
         "textposition": "auto",
         "texttemplate": "%{y}",
         "type": "bar",
         "x": [
          "Georgetown University"
         ],
         "xaxis": "x",
         "y": [
          20
         ],
         "yaxis": "y"
        },
        {
         "alignmentgroup": "True",
         "hovertemplate": "name=%{x}<br>rank=%{y}<extra></extra>",
         "legendgroup": "University of California--Berkeley",
         "marker": {
          "color": "#EF553B",
          "pattern": {
           "shape": ""
          }
         },
         "name": "University of California--Berkeley",
         "offsetgroup": "University of California--Berkeley",
         "orientation": "v",
         "showlegend": true,
         "textposition": "auto",
         "texttemplate": "%{y}",
         "type": "bar",
         "x": [
          "University of California--Berkeley"
         ],
         "xaxis": "x",
         "y": [
          20
         ],
         "yaxis": "y"
        },
        {
         "alignmentgroup": "True",
         "hovertemplate": "name=%{x}<br>rank=%{y}<extra></extra>",
         "legendgroup": "University of Southern California",
         "marker": {
          "color": "#00cc96",
          "pattern": {
           "shape": ""
          }
         },
         "name": "University of Southern California",
         "offsetgroup": "University of Southern California",
         "orientation": "v",
         "showlegend": true,
         "textposition": "auto",
         "texttemplate": "%{y}",
         "type": "bar",
         "x": [
          "University of Southern California"
         ],
         "xaxis": "x",
         "y": [
          23
         ],
         "yaxis": "y"
        },
        {
         "alignmentgroup": "True",
         "hovertemplate": "name=%{x}<br>rank=%{y}<extra></extra>",
         "legendgroup": "Carnegie Mellon University",
         "marker": {
          "color": "#ab63fa",
          "pattern": {
           "shape": ""
          }
         },
         "name": "Carnegie Mellon University",
         "offsetgroup": "Carnegie Mellon University",
         "orientation": "v",
         "showlegend": true,
         "textposition": "auto",
         "texttemplate": "%{y}",
         "type": "bar",
         "x": [
          "Carnegie Mellon University"
         ],
         "xaxis": "x",
         "y": [
          24
         ],
         "yaxis": "y"
        },
        {
         "alignmentgroup": "True",
         "hovertemplate": "name=%{x}<br>rank=%{y}<extra></extra>",
         "legendgroup": "University of California--Los Angeles",
         "marker": {
          "color": "#FFA15A",
          "pattern": {
           "shape": ""
          }
         },
         "name": "University of California--Los Angeles",
         "offsetgroup": "University of California--Los Angeles",
         "orientation": "v",
         "showlegend": true,
         "textposition": "auto",
         "texttemplate": "%{y}",
         "type": "bar",
         "x": [
          "University of California--Los Angeles"
         ],
         "xaxis": "x",
         "y": [
          24
         ],
         "yaxis": "y"
        },
        {
         "alignmentgroup": "True",
         "hovertemplate": "name=%{x}<br>rank=%{y}<extra></extra>",
         "legendgroup": "University of Virginia",
         "marker": {
          "color": "#19d3f3",
          "pattern": {
           "shape": ""
          }
         },
         "name": "University of Virginia",
         "offsetgroup": "University of Virginia",
         "orientation": "v",
         "showlegend": true,
         "textposition": "auto",
         "texttemplate": "%{y}",
         "type": "bar",
         "x": [
          "University of Virginia"
         ],
         "xaxis": "x",
         "y": [
          24
         ],
         "yaxis": "y"
        },
        {
         "alignmentgroup": "True",
         "hovertemplate": "name=%{x}<br>rank=%{y}<extra></extra>",
         "legendgroup": "Tufts University",
         "marker": {
          "color": "#FF6692",
          "pattern": {
           "shape": ""
          }
         },
         "name": "Tufts University",
         "offsetgroup": "Tufts University",
         "orientation": "v",
         "showlegend": true,
         "textposition": "auto",
         "texttemplate": "%{y}",
         "type": "bar",
         "x": [
          "Tufts University"
         ],
         "xaxis": "x",
         "y": [
          27
         ],
         "yaxis": "y"
        },
        {
         "alignmentgroup": "True",
         "hovertemplate": "name=%{x}<br>rank=%{y}<extra></extra>",
         "legendgroup": "University of Michigan--Ann Arbor",
         "marker": {
          "color": "#B6E880",
          "pattern": {
           "shape": ""
          }
         },
         "name": "University of Michigan--Ann Arbor",
         "offsetgroup": "University of Michigan--Ann Arbor",
         "orientation": "v",
         "showlegend": true,
         "textposition": "auto",
         "texttemplate": "%{y}",
         "type": "bar",
         "x": [
          "University of Michigan--Ann Arbor"
         ],
         "xaxis": "x",
         "y": [
          27
         ],
         "yaxis": "y"
        },
        {
         "alignmentgroup": "True",
         "hovertemplate": "name=%{x}<br>rank=%{y}<extra></extra>",
         "legendgroup": "Wake Forest University",
         "marker": {
          "color": "#FF97FF",
          "pattern": {
           "shape": ""
          }
         },
         "name": "Wake Forest University",
         "offsetgroup": "Wake Forest University",
         "orientation": "v",
         "showlegend": true,
         "textposition": "auto",
         "texttemplate": "%{y}",
         "type": "bar",
         "x": [
          "Wake Forest University"
         ],
         "xaxis": "x",
         "y": [
          27
         ],
         "yaxis": "y"
        },
        {
         "alignmentgroup": "True",
         "hovertemplate": "name=%{x}<br>rank=%{y}<extra></extra>",
         "legendgroup": "University of North Carolina--Chapel Hill",
         "marker": {
          "color": "#FECB52",
          "pattern": {
           "shape": ""
          }
         },
         "name": "University of North Carolina--Chapel Hill",
         "offsetgroup": "University of North Carolina--Chapel Hill",
         "orientation": "v",
         "showlegend": true,
         "textposition": "auto",
         "texttemplate": "%{y}",
         "type": "bar",
         "x": [
          "University of North Carolina--Chapel Hill"
         ],
         "xaxis": "x",
         "y": [
          30
         ],
         "yaxis": "y"
        },
        {
         "alignmentgroup": "True",
         "hovertemplate": "name=%{x}<br>rank=%{y}<extra></extra>",
         "legendgroup": "Boston College",
         "marker": {
          "color": "#636efa",
          "pattern": {
           "shape": ""
          }
         },
         "name": "Boston College",
         "offsetgroup": "Boston College",
         "orientation": "v",
         "showlegend": true,
         "textposition": "auto",
         "texttemplate": "%{y}",
         "type": "bar",
         "x": [
          "Boston College"
         ],
         "xaxis": "x",
         "y": [
          31
         ],
         "yaxis": "y"
        },
        {
         "alignmentgroup": "True",
         "hovertemplate": "name=%{x}<br>rank=%{y}<extra></extra>",
         "legendgroup": "College of William & Mary",
         "marker": {
          "color": "#EF553B",
          "pattern": {
           "shape": ""
          }
         },
         "name": "College of William & Mary",
         "offsetgroup": "College of William & Mary",
         "orientation": "v",
         "showlegend": true,
         "textposition": "auto",
         "texttemplate": "%{y}",
         "type": "bar",
         "x": [
          "College of William & Mary"
         ],
         "xaxis": "x",
         "y": [
          32
         ],
         "yaxis": "y"
        },
        {
         "alignmentgroup": "True",
         "hovertemplate": "name=%{x}<br>rank=%{y}<extra></extra>",
         "legendgroup": "University of Rochester",
         "marker": {
          "color": "#00cc96",
          "pattern": {
           "shape": ""
          }
         },
         "name": "University of Rochester",
         "offsetgroup": "University of Rochester",
         "orientation": "v",
         "showlegend": true,
         "textposition": "auto",
         "texttemplate": "%{y}",
         "type": "bar",
         "x": [
          "University of Rochester"
         ],
         "xaxis": "x",
         "y": [
          32
         ],
         "yaxis": "y"
        },
        {
         "alignmentgroup": "True",
         "hovertemplate": "name=%{x}<br>rank=%{y}<extra></extra>",
         "legendgroup": "Brandeis University",
         "marker": {
          "color": "#ab63fa",
          "pattern": {
           "shape": ""
          }
         },
         "name": "Brandeis University",
         "offsetgroup": "Brandeis University",
         "orientation": "v",
         "showlegend": true,
         "textposition": "auto",
         "texttemplate": "%{y}",
         "type": "bar",
         "x": [
          "Brandeis University"
         ],
         "xaxis": "x",
         "y": [
          34
         ],
         "yaxis": "y"
        },
        {
         "alignmentgroup": "True",
         "hovertemplate": "name=%{x}<br>rank=%{y}<extra></extra>",
         "legendgroup": "Georgia Institute of Technology",
         "marker": {
          "color": "#FFA15A",
          "pattern": {
           "shape": ""
          }
         },
         "name": "Georgia Institute of Technology",
         "offsetgroup": "Georgia Institute of Technology",
         "orientation": "v",
         "showlegend": true,
         "textposition": "auto",
         "texttemplate": "%{y}",
         "type": "bar",
         "x": [
          "Georgia Institute of Technology"
         ],
         "xaxis": "x",
         "y": [
          34
         ],
         "yaxis": "y"
        },
        {
         "alignmentgroup": "True",
         "hovertemplate": "name=%{x}<br>rank=%{y}<extra></extra>",
         "legendgroup": "New York University",
         "marker": {
          "color": "#19d3f3",
          "pattern": {
           "shape": ""
          }
         },
         "name": "New York University",
         "offsetgroup": "New York University",
         "orientation": "v",
         "showlegend": true,
         "textposition": "auto",
         "texttemplate": "%{y}",
         "type": "bar",
         "x": [
          "New York University"
         ],
         "xaxis": "x",
         "y": [
          36
         ],
         "yaxis": "y"
        },
        {
         "alignmentgroup": "True",
         "hovertemplate": "name=%{x}<br>rank=%{y}<extra></extra>",
         "legendgroup": "Case Western Reserve University",
         "marker": {
          "color": "#FF6692",
          "pattern": {
           "shape": ""
          }
         },
         "name": "Case Western Reserve University",
         "offsetgroup": "Case Western Reserve University",
         "orientation": "v",
         "showlegend": true,
         "textposition": "auto",
         "texttemplate": "%{y}",
         "type": "bar",
         "x": [
          "Case Western Reserve University"
         ],
         "xaxis": "x",
         "y": [
          37
         ],
         "yaxis": "y"
        },
        {
         "alignmentgroup": "True",
         "hovertemplate": "name=%{x}<br>rank=%{y}<extra></extra>",
         "legendgroup": "University of California--Santa Barbara",
         "marker": {
          "color": "#B6E880",
          "pattern": {
           "shape": ""
          }
         },
         "name": "University of California--Santa Barbara",
         "offsetgroup": "University of California--Santa Barbara",
         "orientation": "v",
         "showlegend": true,
         "textposition": "auto",
         "texttemplate": "%{y}",
         "type": "bar",
         "x": [
          "University of California--Santa Barbara"
         ],
         "xaxis": "x",
         "y": [
          37
         ],
         "yaxis": "y"
        },
        {
         "alignmentgroup": "True",
         "hovertemplate": "name=%{x}<br>rank=%{y}<extra></extra>",
         "legendgroup": "Boston University",
         "marker": {
          "color": "#FF97FF",
          "pattern": {
           "shape": ""
          }
         },
         "name": "Boston University",
         "offsetgroup": "Boston University",
         "orientation": "v",
         "showlegend": true,
         "textposition": "auto",
         "texttemplate": "%{y}",
         "type": "bar",
         "x": [
          "Boston University"
         ],
         "xaxis": "x",
         "y": [
          39
         ],
         "yaxis": "y"
        },
        {
         "alignmentgroup": "True",
         "hovertemplate": "name=%{x}<br>rank=%{y}<extra></extra>",
         "legendgroup": "Northeastern University",
         "marker": {
          "color": "#FECB52",
          "pattern": {
           "shape": ""
          }
         },
         "name": "Northeastern University",
         "offsetgroup": "Northeastern University",
         "orientation": "v",
         "showlegend": true,
         "textposition": "auto",
         "texttemplate": "%{y}",
         "type": "bar",
         "x": [
          "Northeastern University"
         ],
         "xaxis": "x",
         "y": [
          39
         ],
         "yaxis": "y"
        },
        {
         "alignmentgroup": "True",
         "hovertemplate": "name=%{x}<br>rank=%{y}<extra></extra>",
         "legendgroup": "Rensselaer Polytechnic Institute",
         "marker": {
          "color": "#636efa",
          "pattern": {
           "shape": ""
          }
         },
         "name": "Rensselaer Polytechnic Institute",
         "offsetgroup": "Rensselaer Polytechnic Institute",
         "orientation": "v",
         "showlegend": true,
         "textposition": "auto",
         "texttemplate": "%{y}",
         "type": "bar",
         "x": [
          "Rensselaer Polytechnic Institute"
         ],
         "xaxis": "x",
         "y": [
          39
         ],
         "yaxis": "y"
        },
        {
         "alignmentgroup": "True",
         "hovertemplate": "name=%{x}<br>rank=%{y}<extra></extra>",
         "legendgroup": "Tulane University",
         "marker": {
          "color": "#EF553B",
          "pattern": {
           "shape": ""
          }
         },
         "name": "Tulane University",
         "offsetgroup": "Tulane University",
         "orientation": "v",
         "showlegend": true,
         "textposition": "auto",
         "texttemplate": "%{y}",
         "type": "bar",
         "x": [
          "Tulane University"
         ],
         "xaxis": "x",
         "y": [
          39
         ],
         "yaxis": "y"
        },
        {
         "alignmentgroup": "True",
         "hovertemplate": "name=%{x}<br>rank=%{y}<extra></extra>",
         "legendgroup": "University of California--Irvine",
         "marker": {
          "color": "#00cc96",
          "pattern": {
           "shape": ""
          }
         },
         "name": "University of California--Irvine",
         "offsetgroup": "University of California--Irvine",
         "orientation": "v",
         "showlegend": true,
         "textposition": "auto",
         "texttemplate": "%{y}",
         "type": "bar",
         "x": [
          "University of California--Irvine"
         ],
         "xaxis": "x",
         "y": [
          39
         ],
         "yaxis": "y"
        },
        {
         "alignmentgroup": "True",
         "hovertemplate": "name=%{x}<br>rank=%{y}<extra></extra>",
         "legendgroup": "Lehigh University",
         "marker": {
          "color": "#ab63fa",
          "pattern": {
           "shape": ""
          }
         },
         "name": "Lehigh University",
         "offsetgroup": "Lehigh University",
         "orientation": "v",
         "showlegend": true,
         "textposition": "auto",
         "texttemplate": "%{y}",
         "type": "bar",
         "x": [
          "Lehigh University"
         ],
         "xaxis": "x",
         "y": [
          44
         ],
         "yaxis": "y"
        },
        {
         "alignmentgroup": "True",
         "hovertemplate": "name=%{x}<br>rank=%{y}<extra></extra>",
         "legendgroup": "University of California--Davis",
         "marker": {
          "color": "#FFA15A",
          "pattern": {
           "shape": ""
          }
         },
         "name": "University of California--Davis",
         "offsetgroup": "University of California--Davis",
         "orientation": "v",
         "showlegend": true,
         "textposition": "auto",
         "texttemplate": "%{y}",
         "type": "bar",
         "x": [
          "University of California--Davis"
         ],
         "xaxis": "x",
         "y": [
          44
         ],
         "yaxis": "y"
        },
        {
         "alignmentgroup": "True",
         "hovertemplate": "name=%{x}<br>rank=%{y}<extra></extra>",
         "legendgroup": "University of California--San Diego",
         "marker": {
          "color": "#19d3f3",
          "pattern": {
           "shape": ""
          }
         },
         "name": "University of California--San Diego",
         "offsetgroup": "University of California--San Diego",
         "orientation": "v",
         "showlegend": true,
         "textposition": "auto",
         "texttemplate": "%{y}",
         "type": "bar",
         "x": [
          "University of California--San Diego"
         ],
         "xaxis": "x",
         "y": [
          44
         ],
         "yaxis": "y"
        },
        {
         "alignmentgroup": "True",
         "hovertemplate": "name=%{x}<br>rank=%{y}<extra></extra>",
         "legendgroup": "University of Illinois--Urbana-Champaign",
         "marker": {
          "color": "#FF6692",
          "pattern": {
           "shape": ""
          }
         },
         "name": "University of Illinois--Urbana-Champaign",
         "offsetgroup": "University of Illinois--Urbana-Champaign",
         "orientation": "v",
         "showlegend": true,
         "textposition": "auto",
         "texttemplate": "%{y}",
         "type": "bar",
         "x": [
          "University of Illinois--Urbana-Champaign"
         ],
         "xaxis": "x",
         "y": [
          44
         ],
         "yaxis": "y"
        },
        {
         "alignmentgroup": "True",
         "hovertemplate": "name=%{x}<br>rank=%{y}<extra></extra>",
         "legendgroup": "University of Miami",
         "marker": {
          "color": "#B6E880",
          "pattern": {
           "shape": ""
          }
         },
         "name": "University of Miami",
         "offsetgroup": "University of Miami",
         "orientation": "v",
         "showlegend": true,
         "textposition": "auto",
         "texttemplate": "%{y}",
         "type": "bar",
         "x": [
          "University of Miami"
         ],
         "xaxis": "x",
         "y": [
          44
         ],
         "yaxis": "y"
        },
        {
         "alignmentgroup": "True",
         "hovertemplate": "name=%{x}<br>rank=%{y}<extra></extra>",
         "legendgroup": "University of Wisconsin--Madison",
         "marker": {
          "color": "#FF97FF",
          "pattern": {
           "shape": ""
          }
         },
         "name": "University of Wisconsin--Madison",
         "offsetgroup": "University of Wisconsin--Madison",
         "orientation": "v",
         "showlegend": true,
         "textposition": "auto",
         "texttemplate": "%{y}",
         "type": "bar",
         "x": [
          "University of Wisconsin--Madison"
         ],
         "xaxis": "x",
         "y": [
          44
         ],
         "yaxis": "y"
        },
        {
         "alignmentgroup": "True",
         "hovertemplate": "name=%{x}<br>rank=%{y}<extra></extra>",
         "legendgroup": "Pepperdine University",
         "marker": {
          "color": "#FECB52",
          "pattern": {
           "shape": ""
          }
         },
         "name": "Pepperdine University",
         "offsetgroup": "Pepperdine University",
         "orientation": "v",
         "showlegend": true,
         "textposition": "auto",
         "texttemplate": "%{y}",
         "type": "bar",
         "x": [
          "Pepperdine University"
         ],
         "xaxis": "x",
         "y": [
          50
         ],
         "yaxis": "y"
        },
        {
         "alignmentgroup": "True",
         "hovertemplate": "name=%{x}<br>rank=%{y}<extra></extra>",
         "legendgroup": "University of Florida",
         "marker": {
          "color": "#636efa",
          "pattern": {
           "shape": ""
          }
         },
         "name": "University of Florida",
         "offsetgroup": "University of Florida",
         "orientation": "v",
         "showlegend": true,
         "textposition": "auto",
         "texttemplate": "%{y}",
         "type": "bar",
         "x": [
          "University of Florida"
         ],
         "xaxis": "x",
         "y": [
          50
         ],
         "yaxis": "y"
        },
        {
         "alignmentgroup": "True",
         "hovertemplate": "name=%{x}<br>rank=%{y}<extra></extra>",
         "legendgroup": "Villanova University",
         "marker": {
          "color": "#EF553B",
          "pattern": {
           "shape": ""
          }
         },
         "name": "Villanova University",
         "offsetgroup": "Villanova University",
         "orientation": "v",
         "showlegend": true,
         "textposition": "auto",
         "texttemplate": "%{y}",
         "type": "bar",
         "x": [
          "Villanova University"
         ],
         "xaxis": "x",
         "y": [
          50
         ],
         "yaxis": "y"
        },
        {
         "alignmentgroup": "True",
         "hovertemplate": "name=%{x}<br>rank=%{y}<extra></extra>",
         "legendgroup": "Pennsylvania State University--University Park",
         "marker": {
          "color": "#00cc96",
          "pattern": {
           "shape": ""
          }
         },
         "name": "Pennsylvania State University--University Park",
         "offsetgroup": "Pennsylvania State University--University Park",
         "orientation": "v",
         "showlegend": true,
         "textposition": "auto",
         "texttemplate": "%{y}",
         "type": "bar",
         "x": [
          "Pennsylvania State University--University Park"
         ],
         "xaxis": "x",
         "y": [
          50
         ],
         "yaxis": "y"
        },
        {
         "alignmentgroup": "True",
         "hovertemplate": "name=%{x}<br>rank=%{y}<extra></extra>",
         "legendgroup": "Ohio State University--Columbus",
         "marker": {
          "color": "#ab63fa",
          "pattern": {
           "shape": ""
          }
         },
         "name": "Ohio State University--Columbus",
         "offsetgroup": "Ohio State University--Columbus",
         "orientation": "v",
         "showlegend": true,
         "textposition": "auto",
         "texttemplate": "%{y}",
         "type": "bar",
         "x": [
          "Ohio State University--Columbus"
         ],
         "xaxis": "x",
         "y": [
          54
         ],
         "yaxis": "y"
        },
        {
         "alignmentgroup": "True",
         "hovertemplate": "name=%{x}<br>rank=%{y}<extra></extra>",
         "legendgroup": "University of Washington",
         "marker": {
          "color": "#FFA15A",
          "pattern": {
           "shape": ""
          }
         },
         "name": "University of Washington",
         "offsetgroup": "University of Washington",
         "orientation": "v",
         "showlegend": true,
         "textposition": "auto",
         "texttemplate": "%{y}",
         "type": "bar",
         "x": [
          "University of Washington"
         ],
         "xaxis": "x",
         "y": [
          54
         ],
         "yaxis": "y"
        },
        {
         "alignmentgroup": "True",
         "hovertemplate": "name=%{x}<br>rank=%{y}<extra></extra>",
         "legendgroup": "George Washington University",
         "marker": {
          "color": "#19d3f3",
          "pattern": {
           "shape": ""
          }
         },
         "name": "George Washington University",
         "offsetgroup": "George Washington University",
         "orientation": "v",
         "showlegend": true,
         "textposition": "auto",
         "texttemplate": "%{y}",
         "type": "bar",
         "x": [
          "George Washington University"
         ],
         "xaxis": "x",
         "y": [
          56
         ],
         "yaxis": "y"
        },
        {
         "alignmentgroup": "True",
         "hovertemplate": "name=%{x}<br>rank=%{y}<extra></extra>",
         "legendgroup": "Southern Methodist University",
         "marker": {
          "color": "#FF6692",
          "pattern": {
           "shape": ""
          }
         },
         "name": "Southern Methodist University",
         "offsetgroup": "Southern Methodist University",
         "orientation": "v",
         "showlegend": true,
         "textposition": "auto",
         "texttemplate": "%{y}",
         "type": "bar",
         "x": [
          "Southern Methodist University"
         ],
         "xaxis": "x",
         "y": [
          56
         ],
         "yaxis": "y"
        },
        {
         "alignmentgroup": "True",
         "hovertemplate": "name=%{x}<br>rank=%{y}<extra></extra>",
         "legendgroup": "University of Georgia",
         "marker": {
          "color": "#B6E880",
          "pattern": {
           "shape": ""
          }
         },
         "name": "University of Georgia",
         "offsetgroup": "University of Georgia",
         "orientation": "v",
         "showlegend": true,
         "textposition": "auto",
         "texttemplate": "%{y}",
         "type": "bar",
         "x": [
          "University of Georgia"
         ],
         "xaxis": "x",
         "y": [
          56
         ],
         "yaxis": "y"
        },
        {
         "alignmentgroup": "True",
         "hovertemplate": "name=%{x}<br>rank=%{y}<extra></extra>",
         "legendgroup": "University of Texas--Austin",
         "marker": {
          "color": "#FF97FF",
          "pattern": {
           "shape": ""
          }
         },
         "name": "University of Texas--Austin",
         "offsetgroup": "University of Texas--Austin",
         "orientation": "v",
         "showlegend": true,
         "textposition": "auto",
         "texttemplate": "%{y}",
         "type": "bar",
         "x": [
          "University of Texas--Austin"
         ],
         "xaxis": "x",
         "y": [
          56
         ],
         "yaxis": "y"
        },
        {
         "alignmentgroup": "True",
         "hovertemplate": "name=%{x}<br>rank=%{y}<extra></extra>",
         "legendgroup": "Fordham University",
         "marker": {
          "color": "#FECB52",
          "pattern": {
           "shape": ""
          }
         },
         "name": "Fordham University",
         "offsetgroup": "Fordham University",
         "orientation": "v",
         "showlegend": true,
         "textposition": "auto",
         "texttemplate": "%{y}",
         "type": "bar",
         "x": [
          "Fordham University"
         ],
         "xaxis": "x",
         "y": [
          60
         ],
         "yaxis": "y"
        },
        {
         "alignmentgroup": "True",
         "hovertemplate": "name=%{x}<br>rank=%{y}<extra></extra>",
         "legendgroup": "Purdue University--West Lafayette",
         "marker": {
          "color": "#636efa",
          "pattern": {
           "shape": ""
          }
         },
         "name": "Purdue University--West Lafayette",
         "offsetgroup": "Purdue University--West Lafayette",
         "orientation": "v",
         "showlegend": true,
         "textposition": "auto",
         "texttemplate": "%{y}",
         "type": "bar",
         "x": [
          "Purdue University--West Lafayette"
         ],
         "xaxis": "x",
         "y": [
          60
         ],
         "yaxis": "y"
        },
        {
         "alignmentgroup": "True",
         "hovertemplate": "name=%{x}<br>rank=%{y}<extra></extra>",
         "legendgroup": "Syracuse University",
         "marker": {
          "color": "#EF553B",
          "pattern": {
           "shape": ""
          }
         },
         "name": "Syracuse University",
         "offsetgroup": "Syracuse University",
         "orientation": "v",
         "showlegend": true,
         "textposition": "auto",
         "texttemplate": "%{y}",
         "type": "bar",
         "x": [
          "Syracuse University"
         ],
         "xaxis": "x",
         "y": [
          60
         ],
         "yaxis": "y"
        },
        {
         "alignmentgroup": "True",
         "hovertemplate": "name=%{x}<br>rank=%{y}<extra></extra>",
         "legendgroup": "University of Connecticut",
         "marker": {
          "color": "#00cc96",
          "pattern": {
           "shape": ""
          }
         },
         "name": "University of Connecticut",
         "offsetgroup": "University of Connecticut",
         "orientation": "v",
         "showlegend": true,
         "textposition": "auto",
         "texttemplate": "%{y}",
         "type": "bar",
         "x": [
          "University of Connecticut"
         ],
         "xaxis": "x",
         "y": [
          60
         ],
         "yaxis": "y"
        },
        {
         "alignmentgroup": "True",
         "hovertemplate": "name=%{x}<br>rank=%{y}<extra></extra>",
         "legendgroup": "University of Maryland--College Park",
         "marker": {
          "color": "#ab63fa",
          "pattern": {
           "shape": ""
          }
         },
         "name": "University of Maryland--College Park",
         "offsetgroup": "University of Maryland--College Park",
         "orientation": "v",
         "showlegend": true,
         "textposition": "auto",
         "texttemplate": "%{y}",
         "type": "bar",
         "x": [
          "University of Maryland--College Park"
         ],
         "xaxis": "x",
         "y": [
          60
         ],
         "yaxis": "y"
        },
        {
         "alignmentgroup": "True",
         "hovertemplate": "name=%{x}<br>rank=%{y}<extra></extra>",
         "legendgroup": "Worcester Polytechnic Institute",
         "marker": {
          "color": "#FFA15A",
          "pattern": {
           "shape": ""
          }
         },
         "name": "Worcester Polytechnic Institute",
         "offsetgroup": "Worcester Polytechnic Institute",
         "orientation": "v",
         "showlegend": true,
         "textposition": "auto",
         "texttemplate": "%{y}",
         "type": "bar",
         "x": [
          "Worcester Polytechnic Institute"
         ],
         "xaxis": "x",
         "y": [
          60
         ],
         "yaxis": "y"
        },
        {
         "alignmentgroup": "True",
         "hovertemplate": "name=%{x}<br>rank=%{y}<extra></extra>",
         "legendgroup": "Clemson University",
         "marker": {
          "color": "#19d3f3",
          "pattern": {
           "shape": ""
          }
         },
         "name": "Clemson University",
         "offsetgroup": "Clemson University",
         "orientation": "v",
         "showlegend": true,
         "textposition": "auto",
         "texttemplate": "%{y}",
         "type": "bar",
         "x": [
          "Clemson University"
         ],
         "xaxis": "x",
         "y": [
          66
         ],
         "yaxis": "y"
        },
        {
         "alignmentgroup": "True",
         "hovertemplate": "name=%{x}<br>rank=%{y}<extra></extra>",
         "legendgroup": "Yeshiva University",
         "marker": {
          "color": "#FF6692",
          "pattern": {
           "shape": ""
          }
         },
         "name": "Yeshiva University",
         "offsetgroup": "Yeshiva University",
         "orientation": "v",
         "showlegend": true,
         "textposition": "auto",
         "texttemplate": "%{y}",
         "type": "bar",
         "x": [
          "Yeshiva University"
         ],
         "xaxis": "x",
         "y": [
          66
         ],
         "yaxis": "y"
        },
        {
         "alignmentgroup": "True",
         "hovertemplate": "name=%{x}<br>rank=%{y}<extra></extra>",
         "legendgroup": "Brigham Young University--Provo",
         "marker": {
          "color": "#B6E880",
          "pattern": {
           "shape": ""
          }
         },
         "name": "Brigham Young University--Provo",
         "offsetgroup": "Brigham Young University--Provo",
         "orientation": "v",
         "showlegend": true,
         "textposition": "auto",
         "texttemplate": "%{y}",
         "type": "bar",
         "x": [
          "Brigham Young University--Provo"
         ],
         "xaxis": "x",
         "y": [
          68
         ],
         "yaxis": "y"
        },
        {
         "alignmentgroup": "True",
         "hovertemplate": "name=%{x}<br>rank=%{y}<extra></extra>",
         "legendgroup": "University of Pittsburgh",
         "marker": {
          "color": "#FF97FF",
          "pattern": {
           "shape": ""
          }
         },
         "name": "University of Pittsburgh",
         "offsetgroup": "University of Pittsburgh",
         "orientation": "v",
         "showlegend": true,
         "textposition": "auto",
         "texttemplate": "%{y}",
         "type": "bar",
         "x": [
          "University of Pittsburgh"
         ],
         "xaxis": "x",
         "y": [
          68
         ],
         "yaxis": "y"
        },
        {
         "alignmentgroup": "True",
         "hovertemplate": "name=%{x}<br>rank=%{y}<extra></extra>",
         "legendgroup": "Rutgers University--New Brunswick",
         "marker": {
          "color": "#FECB52",
          "pattern": {
           "shape": ""
          }
         },
         "name": "Rutgers University--New Brunswick",
         "offsetgroup": "Rutgers University--New Brunswick",
         "orientation": "v",
         "showlegend": true,
         "textposition": "auto",
         "texttemplate": "%{y}",
         "type": "bar",
         "x": [
          "Rutgers University--New Brunswick"
         ],
         "xaxis": "x",
         "y": [
          70
         ],
         "yaxis": "y"
        },
        {
         "alignmentgroup": "True",
         "hovertemplate": "name=%{x}<br>rank=%{y}<extra></extra>",
         "legendgroup": "Baylor University",
         "marker": {
          "color": "#636efa",
          "pattern": {
           "shape": ""
          }
         },
         "name": "Baylor University",
         "offsetgroup": "Baylor University",
         "orientation": "v",
         "showlegend": true,
         "textposition": "auto",
         "texttemplate": "%{y}",
         "type": "bar",
         "x": [
          "Baylor University"
         ],
         "xaxis": "x",
         "y": [
          71
         ],
         "yaxis": "y"
        },
        {
         "alignmentgroup": "True",
         "hovertemplate": "name=%{x}<br>rank=%{y}<extra></extra>",
         "legendgroup": "Stevens Institute of Technology",
         "marker": {
          "color": "#EF553B",
          "pattern": {
           "shape": ""
          }
         },
         "name": "Stevens Institute of Technology",
         "offsetgroup": "Stevens Institute of Technology",
         "orientation": "v",
         "showlegend": true,
         "textposition": "auto",
         "texttemplate": "%{y}",
         "type": "bar",
         "x": [
          "Stevens Institute of Technology"
         ],
         "xaxis": "x",
         "y": [
          71
         ],
         "yaxis": "y"
        },
        {
         "alignmentgroup": "True",
         "hovertemplate": "name=%{x}<br>rank=%{y}<extra></extra>",
         "legendgroup": "University of Minnesota--Twin Cities",
         "marker": {
          "color": "#00cc96",
          "pattern": {
           "shape": ""
          }
         },
         "name": "University of Minnesota--Twin Cities",
         "offsetgroup": "University of Minnesota--Twin Cities",
         "orientation": "v",
         "showlegend": true,
         "textposition": "auto",
         "texttemplate": "%{y}",
         "type": "bar",
         "x": [
          "University of Minnesota--Twin Cities"
         ],
         "xaxis": "x",
         "y": [
          71
         ],
         "yaxis": "y"
        },
        {
         "alignmentgroup": "True",
         "hovertemplate": "name=%{x}<br>rank=%{y}<extra></extra>",
         "legendgroup": "American University",
         "marker": {
          "color": "#ab63fa",
          "pattern": {
           "shape": ""
          }
         },
         "name": "American University",
         "offsetgroup": "American University",
         "orientation": "v",
         "showlegend": true,
         "textposition": "auto",
         "texttemplate": "%{y}",
         "type": "bar",
         "x": [
          "American University"
         ],
         "xaxis": "x",
         "y": [
          74
         ],
         "yaxis": "y"
        },
        {
         "alignmentgroup": "True",
         "hovertemplate": "name=%{x}<br>rank=%{y}<extra></extra>",
         "legendgroup": "Clark University",
         "marker": {
          "color": "#FFA15A",
          "pattern": {
           "shape": ""
          }
         },
         "name": "Clark University",
         "offsetgroup": "Clark University",
         "orientation": "v",
         "showlegend": true,
         "textposition": "auto",
         "texttemplate": "%{y}",
         "type": "bar",
         "x": [
          "Clark University"
         ],
         "xaxis": "x",
         "y": [
          74
         ],
         "yaxis": "y"
        },
        {
         "alignmentgroup": "True",
         "hovertemplate": "name=%{x}<br>rank=%{y}<extra></extra>",
         "legendgroup": "Texas A&M University--College Station",
         "marker": {
          "color": "#19d3f3",
          "pattern": {
           "shape": ""
          }
         },
         "name": "Texas A&M University--College Station",
         "offsetgroup": "Texas A&M University--College Station",
         "orientation": "v",
         "showlegend": true,
         "textposition": "auto",
         "texttemplate": "%{y}",
         "type": "bar",
         "x": [
          "Texas A&M University--College Station"
         ],
         "xaxis": "x",
         "y": [
          74
         ],
         "yaxis": "y"
        },
        {
         "alignmentgroup": "True",
         "hovertemplate": "name=%{x}<br>rank=%{y}<extra></extra>",
         "legendgroup": "University of Massachusetts--Amherst",
         "marker": {
          "color": "#FF6692",
          "pattern": {
           "shape": ""
          }
         },
         "name": "University of Massachusetts--Amherst",
         "offsetgroup": "University of Massachusetts--Amherst",
         "orientation": "v",
         "showlegend": true,
         "textposition": "auto",
         "texttemplate": "%{y}",
         "type": "bar",
         "x": [
          "University of Massachusetts--Amherst"
         ],
         "xaxis": "x",
         "y": [
          74
         ],
         "yaxis": "y"
        },
        {
         "alignmentgroup": "True",
         "hovertemplate": "name=%{x}<br>rank=%{y}<extra></extra>",
         "legendgroup": "Virginia Tech",
         "marker": {
          "color": "#B6E880",
          "pattern": {
           "shape": ""
          }
         },
         "name": "Virginia Tech",
         "offsetgroup": "Virginia Tech",
         "orientation": "v",
         "showlegend": true,
         "textposition": "auto",
         "texttemplate": "%{y}",
         "type": "bar",
         "x": [
          "Virginia Tech"
         ],
         "xaxis": "x",
         "y": [
          74
         ],
         "yaxis": "y"
        },
        {
         "alignmentgroup": "True",
         "hovertemplate": "name=%{x}<br>rank=%{y}<extra></extra>",
         "legendgroup": "Miami University--Oxford",
         "marker": {
          "color": "#FF97FF",
          "pattern": {
           "shape": ""
          }
         },
         "name": "Miami University--Oxford",
         "offsetgroup": "Miami University--Oxford",
         "orientation": "v",
         "showlegend": true,
         "textposition": "auto",
         "texttemplate": "%{y}",
         "type": "bar",
         "x": [
          "Miami University--Oxford"
         ],
         "xaxis": "x",
         "y": [
          79
         ],
         "yaxis": "y"
        },
        {
         "alignmentgroup": "True",
         "hovertemplate": "name=%{x}<br>rank=%{y}<extra></extra>",
         "legendgroup": "University of California--Santa Cruz",
         "marker": {
          "color": "#FECB52",
          "pattern": {
           "shape": ""
          }
         },
         "name": "University of California--Santa Cruz",
         "offsetgroup": "University of California--Santa Cruz",
         "orientation": "v",
         "showlegend": true,
         "textposition": "auto",
         "texttemplate": "%{y}",
         "type": "bar",
         "x": [
          "University of California--Santa Cruz"
         ],
         "xaxis": "x",
         "y": [
          79
         ],
         "yaxis": "y"
        },
        {
         "alignmentgroup": "True",
         "hovertemplate": "name=%{x}<br>rank=%{y}<extra></extra>",
         "legendgroup": "University of Delaware",
         "marker": {
          "color": "#636efa",
          "pattern": {
           "shape": ""
          }
         },
         "name": "University of Delaware",
         "offsetgroup": "University of Delaware",
         "orientation": "v",
         "showlegend": true,
         "textposition": "auto",
         "texttemplate": "%{y}",
         "type": "bar",
         "x": [
          "University of Delaware"
         ],
         "xaxis": "x",
         "y": [
          79
         ],
         "yaxis": "y"
        },
        {
         "alignmentgroup": "True",
         "hovertemplate": "name=%{x}<br>rank=%{y}<extra></extra>",
         "legendgroup": "Colorado School of Mines",
         "marker": {
          "color": "#EF553B",
          "pattern": {
           "shape": ""
          }
         },
         "name": "Colorado School of Mines",
         "offsetgroup": "Colorado School of Mines",
         "orientation": "v",
         "showlegend": true,
         "textposition": "auto",
         "texttemplate": "%{y}",
         "type": "bar",
         "x": [
          "Colorado School of Mines"
         ],
         "xaxis": "x",
         "y": [
          82
         ],
         "yaxis": "y"
        },
        {
         "alignmentgroup": "True",
         "hovertemplate": "name=%{x}<br>rank=%{y}<extra></extra>",
         "legendgroup": "Michigan State University",
         "marker": {
          "color": "#00cc96",
          "pattern": {
           "shape": ""
          }
         },
         "name": "Michigan State University",
         "offsetgroup": "Michigan State University",
         "orientation": "v",
         "showlegend": true,
         "textposition": "auto",
         "texttemplate": "%{y}",
         "type": "bar",
         "x": [
          "Michigan State University"
         ],
         "xaxis": "x",
         "y": [
          82
         ],
         "yaxis": "y"
        },
        {
         "alignmentgroup": "True",
         "hovertemplate": "name=%{x}<br>rank=%{y}<extra></extra>",
         "legendgroup": "Texas Christian University",
         "marker": {
          "color": "#ab63fa",
          "pattern": {
           "shape": ""
          }
         },
         "name": "Texas Christian University",
         "offsetgroup": "Texas Christian University",
         "orientation": "v",
         "showlegend": true,
         "textposition": "auto",
         "texttemplate": "%{y}",
         "type": "bar",
         "x": [
          "Texas Christian University"
         ],
         "xaxis": "x",
         "y": [
          82
         ],
         "yaxis": "y"
        },
        {
         "alignmentgroup": "True",
         "hovertemplate": "name=%{x}<br>rank=%{y}<extra></extra>",
         "legendgroup": "University of Iowa",
         "marker": {
          "color": "#FFA15A",
          "pattern": {
           "shape": ""
          }
         },
         "name": "University of Iowa",
         "offsetgroup": "University of Iowa",
         "orientation": "v",
         "showlegend": true,
         "textposition": "auto",
         "texttemplate": "%{y}",
         "type": "bar",
         "x": [
          "University of Iowa"
         ],
         "xaxis": "x",
         "y": [
          82
         ],
         "yaxis": "y"
        },
        {
         "alignmentgroup": "True",
         "hovertemplate": "name=%{x}<br>rank=%{y}<extra></extra>",
         "legendgroup": "Binghamton University--SUNY",
         "marker": {
          "color": "#19d3f3",
          "pattern": {
           "shape": ""
          }
         },
         "name": "Binghamton University--SUNY",
         "offsetgroup": "Binghamton University--SUNY",
         "orientation": "v",
         "showlegend": true,
         "textposition": "auto",
         "texttemplate": "%{y}",
         "type": "bar",
         "x": [
          "Binghamton University--SUNY"
         ],
         "xaxis": "x",
         "y": [
          86
         ],
         "yaxis": "y"
        },
        {
         "alignmentgroup": "True",
         "hovertemplate": "name=%{x}<br>rank=%{y}<extra></extra>",
         "legendgroup": "Indiana University--Bloomington",
         "marker": {
          "color": "#FF6692",
          "pattern": {
           "shape": ""
          }
         },
         "name": "Indiana University--Bloomington",
         "offsetgroup": "Indiana University--Bloomington",
         "orientation": "v",
         "showlegend": true,
         "textposition": "auto",
         "texttemplate": "%{y}",
         "type": "bar",
         "x": [
          "Indiana University--Bloomington"
         ],
         "xaxis": "x",
         "y": [
          86
         ],
         "yaxis": "y"
        },
        {
         "alignmentgroup": "True",
         "hovertemplate": "name=%{x}<br>rank=%{y}<extra></extra>",
         "legendgroup": "Marquette University",
         "marker": {
          "color": "#B6E880",
          "pattern": {
           "shape": ""
          }
         },
         "name": "Marquette University",
         "offsetgroup": "Marquette University",
         "orientation": "v",
         "showlegend": true,
         "textposition": "auto",
         "texttemplate": "%{y}",
         "type": "bar",
         "x": [
          "Marquette University"
         ],
         "xaxis": "x",
         "y": [
          86
         ],
         "yaxis": "y"
        },
        {
         "alignmentgroup": "True",
         "hovertemplate": "name=%{x}<br>rank=%{y}<extra></extra>",
         "legendgroup": "University of Denver",
         "marker": {
          "color": "#FF97FF",
          "pattern": {
           "shape": ""
          }
         },
         "name": "University of Denver",
         "offsetgroup": "University of Denver",
         "orientation": "v",
         "showlegend": true,
         "textposition": "auto",
         "texttemplate": "%{y}",
         "type": "bar",
         "x": [
          "University of Denver"
         ],
         "xaxis": "x",
         "y": [
          86
         ],
         "yaxis": "y"
        },
        {
         "alignmentgroup": "True",
         "hovertemplate": "name=%{x}<br>rank=%{y}<extra></extra>",
         "legendgroup": "University of San Diego",
         "marker": {
          "color": "#FECB52",
          "pattern": {
           "shape": ""
          }
         },
         "name": "University of San Diego",
         "offsetgroup": "University of San Diego",
         "orientation": "v",
         "showlegend": true,
         "textposition": "auto",
         "texttemplate": "%{y}",
         "type": "bar",
         "x": [
          "University of San Diego"
         ],
         "xaxis": "x",
         "y": [
          86
         ],
         "yaxis": "y"
        },
        {
         "alignmentgroup": "True",
         "hovertemplate": "name=%{x}<br>rank=%{y}<extra></extra>",
         "legendgroup": "University of Tulsa",
         "marker": {
          "color": "#636efa",
          "pattern": {
           "shape": ""
          }
         },
         "name": "University of Tulsa",
         "offsetgroup": "University of Tulsa",
         "orientation": "v",
         "showlegend": true,
         "textposition": "auto",
         "texttemplate": "%{y}",
         "type": "bar",
         "x": [
          "University of Tulsa"
         ],
         "xaxis": "x",
         "y": [
          86
         ],
         "yaxis": "y"
        },
        {
         "alignmentgroup": "True",
         "hovertemplate": "name=%{x}<br>rank=%{y}<extra></extra>",
         "legendgroup": "Florida State University",
         "marker": {
          "color": "#EF553B",
          "pattern": {
           "shape": ""
          }
         },
         "name": "Florida State University",
         "offsetgroup": "Florida State University",
         "orientation": "v",
         "showlegend": true,
         "textposition": "auto",
         "texttemplate": "%{y}",
         "type": "bar",
         "x": [
          "Florida State University"
         ],
         "xaxis": "x",
         "y": [
          92
         ],
         "yaxis": "y"
        },
        {
         "alignmentgroup": "True",
         "hovertemplate": "name=%{x}<br>rank=%{y}<extra></extra>",
         "legendgroup": "North Carolina State University--Raleigh",
         "marker": {
          "color": "#00cc96",
          "pattern": {
           "shape": ""
          }
         },
         "name": "North Carolina State University--Raleigh",
         "offsetgroup": "North Carolina State University--Raleigh",
         "orientation": "v",
         "showlegend": true,
         "textposition": "auto",
         "texttemplate": "%{y}",
         "type": "bar",
         "x": [
          "North Carolina State University--Raleigh"
         ],
         "xaxis": "x",
         "y": [
          92
         ],
         "yaxis": "y"
        },
        {
         "alignmentgroup": "True",
         "hovertemplate": "name=%{x}<br>rank=%{y}<extra></extra>",
         "legendgroup": "University of Colorado--Boulder",
         "marker": {
          "color": "#ab63fa",
          "pattern": {
           "shape": ""
          }
         },
         "name": "University of Colorado--Boulder",
         "offsetgroup": "University of Colorado--Boulder",
         "orientation": "v",
         "showlegend": true,
         "textposition": "auto",
         "texttemplate": "%{y}",
         "type": "bar",
         "x": [
          "University of Colorado--Boulder"
         ],
         "xaxis": "x",
         "y": [
          92
         ],
         "yaxis": "y"
        },
        {
         "alignmentgroup": "True",
         "hovertemplate": "name=%{x}<br>rank=%{y}<extra></extra>",
         "legendgroup": "University of Vermont",
         "marker": {
          "color": "#FFA15A",
          "pattern": {
           "shape": ""
          }
         },
         "name": "University of Vermont",
         "offsetgroup": "University of Vermont",
         "orientation": "v",
         "showlegend": true,
         "textposition": "auto",
         "texttemplate": "%{y}",
         "type": "bar",
         "x": [
          "University of Vermont"
         ],
         "xaxis": "x",
         "y": [
          92
         ],
         "yaxis": "y"
        },
        {
         "alignmentgroup": "True",
         "hovertemplate": "name=%{x}<br>rank=%{y}<extra></extra>",
         "legendgroup": "Drexel University",
         "marker": {
          "color": "#19d3f3",
          "pattern": {
           "shape": ""
          }
         },
         "name": "Drexel University",
         "offsetgroup": "Drexel University",
         "orientation": "v",
         "showlegend": true,
         "textposition": "auto",
         "texttemplate": "%{y}",
         "type": "bar",
         "x": [
          "Drexel University"
         ],
         "xaxis": "x",
         "y": [
          96
         ],
         "yaxis": "y"
        },
        {
         "alignmentgroup": "True",
         "hovertemplate": "name=%{x}<br>rank=%{y}<extra></extra>",
         "legendgroup": "Saint Louis University",
         "marker": {
          "color": "#FF6692",
          "pattern": {
           "shape": ""
          }
         },
         "name": "Saint Louis University",
         "offsetgroup": "Saint Louis University",
         "orientation": "v",
         "showlegend": true,
         "textposition": "auto",
         "texttemplate": "%{y}",
         "type": "bar",
         "x": [
          "Saint Louis University"
         ],
         "xaxis": "x",
         "y": [
          96
         ],
         "yaxis": "y"
        },
        {
         "alignmentgroup": "True",
         "hovertemplate": "name=%{x}<br>rank=%{y}<extra></extra>",
         "legendgroup": "Stony Brook University--SUNY",
         "marker": {
          "color": "#B6E880",
          "pattern": {
           "shape": ""
          }
         },
         "name": "Stony Brook University--SUNY",
         "offsetgroup": "Stony Brook University--SUNY",
         "orientation": "v",
         "showlegend": true,
         "textposition": "auto",
         "texttemplate": "%{y}",
         "type": "bar",
         "x": [
          "Stony Brook University--SUNY"
         ],
         "xaxis": "x",
         "y": [
          96
         ],
         "yaxis": "y"
        },
        {
         "alignmentgroup": "True",
         "hovertemplate": "name=%{x}<br>rank=%{y}<extra></extra>",
         "legendgroup": "Auburn University",
         "marker": {
          "color": "#FF97FF",
          "pattern": {
           "shape": ""
          }
         },
         "name": "Auburn University",
         "offsetgroup": "Auburn University",
         "orientation": "v",
         "showlegend": true,
         "textposition": "auto",
         "texttemplate": "%{y}",
         "type": "bar",
         "x": [
          "Auburn University"
         ],
         "xaxis": "x",
         "y": [
          99
         ],
         "yaxis": "y"
        },
        {
         "alignmentgroup": "True",
         "hovertemplate": "name=%{x}<br>rank=%{y}<extra></extra>",
         "legendgroup": "Loyola University Chicago",
         "marker": {
          "color": "#FECB52",
          "pattern": {
           "shape": ""
          }
         },
         "name": "Loyola University Chicago",
         "offsetgroup": "Loyola University Chicago",
         "orientation": "v",
         "showlegend": true,
         "textposition": "auto",
         "texttemplate": "%{y}",
         "type": "bar",
         "x": [
          "Loyola University Chicago"
         ],
         "xaxis": "x",
         "y": [
          99
         ],
         "yaxis": "y"
        },
        {
         "alignmentgroup": "True",
         "hovertemplate": "name=%{x}<br>rank=%{y}<extra></extra>",
         "legendgroup": "SUNY College of Environmental Science and Forestry",
         "marker": {
          "color": "#636efa",
          "pattern": {
           "shape": ""
          }
         },
         "name": "SUNY College of Environmental Science and Forestry",
         "offsetgroup": "SUNY College of Environmental Science and Forestry",
         "orientation": "v",
         "showlegend": true,
         "textposition": "auto",
         "texttemplate": "%{y}",
         "type": "bar",
         "x": [
          "SUNY College of Environmental Science and Forestry"
         ],
         "xaxis": "x",
         "y": [
          99
         ],
         "yaxis": "y"
        },
        {
         "alignmentgroup": "True",
         "hovertemplate": "name=%{x}<br>rank=%{y}<extra></extra>",
         "legendgroup": "University at Buffalo--SUNY",
         "marker": {
          "color": "#EF553B",
          "pattern": {
           "shape": ""
          }
         },
         "name": "University at Buffalo--SUNY",
         "offsetgroup": "University at Buffalo--SUNY",
         "orientation": "v",
         "showlegend": true,
         "textposition": "auto",
         "texttemplate": "%{y}",
         "type": "bar",
         "x": [
          "University at Buffalo--SUNY"
         ],
         "xaxis": "x",
         "y": [
          99
         ],
         "yaxis": "y"
        },
        {
         "alignmentgroup": "True",
         "hovertemplate": "name=%{x}<br>rank=%{y}<extra></extra>",
         "legendgroup": "Illinois Institute of Technology",
         "marker": {
          "color": "#00cc96",
          "pattern": {
           "shape": ""
          }
         },
         "name": "Illinois Institute of Technology",
         "offsetgroup": "Illinois Institute of Technology",
         "orientation": "v",
         "showlegend": true,
         "textposition": "auto",
         "texttemplate": "%{y}",
         "type": "bar",
         "x": [
          "Illinois Institute of Technology"
         ],
         "xaxis": "x",
         "y": [
          103
         ],
         "yaxis": "y"
        },
        {
         "alignmentgroup": "True",
         "hovertemplate": "name=%{x}<br>rank=%{y}<extra></extra>",
         "legendgroup": "University of Alabama",
         "marker": {
          "color": "#ab63fa",
          "pattern": {
           "shape": ""
          }
         },
         "name": "University of Alabama",
         "offsetgroup": "University of Alabama",
         "orientation": "v",
         "showlegend": true,
         "textposition": "auto",
         "texttemplate": "%{y}",
         "type": "bar",
         "x": [
          "University of Alabama"
         ],
         "xaxis": "x",
         "y": [
          103
         ],
         "yaxis": "y"
        },
        {
         "alignmentgroup": "True",
         "hovertemplate": "name=%{x}<br>rank=%{y}<extra></extra>",
         "legendgroup": "University of Oregon",
         "marker": {
          "color": "#FFA15A",
          "pattern": {
           "shape": ""
          }
         },
         "name": "University of Oregon",
         "offsetgroup": "University of Oregon",
         "orientation": "v",
         "showlegend": true,
         "textposition": "auto",
         "texttemplate": "%{y}",
         "type": "bar",
         "x": [
          "University of Oregon"
         ],
         "xaxis": "x",
         "y": [
          103
         ],
         "yaxis": "y"
        },
        {
         "alignmentgroup": "True",
         "hovertemplate": "name=%{x}<br>rank=%{y}<extra></extra>",
         "legendgroup": "University of Tennessee",
         "marker": {
          "color": "#19d3f3",
          "pattern": {
           "shape": ""
          }
         },
         "name": "University of Tennessee",
         "offsetgroup": "University of Tennessee",
         "orientation": "v",
         "showlegend": true,
         "textposition": "auto",
         "texttemplate": "%{y}",
         "type": "bar",
         "x": [
          "University of Tennessee"
         ],
         "xaxis": "x",
         "y": [
          103
         ],
         "yaxis": "y"
        },
        {
         "alignmentgroup": "True",
         "hovertemplate": "name=%{x}<br>rank=%{y}<extra></extra>",
         "legendgroup": "Rochester Institute of Technology",
         "marker": {
          "color": "#FF6692",
          "pattern": {
           "shape": ""
          }
         },
         "name": "Rochester Institute of Technology",
         "offsetgroup": "Rochester Institute of Technology",
         "orientation": "v",
         "showlegend": true,
         "textposition": "auto",
         "texttemplate": "%{y}",
         "type": "bar",
         "x": [
          "Rochester Institute of Technology"
         ],
         "xaxis": "x",
         "y": [
          107
         ],
         "yaxis": "y"
        },
        {
         "alignmentgroup": "True",
         "hovertemplate": "name=%{x}<br>rank=%{y}<extra></extra>",
         "legendgroup": "University of New Hampshire",
         "marker": {
          "color": "#B6E880",
          "pattern": {
           "shape": ""
          }
         },
         "name": "University of New Hampshire",
         "offsetgroup": "University of New Hampshire",
         "orientation": "v",
         "showlegend": true,
         "textposition": "auto",
         "texttemplate": "%{y}",
         "type": "bar",
         "x": [
          "University of New Hampshire"
         ],
         "xaxis": "x",
         "y": [
          107
         ],
         "yaxis": "y"
        },
        {
         "alignmentgroup": "True",
         "hovertemplate": "name=%{x}<br>rank=%{y}<extra></extra>",
         "legendgroup": "University of San Francisco",
         "marker": {
          "color": "#FF97FF",
          "pattern": {
           "shape": ""
          }
         },
         "name": "University of San Francisco",
         "offsetgroup": "University of San Francisco",
         "orientation": "v",
         "showlegend": true,
         "textposition": "auto",
         "texttemplate": "%{y}",
         "type": "bar",
         "x": [
          "University of San Francisco"
         ],
         "xaxis": "x",
         "y": [
          107
         ],
         "yaxis": "y"
        },
        {
         "alignmentgroup": "True",
         "hovertemplate": "name=%{x}<br>rank=%{y}<extra></extra>",
         "legendgroup": "University of South Carolina",
         "marker": {
          "color": "#FECB52",
          "pattern": {
           "shape": ""
          }
         },
         "name": "University of South Carolina",
         "offsetgroup": "University of South Carolina",
         "orientation": "v",
         "showlegend": true,
         "textposition": "auto",
         "texttemplate": "%{y}",
         "type": "bar",
         "x": [
          "University of South Carolina"
         ],
         "xaxis": "x",
         "y": [
          107
         ],
         "yaxis": "y"
        },
        {
         "alignmentgroup": "True",
         "hovertemplate": "name=%{x}<br>rank=%{y}<extra></extra>",
         "legendgroup": "Iowa State University",
         "marker": {
          "color": "#636efa",
          "pattern": {
           "shape": ""
          }
         },
         "name": "Iowa State University",
         "offsetgroup": "Iowa State University",
         "orientation": "v",
         "showlegend": true,
         "textposition": "auto",
         "texttemplate": "%{y}",
         "type": "bar",
         "x": [
          "Iowa State University"
         ],
         "xaxis": "x",
         "y": [
          111
         ],
         "yaxis": "y"
        },
        {
         "alignmentgroup": "True",
         "hovertemplate": "name=%{x}<br>rank=%{y}<extra></extra>",
         "legendgroup": "University of Dayton",
         "marker": {
          "color": "#EF553B",
          "pattern": {
           "shape": ""
          }
         },
         "name": "University of Dayton",
         "offsetgroup": "University of Dayton",
         "orientation": "v",
         "showlegend": true,
         "textposition": "auto",
         "texttemplate": "%{y}",
         "type": "bar",
         "x": [
          "University of Dayton"
         ],
         "xaxis": "x",
         "y": [
          111
         ],
         "yaxis": "y"
        },
        {
         "alignmentgroup": "True",
         "hovertemplate": "name=%{x}<br>rank=%{y}<extra></extra>",
         "legendgroup": "University of Missouri",
         "marker": {
          "color": "#00cc96",
          "pattern": {
           "shape": ""
          }
         },
         "name": "University of Missouri",
         "offsetgroup": "University of Missouri",
         "orientation": "v",
         "showlegend": true,
         "textposition": "auto",
         "texttemplate": "%{y}",
         "type": "bar",
         "x": [
          "University of Missouri"
         ],
         "xaxis": "x",
         "y": [
          111
         ],
         "yaxis": "y"
        },
        {
         "alignmentgroup": "True",
         "hovertemplate": "name=%{x}<br>rank=%{y}<extra></extra>",
         "legendgroup": "University of Nebraska--Lincoln",
         "marker": {
          "color": "#ab63fa",
          "pattern": {
           "shape": ""
          }
         },
         "name": "University of Nebraska--Lincoln",
         "offsetgroup": "University of Nebraska--Lincoln",
         "orientation": "v",
         "showlegend": true,
         "textposition": "auto",
         "texttemplate": "%{y}",
         "type": "bar",
         "x": [
          "University of Nebraska--Lincoln"
         ],
         "xaxis": "x",
         "y": [
          111
         ],
         "yaxis": "y"
        },
        {
         "alignmentgroup": "True",
         "hovertemplate": "name=%{x}<br>rank=%{y}<extra></extra>",
         "legendgroup": "University of Oklahoma",
         "marker": {
          "color": "#FFA15A",
          "pattern": {
           "shape": ""
          }
         },
         "name": "University of Oklahoma",
         "offsetgroup": "University of Oklahoma",
         "orientation": "v",
         "showlegend": true,
         "textposition": "auto",
         "texttemplate": "%{y}",
         "type": "bar",
         "x": [
          "University of Oklahoma"
         ],
         "xaxis": "x",
         "y": [
          111
         ],
         "yaxis": "y"
        },
        {
         "alignmentgroup": "True",
         "hovertemplate": "name=%{x}<br>rank=%{y}<extra></extra>",
         "legendgroup": "University of the Pacific",
         "marker": {
          "color": "#19d3f3",
          "pattern": {
           "shape": ""
          }
         },
         "name": "University of the Pacific",
         "offsetgroup": "University of the Pacific",
         "orientation": "v",
         "showlegend": true,
         "textposition": "auto",
         "texttemplate": "%{y}",
         "type": "bar",
         "x": [
          "University of the Pacific"
         ],
         "xaxis": "x",
         "y": [
          111
         ],
         "yaxis": "y"
        },
        {
         "alignmentgroup": "True",
         "hovertemplate": "name=%{x}<br>rank=%{y}<extra></extra>",
         "legendgroup": "University of Utah",
         "marker": {
          "color": "#FF6692",
          "pattern": {
           "shape": ""
          }
         },
         "name": "University of Utah",
         "offsetgroup": "University of Utah",
         "orientation": "v",
         "showlegend": true,
         "textposition": "auto",
         "texttemplate": "%{y}",
         "type": "bar",
         "x": [
          "University of Utah"
         ],
         "xaxis": "x",
         "y": [
          111
         ],
         "yaxis": "y"
        },
        {
         "alignmentgroup": "True",
         "hovertemplate": "name=%{x}<br>rank=%{y}<extra></extra>",
         "legendgroup": "Michigan Technological University",
         "marker": {
          "color": "#B6E880",
          "pattern": {
           "shape": ""
          }
         },
         "name": "Michigan Technological University",
         "offsetgroup": "Michigan Technological University",
         "orientation": "v",
         "showlegend": true,
         "textposition": "auto",
         "texttemplate": "%{y}",
         "type": "bar",
         "x": [
          "Michigan Technological University"
         ],
         "xaxis": "x",
         "y": [
          118
         ],
         "yaxis": "y"
        },
        {
         "alignmentgroup": "True",
         "hovertemplate": "name=%{x}<br>rank=%{y}<extra></extra>",
         "legendgroup": "Seton Hall University",
         "marker": {
          "color": "#FF97FF",
          "pattern": {
           "shape": ""
          }
         },
         "name": "Seton Hall University",
         "offsetgroup": "Seton Hall University",
         "orientation": "v",
         "showlegend": true,
         "textposition": "auto",
         "texttemplate": "%{y}",
         "type": "bar",
         "x": [
          "Seton Hall University"
         ],
         "xaxis": "x",
         "y": [
          118
         ],
         "yaxis": "y"
        },
        {
         "alignmentgroup": "True",
         "hovertemplate": "name=%{x}<br>rank=%{y}<extra></extra>",
         "legendgroup": "Temple University",
         "marker": {
          "color": "#FECB52",
          "pattern": {
           "shape": ""
          }
         },
         "name": "Temple University",
         "offsetgroup": "Temple University",
         "orientation": "v",
         "showlegend": true,
         "textposition": "auto",
         "texttemplate": "%{y}",
         "type": "bar",
         "x": [
          "Temple University"
         ],
         "xaxis": "x",
         "y": [
          118
         ],
         "yaxis": "y"
        },
        {
         "alignmentgroup": "True",
         "hovertemplate": "name=%{x}<br>rank=%{y}<extra></extra>",
         "legendgroup": "University of California--Riverside",
         "marker": {
          "color": "#636efa",
          "pattern": {
           "shape": ""
          }
         },
         "name": "University of California--Riverside",
         "offsetgroup": "University of California--Riverside",
         "orientation": "v",
         "showlegend": true,
         "textposition": "auto",
         "texttemplate": "%{y}",
         "type": "bar",
         "x": [
          "University of California--Riverside"
         ],
         "xaxis": "x",
         "y": [
          118
         ],
         "yaxis": "y"
        },
        {
         "alignmentgroup": "True",
         "hovertemplate": "name=%{x}<br>rank=%{y}<extra></extra>",
         "legendgroup": "University of Kansas",
         "marker": {
          "color": "#EF553B",
          "pattern": {
           "shape": ""
          }
         },
         "name": "University of Kansas",
         "offsetgroup": "University of Kansas",
         "orientation": "v",
         "showlegend": true,
         "textposition": "auto",
         "texttemplate": "%{y}",
         "type": "bar",
         "x": [
          "University of Kansas"
         ],
         "xaxis": "x",
         "y": [
          118
         ],
         "yaxis": "y"
        },
        {
         "alignmentgroup": "True",
         "hovertemplate": "name=%{x}<br>rank=%{y}<extra></extra>",
         "legendgroup": "University of St. Thomas",
         "marker": {
          "color": "#00cc96",
          "pattern": {
           "shape": ""
          }
         },
         "name": "University of St. Thomas",
         "offsetgroup": "University of St. Thomas",
         "orientation": "v",
         "showlegend": true,
         "textposition": "auto",
         "texttemplate": "%{y}",
         "type": "bar",
         "x": [
          "University of St. Thomas"
         ],
         "xaxis": "x",
         "y": [
          118
         ],
         "yaxis": "y"
        },
        {
         "alignmentgroup": "True",
         "hovertemplate": "name=%{x}<br>rank=%{y}<extra></extra>",
         "legendgroup": "The Catholic University of America",
         "marker": {
          "color": "#ab63fa",
          "pattern": {
           "shape": ""
          }
         },
         "name": "The Catholic University of America",
         "offsetgroup": "The Catholic University of America",
         "orientation": "v",
         "showlegend": true,
         "textposition": "auto",
         "texttemplate": "%{y}",
         "type": "bar",
         "x": [
          "The Catholic University of America"
         ],
         "xaxis": "x",
         "y": [
          124
         ],
         "yaxis": "y"
        },
        {
         "alignmentgroup": "True",
         "hovertemplate": "name=%{x}<br>rank=%{y}<extra></extra>",
         "legendgroup": "DePaul University",
         "marker": {
          "color": "#FFA15A",
          "pattern": {
           "shape": ""
          }
         },
         "name": "DePaul University",
         "offsetgroup": "DePaul University",
         "orientation": "v",
         "showlegend": true,
         "textposition": "auto",
         "texttemplate": "%{y}",
         "type": "bar",
         "x": [
          "DePaul University"
         ],
         "xaxis": "x",
         "y": [
          124
         ],
         "yaxis": "y"
        },
        {
         "alignmentgroup": "True",
         "hovertemplate": "name=%{x}<br>rank=%{y}<extra></extra>",
         "legendgroup": "Duquesne University",
         "marker": {
          "color": "#19d3f3",
          "pattern": {
           "shape": ""
          }
         },
         "name": "Duquesne University",
         "offsetgroup": "Duquesne University",
         "orientation": "v",
         "showlegend": true,
         "textposition": "auto",
         "texttemplate": "%{y}",
         "type": "bar",
         "x": [
          "Duquesne University"
         ],
         "xaxis": "x",
         "y": [
          124
         ],
         "yaxis": "y"
        },
        {
         "alignmentgroup": "True",
         "hovertemplate": "name=%{x}<br>rank=%{y}<extra></extra>",
         "legendgroup": "Howard University",
         "marker": {
          "color": "#FF6692",
          "pattern": {
           "shape": ""
          }
         },
         "name": "Howard University",
         "offsetgroup": "Howard University",
         "orientation": "v",
         "showlegend": true,
         "textposition": "auto",
         "texttemplate": "%{y}",
         "type": "bar",
         "x": [
          "Howard University"
         ],
         "xaxis": "x",
         "y": [
          124
         ],
         "yaxis": "y"
        },
        {
         "alignmentgroup": "True",
         "hovertemplate": "name=%{x}<br>rank=%{y}<extra></extra>",
         "legendgroup": "University of Arizona",
         "marker": {
          "color": "#B6E880",
          "pattern": {
           "shape": ""
          }
         },
         "name": "University of Arizona",
         "offsetgroup": "University of Arizona",
         "orientation": "v",
         "showlegend": true,
         "textposition": "auto",
         "texttemplate": "%{y}",
         "type": "bar",
         "x": [
          "University of Arizona"
         ],
         "xaxis": "x",
         "y": [
          124
         ],
         "yaxis": "y"
        },
        {
         "alignmentgroup": "True",
         "hovertemplate": "name=%{x}<br>rank=%{y}<extra></extra>",
         "legendgroup": "Arizona State University--Tempe",
         "marker": {
          "color": "#FF97FF",
          "pattern": {
           "shape": ""
          }
         },
         "name": "Arizona State University--Tempe",
         "offsetgroup": "Arizona State University--Tempe",
         "orientation": "v",
         "showlegend": true,
         "textposition": "auto",
         "texttemplate": "%{y}",
         "type": "bar",
         "x": [
          "Arizona State University--Tempe"
         ],
         "xaxis": "x",
         "y": [
          129
         ],
         "yaxis": "y"
        },
        {
         "alignmentgroup": "True",
         "hovertemplate": "name=%{x}<br>rank=%{y}<extra></extra>",
         "legendgroup": "Clarkson University",
         "marker": {
          "color": "#FECB52",
          "pattern": {
           "shape": ""
          }
         },
         "name": "Clarkson University",
         "offsetgroup": "Clarkson University",
         "orientation": "v",
         "showlegend": true,
         "textposition": "auto",
         "texttemplate": "%{y}",
         "type": "bar",
         "x": [
          "Clarkson University"
         ],
         "xaxis": "x",
         "y": [
          129
         ],
         "yaxis": "y"
        },
        {
         "alignmentgroup": "True",
         "hovertemplate": "name=%{x}<br>rank=%{y}<extra></extra>",
         "legendgroup": "Colorado State University",
         "marker": {
          "color": "#636efa",
          "pattern": {
           "shape": ""
          }
         },
         "name": "Colorado State University",
         "offsetgroup": "Colorado State University",
         "orientation": "v",
         "showlegend": true,
         "textposition": "auto",
         "texttemplate": "%{y}",
         "type": "bar",
         "x": [
          "Colorado State University"
         ],
         "xaxis": "x",
         "y": [
          129
         ],
         "yaxis": "y"
        },
        {
         "alignmentgroup": "True",
         "hovertemplate": "name=%{x}<br>rank=%{y}<extra></extra>",
         "legendgroup": "New School",
         "marker": {
          "color": "#EF553B",
          "pattern": {
           "shape": ""
          }
         },
         "name": "New School",
         "offsetgroup": "New School",
         "orientation": "v",
         "showlegend": true,
         "textposition": "auto",
         "texttemplate": "%{y}",
         "type": "bar",
         "x": [
          "New School"
         ],
         "xaxis": "x",
         "y": [
          129
         ],
         "yaxis": "y"
        },
        {
         "alignmentgroup": "True",
         "hovertemplate": "name=%{x}<br>rank=%{y}<extra></extra>",
         "legendgroup": "Hofstra University",
         "marker": {
          "color": "#00cc96",
          "pattern": {
           "shape": ""
          }
         },
         "name": "Hofstra University",
         "offsetgroup": "Hofstra University",
         "orientation": "v",
         "showlegend": true,
         "textposition": "auto",
         "texttemplate": "%{y}",
         "type": "bar",
         "x": [
          "Hofstra University"
         ],
         "xaxis": "x",
         "y": [
          133
         ],
         "yaxis": "y"
        },
        {
         "alignmentgroup": "True",
         "hovertemplate": "name=%{x}<br>rank=%{y}<extra></extra>",
         "legendgroup": "University of Kentucky",
         "marker": {
          "color": "#ab63fa",
          "pattern": {
           "shape": ""
          }
         },
         "name": "University of Kentucky",
         "offsetgroup": "University of Kentucky",
         "orientation": "v",
         "showlegend": true,
         "textposition": "auto",
         "texttemplate": "%{y}",
         "type": "bar",
         "x": [
          "University of Kentucky"
         ],
         "xaxis": "x",
         "y": [
          133
         ],
         "yaxis": "y"
        },
        {
         "alignmentgroup": "True",
         "hovertemplate": "name=%{x}<br>rank=%{y}<extra></extra>",
         "legendgroup": "Kansas State University",
         "marker": {
          "color": "#FFA15A",
          "pattern": {
           "shape": ""
          }
         },
         "name": "Kansas State University",
         "offsetgroup": "Kansas State University",
         "orientation": "v",
         "showlegend": true,
         "textposition": "auto",
         "texttemplate": "%{y}",
         "type": "bar",
         "x": [
          "Kansas State University"
         ],
         "xaxis": "x",
         "y": [
          135
         ],
         "yaxis": "y"
        },
        {
         "alignmentgroup": "True",
         "hovertemplate": "name=%{x}<br>rank=%{y}<extra></extra>",
         "legendgroup": "Louisiana State University--Baton Rouge",
         "marker": {
          "color": "#19d3f3",
          "pattern": {
           "shape": ""
          }
         },
         "name": "Louisiana State University--Baton Rouge",
         "offsetgroup": "Louisiana State University--Baton Rouge",
         "orientation": "v",
         "showlegend": true,
         "textposition": "auto",
         "texttemplate": "%{y}",
         "type": "bar",
         "x": [
          "Louisiana State University--Baton Rouge"
         ],
         "xaxis": "x",
         "y": [
          135
         ],
         "yaxis": "y"
        },
        {
         "alignmentgroup": "True",
         "hovertemplate": "name=%{x}<br>rank=%{y}<extra></extra>",
         "legendgroup": "Mercer University",
         "marker": {
          "color": "#FF6692",
          "pattern": {
           "shape": ""
          }
         },
         "name": "Mercer University",
         "offsetgroup": "Mercer University",
         "orientation": "v",
         "showlegend": true,
         "textposition": "auto",
         "texttemplate": "%{y}",
         "type": "bar",
         "x": [
          "Mercer University"
         ],
         "xaxis": "x",
         "y": [
          135
         ],
         "yaxis": "y"
        },
        {
         "alignmentgroup": "True",
         "hovertemplate": "name=%{x}<br>rank=%{y}<extra></extra>",
         "legendgroup": "New Jersey Institute of Technology",
         "marker": {
          "color": "#B6E880",
          "pattern": {
           "shape": ""
          }
         },
         "name": "New Jersey Institute of Technology",
         "offsetgroup": "New Jersey Institute of Technology",
         "orientation": "v",
         "showlegend": true,
         "textposition": "auto",
         "texttemplate": "%{y}",
         "type": "bar",
         "x": [
          "New Jersey Institute of Technology"
         ],
         "xaxis": "x",
         "y": [
          135
         ],
         "yaxis": "y"
        },
        {
         "alignmentgroup": "True",
         "hovertemplate": "name=%{x}<br>rank=%{y}<extra></extra>",
         "legendgroup": "Rutgers University--Newark",
         "marker": {
          "color": "#FF97FF",
          "pattern": {
           "shape": ""
          }
         },
         "name": "Rutgers University--Newark",
         "offsetgroup": "Rutgers University--Newark",
         "orientation": "v",
         "showlegend": true,
         "textposition": "auto",
         "texttemplate": "%{y}",
         "type": "bar",
         "x": [
          "Rutgers University--Newark"
         ],
         "xaxis": "x",
         "y": [
          135
         ],
         "yaxis": "y"
        },
        {
         "alignmentgroup": "True",
         "hovertemplate": "name=%{x}<br>rank=%{y}<extra></extra>",
         "legendgroup": "University of Arkansas",
         "marker": {
          "color": "#FECB52",
          "pattern": {
           "shape": ""
          }
         },
         "name": "University of Arkansas",
         "offsetgroup": "University of Arkansas",
         "orientation": "v",
         "showlegend": true,
         "textposition": "auto",
         "texttemplate": "%{y}",
         "type": "bar",
         "x": [
          "University of Arkansas"
         ],
         "xaxis": "x",
         "y": [
          135
         ],
         "yaxis": "y"
        },
        {
         "alignmentgroup": "True",
         "hovertemplate": "name=%{x}<br>rank=%{y}<extra></extra>",
         "legendgroup": "University of Cincinnati",
         "marker": {
          "color": "#636efa",
          "pattern": {
           "shape": ""
          }
         },
         "name": "University of Cincinnati",
         "offsetgroup": "University of Cincinnati",
         "orientation": "v",
         "showlegend": true,
         "textposition": "auto",
         "texttemplate": "%{y}",
         "type": "bar",
         "x": [
          "University of Cincinnati"
         ],
         "xaxis": "x",
         "y": [
          135
         ],
         "yaxis": "y"
        },
        {
         "alignmentgroup": "True",
         "hovertemplate": "name=%{x}<br>rank=%{y}<extra></extra>",
         "legendgroup": "University of Mississippi",
         "marker": {
          "color": "#EF553B",
          "pattern": {
           "shape": ""
          }
         },
         "name": "University of Mississippi",
         "offsetgroup": "University of Mississippi",
         "orientation": "v",
         "showlegend": true,
         "textposition": "auto",
         "texttemplate": "%{y}",
         "type": "bar",
         "x": [
          "University of Mississippi"
         ],
         "xaxis": "x",
         "y": [
          135
         ],
         "yaxis": "y"
        },
        {
         "alignmentgroup": "True",
         "hovertemplate": "name=%{x}<br>rank=%{y}<extra></extra>",
         "legendgroup": "George Mason University",
         "marker": {
          "color": "#00cc96",
          "pattern": {
           "shape": ""
          }
         },
         "name": "George Mason University",
         "offsetgroup": "George Mason University",
         "orientation": "v",
         "showlegend": true,
         "textposition": "auto",
         "texttemplate": "%{y}",
         "type": "bar",
         "x": [
          "George Mason University"
         ],
         "xaxis": "x",
         "y": [
          143
         ],
         "yaxis": "y"
        },
        {
         "alignmentgroup": "True",
         "hovertemplate": "name=%{x}<br>rank=%{y}<extra></extra>",
         "legendgroup": "Oregon State University",
         "marker": {
          "color": "#ab63fa",
          "pattern": {
           "shape": ""
          }
         },
         "name": "Oregon State University",
         "offsetgroup": "Oregon State University",
         "orientation": "v",
         "showlegend": true,
         "textposition": "auto",
         "texttemplate": "%{y}",
         "type": "bar",
         "x": [
          "Oregon State University"
         ],
         "xaxis": "x",
         "y": [
          143
         ],
         "yaxis": "y"
        },
        {
         "alignmentgroup": "True",
         "hovertemplate": "name=%{x}<br>rank=%{y}<extra></extra>",
         "legendgroup": "Washington State University",
         "marker": {
          "color": "#FFA15A",
          "pattern": {
           "shape": ""
          }
         },
         "name": "Washington State University",
         "offsetgroup": "Washington State University",
         "orientation": "v",
         "showlegend": true,
         "textposition": "auto",
         "texttemplate": "%{y}",
         "type": "bar",
         "x": [
          "Washington State University"
         ],
         "xaxis": "x",
         "y": [
          143
         ],
         "yaxis": "y"
        },
        {
         "alignmentgroup": "True",
         "hovertemplate": "name=%{x}<br>rank=%{y}<extra></extra>",
         "legendgroup": "Adelphi University",
         "marker": {
          "color": "#19d3f3",
          "pattern": {
           "shape": ""
          }
         },
         "name": "Adelphi University",
         "offsetgroup": "Adelphi University",
         "orientation": "v",
         "showlegend": true,
         "textposition": "auto",
         "texttemplate": "%{y}",
         "type": "bar",
         "x": [
          "Adelphi University"
         ],
         "xaxis": "x",
         "y": [
          146
         ],
         "yaxis": "y"
        },
        {
         "alignmentgroup": "True",
         "hovertemplate": "name=%{x}<br>rank=%{y}<extra></extra>",
         "legendgroup": "Ohio University",
         "marker": {
          "color": "#FF6692",
          "pattern": {
           "shape": ""
          }
         },
         "name": "Ohio University",
         "offsetgroup": "Ohio University",
         "orientation": "v",
         "showlegend": true,
         "textposition": "auto",
         "texttemplate": "%{y}",
         "type": "bar",
         "x": [
          "Ohio University"
         ],
         "xaxis": "x",
         "y": [
          146
         ],
         "yaxis": "y"
        },
        {
         "alignmentgroup": "True",
         "hovertemplate": "name=%{x}<br>rank=%{y}<extra></extra>",
         "legendgroup": "San Diego State University",
         "marker": {
          "color": "#B6E880",
          "pattern": {
           "shape": ""
          }
         },
         "name": "San Diego State University",
         "offsetgroup": "San Diego State University",
         "orientation": "v",
         "showlegend": true,
         "textposition": "auto",
         "texttemplate": "%{y}",
         "type": "bar",
         "x": [
          "San Diego State University"
         ],
         "xaxis": "x",
         "y": [
          146
         ],
         "yaxis": "y"
        },
        {
         "alignmentgroup": "True",
         "hovertemplate": "name=%{x}<br>rank=%{y}<extra></extra>",
         "legendgroup": "St. John Fisher College",
         "marker": {
          "color": "#FF97FF",
          "pattern": {
           "shape": ""
          }
         },
         "name": "St. John Fisher College",
         "offsetgroup": "St. John Fisher College",
         "orientation": "v",
         "showlegend": true,
         "textposition": "auto",
         "texttemplate": "%{y}",
         "type": "bar",
         "x": [
          "St. John Fisher College"
         ],
         "xaxis": "x",
         "y": [
          146
         ],
         "yaxis": "y"
        },
        {
         "alignmentgroup": "True",
         "hovertemplate": "name=%{x}<br>rank=%{y}<extra></extra>",
         "legendgroup": "University at Albany--SUNY",
         "marker": {
          "color": "#FECB52",
          "pattern": {
           "shape": ""
          }
         },
         "name": "University at Albany--SUNY",
         "offsetgroup": "University at Albany--SUNY",
         "orientation": "v",
         "showlegend": true,
         "textposition": "auto",
         "texttemplate": "%{y}",
         "type": "bar",
         "x": [
          "University at Albany--SUNY"
         ],
         "xaxis": "x",
         "y": [
          146
         ],
         "yaxis": "y"
        },
        {
         "alignmentgroup": "True",
         "hovertemplate": "name=%{x}<br>rank=%{y}<extra></extra>",
         "legendgroup": "University of Texas--Dallas",
         "marker": {
          "color": "#636efa",
          "pattern": {
           "shape": ""
          }
         },
         "name": "University of Texas--Dallas",
         "offsetgroup": "University of Texas--Dallas",
         "orientation": "v",
         "showlegend": true,
         "textposition": "auto",
         "texttemplate": "%{y}",
         "type": "bar",
         "x": [
          "University of Texas--Dallas"
         ],
         "xaxis": "x",
         "y": [
          146
         ],
         "yaxis": "y"
        },
        {
         "alignmentgroup": "True",
         "hovertemplate": "name=%{x}<br>rank=%{y}<extra></extra>",
         "legendgroup": "Illinois State University",
         "marker": {
          "color": "#EF553B",
          "pattern": {
           "shape": ""
          }
         },
         "name": "Illinois State University",
         "offsetgroup": "Illinois State University",
         "orientation": "v",
         "showlegend": true,
         "textposition": "auto",
         "texttemplate": "%{y}",
         "type": "bar",
         "x": [
          "Illinois State University"
         ],
         "xaxis": "x",
         "y": [
          152
         ],
         "yaxis": "y"
        },
        {
         "alignmentgroup": "True",
         "hovertemplate": "name=%{x}<br>rank=%{y}<extra></extra>",
         "legendgroup": "Immaculata University",
         "marker": {
          "color": "#00cc96",
          "pattern": {
           "shape": ""
          }
         },
         "name": "Immaculata University",
         "offsetgroup": "Immaculata University",
         "orientation": "v",
         "showlegend": true,
         "textposition": "auto",
         "texttemplate": "%{y}",
         "type": "bar",
         "x": [
          "Immaculata University"
         ],
         "xaxis": "x",
         "y": [
          152
         ],
         "yaxis": "y"
        },
        {
         "alignmentgroup": "True",
         "hovertemplate": "name=%{x}<br>rank=%{y}<extra></extra>",
         "legendgroup": "Oklahoma State University",
         "marker": {
          "color": "#ab63fa",
          "pattern": {
           "shape": ""
          }
         },
         "name": "Oklahoma State University",
         "offsetgroup": "Oklahoma State University",
         "orientation": "v",
         "showlegend": true,
         "textposition": "auto",
         "texttemplate": "%{y}",
         "type": "bar",
         "x": [
          "Oklahoma State University"
         ],
         "xaxis": "x",
         "y": [
          152
         ],
         "yaxis": "y"
        },
        {
         "alignmentgroup": "True",
         "hovertemplate": "name=%{x}<br>rank=%{y}<extra></extra>",
         "legendgroup": "University of California--Merced",
         "marker": {
          "color": "#FFA15A",
          "pattern": {
           "shape": ""
          }
         },
         "name": "University of California--Merced",
         "offsetgroup": "University of California--Merced",
         "orientation": "v",
         "showlegend": true,
         "textposition": "auto",
         "texttemplate": "%{y}",
         "type": "bar",
         "x": [
          "University of California--Merced"
         ],
         "xaxis": "x",
         "y": [
          152
         ],
         "yaxis": "y"
        },
        {
         "alignmentgroup": "True",
         "hovertemplate": "name=%{x}<br>rank=%{y}<extra></extra>",
         "legendgroup": "University of Illinois--Chicago",
         "marker": {
          "color": "#19d3f3",
          "pattern": {
           "shape": ""
          }
         },
         "name": "University of Illinois--Chicago",
         "offsetgroup": "University of Illinois--Chicago",
         "orientation": "v",
         "showlegend": true,
         "textposition": "auto",
         "texttemplate": "%{y}",
         "type": "bar",
         "x": [
          "University of Illinois--Chicago"
         ],
         "xaxis": "x",
         "y": [
          152
         ],
         "yaxis": "y"
        },
        {
         "alignmentgroup": "True",
         "hovertemplate": "name=%{x}<br>rank=%{y}<extra></extra>",
         "legendgroup": "University of La Verne",
         "marker": {
          "color": "#FF6692",
          "pattern": {
           "shape": ""
          }
         },
         "name": "University of La Verne",
         "offsetgroup": "University of La Verne",
         "orientation": "v",
         "showlegend": true,
         "textposition": "auto",
         "texttemplate": "%{y}",
         "type": "bar",
         "x": [
          "University of La Verne"
         ],
         "xaxis": "x",
         "y": [
          152
         ],
         "yaxis": "y"
        },
        {
         "alignmentgroup": "True",
         "hovertemplate": "name=%{x}<br>rank=%{y}<extra></extra>",
         "legendgroup": "University of Massachusetts--Lowell",
         "marker": {
          "color": "#B6E880",
          "pattern": {
           "shape": ""
          }
         },
         "name": "University of Massachusetts--Lowell",
         "offsetgroup": "University of Massachusetts--Lowell",
         "orientation": "v",
         "showlegend": true,
         "textposition": "auto",
         "texttemplate": "%{y}",
         "type": "bar",
         "x": [
          "University of Massachusetts--Lowell"
         ],
         "xaxis": "x",
         "y": [
          152
         ],
         "yaxis": "y"
        },
        {
         "alignmentgroup": "True",
         "hovertemplate": "name=%{x}<br>rank=%{y}<extra></extra>",
         "legendgroup": "Seattle Pacific University",
         "marker": {
          "color": "#FF97FF",
          "pattern": {
           "shape": ""
          }
         },
         "name": "Seattle Pacific University",
         "offsetgroup": "Seattle Pacific University",
         "orientation": "v",
         "showlegend": true,
         "textposition": "auto",
         "texttemplate": "%{y}",
         "type": "bar",
         "x": [
          "Seattle Pacific University"
         ],
         "xaxis": "x",
         "y": [
          159
         ],
         "yaxis": "y"
        },
        {
         "alignmentgroup": "True",
         "hovertemplate": "name=%{x}<br>rank=%{y}<extra></extra>",
         "legendgroup": "University of Alabama--Birmingham",
         "marker": {
          "color": "#FECB52",
          "pattern": {
           "shape": ""
          }
         },
         "name": "University of Alabama--Birmingham",
         "offsetgroup": "University of Alabama--Birmingham",
         "orientation": "v",
         "showlegend": true,
         "textposition": "auto",
         "texttemplate": "%{y}",
         "type": "bar",
         "x": [
          "University of Alabama--Birmingham"
         ],
         "xaxis": "x",
         "y": [
          159
         ],
         "yaxis": "y"
        },
        {
         "alignmentgroup": "True",
         "hovertemplate": "name=%{x}<br>rank=%{y}<extra></extra>",
         "legendgroup": "University of Maryland--Baltimore County",
         "marker": {
          "color": "#636efa",
          "pattern": {
           "shape": ""
          }
         },
         "name": "University of Maryland--Baltimore County",
         "offsetgroup": "University of Maryland--Baltimore County",
         "orientation": "v",
         "showlegend": true,
         "textposition": "auto",
         "texttemplate": "%{y}",
         "type": "bar",
         "x": [
          "University of Maryland--Baltimore County"
         ],
         "xaxis": "x",
         "y": [
          159
         ],
         "yaxis": "y"
        },
        {
         "alignmentgroup": "True",
         "hovertemplate": "name=%{x}<br>rank=%{y}<extra></extra>",
         "legendgroup": "University of Rhode Island",
         "marker": {
          "color": "#EF553B",
          "pattern": {
           "shape": ""
          }
         },
         "name": "University of Rhode Island",
         "offsetgroup": "University of Rhode Island",
         "orientation": "v",
         "showlegend": true,
         "textposition": "auto",
         "texttemplate": "%{y}",
         "type": "bar",
         "x": [
          "University of Rhode Island"
         ],
         "xaxis": "x",
         "y": [
          159
         ],
         "yaxis": "y"
        },
        {
         "alignmentgroup": "True",
         "hovertemplate": "name=%{x}<br>rank=%{y}<extra></extra>",
         "legendgroup": "University of South Florida",
         "marker": {
          "color": "#00cc96",
          "pattern": {
           "shape": ""
          }
         },
         "name": "University of South Florida",
         "offsetgroup": "University of South Florida",
         "orientation": "v",
         "showlegend": true,
         "textposition": "auto",
         "texttemplate": "%{y}",
         "type": "bar",
         "x": [
          "University of South Florida"
         ],
         "xaxis": "x",
         "y": [
          159
         ],
         "yaxis": "y"
        },
        {
         "alignmentgroup": "True",
         "hovertemplate": "name=%{x}<br>rank=%{y}<extra></extra>",
         "legendgroup": "Biola University",
         "marker": {
          "color": "#ab63fa",
          "pattern": {
           "shape": ""
          }
         },
         "name": "Biola University",
         "offsetgroup": "Biola University",
         "orientation": "v",
         "showlegend": true,
         "textposition": "auto",
         "texttemplate": "%{y}",
         "type": "bar",
         "x": [
          "Biola University"
         ],
         "xaxis": "x",
         "y": [
          164
         ],
         "yaxis": "y"
        },
        {
         "alignmentgroup": "True",
         "hovertemplate": "name=%{x}<br>rank=%{y}<extra></extra>",
         "legendgroup": "Maryville University of St. Louis",
         "marker": {
          "color": "#FFA15A",
          "pattern": {
           "shape": ""
          }
         },
         "name": "Maryville University of St. Louis",
         "offsetgroup": "Maryville University of St. Louis",
         "orientation": "v",
         "showlegend": true,
         "textposition": "auto",
         "texttemplate": "%{y}",
         "type": "bar",
         "x": [
          "Maryville University of St. Louis"
         ],
         "xaxis": "x",
         "y": [
          164
         ],
         "yaxis": "y"
        },
        {
         "alignmentgroup": "True",
         "hovertemplate": "name=%{x}<br>rank=%{y}<extra></extra>",
         "legendgroup": "Missouri University of Science & Technology",
         "marker": {
          "color": "#19d3f3",
          "pattern": {
           "shape": ""
          }
         },
         "name": "Missouri University of Science & Technology",
         "offsetgroup": "Missouri University of Science & Technology",
         "orientation": "v",
         "showlegend": true,
         "textposition": "auto",
         "texttemplate": "%{y}",
         "type": "bar",
         "x": [
          "Missouri University of Science & Technology"
         ],
         "xaxis": "x",
         "y": [
          164
         ],
         "yaxis": "y"
        },
        {
         "alignmentgroup": "True",
         "hovertemplate": "name=%{x}<br>rank=%{y}<extra></extra>",
         "legendgroup": "St. John's University",
         "marker": {
          "color": "#FF6692",
          "pattern": {
           "shape": ""
          }
         },
         "name": "St. John's University",
         "offsetgroup": "St. John's University",
         "orientation": "v",
         "showlegend": true,
         "textposition": "auto",
         "texttemplate": "%{y}",
         "type": "bar",
         "x": [
          "St. John's University"
         ],
         "xaxis": "x",
         "y": [
          164
         ],
         "yaxis": "y"
        },
        {
         "alignmentgroup": "True",
         "hovertemplate": "name=%{x}<br>rank=%{y}<extra></extra>",
         "legendgroup": "Virginia Commonwealth University",
         "marker": {
          "color": "#B6E880",
          "pattern": {
           "shape": ""
          }
         },
         "name": "Virginia Commonwealth University",
         "offsetgroup": "Virginia Commonwealth University",
         "orientation": "v",
         "showlegend": true,
         "textposition": "auto",
         "texttemplate": "%{y}",
         "type": "bar",
         "x": [
          "Virginia Commonwealth University"
         ],
         "xaxis": "x",
         "y": [
          164
         ],
         "yaxis": "y"
        },
        {
         "alignmentgroup": "True",
         "hovertemplate": "name=%{x}<br>rank=%{y}<extra></extra>",
         "legendgroup": "Union University",
         "marker": {
          "color": "#FF97FF",
          "pattern": {
           "shape": ""
          }
         },
         "name": "Union University",
         "offsetgroup": "Union University",
         "orientation": "v",
         "showlegend": true,
         "textposition": "auto",
         "texttemplate": "%{y}",
         "type": "bar",
         "x": [
          "Union University"
         ],
         "xaxis": "x",
         "y": [
          169
         ],
         "yaxis": "y"
        },
        {
         "alignmentgroup": "True",
         "hovertemplate": "name=%{x}<br>rank=%{y}<extra></extra>",
         "legendgroup": "University of Hawaii--Manoa",
         "marker": {
          "color": "#FECB52",
          "pattern": {
           "shape": ""
          }
         },
         "name": "University of Hawaii--Manoa",
         "offsetgroup": "University of Hawaii--Manoa",
         "orientation": "v",
         "showlegend": true,
         "textposition": "auto",
         "texttemplate": "%{y}",
         "type": "bar",
         "x": [
          "University of Hawaii--Manoa"
         ],
         "xaxis": "x",
         "y": [
          169
         ],
         "yaxis": "y"
        },
        {
         "alignmentgroup": "True",
         "hovertemplate": "name=%{x}<br>rank=%{y}<extra></extra>",
         "legendgroup": "Edgewood College",
         "marker": {
          "color": "#636efa",
          "pattern": {
           "shape": ""
          }
         },
         "name": "Edgewood College",
         "offsetgroup": "Edgewood College",
         "orientation": "v",
         "showlegend": true,
         "textposition": "auto",
         "texttemplate": "%{y}",
         "type": "bar",
         "x": [
          "Edgewood College"
         ],
         "xaxis": "x",
         "y": [
          171
         ],
         "yaxis": "y"
        },
        {
         "alignmentgroup": "True",
         "hovertemplate": "name=%{x}<br>rank=%{y}<extra></extra>",
         "legendgroup": "Florida Institute of Technology",
         "marker": {
          "color": "#EF553B",
          "pattern": {
           "shape": ""
          }
         },
         "name": "Florida Institute of Technology",
         "offsetgroup": "Florida Institute of Technology",
         "orientation": "v",
         "showlegend": true,
         "textposition": "auto",
         "texttemplate": "%{y}",
         "type": "bar",
         "x": [
          "Florida Institute of Technology"
         ],
         "xaxis": "x",
         "y": [
          171
         ],
         "yaxis": "y"
        },
        {
         "alignmentgroup": "True",
         "hovertemplate": "name=%{x}<br>rank=%{y}<extra></extra>",
         "legendgroup": "University of Idaho",
         "marker": {
          "color": "#00cc96",
          "pattern": {
           "shape": ""
          }
         },
         "name": "University of Idaho",
         "offsetgroup": "University of Idaho",
         "orientation": "v",
         "showlegend": true,
         "textposition": "auto",
         "texttemplate": "%{y}",
         "type": "bar",
         "x": [
          "University of Idaho"
         ],
         "xaxis": "x",
         "y": [
          171
         ],
         "yaxis": "y"
        },
        {
         "alignmentgroup": "True",
         "hovertemplate": "name=%{x}<br>rank=%{y}<extra></extra>",
         "legendgroup": "University of Louisville",
         "marker": {
          "color": "#ab63fa",
          "pattern": {
           "shape": ""
          }
         },
         "name": "University of Louisville",
         "offsetgroup": "University of Louisville",
         "orientation": "v",
         "showlegend": true,
         "textposition": "auto",
         "texttemplate": "%{y}",
         "type": "bar",
         "x": [
          "University of Louisville"
         ],
         "xaxis": "x",
         "y": [
          171
         ],
         "yaxis": "y"
        },
        {
         "alignmentgroup": "True",
         "hovertemplate": "name=%{x}<br>rank=%{y}<extra></extra>",
         "legendgroup": "University of Wyoming",
         "marker": {
          "color": "#FFA15A",
          "pattern": {
           "shape": ""
          }
         },
         "name": "University of Wyoming",
         "offsetgroup": "University of Wyoming",
         "orientation": "v",
         "showlegend": true,
         "textposition": "auto",
         "texttemplate": "%{y}",
         "type": "bar",
         "x": [
          "University of Wyoming"
         ],
         "xaxis": "x",
         "y": [
          171
         ],
         "yaxis": "y"
        },
        {
         "alignmentgroup": "True",
         "hovertemplate": "name=%{x}<br>rank=%{y}<extra></extra>",
         "legendgroup": "Ball State University",
         "marker": {
          "color": "#19d3f3",
          "pattern": {
           "shape": ""
          }
         },
         "name": "Ball State University",
         "offsetgroup": "Ball State University",
         "orientation": "v",
         "showlegend": true,
         "textposition": "auto",
         "texttemplate": "%{y}",
         "type": "bar",
         "x": [
          "Ball State University"
         ],
         "xaxis": "x",
         "y": [
          176
         ],
         "yaxis": "y"
        },
        {
         "alignmentgroup": "True",
         "hovertemplate": "name=%{x}<br>rank=%{y}<extra></extra>",
         "legendgroup": "Lipscomb University",
         "marker": {
          "color": "#FF6692",
          "pattern": {
           "shape": ""
          }
         },
         "name": "Lipscomb University",
         "offsetgroup": "Lipscomb University",
         "orientation": "v",
         "showlegend": true,
         "textposition": "auto",
         "texttemplate": "%{y}",
         "type": "bar",
         "x": [
          "Lipscomb University"
         ],
         "xaxis": "x",
         "y": [
          176
         ],
         "yaxis": "y"
        },
        {
         "alignmentgroup": "True",
         "hovertemplate": "name=%{x}<br>rank=%{y}<extra></extra>",
         "legendgroup": "Mississippi State University",
         "marker": {
          "color": "#B6E880",
          "pattern": {
           "shape": ""
          }
         },
         "name": "Mississippi State University",
         "offsetgroup": "Mississippi State University",
         "orientation": "v",
         "showlegend": true,
         "textposition": "auto",
         "texttemplate": "%{y}",
         "type": "bar",
         "x": [
          "Mississippi State University"
         ],
         "xaxis": "x",
         "y": [
          176
         ],
         "yaxis": "y"
        },
        {
         "alignmentgroup": "True",
         "hovertemplate": "name=%{x}<br>rank=%{y}<extra></extra>",
         "legendgroup": "Montclair State University",
         "marker": {
          "color": "#FF97FF",
          "pattern": {
           "shape": ""
          }
         },
         "name": "Montclair State University",
         "offsetgroup": "Montclair State University",
         "orientation": "v",
         "showlegend": true,
         "textposition": "auto",
         "texttemplate": "%{y}",
         "type": "bar",
         "x": [
          "Montclair State University"
         ],
         "xaxis": "x",
         "y": [
          176
         ],
         "yaxis": "y"
        },
        {
         "alignmentgroup": "True",
         "hovertemplate": "name=%{x}<br>rank=%{y}<extra></extra>",
         "legendgroup": "Texas Tech University",
         "marker": {
          "color": "#FECB52",
          "pattern": {
           "shape": ""
          }
         },
         "name": "Texas Tech University",
         "offsetgroup": "Texas Tech University",
         "orientation": "v",
         "showlegend": true,
         "textposition": "auto",
         "texttemplate": "%{y}",
         "type": "bar",
         "x": [
          "Texas Tech University"
         ],
         "xaxis": "x",
         "y": [
          176
         ],
         "yaxis": "y"
        },
        {
         "alignmentgroup": "True",
         "hovertemplate": "name=%{x}<br>rank=%{y}<extra></extra>",
         "legendgroup": "University of Central Florida",
         "marker": {
          "color": "#636efa",
          "pattern": {
           "shape": ""
          }
         },
         "name": "University of Central Florida",
         "offsetgroup": "University of Central Florida",
         "orientation": "v",
         "showlegend": true,
         "textposition": "auto",
         "texttemplate": "%{y}",
         "type": "bar",
         "x": [
          "University of Central Florida"
         ],
         "xaxis": "x",
         "y": [
          176
         ],
         "yaxis": "y"
        },
        {
         "alignmentgroup": "True",
         "hovertemplate": "name=%{x}<br>rank=%{y}<extra></extra>",
         "legendgroup": "University of New Mexico",
         "marker": {
          "color": "#EF553B",
          "pattern": {
           "shape": ""
          }
         },
         "name": "University of New Mexico",
         "offsetgroup": "University of New Mexico",
         "orientation": "v",
         "showlegend": true,
         "textposition": "auto",
         "texttemplate": "%{y}",
         "type": "bar",
         "x": [
          "University of New Mexico"
         ],
         "xaxis": "x",
         "y": [
          176
         ],
         "yaxis": "y"
        },
        {
         "alignmentgroup": "True",
         "hovertemplate": "name=%{x}<br>rank=%{y}<extra></extra>",
         "legendgroup": "Andrews University",
         "marker": {
          "color": "#00cc96",
          "pattern": {
           "shape": ""
          }
         },
         "name": "Andrews University",
         "offsetgroup": "Andrews University",
         "orientation": "v",
         "showlegend": true,
         "textposition": "auto",
         "texttemplate": "%{y}",
         "type": "bar",
         "x": [
          "Andrews University"
         ],
         "xaxis": "x",
         "y": [
          183
         ],
         "yaxis": "y"
        },
        {
         "alignmentgroup": "True",
         "hovertemplate": "name=%{x}<br>rank=%{y}<extra></extra>",
         "legendgroup": "Azusa Pacific University",
         "marker": {
          "color": "#ab63fa",
          "pattern": {
           "shape": ""
          }
         },
         "name": "Azusa Pacific University",
         "offsetgroup": "Azusa Pacific University",
         "orientation": "v",
         "showlegend": true,
         "textposition": "auto",
         "texttemplate": "%{y}",
         "type": "bar",
         "x": [
          "Azusa Pacific University"
         ],
         "xaxis": "x",
         "y": [
          183
         ],
         "yaxis": "y"
        },
        {
         "alignmentgroup": "True",
         "hovertemplate": "name=%{x}<br>rank=%{y}<extra></extra>",
         "legendgroup": "University of Maine",
         "marker": {
          "color": "#FFA15A",
          "pattern": {
           "shape": ""
          }
         },
         "name": "University of Maine",
         "offsetgroup": "University of Maine",
         "orientation": "v",
         "showlegend": true,
         "textposition": "auto",
         "texttemplate": "%{y}",
         "type": "bar",
         "x": [
          "University of Maine"
         ],
         "xaxis": "x",
         "y": [
          183
         ],
         "yaxis": "y"
        },
        {
         "alignmentgroup": "True",
         "hovertemplate": "name=%{x}<br>rank=%{y}<extra></extra>",
         "legendgroup": "West Virginia University",
         "marker": {
          "color": "#19d3f3",
          "pattern": {
           "shape": ""
          }
         },
         "name": "West Virginia University",
         "offsetgroup": "West Virginia University",
         "orientation": "v",
         "showlegend": true,
         "textposition": "auto",
         "texttemplate": "%{y}",
         "type": "bar",
         "x": [
          "West Virginia University"
         ],
         "xaxis": "x",
         "y": [
          183
         ],
         "yaxis": "y"
        },
        {
         "alignmentgroup": "True",
         "hovertemplate": "name=%{x}<br>rank=%{y}<extra></extra>",
         "legendgroup": "Widener University",
         "marker": {
          "color": "#FF6692",
          "pattern": {
           "shape": ""
          }
         },
         "name": "Widener University",
         "offsetgroup": "Widener University",
         "orientation": "v",
         "showlegend": true,
         "textposition": "auto",
         "texttemplate": "%{y}",
         "type": "bar",
         "x": [
          "Widener University"
         ],
         "xaxis": "x",
         "y": [
          183
         ],
         "yaxis": "y"
        },
        {
         "alignmentgroup": "True",
         "hovertemplate": "name=%{x}<br>rank=%{y}<extra></extra>",
         "legendgroup": "Kent State University",
         "marker": {
          "color": "#B6E880",
          "pattern": {
           "shape": ""
          }
         },
         "name": "Kent State University",
         "offsetgroup": "Kent State University",
         "orientation": "v",
         "showlegend": true,
         "textposition": "auto",
         "texttemplate": "%{y}",
         "type": "bar",
         "x": [
          "Kent State University"
         ],
         "xaxis": "x",
         "y": [
          188
         ],
         "yaxis": "y"
        },
        {
         "alignmentgroup": "True",
         "hovertemplate": "name=%{x}<br>rank=%{y}<extra></extra>",
         "legendgroup": "North Dakota State University",
         "marker": {
          "color": "#FF97FF",
          "pattern": {
           "shape": ""
          }
         },
         "name": "North Dakota State University",
         "offsetgroup": "North Dakota State University",
         "orientation": "v",
         "showlegend": true,
         "textposition": "auto",
         "texttemplate": "%{y}",
         "type": "bar",
         "x": [
          "North Dakota State University"
         ],
         "xaxis": "x",
         "y": [
          188
         ],
         "yaxis": "y"
        },
        {
         "alignmentgroup": "True",
         "hovertemplate": "name=%{x}<br>rank=%{y}<extra></extra>",
         "legendgroup": "Pace University",
         "marker": {
          "color": "#FECB52",
          "pattern": {
           "shape": ""
          }
         },
         "name": "Pace University",
         "offsetgroup": "Pace University",
         "orientation": "v",
         "showlegend": true,
         "textposition": "auto",
         "texttemplate": "%{y}",
         "type": "bar",
         "x": [
          "Pace University"
         ],
         "xaxis": "x",
         "y": [
          188
         ],
         "yaxis": "y"
        },
        {
         "alignmentgroup": "True",
         "hovertemplate": "name=%{x}<br>rank=%{y}<extra></extra>",
         "legendgroup": "Robert Morris University",
         "marker": {
          "color": "#636efa",
          "pattern": {
           "shape": ""
          }
         },
         "name": "Robert Morris University",
         "offsetgroup": "Robert Morris University",
         "orientation": "v",
         "showlegend": true,
         "textposition": "auto",
         "texttemplate": "%{y}",
         "type": "bar",
         "x": [
          "Robert Morris University"
         ],
         "xaxis": "x",
         "y": [
          188
         ],
         "yaxis": "y"
        },
        {
         "alignmentgroup": "True",
         "hovertemplate": "name=%{x}<br>rank=%{y}<extra></extra>",
         "legendgroup": "Suffolk University",
         "marker": {
          "color": "#EF553B",
          "pattern": {
           "shape": ""
          }
         },
         "name": "Suffolk University",
         "offsetgroup": "Suffolk University",
         "orientation": "v",
         "showlegend": true,
         "textposition": "auto",
         "texttemplate": "%{y}",
         "type": "bar",
         "x": [
          "Suffolk University"
         ],
         "xaxis": "x",
         "y": [
          188
         ],
         "yaxis": "y"
        },
        {
         "alignmentgroup": "True",
         "hovertemplate": "name=%{x}<br>rank=%{y}<extra></extra>",
         "legendgroup": "University of Hartford",
         "marker": {
          "color": "#00cc96",
          "pattern": {
           "shape": ""
          }
         },
         "name": "University of Hartford",
         "offsetgroup": "University of Hartford",
         "orientation": "v",
         "showlegend": true,
         "textposition": "auto",
         "texttemplate": "%{y}",
         "type": "bar",
         "x": [
          "University of Hartford"
         ],
         "xaxis": "x",
         "y": [
          188
         ],
         "yaxis": "y"
        },
        {
         "alignmentgroup": "True",
         "hovertemplate": "name=%{x}<br>rank=%{y}<extra></extra>",
         "legendgroup": "Bowling Green State University",
         "marker": {
          "color": "#ab63fa",
          "pattern": {
           "shape": ""
          }
         },
         "name": "Bowling Green State University",
         "offsetgroup": "Bowling Green State University",
         "orientation": "v",
         "showlegend": true,
         "textposition": "auto",
         "texttemplate": "%{y}",
         "type": "bar",
         "x": [
          "Bowling Green State University"
         ],
         "xaxis": "x",
         "y": [
          194
         ],
         "yaxis": "y"
        },
        {
         "alignmentgroup": "True",
         "hovertemplate": "name=%{x}<br>rank=%{y}<extra></extra>",
         "legendgroup": "University of Houston",
         "marker": {
          "color": "#FFA15A",
          "pattern": {
           "shape": ""
          }
         },
         "name": "University of Houston",
         "offsetgroup": "University of Houston",
         "orientation": "v",
         "showlegend": true,
         "textposition": "auto",
         "texttemplate": "%{y}",
         "type": "bar",
         "x": [
          "University of Houston"
         ],
         "xaxis": "x",
         "y": [
          194
         ],
         "yaxis": "y"
        },
        {
         "alignmentgroup": "True",
         "hovertemplate": "name=%{x}<br>rank=%{y}<extra></extra>",
         "legendgroup": "Western Michigan University",
         "marker": {
          "color": "#19d3f3",
          "pattern": {
           "shape": ""
          }
         },
         "name": "Western Michigan University",
         "offsetgroup": "Western Michigan University",
         "orientation": "v",
         "showlegend": true,
         "textposition": "auto",
         "texttemplate": "%{y}",
         "type": "bar",
         "x": [
          "Western Michigan University"
         ],
         "xaxis": "x",
         "y": [
          194
         ],
         "yaxis": "y"
        },
        {
         "alignmentgroup": "True",
         "hovertemplate": "name=%{x}<br>rank=%{y}<extra></extra>",
         "legendgroup": "Indiana University-Purdue University--Indianapolis",
         "marker": {
          "color": "#FF6692",
          "pattern": {
           "shape": ""
          }
         },
         "name": "Indiana University-Purdue University--Indianapolis",
         "offsetgroup": "Indiana University-Purdue University--Indianapolis",
         "orientation": "v",
         "showlegend": true,
         "textposition": "auto",
         "texttemplate": "%{y}",
         "type": "bar",
         "x": [
          "Indiana University-Purdue University--Indianapolis"
         ],
         "xaxis": "x",
         "y": [
          197
         ],
         "yaxis": "y"
        },
        {
         "alignmentgroup": "True",
         "hovertemplate": "name=%{x}<br>rank=%{y}<extra></extra>",
         "legendgroup": "Lesley University",
         "marker": {
          "color": "#B6E880",
          "pattern": {
           "shape": ""
          }
         },
         "name": "Lesley University",
         "offsetgroup": "Lesley University",
         "orientation": "v",
         "showlegend": true,
         "textposition": "auto",
         "texttemplate": "%{y}",
         "type": "bar",
         "x": [
          "Lesley University"
         ],
         "xaxis": "x",
         "y": [
          197
         ],
         "yaxis": "y"
        },
        {
         "alignmentgroup": "True",
         "hovertemplate": "name=%{x}<br>rank=%{y}<extra></extra>",
         "legendgroup": "University of Alabama--Huntsville",
         "marker": {
          "color": "#FF97FF",
          "pattern": {
           "shape": ""
          }
         },
         "name": "University of Alabama--Huntsville",
         "offsetgroup": "University of Alabama--Huntsville",
         "orientation": "v",
         "showlegend": true,
         "textposition": "auto",
         "texttemplate": "%{y}",
         "type": "bar",
         "x": [
          "University of Alabama--Huntsville"
         ],
         "xaxis": "x",
         "y": [
          197
         ],
         "yaxis": "y"
        },
        {
         "alignmentgroup": "True",
         "hovertemplate": "name=%{x}<br>rank=%{y}<extra></extra>",
         "legendgroup": "University of Colorado--Denver",
         "marker": {
          "color": "#FECB52",
          "pattern": {
           "shape": ""
          }
         },
         "name": "University of Colorado--Denver",
         "offsetgroup": "University of Colorado--Denver",
         "orientation": "v",
         "showlegend": true,
         "textposition": "auto",
         "texttemplate": "%{y}",
         "type": "bar",
         "x": [
          "University of Colorado--Denver"
         ],
         "xaxis": "x",
         "y": [
          197
         ],
         "yaxis": "y"
        },
        {
         "alignmentgroup": "True",
         "hovertemplate": "name=%{x}<br>rank=%{y}<extra></extra>",
         "legendgroup": "University of Nevada--Reno",
         "marker": {
          "color": "#636efa",
          "pattern": {
           "shape": ""
          }
         },
         "name": "University of Nevada--Reno",
         "offsetgroup": "University of Nevada--Reno",
         "orientation": "v",
         "showlegend": true,
         "textposition": "auto",
         "texttemplate": "%{y}",
         "type": "bar",
         "x": [
          "University of Nevada--Reno"
         ],
         "xaxis": "x",
         "y": [
          197
         ],
         "yaxis": "y"
        },
        {
         "alignmentgroup": "True",
         "hovertemplate": "name=%{x}<br>rank=%{y}<extra></extra>",
         "legendgroup": "California State University--Fullerton",
         "marker": {
          "color": "#EF553B",
          "pattern": {
           "shape": ""
          }
         },
         "name": "California State University--Fullerton",
         "offsetgroup": "California State University--Fullerton",
         "orientation": "v",
         "showlegend": true,
         "textposition": "auto",
         "texttemplate": "%{y}",
         "type": "bar",
         "x": [
          "California State University--Fullerton"
         ],
         "xaxis": "x",
         "y": [
          202
         ],
         "yaxis": "y"
        },
        {
         "alignmentgroup": "True",
         "hovertemplate": "name=%{x}<br>rank=%{y}<extra></extra>",
         "legendgroup": "Central Michigan University",
         "marker": {
          "color": "#00cc96",
          "pattern": {
           "shape": ""
          }
         },
         "name": "Central Michigan University",
         "offsetgroup": "Central Michigan University",
         "orientation": "v",
         "showlegend": true,
         "textposition": "auto",
         "texttemplate": "%{y}",
         "type": "bar",
         "x": [
          "Central Michigan University"
         ],
         "xaxis": "x",
         "y": [
          202
         ],
         "yaxis": "y"
        },
        {
         "alignmentgroup": "True",
         "hovertemplate": "name=%{x}<br>rank=%{y}<extra></extra>",
         "legendgroup": "Louisiana Tech University",
         "marker": {
          "color": "#ab63fa",
          "pattern": {
           "shape": ""
          }
         },
         "name": "Louisiana Tech University",
         "offsetgroup": "Louisiana Tech University",
         "orientation": "v",
         "showlegend": true,
         "textposition": "auto",
         "texttemplate": "%{y}",
         "type": "bar",
         "x": [
          "Louisiana Tech University"
         ],
         "xaxis": "x",
         "y": [
          202
         ],
         "yaxis": "y"
        },
        {
         "alignmentgroup": "True",
         "hovertemplate": "name=%{x}<br>rank=%{y}<extra></extra>",
         "legendgroup": "South Dakota State University",
         "marker": {
          "color": "#FFA15A",
          "pattern": {
           "shape": ""
          }
         },
         "name": "South Dakota State University",
         "offsetgroup": "South Dakota State University",
         "orientation": "v",
         "showlegend": true,
         "textposition": "auto",
         "texttemplate": "%{y}",
         "type": "bar",
         "x": [
          "South Dakota State University"
         ],
         "xaxis": "x",
         "y": [
          202
         ],
         "yaxis": "y"
        },
        {
         "alignmentgroup": "True",
         "hovertemplate": "name=%{x}<br>rank=%{y}<extra></extra>",
         "legendgroup": "University of Alaska--Fairbanks",
         "marker": {
          "color": "#19d3f3",
          "pattern": {
           "shape": ""
          }
         },
         "name": "University of Alaska--Fairbanks",
         "offsetgroup": "University of Alaska--Fairbanks",
         "orientation": "v",
         "showlegend": true,
         "textposition": "auto",
         "texttemplate": "%{y}",
         "type": "bar",
         "x": [
          "University of Alaska--Fairbanks"
         ],
         "xaxis": "x",
         "y": [
          202
         ],
         "yaxis": "y"
        },
        {
         "alignmentgroup": "True",
         "hovertemplate": "name=%{x}<br>rank=%{y}<extra></extra>",
         "legendgroup": "University of North Carolina--Charlotte",
         "marker": {
          "color": "#FF6692",
          "pattern": {
           "shape": ""
          }
         },
         "name": "University of North Carolina--Charlotte",
         "offsetgroup": "University of North Carolina--Charlotte",
         "orientation": "v",
         "showlegend": true,
         "textposition": "auto",
         "texttemplate": "%{y}",
         "type": "bar",
         "x": [
          "University of North Carolina--Charlotte"
         ],
         "xaxis": "x",
         "y": [
          202
         ],
         "yaxis": "y"
        },
        {
         "alignmentgroup": "True",
         "hovertemplate": "name=%{x}<br>rank=%{y}<extra></extra>",
         "legendgroup": "University of North Dakota",
         "marker": {
          "color": "#B6E880",
          "pattern": {
           "shape": ""
          }
         },
         "name": "University of North Dakota",
         "offsetgroup": "University of North Dakota",
         "orientation": "v",
         "showlegend": true,
         "textposition": "auto",
         "texttemplate": "%{y}",
         "type": "bar",
         "x": [
          "University of North Dakota"
         ],
         "xaxis": "x",
         "y": [
          202
         ],
         "yaxis": "y"
        },
        {
         "alignmentgroup": "True",
         "hovertemplate": "name=%{x}<br>rank=%{y}<extra></extra>",
         "legendgroup": "University of South Dakota",
         "marker": {
          "color": "#FF97FF",
          "pattern": {
           "shape": ""
          }
         },
         "name": "University of South Dakota",
         "offsetgroup": "University of South Dakota",
         "orientation": "v",
         "showlegend": true,
         "textposition": "auto",
         "texttemplate": "%{y}",
         "type": "bar",
         "x": [
          "University of South Dakota"
         ],
         "xaxis": "x",
         "y": [
          202
         ],
         "yaxis": "y"
        },
        {
         "alignmentgroup": "True",
         "hovertemplate": "name=%{x}<br>rank=%{y}<extra></extra>",
         "legendgroup": "East Carolina University",
         "marker": {
          "color": "#FECB52",
          "pattern": {
           "shape": ""
          }
         },
         "name": "East Carolina University",
         "offsetgroup": "East Carolina University",
         "orientation": "v",
         "showlegend": true,
         "textposition": "auto",
         "texttemplate": "%{y}",
         "type": "bar",
         "x": [
          "East Carolina University"
         ],
         "xaxis": "x",
         "y": [
          210
         ],
         "yaxis": "y"
        },
        {
         "alignmentgroup": "True",
         "hovertemplate": "name=%{x}<br>rank=%{y}<extra></extra>",
         "legendgroup": "Montana State University",
         "marker": {
          "color": "#636efa",
          "pattern": {
           "shape": ""
          }
         },
         "name": "Montana State University",
         "offsetgroup": "Montana State University",
         "orientation": "v",
         "showlegend": true,
         "textposition": "auto",
         "texttemplate": "%{y}",
         "type": "bar",
         "x": [
          "Montana State University"
         ],
         "xaxis": "x",
         "y": [
          210
         ],
         "yaxis": "y"
        },
        {
         "alignmentgroup": "True",
         "hovertemplate": "name=%{x}<br>rank=%{y}<extra></extra>",
         "legendgroup": "Old Dominion University",
         "marker": {
          "color": "#EF553B",
          "pattern": {
           "shape": ""
          }
         },
         "name": "Old Dominion University",
         "offsetgroup": "Old Dominion University",
         "orientation": "v",
         "showlegend": true,
         "textposition": "auto",
         "texttemplate": "%{y}",
         "type": "bar",
         "x": [
          "Old Dominion University"
         ],
         "xaxis": "x",
         "y": [
          210
         ],
         "yaxis": "y"
        },
        {
         "alignmentgroup": "True",
         "hovertemplate": "name=%{x}<br>rank=%{y}<extra></extra>",
         "legendgroup": "University of Missouri--Kansas City",
         "marker": {
          "color": "#00cc96",
          "pattern": {
           "shape": ""
          }
         },
         "name": "University of Missouri--Kansas City",
         "offsetgroup": "University of Missouri--Kansas City",
         "orientation": "v",
         "showlegend": true,
         "textposition": "auto",
         "texttemplate": "%{y}",
         "type": "bar",
         "x": [
          "University of Missouri--Kansas City"
         ],
         "xaxis": "x",
         "y": [
          210
         ],
         "yaxis": "y"
        },
        {
         "alignmentgroup": "True",
         "hovertemplate": "name=%{x}<br>rank=%{y}<extra></extra>",
         "legendgroup": "Ashland University",
         "marker": {
          "color": "#ab63fa",
          "pattern": {
           "shape": ""
          }
         },
         "name": "Ashland University",
         "offsetgroup": "Ashland University",
         "orientation": "v",
         "showlegend": true,
         "textposition": "auto",
         "texttemplate": "%{y}",
         "type": "bar",
         "x": [
          "Ashland University"
         ],
         "xaxis": "x",
         "y": [
          214
         ],
         "yaxis": "y"
        },
        {
         "alignmentgroup": "True",
         "hovertemplate": "name=%{x}<br>rank=%{y}<extra></extra>",
         "legendgroup": "Dallas Baptist University",
         "marker": {
          "color": "#FFA15A",
          "pattern": {
           "shape": ""
          }
         },
         "name": "Dallas Baptist University",
         "offsetgroup": "Dallas Baptist University",
         "orientation": "v",
         "showlegend": true,
         "textposition": "auto",
         "texttemplate": "%{y}",
         "type": "bar",
         "x": [
          "Dallas Baptist University"
         ],
         "xaxis": "x",
         "y": [
          214
         ],
         "yaxis": "y"
        },
        {
         "alignmentgroup": "True",
         "hovertemplate": "name=%{x}<br>rank=%{y}<extra></extra>",
         "legendgroup": "Northern Illinois University",
         "marker": {
          "color": "#19d3f3",
          "pattern": {
           "shape": ""
          }
         },
         "name": "Northern Illinois University",
         "offsetgroup": "Northern Illinois University",
         "orientation": "v",
         "showlegend": true,
         "textposition": "auto",
         "texttemplate": "%{y}",
         "type": "bar",
         "x": [
          "Northern Illinois University"
         ],
         "xaxis": "x",
         "y": [
          214
         ],
         "yaxis": "y"
        },
        {
         "alignmentgroup": "True",
         "hovertemplate": "name=%{x}<br>rank=%{y}<extra></extra>",
         "legendgroup": "Nova Southeastern University",
         "marker": {
          "color": "#FF6692",
          "pattern": {
           "shape": ""
          }
         },
         "name": "Nova Southeastern University",
         "offsetgroup": "Nova Southeastern University",
         "orientation": "v",
         "showlegend": true,
         "textposition": "auto",
         "texttemplate": "%{y}",
         "type": "bar",
         "x": [
          "Nova Southeastern University"
         ],
         "xaxis": "x",
         "y": [
          214
         ],
         "yaxis": "y"
        },
        {
         "alignmentgroup": "True",
         "hovertemplate": "name=%{x}<br>rank=%{y}<extra></extra>",
         "legendgroup": "Southern Illinois University--Carbondale",
         "marker": {
          "color": "#B6E880",
          "pattern": {
           "shape": ""
          }
         },
         "name": "Southern Illinois University--Carbondale",
         "offsetgroup": "Southern Illinois University--Carbondale",
         "orientation": "v",
         "showlegend": true,
         "textposition": "auto",
         "texttemplate": "%{y}",
         "type": "bar",
         "x": [
          "Southern Illinois University--Carbondale"
         ],
         "xaxis": "x",
         "y": [
          214
         ],
         "yaxis": "y"
        },
        {
         "alignmentgroup": "True",
         "hovertemplate": "name=%{x}<br>rank=%{y}<extra></extra>",
         "legendgroup": "University of Montana",
         "marker": {
          "color": "#FF97FF",
          "pattern": {
           "shape": ""
          }
         },
         "name": "University of Montana",
         "offsetgroup": "University of Montana",
         "orientation": "v",
         "showlegend": true,
         "textposition": "auto",
         "texttemplate": "%{y}",
         "type": "bar",
         "x": [
          "University of Montana"
         ],
         "xaxis": "x",
         "y": [
          214
         ],
         "yaxis": "y"
        },
        {
         "alignmentgroup": "True",
         "hovertemplate": "name=%{x}<br>rank=%{y}<extra></extra>",
         "legendgroup": "Benedictine University",
         "marker": {
          "color": "#FECB52",
          "pattern": {
           "shape": ""
          }
         },
         "name": "Benedictine University",
         "offsetgroup": "Benedictine University",
         "orientation": "v",
         "showlegend": true,
         "textposition": "auto",
         "texttemplate": "%{y}",
         "type": "bar",
         "x": [
          "Benedictine University"
         ],
         "xaxis": "x",
         "y": [
          220
         ],
         "yaxis": "y"
        },
        {
         "alignmentgroup": "True",
         "hovertemplate": "name=%{x}<br>rank=%{y}<extra></extra>",
         "legendgroup": "California State University--Fresno",
         "marker": {
          "color": "#636efa",
          "pattern": {
           "shape": ""
          }
         },
         "name": "California State University--Fresno",
         "offsetgroup": "California State University--Fresno",
         "orientation": "v",
         "showlegend": true,
         "textposition": "auto",
         "texttemplate": "%{y}",
         "type": "bar",
         "x": [
          "California State University--Fresno"
         ],
         "xaxis": "x",
         "y": [
          220
         ],
         "yaxis": "y"
        },
        {
         "alignmentgroup": "True",
         "hovertemplate": "name=%{x}<br>rank=%{y}<extra></extra>",
         "legendgroup": "Gardner-Webb University",
         "marker": {
          "color": "#EF553B",
          "pattern": {
           "shape": ""
          }
         },
         "name": "Gardner-Webb University",
         "offsetgroup": "Gardner-Webb University",
         "orientation": "v",
         "showlegend": true,
         "textposition": "auto",
         "texttemplate": "%{y}",
         "type": "bar",
         "x": [
          "Gardner-Webb University"
         ],
         "xaxis": "x",
         "y": [
          220
         ],
         "yaxis": "y"
        },
        {
         "alignmentgroup": "True",
         "hovertemplate": "name=%{x}<br>rank=%{y}<extra></extra>",
         "legendgroup": "New Mexico State University",
         "marker": {
          "color": "#00cc96",
          "pattern": {
           "shape": ""
          }
         },
         "name": "New Mexico State University",
         "offsetgroup": "New Mexico State University",
         "orientation": "v",
         "showlegend": true,
         "textposition": "auto",
         "texttemplate": "%{y}",
         "type": "bar",
         "x": [
          "New Mexico State University"
         ],
         "xaxis": "x",
         "y": [
          220
         ],
         "yaxis": "y"
        },
        {
         "alignmentgroup": "True",
         "hovertemplate": "name=%{x}<br>rank=%{y}<extra></extra>",
         "legendgroup": "Shenandoah University",
         "marker": {
          "color": "#ab63fa",
          "pattern": {
           "shape": ""
          }
         },
         "name": "Shenandoah University",
         "offsetgroup": "Shenandoah University",
         "orientation": "v",
         "showlegend": true,
         "textposition": "auto",
         "texttemplate": "%{y}",
         "type": "bar",
         "x": [
          "Shenandoah University"
         ],
         "xaxis": "x",
         "y": [
          220
         ],
         "yaxis": "y"
        },
        {
         "alignmentgroup": "True",
         "hovertemplate": "name=%{x}<br>rank=%{y}<extra></extra>",
         "legendgroup": "Tennessee Technological University",
         "marker": {
          "color": "#FFA15A",
          "pattern": {
           "shape": ""
          }
         },
         "name": "Tennessee Technological University",
         "offsetgroup": "Tennessee Technological University",
         "orientation": "v",
         "showlegend": true,
         "textposition": "auto",
         "texttemplate": "%{y}",
         "type": "bar",
         "x": [
          "Tennessee Technological University"
         ],
         "xaxis": "x",
         "y": [
          220
         ],
         "yaxis": "y"
        },
        {
         "alignmentgroup": "True",
         "hovertemplate": "name=%{x}<br>rank=%{y}<extra></extra>",
         "legendgroup": "University of Massachusetts--Boston",
         "marker": {
          "color": "#19d3f3",
          "pattern": {
           "shape": ""
          }
         },
         "name": "University of Massachusetts--Boston",
         "offsetgroup": "University of Massachusetts--Boston",
         "orientation": "v",
         "showlegend": true,
         "textposition": "auto",
         "texttemplate": "%{y}",
         "type": "bar",
         "x": [
          "University of Massachusetts--Boston"
         ],
         "xaxis": "x",
         "y": [
          220
         ],
         "yaxis": "y"
        },
        {
         "alignmentgroup": "True",
         "hovertemplate": "name=%{x}<br>rank=%{y}<extra></extra>",
         "legendgroup": "University of Massachusetts--Dartmouth",
         "marker": {
          "color": "#FF6692",
          "pattern": {
           "shape": ""
          }
         },
         "name": "University of Massachusetts--Dartmouth",
         "offsetgroup": "University of Massachusetts--Dartmouth",
         "orientation": "v",
         "showlegend": true,
         "textposition": "auto",
         "texttemplate": "%{y}",
         "type": "bar",
         "x": [
          "University of Massachusetts--Dartmouth"
         ],
         "xaxis": "x",
         "y": [
          220
         ],
         "yaxis": "y"
        },
        {
         "alignmentgroup": "True",
         "hovertemplate": "name=%{x}<br>rank=%{y}<extra></extra>",
         "legendgroup": "University of Missouri--St. Louis",
         "marker": {
          "color": "#B6E880",
          "pattern": {
           "shape": ""
          }
         },
         "name": "University of Missouri--St. Louis",
         "offsetgroup": "University of Missouri--St. Louis",
         "orientation": "v",
         "showlegend": true,
         "textposition": "auto",
         "texttemplate": "%{y}",
         "type": "bar",
         "x": [
          "University of Missouri--St. Louis"
         ],
         "xaxis": "x",
         "y": [
          220
         ],
         "yaxis": "y"
        },
        {
         "alignmentgroup": "True",
         "hovertemplate": "name=%{x}<br>rank=%{y}<extra></extra>",
         "legendgroup": "University of North Carolina--Greensboro",
         "marker": {
          "color": "#FF97FF",
          "pattern": {
           "shape": ""
          }
         },
         "name": "University of North Carolina--Greensboro",
         "offsetgroup": "University of North Carolina--Greensboro",
         "orientation": "v",
         "showlegend": true,
         "textposition": "auto",
         "texttemplate": "%{y}",
         "type": "bar",
         "x": [
          "University of North Carolina--Greensboro"
         ],
         "xaxis": "x",
         "y": [
          220
         ],
         "yaxis": "y"
        },
        {
         "alignmentgroup": "True",
         "hovertemplate": "name=%{x}<br>rank=%{y}<extra></extra>",
         "legendgroup": "University of Southern Mississippi",
         "marker": {
          "color": "#FECB52",
          "pattern": {
           "shape": ""
          }
         },
         "name": "University of Southern Mississippi",
         "offsetgroup": "University of Southern Mississippi",
         "orientation": "v",
         "showlegend": true,
         "textposition": "auto",
         "texttemplate": "%{y}",
         "type": "bar",
         "x": [
          "University of Southern Mississippi"
         ],
         "xaxis": "x",
         "y": [
          220
         ],
         "yaxis": "y"
        },
        {
         "alignmentgroup": "True",
         "hovertemplate": "name=%{x}<br>rank=%{y}<extra></extra>",
         "legendgroup": "Utah State University",
         "marker": {
          "color": "#636efa",
          "pattern": {
           "shape": ""
          }
         },
         "name": "Utah State University",
         "offsetgroup": "Utah State University",
         "orientation": "v",
         "showlegend": true,
         "textposition": "auto",
         "texttemplate": "%{y}",
         "type": "bar",
         "x": [
          "Utah State University"
         ],
         "xaxis": "x",
         "y": [
          220
         ],
         "yaxis": "y"
        }
       ],
       "layout": {
        "barmode": "stack",
        "height": 900,
        "legend": {
         "title": {
          "text": "name"
         },
         "tracegroupgap": 0
        },
        "margin": {
         "t": 60
        },
        "template": {
         "data": {
          "bar": [
           {
            "error_x": {
             "color": "#2a3f5f"
            },
            "error_y": {
             "color": "#2a3f5f"
            },
            "marker": {
             "line": {
              "color": "#E5ECF6",
              "width": 0.5
             },
             "pattern": {
              "fillmode": "overlay",
              "size": 10,
              "solidity": 0.2
             }
            },
            "type": "bar"
           }
          ],
          "barpolar": [
           {
            "marker": {
             "line": {
              "color": "#E5ECF6",
              "width": 0.5
             },
             "pattern": {
              "fillmode": "overlay",
              "size": 10,
              "solidity": 0.2
             }
            },
            "type": "barpolar"
           }
          ],
          "carpet": [
           {
            "aaxis": {
             "endlinecolor": "#2a3f5f",
             "gridcolor": "white",
             "linecolor": "white",
             "minorgridcolor": "white",
             "startlinecolor": "#2a3f5f"
            },
            "baxis": {
             "endlinecolor": "#2a3f5f",
             "gridcolor": "white",
             "linecolor": "white",
             "minorgridcolor": "white",
             "startlinecolor": "#2a3f5f"
            },
            "type": "carpet"
           }
          ],
          "choropleth": [
           {
            "colorbar": {
             "outlinewidth": 0,
             "ticks": ""
            },
            "type": "choropleth"
           }
          ],
          "contour": [
           {
            "colorbar": {
             "outlinewidth": 0,
             "ticks": ""
            },
            "colorscale": [
             [
              0,
              "#0d0887"
             ],
             [
              0.1111111111111111,
              "#46039f"
             ],
             [
              0.2222222222222222,
              "#7201a8"
             ],
             [
              0.3333333333333333,
              "#9c179e"
             ],
             [
              0.4444444444444444,
              "#bd3786"
             ],
             [
              0.5555555555555556,
              "#d8576b"
             ],
             [
              0.6666666666666666,
              "#ed7953"
             ],
             [
              0.7777777777777778,
              "#fb9f3a"
             ],
             [
              0.8888888888888888,
              "#fdca26"
             ],
             [
              1,
              "#f0f921"
             ]
            ],
            "type": "contour"
           }
          ],
          "contourcarpet": [
           {
            "colorbar": {
             "outlinewidth": 0,
             "ticks": ""
            },
            "type": "contourcarpet"
           }
          ],
          "heatmap": [
           {
            "colorbar": {
             "outlinewidth": 0,
             "ticks": ""
            },
            "colorscale": [
             [
              0,
              "#0d0887"
             ],
             [
              0.1111111111111111,
              "#46039f"
             ],
             [
              0.2222222222222222,
              "#7201a8"
             ],
             [
              0.3333333333333333,
              "#9c179e"
             ],
             [
              0.4444444444444444,
              "#bd3786"
             ],
             [
              0.5555555555555556,
              "#d8576b"
             ],
             [
              0.6666666666666666,
              "#ed7953"
             ],
             [
              0.7777777777777778,
              "#fb9f3a"
             ],
             [
              0.8888888888888888,
              "#fdca26"
             ],
             [
              1,
              "#f0f921"
             ]
            ],
            "type": "heatmap"
           }
          ],
          "heatmapgl": [
           {
            "colorbar": {
             "outlinewidth": 0,
             "ticks": ""
            },
            "colorscale": [
             [
              0,
              "#0d0887"
             ],
             [
              0.1111111111111111,
              "#46039f"
             ],
             [
              0.2222222222222222,
              "#7201a8"
             ],
             [
              0.3333333333333333,
              "#9c179e"
             ],
             [
              0.4444444444444444,
              "#bd3786"
             ],
             [
              0.5555555555555556,
              "#d8576b"
             ],
             [
              0.6666666666666666,
              "#ed7953"
             ],
             [
              0.7777777777777778,
              "#fb9f3a"
             ],
             [
              0.8888888888888888,
              "#fdca26"
             ],
             [
              1,
              "#f0f921"
             ]
            ],
            "type": "heatmapgl"
           }
          ],
          "histogram": [
           {
            "marker": {
             "pattern": {
              "fillmode": "overlay",
              "size": 10,
              "solidity": 0.2
             }
            },
            "type": "histogram"
           }
          ],
          "histogram2d": [
           {
            "colorbar": {
             "outlinewidth": 0,
             "ticks": ""
            },
            "colorscale": [
             [
              0,
              "#0d0887"
             ],
             [
              0.1111111111111111,
              "#46039f"
             ],
             [
              0.2222222222222222,
              "#7201a8"
             ],
             [
              0.3333333333333333,
              "#9c179e"
             ],
             [
              0.4444444444444444,
              "#bd3786"
             ],
             [
              0.5555555555555556,
              "#d8576b"
             ],
             [
              0.6666666666666666,
              "#ed7953"
             ],
             [
              0.7777777777777778,
              "#fb9f3a"
             ],
             [
              0.8888888888888888,
              "#fdca26"
             ],
             [
              1,
              "#f0f921"
             ]
            ],
            "type": "histogram2d"
           }
          ],
          "histogram2dcontour": [
           {
            "colorbar": {
             "outlinewidth": 0,
             "ticks": ""
            },
            "colorscale": [
             [
              0,
              "#0d0887"
             ],
             [
              0.1111111111111111,
              "#46039f"
             ],
             [
              0.2222222222222222,
              "#7201a8"
             ],
             [
              0.3333333333333333,
              "#9c179e"
             ],
             [
              0.4444444444444444,
              "#bd3786"
             ],
             [
              0.5555555555555556,
              "#d8576b"
             ],
             [
              0.6666666666666666,
              "#ed7953"
             ],
             [
              0.7777777777777778,
              "#fb9f3a"
             ],
             [
              0.8888888888888888,
              "#fdca26"
             ],
             [
              1,
              "#f0f921"
             ]
            ],
            "type": "histogram2dcontour"
           }
          ],
          "mesh3d": [
           {
            "colorbar": {
             "outlinewidth": 0,
             "ticks": ""
            },
            "type": "mesh3d"
           }
          ],
          "parcoords": [
           {
            "line": {
             "colorbar": {
              "outlinewidth": 0,
              "ticks": ""
             }
            },
            "type": "parcoords"
           }
          ],
          "pie": [
           {
            "automargin": true,
            "type": "pie"
           }
          ],
          "scatter": [
           {
            "fillpattern": {
             "fillmode": "overlay",
             "size": 10,
             "solidity": 0.2
            },
            "type": "scatter"
           }
          ],
          "scatter3d": [
           {
            "line": {
             "colorbar": {
              "outlinewidth": 0,
              "ticks": ""
             }
            },
            "marker": {
             "colorbar": {
              "outlinewidth": 0,
              "ticks": ""
             }
            },
            "type": "scatter3d"
           }
          ],
          "scattercarpet": [
           {
            "marker": {
             "colorbar": {
              "outlinewidth": 0,
              "ticks": ""
             }
            },
            "type": "scattercarpet"
           }
          ],
          "scattergeo": [
           {
            "marker": {
             "colorbar": {
              "outlinewidth": 0,
              "ticks": ""
             }
            },
            "type": "scattergeo"
           }
          ],
          "scattergl": [
           {
            "marker": {
             "colorbar": {
              "outlinewidth": 0,
              "ticks": ""
             }
            },
            "type": "scattergl"
           }
          ],
          "scattermapbox": [
           {
            "marker": {
             "colorbar": {
              "outlinewidth": 0,
              "ticks": ""
             }
            },
            "type": "scattermapbox"
           }
          ],
          "scatterpolar": [
           {
            "marker": {
             "colorbar": {
              "outlinewidth": 0,
              "ticks": ""
             }
            },
            "type": "scatterpolar"
           }
          ],
          "scatterpolargl": [
           {
            "marker": {
             "colorbar": {
              "outlinewidth": 0,
              "ticks": ""
             }
            },
            "type": "scatterpolargl"
           }
          ],
          "scatterternary": [
           {
            "marker": {
             "colorbar": {
              "outlinewidth": 0,
              "ticks": ""
             }
            },
            "type": "scatterternary"
           }
          ],
          "surface": [
           {
            "colorbar": {
             "outlinewidth": 0,
             "ticks": ""
            },
            "colorscale": [
             [
              0,
              "#0d0887"
             ],
             [
              0.1111111111111111,
              "#46039f"
             ],
             [
              0.2222222222222222,
              "#7201a8"
             ],
             [
              0.3333333333333333,
              "#9c179e"
             ],
             [
              0.4444444444444444,
              "#bd3786"
             ],
             [
              0.5555555555555556,
              "#d8576b"
             ],
             [
              0.6666666666666666,
              "#ed7953"
             ],
             [
              0.7777777777777778,
              "#fb9f3a"
             ],
             [
              0.8888888888888888,
              "#fdca26"
             ],
             [
              1,
              "#f0f921"
             ]
            ],
            "type": "surface"
           }
          ],
          "table": [
           {
            "cells": {
             "fill": {
              "color": "#EBF0F8"
             },
             "line": {
              "color": "white"
             }
            },
            "header": {
             "fill": {
              "color": "#C8D4E3"
             },
             "line": {
              "color": "white"
             }
            },
            "type": "table"
           }
          ]
         },
         "layout": {
          "annotationdefaults": {
           "arrowcolor": "#2a3f5f",
           "arrowhead": 0,
           "arrowwidth": 1
          },
          "autotypenumbers": "strict",
          "coloraxis": {
           "colorbar": {
            "outlinewidth": 0,
            "ticks": ""
           }
          },
          "colorscale": {
           "diverging": [
            [
             0,
             "#8e0152"
            ],
            [
             0.1,
             "#c51b7d"
            ],
            [
             0.2,
             "#de77ae"
            ],
            [
             0.3,
             "#f1b6da"
            ],
            [
             0.4,
             "#fde0ef"
            ],
            [
             0.5,
             "#f7f7f7"
            ],
            [
             0.6,
             "#e6f5d0"
            ],
            [
             0.7,
             "#b8e186"
            ],
            [
             0.8,
             "#7fbc41"
            ],
            [
             0.9,
             "#4d9221"
            ],
            [
             1,
             "#276419"
            ]
           ],
           "sequential": [
            [
             0,
             "#0d0887"
            ],
            [
             0.1111111111111111,
             "#46039f"
            ],
            [
             0.2222222222222222,
             "#7201a8"
            ],
            [
             0.3333333333333333,
             "#9c179e"
            ],
            [
             0.4444444444444444,
             "#bd3786"
            ],
            [
             0.5555555555555556,
             "#d8576b"
            ],
            [
             0.6666666666666666,
             "#ed7953"
            ],
            [
             0.7777777777777778,
             "#fb9f3a"
            ],
            [
             0.8888888888888888,
             "#fdca26"
            ],
            [
             1,
             "#f0f921"
            ]
           ],
           "sequentialminus": [
            [
             0,
             "#0d0887"
            ],
            [
             0.1111111111111111,
             "#46039f"
            ],
            [
             0.2222222222222222,
             "#7201a8"
            ],
            [
             0.3333333333333333,
             "#9c179e"
            ],
            [
             0.4444444444444444,
             "#bd3786"
            ],
            [
             0.5555555555555556,
             "#d8576b"
            ],
            [
             0.6666666666666666,
             "#ed7953"
            ],
            [
             0.7777777777777778,
             "#fb9f3a"
            ],
            [
             0.8888888888888888,
             "#fdca26"
            ],
            [
             1,
             "#f0f921"
            ]
           ]
          },
          "colorway": [
           "#636efa",
           "#EF553B",
           "#00cc96",
           "#ab63fa",
           "#FFA15A",
           "#19d3f3",
           "#FF6692",
           "#B6E880",
           "#FF97FF",
           "#FECB52"
          ],
          "font": {
           "color": "#2a3f5f"
          },
          "geo": {
           "bgcolor": "white",
           "lakecolor": "white",
           "landcolor": "#E5ECF6",
           "showlakes": true,
           "showland": true,
           "subunitcolor": "white"
          },
          "hoverlabel": {
           "align": "left"
          },
          "hovermode": "closest",
          "mapbox": {
           "style": "light"
          },
          "paper_bgcolor": "white",
          "plot_bgcolor": "#E5ECF6",
          "polar": {
           "angularaxis": {
            "gridcolor": "white",
            "linecolor": "white",
            "ticks": ""
           },
           "bgcolor": "#E5ECF6",
           "radialaxis": {
            "gridcolor": "white",
            "linecolor": "white",
            "ticks": ""
           }
          },
          "scene": {
           "xaxis": {
            "backgroundcolor": "#E5ECF6",
            "gridcolor": "white",
            "gridwidth": 2,
            "linecolor": "white",
            "showbackground": true,
            "ticks": "",
            "zerolinecolor": "white"
           },
           "yaxis": {
            "backgroundcolor": "#E5ECF6",
            "gridcolor": "white",
            "gridwidth": 2,
            "linecolor": "white",
            "showbackground": true,
            "ticks": "",
            "zerolinecolor": "white"
           },
           "zaxis": {
            "backgroundcolor": "#E5ECF6",
            "gridcolor": "white",
            "gridwidth": 2,
            "linecolor": "white",
            "showbackground": true,
            "ticks": "",
            "zerolinecolor": "white"
           }
          },
          "shapedefaults": {
           "line": {
            "color": "#2a3f5f"
           }
          },
          "ternary": {
           "aaxis": {
            "gridcolor": "white",
            "linecolor": "white",
            "ticks": ""
           },
           "baxis": {
            "gridcolor": "white",
            "linecolor": "white",
            "ticks": ""
           },
           "bgcolor": "#E5ECF6",
           "caxis": {
            "gridcolor": "white",
            "linecolor": "white",
            "ticks": ""
           }
          },
          "title": {
           "x": 0.05
          },
          "xaxis": {
           "automargin": true,
           "gridcolor": "white",
           "linecolor": "white",
           "ticks": "",
           "title": {
            "standoff": 15
           },
           "zerolinecolor": "white",
           "zerolinewidth": 2
          },
          "yaxis": {
           "automargin": true,
           "gridcolor": "white",
           "linecolor": "white",
           "ticks": "",
           "title": {
            "standoff": 15
           },
           "zerolinecolor": "white",
           "zerolinewidth": 2
          }
         }
        },
        "title": {
         "text": "Top Universities by Rank"
        },
        "width": 2500,
        "xaxis": {
         "anchor": "y",
         "categoryarray": [
          "Princeton University",
          "Harvard University",
          "University of Chicago",
          "Yale University",
          "Columbia University",
          "Stanford University",
          "Massachusetts Institute of Technology",
          "Duke University",
          "University of Pennsylvania",
          "Johns Hopkins University",
          "Dartmouth College",
          "California Institute of Technology",
          "Northwestern University",
          "Brown University",
          "Cornell University",
          "Rice University",
          "University of Notre Dame",
          "Vanderbilt University",
          "Washington University in St. Louis",
          "Emory University",
          "Georgetown University",
          "University of California--Berkeley",
          "University of Southern California",
          "Carnegie Mellon University",
          "University of California--Los Angeles",
          "University of Virginia",
          "Tufts University",
          "University of Michigan--Ann Arbor",
          "Wake Forest University",
          "University of North Carolina--Chapel Hill",
          "Boston College",
          "College of William & Mary",
          "University of Rochester",
          "Brandeis University",
          "Georgia Institute of Technology",
          "New York University",
          "Case Western Reserve University",
          "University of California--Santa Barbara",
          "Boston University",
          "Northeastern University",
          "Rensselaer Polytechnic Institute",
          "Tulane University",
          "University of California--Irvine",
          "Lehigh University",
          "University of California--Davis",
          "University of California--San Diego",
          "University of Illinois--Urbana-Champaign",
          "University of Miami",
          "University of Wisconsin--Madison",
          "Pepperdine University",
          "University of Florida",
          "Villanova University",
          "Pennsylvania State University--University Park",
          "Ohio State University--Columbus",
          "University of Washington",
          "George Washington University",
          "Southern Methodist University",
          "University of Georgia",
          "University of Texas--Austin",
          "Fordham University",
          "Purdue University--West Lafayette",
          "Syracuse University",
          "University of Connecticut",
          "University of Maryland--College Park",
          "Worcester Polytechnic Institute",
          "Clemson University",
          "Yeshiva University",
          "Brigham Young University--Provo",
          "University of Pittsburgh",
          "Rutgers University--New Brunswick",
          "Baylor University",
          "Stevens Institute of Technology",
          "University of Minnesota--Twin Cities",
          "American University",
          "Clark University",
          "Texas A&M University--College Station",
          "University of Massachusetts--Amherst",
          "Virginia Tech",
          "Miami University--Oxford",
          "University of California--Santa Cruz",
          "University of Delaware",
          "Colorado School of Mines",
          "Michigan State University",
          "Texas Christian University",
          "University of Iowa",
          "Binghamton University--SUNY",
          "Indiana University--Bloomington",
          "Marquette University",
          "University of Denver",
          "University of San Diego",
          "University of Tulsa",
          "Florida State University",
          "North Carolina State University--Raleigh",
          "University of Colorado--Boulder",
          "University of Vermont",
          "Drexel University",
          "Saint Louis University",
          "Stony Brook University--SUNY",
          "Auburn University",
          "Loyola University Chicago",
          "SUNY College of Environmental Science and Forestry",
          "University at Buffalo--SUNY",
          "Illinois Institute of Technology",
          "University of Alabama",
          "University of Oregon",
          "University of Tennessee",
          "Rochester Institute of Technology",
          "University of New Hampshire",
          "University of San Francisco",
          "University of South Carolina",
          "Iowa State University",
          "University of Dayton",
          "University of Missouri",
          "University of Nebraska--Lincoln",
          "University of Oklahoma",
          "University of the Pacific",
          "University of Utah",
          "Michigan Technological University",
          "Seton Hall University",
          "Temple University",
          "University of California--Riverside",
          "University of Kansas",
          "University of St. Thomas",
          "The Catholic University of America",
          "DePaul University",
          "Duquesne University",
          "Howard University",
          "University of Arizona",
          "Arizona State University--Tempe",
          "Clarkson University",
          "Colorado State University",
          "New School",
          "Hofstra University",
          "University of Kentucky",
          "Kansas State University",
          "Louisiana State University--Baton Rouge",
          "Mercer University",
          "New Jersey Institute of Technology",
          "Rutgers University--Newark",
          "University of Arkansas",
          "University of Cincinnati",
          "University of Mississippi",
          "George Mason University",
          "Oregon State University",
          "Washington State University",
          "Adelphi University",
          "Ohio University",
          "San Diego State University",
          "St. John Fisher College",
          "University at Albany--SUNY",
          "University of Texas--Dallas",
          "Illinois State University",
          "Immaculata University",
          "Oklahoma State University",
          "University of California--Merced",
          "University of Illinois--Chicago",
          "University of La Verne",
          "University of Massachusetts--Lowell",
          "Seattle Pacific University",
          "University of Alabama--Birmingham",
          "University of Maryland--Baltimore County",
          "University of Rhode Island",
          "University of South Florida",
          "Biola University",
          "Maryville University of St. Louis",
          "Missouri University of Science & Technology",
          "St. John's University",
          "Virginia Commonwealth University",
          "Union University",
          "University of Hawaii--Manoa",
          "Edgewood College",
          "Florida Institute of Technology",
          "University of Idaho",
          "University of Louisville",
          "University of Wyoming",
          "Ball State University",
          "Lipscomb University",
          "Mississippi State University",
          "Montclair State University",
          "Texas Tech University",
          "University of Central Florida",
          "University of New Mexico",
          "Andrews University",
          "Azusa Pacific University",
          "University of Maine",
          "West Virginia University",
          "Widener University",
          "Kent State University",
          "North Dakota State University",
          "Pace University",
          "Robert Morris University",
          "Suffolk University",
          "University of Hartford",
          "Bowling Green State University",
          "University of Houston",
          "Western Michigan University",
          "Indiana University-Purdue University--Indianapolis",
          "Lesley University",
          "University of Alabama--Huntsville",
          "University of Colorado--Denver",
          "University of Nevada--Reno",
          "California State University--Fullerton",
          "Central Michigan University",
          "Louisiana Tech University",
          "South Dakota State University",
          "University of Alaska--Fairbanks",
          "University of North Carolina--Charlotte",
          "University of North Dakota",
          "University of South Dakota",
          "East Carolina University",
          "Montana State University",
          "Old Dominion University",
          "University of Missouri--Kansas City",
          "Ashland University",
          "Dallas Baptist University",
          "Northern Illinois University",
          "Nova Southeastern University",
          "Southern Illinois University--Carbondale",
          "University of Montana",
          "Benedictine University",
          "California State University--Fresno",
          "Gardner-Webb University",
          "New Mexico State University",
          "Shenandoah University",
          "Tennessee Technological University",
          "University of Massachusetts--Boston",
          "University of Massachusetts--Dartmouth",
          "University of Missouri--St. Louis",
          "University of North Carolina--Greensboro",
          "University of Southern Mississippi",
          "Utah State University"
         ],
         "categoryorder": "total ascending",
         "domain": [
          0,
          1
         ],
         "title": {
          "text": "name"
         }
        },
        "yaxis": {
         "anchor": "x",
         "domain": [
          0,
          1
         ],
         "title": {
          "text": "rank"
         }
        }
       }
      }
     },
     "metadata": {},
     "output_type": "display_data"
    }
   ],
   "source": [
    "fig = px.bar(df_nur, y=\"rank\", x=\"name\", color=\"name\", text_auto=True,height = 900, width= 2500)\n",
    "fig.update_layout(barmode=\"stack\", xaxis={\"categoryorder\": \"total ascending\"}, title_text=\"Top Universities by Rank\")\n",
    "fig.show()"
   ]
  },
  {
   "cell_type": "code",
   "execution_count": 21,
   "metadata": {},
   "outputs": [
    {
     "data": {
      "application/vnd.plotly.v1+json": {
       "config": {
        "plotlyServerURL": "https://plot.ly"
       },
       "data": [
        {
         "alignmentgroup": "True",
         "hovertemplate": "name=%{x}<br>tuition_and_fees=%{y}<extra></extra>",
         "legendgroup": "Princeton University",
         "marker": {
          "color": "#636efa",
          "pattern": {
           "shape": ""
          }
         },
         "name": "Princeton University",
         "offsetgroup": "Princeton University",
         "orientation": "v",
         "showlegend": true,
         "textposition": "auto",
         "texttemplate": "%{y}",
         "type": "bar",
         "x": [
          "Princeton University"
         ],
         "xaxis": "x",
         "y": [
          45320
         ],
         "yaxis": "y"
        },
        {
         "alignmentgroup": "True",
         "hovertemplate": "name=%{x}<br>tuition_and_fees=%{y}<extra></extra>",
         "legendgroup": "Harvard University",
         "marker": {
          "color": "#EF553B",
          "pattern": {
           "shape": ""
          }
         },
         "name": "Harvard University",
         "offsetgroup": "Harvard University",
         "orientation": "v",
         "showlegend": true,
         "textposition": "auto",
         "texttemplate": "%{y}",
         "type": "bar",
         "x": [
          "Harvard University"
         ],
         "xaxis": "x",
         "y": [
          47074
         ],
         "yaxis": "y"
        },
        {
         "alignmentgroup": "True",
         "hovertemplate": "name=%{x}<br>tuition_and_fees=%{y}<extra></extra>",
         "legendgroup": "University of Chicago",
         "marker": {
          "color": "#00cc96",
          "pattern": {
           "shape": ""
          }
         },
         "name": "University of Chicago",
         "offsetgroup": "University of Chicago",
         "orientation": "v",
         "showlegend": true,
         "textposition": "auto",
         "texttemplate": "%{y}",
         "type": "bar",
         "x": [
          "University of Chicago"
         ],
         "xaxis": "x",
         "y": [
          52491
         ],
         "yaxis": "y"
        },
        {
         "alignmentgroup": "True",
         "hovertemplate": "name=%{x}<br>tuition_and_fees=%{y}<extra></extra>",
         "legendgroup": "Yale University",
         "marker": {
          "color": "#ab63fa",
          "pattern": {
           "shape": ""
          }
         },
         "name": "Yale University",
         "offsetgroup": "Yale University",
         "orientation": "v",
         "showlegend": true,
         "textposition": "auto",
         "texttemplate": "%{y}",
         "type": "bar",
         "x": [
          "Yale University"
         ],
         "xaxis": "x",
         "y": [
          49480
         ],
         "yaxis": "y"
        },
        {
         "alignmentgroup": "True",
         "hovertemplate": "name=%{x}<br>tuition_and_fees=%{y}<extra></extra>",
         "legendgroup": "Columbia University",
         "marker": {
          "color": "#FFA15A",
          "pattern": {
           "shape": ""
          }
         },
         "name": "Columbia University",
         "offsetgroup": "Columbia University",
         "orientation": "v",
         "showlegend": true,
         "textposition": "auto",
         "texttemplate": "%{y}",
         "type": "bar",
         "x": [
          "Columbia University"
         ],
         "xaxis": "x",
         "y": [
          55056
         ],
         "yaxis": "y"
        },
        {
         "alignmentgroup": "True",
         "hovertemplate": "name=%{x}<br>tuition_and_fees=%{y}<extra></extra>",
         "legendgroup": "Stanford University",
         "marker": {
          "color": "#19d3f3",
          "pattern": {
           "shape": ""
          }
         },
         "name": "Stanford University",
         "offsetgroup": "Stanford University",
         "orientation": "v",
         "showlegend": true,
         "textposition": "auto",
         "texttemplate": "%{y}",
         "type": "bar",
         "x": [
          "Stanford University"
         ],
         "xaxis": "x",
         "y": [
          47940
         ],
         "yaxis": "y"
        },
        {
         "alignmentgroup": "True",
         "hovertemplate": "name=%{x}<br>tuition_and_fees=%{y}<extra></extra>",
         "legendgroup": "Massachusetts Institute of Technology",
         "marker": {
          "color": "#FF6692",
          "pattern": {
           "shape": ""
          }
         },
         "name": "Massachusetts Institute of Technology",
         "offsetgroup": "Massachusetts Institute of Technology",
         "orientation": "v",
         "showlegend": true,
         "textposition": "auto",
         "texttemplate": "%{y}",
         "type": "bar",
         "x": [
          "Massachusetts Institute of Technology"
         ],
         "xaxis": "x",
         "y": [
          48452
         ],
         "yaxis": "y"
        },
        {
         "alignmentgroup": "True",
         "hovertemplate": "name=%{x}<br>tuition_and_fees=%{y}<extra></extra>",
         "legendgroup": "Duke University",
         "marker": {
          "color": "#B6E880",
          "pattern": {
           "shape": ""
          }
         },
         "name": "Duke University",
         "offsetgroup": "Duke University",
         "orientation": "v",
         "showlegend": true,
         "textposition": "auto",
         "texttemplate": "%{y}",
         "type": "bar",
         "x": [
          "Duke University"
         ],
         "xaxis": "x",
         "y": [
          51265
         ],
         "yaxis": "y"
        },
        {
         "alignmentgroup": "True",
         "hovertemplate": "name=%{x}<br>tuition_and_fees=%{y}<extra></extra>",
         "legendgroup": "University of Pennsylvania",
         "marker": {
          "color": "#FF97FF",
          "pattern": {
           "shape": ""
          }
         },
         "name": "University of Pennsylvania",
         "offsetgroup": "University of Pennsylvania",
         "orientation": "v",
         "showlegend": true,
         "textposition": "auto",
         "texttemplate": "%{y}",
         "type": "bar",
         "x": [
          "University of Pennsylvania"
         ],
         "xaxis": "x",
         "y": [
          51464
         ],
         "yaxis": "y"
        },
        {
         "alignmentgroup": "True",
         "hovertemplate": "name=%{x}<br>tuition_and_fees=%{y}<extra></extra>",
         "legendgroup": "Johns Hopkins University",
         "marker": {
          "color": "#FECB52",
          "pattern": {
           "shape": ""
          }
         },
         "name": "Johns Hopkins University",
         "offsetgroup": "Johns Hopkins University",
         "orientation": "v",
         "showlegend": true,
         "textposition": "auto",
         "texttemplate": "%{y}",
         "type": "bar",
         "x": [
          "Johns Hopkins University"
         ],
         "xaxis": "x",
         "y": [
          50410
         ],
         "yaxis": "y"
        },
        {
         "alignmentgroup": "True",
         "hovertemplate": "name=%{x}<br>tuition_and_fees=%{y}<extra></extra>",
         "legendgroup": "Dartmouth College",
         "marker": {
          "color": "#636efa",
          "pattern": {
           "shape": ""
          }
         },
         "name": "Dartmouth College",
         "offsetgroup": "Dartmouth College",
         "orientation": "v",
         "showlegend": true,
         "textposition": "auto",
         "texttemplate": "%{y}",
         "type": "bar",
         "x": [
          "Dartmouth College"
         ],
         "xaxis": "x",
         "y": [
          51438
         ],
         "yaxis": "y"
        },
        {
         "alignmentgroup": "True",
         "hovertemplate": "name=%{x}<br>tuition_and_fees=%{y}<extra></extra>",
         "legendgroup": "California Institute of Technology",
         "marker": {
          "color": "#EF553B",
          "pattern": {
           "shape": ""
          }
         },
         "name": "California Institute of Technology",
         "offsetgroup": "California Institute of Technology",
         "orientation": "v",
         "showlegend": true,
         "textposition": "auto",
         "texttemplate": "%{y}",
         "type": "bar",
         "x": [
          "California Institute of Technology"
         ],
         "xaxis": "x",
         "y": [
          47577
         ],
         "yaxis": "y"
        },
        {
         "alignmentgroup": "True",
         "hovertemplate": "name=%{x}<br>tuition_and_fees=%{y}<extra></extra>",
         "legendgroup": "Northwestern University",
         "marker": {
          "color": "#00cc96",
          "pattern": {
           "shape": ""
          }
         },
         "name": "Northwestern University",
         "offsetgroup": "Northwestern University",
         "orientation": "v",
         "showlegend": true,
         "textposition": "auto",
         "texttemplate": "%{y}",
         "type": "bar",
         "x": [
          "Northwestern University"
         ],
         "xaxis": "x",
         "y": [
          50855
         ],
         "yaxis": "y"
        },
        {
         "alignmentgroup": "True",
         "hovertemplate": "name=%{x}<br>tuition_and_fees=%{y}<extra></extra>",
         "legendgroup": "Brown University",
         "marker": {
          "color": "#ab63fa",
          "pattern": {
           "shape": ""
          }
         },
         "name": "Brown University",
         "offsetgroup": "Brown University",
         "orientation": "v",
         "showlegend": true,
         "textposition": "auto",
         "texttemplate": "%{y}",
         "type": "bar",
         "x": [
          "Brown University"
         ],
         "xaxis": "x",
         "y": [
          51367
         ],
         "yaxis": "y"
        },
        {
         "alignmentgroup": "True",
         "hovertemplate": "name=%{x}<br>tuition_and_fees=%{y}<extra></extra>",
         "legendgroup": "Cornell University",
         "marker": {
          "color": "#FFA15A",
          "pattern": {
           "shape": ""
          }
         },
         "name": "Cornell University",
         "offsetgroup": "Cornell University",
         "orientation": "v",
         "showlegend": true,
         "textposition": "auto",
         "texttemplate": "%{y}",
         "type": "bar",
         "x": [
          "Cornell University"
         ],
         "xaxis": "x",
         "y": [
          50953
         ],
         "yaxis": "y"
        },
        {
         "alignmentgroup": "True",
         "hovertemplate": "name=%{x}<br>tuition_and_fees=%{y}<extra></extra>",
         "legendgroup": "Rice University",
         "marker": {
          "color": "#19d3f3",
          "pattern": {
           "shape": ""
          }
         },
         "name": "Rice University",
         "offsetgroup": "Rice University",
         "orientation": "v",
         "showlegend": true,
         "textposition": "auto",
         "texttemplate": "%{y}",
         "type": "bar",
         "x": [
          "Rice University"
         ],
         "xaxis": "x",
         "y": [
          43918
         ],
         "yaxis": "y"
        },
        {
         "alignmentgroup": "True",
         "hovertemplate": "name=%{x}<br>tuition_and_fees=%{y}<extra></extra>",
         "legendgroup": "University of Notre Dame",
         "marker": {
          "color": "#FF6692",
          "pattern": {
           "shape": ""
          }
         },
         "name": "University of Notre Dame",
         "offsetgroup": "University of Notre Dame",
         "orientation": "v",
         "showlegend": true,
         "textposition": "auto",
         "texttemplate": "%{y}",
         "type": "bar",
         "x": [
          "University of Notre Dame"
         ],
         "xaxis": "x",
         "y": [
          49685
         ],
         "yaxis": "y"
        },
        {
         "alignmentgroup": "True",
         "hovertemplate": "name=%{x}<br>tuition_and_fees=%{y}<extra></extra>",
         "legendgroup": "Vanderbilt University",
         "marker": {
          "color": "#B6E880",
          "pattern": {
           "shape": ""
          }
         },
         "name": "Vanderbilt University",
         "offsetgroup": "Vanderbilt University",
         "orientation": "v",
         "showlegend": true,
         "textposition": "auto",
         "texttemplate": "%{y}",
         "type": "bar",
         "x": [
          "Vanderbilt University"
         ],
         "xaxis": "x",
         "y": [
          45610
         ],
         "yaxis": "y"
        },
        {
         "alignmentgroup": "True",
         "hovertemplate": "name=%{x}<br>tuition_and_fees=%{y}<extra></extra>",
         "legendgroup": "Washington University in St. Louis",
         "marker": {
          "color": "#FF97FF",
          "pattern": {
           "shape": ""
          }
         },
         "name": "Washington University in St. Louis",
         "offsetgroup": "Washington University in St. Louis",
         "orientation": "v",
         "showlegend": true,
         "textposition": "auto",
         "texttemplate": "%{y}",
         "type": "bar",
         "x": [
          "Washington University in St. Louis"
         ],
         "xaxis": "x",
         "y": [
          49770
         ],
         "yaxis": "y"
        },
        {
         "alignmentgroup": "True",
         "hovertemplate": "name=%{x}<br>tuition_and_fees=%{y}<extra></extra>",
         "legendgroup": "Emory University",
         "marker": {
          "color": "#FECB52",
          "pattern": {
           "shape": ""
          }
         },
         "name": "Emory University",
         "offsetgroup": "Emory University",
         "orientation": "v",
         "showlegend": true,
         "textposition": "auto",
         "texttemplate": "%{y}",
         "type": "bar",
         "x": [
          "Emory University"
         ],
         "xaxis": "x",
         "y": [
          47954
         ],
         "yaxis": "y"
        },
        {
         "alignmentgroup": "True",
         "hovertemplate": "name=%{x}<br>tuition_and_fees=%{y}<extra></extra>",
         "legendgroup": "Georgetown University",
         "marker": {
          "color": "#636efa",
          "pattern": {
           "shape": ""
          }
         },
         "name": "Georgetown University",
         "offsetgroup": "Georgetown University",
         "orientation": "v",
         "showlegend": true,
         "textposition": "auto",
         "texttemplate": "%{y}",
         "type": "bar",
         "x": [
          "Georgetown University"
         ],
         "xaxis": "x",
         "y": [
          50547
         ],
         "yaxis": "y"
        },
        {
         "alignmentgroup": "True",
         "hovertemplate": "name=%{x}<br>tuition_and_fees=%{y}<extra></extra>",
         "legendgroup": "University of California--Berkeley",
         "marker": {
          "color": "#EF553B",
          "pattern": {
           "shape": ""
          }
         },
         "name": "University of California--Berkeley",
         "offsetgroup": "University of California--Berkeley",
         "orientation": "v",
         "showlegend": true,
         "textposition": "auto",
         "texttemplate": "%{y}",
         "type": "bar",
         "x": [
          "University of California--Berkeley"
         ],
         "xaxis": "x",
         "y": [
          40191
         ],
         "yaxis": "y"
        },
        {
         "alignmentgroup": "True",
         "hovertemplate": "name=%{x}<br>tuition_and_fees=%{y}<extra></extra>",
         "legendgroup": "University of Southern California",
         "marker": {
          "color": "#00cc96",
          "pattern": {
           "shape": ""
          }
         },
         "name": "University of Southern California",
         "offsetgroup": "University of Southern California",
         "orientation": "v",
         "showlegend": true,
         "textposition": "auto",
         "texttemplate": "%{y}",
         "type": "bar",
         "x": [
          "University of Southern California"
         ],
         "xaxis": "x",
         "y": [
          52217
         ],
         "yaxis": "y"
        },
        {
         "alignmentgroup": "True",
         "hovertemplate": "name=%{x}<br>tuition_and_fees=%{y}<extra></extra>",
         "legendgroup": "Carnegie Mellon University",
         "marker": {
          "color": "#ab63fa",
          "pattern": {
           "shape": ""
          }
         },
         "name": "Carnegie Mellon University",
         "offsetgroup": "Carnegie Mellon University",
         "orientation": "v",
         "showlegend": true,
         "textposition": "auto",
         "texttemplate": "%{y}",
         "type": "bar",
         "x": [
          "Carnegie Mellon University"
         ],
         "xaxis": "x",
         "y": [
          52040
         ],
         "yaxis": "y"
        },
        {
         "alignmentgroup": "True",
         "hovertemplate": "name=%{x}<br>tuition_and_fees=%{y}<extra></extra>",
         "legendgroup": "University of California--Los Angeles",
         "marker": {
          "color": "#FFA15A",
          "pattern": {
           "shape": ""
          }
         },
         "name": "University of California--Los Angeles",
         "offsetgroup": "University of California--Los Angeles",
         "orientation": "v",
         "showlegend": true,
         "textposition": "auto",
         "texttemplate": "%{y}",
         "type": "bar",
         "x": [
          "University of California--Los Angeles"
         ],
         "xaxis": "x",
         "y": [
          39518
         ],
         "yaxis": "y"
        },
        {
         "alignmentgroup": "True",
         "hovertemplate": "name=%{x}<br>tuition_and_fees=%{y}<extra></extra>",
         "legendgroup": "University of Virginia",
         "marker": {
          "color": "#19d3f3",
          "pattern": {
           "shape": ""
          }
         },
         "name": "University of Virginia",
         "offsetgroup": "University of Virginia",
         "orientation": "v",
         "showlegend": true,
         "textposition": "auto",
         "texttemplate": "%{y}",
         "type": "bar",
         "x": [
          "University of Virginia"
         ],
         "xaxis": "x",
         "y": [
          45066
         ],
         "yaxis": "y"
        },
        {
         "alignmentgroup": "True",
         "hovertemplate": "name=%{x}<br>tuition_and_fees=%{y}<extra></extra>",
         "legendgroup": "Tufts University",
         "marker": {
          "color": "#FF6692",
          "pattern": {
           "shape": ""
          }
         },
         "name": "Tufts University",
         "offsetgroup": "Tufts University",
         "orientation": "v",
         "showlegend": true,
         "textposition": "auto",
         "texttemplate": "%{y}",
         "type": "bar",
         "x": [
          "Tufts University"
         ],
         "xaxis": "x",
         "y": [
          52430
         ],
         "yaxis": "y"
        },
        {
         "alignmentgroup": "True",
         "hovertemplate": "name=%{x}<br>tuition_and_fees=%{y}<extra></extra>",
         "legendgroup": "University of Michigan--Ann Arbor",
         "marker": {
          "color": "#B6E880",
          "pattern": {
           "shape": ""
          }
         },
         "name": "University of Michigan--Ann Arbor",
         "offsetgroup": "University of Michigan--Ann Arbor",
         "orientation": "v",
         "showlegend": true,
         "textposition": "auto",
         "texttemplate": "%{y}",
         "type": "bar",
         "x": [
          "University of Michigan--Ann Arbor"
         ],
         "xaxis": "x",
         "y": [
          43476
         ],
         "yaxis": "y"
        },
        {
         "alignmentgroup": "True",
         "hovertemplate": "name=%{x}<br>tuition_and_fees=%{y}<extra></extra>",
         "legendgroup": "Wake Forest University",
         "marker": {
          "color": "#FF97FF",
          "pattern": {
           "shape": ""
          }
         },
         "name": "Wake Forest University",
         "offsetgroup": "Wake Forest University",
         "orientation": "v",
         "showlegend": true,
         "textposition": "auto",
         "texttemplate": "%{y}",
         "type": "bar",
         "x": [
          "Wake Forest University"
         ],
         "xaxis": "x",
         "y": [
          49308
         ],
         "yaxis": "y"
        },
        {
         "alignmentgroup": "True",
         "hovertemplate": "name=%{x}<br>tuition_and_fees=%{y}<extra></extra>",
         "legendgroup": "University of North Carolina--Chapel Hill",
         "marker": {
          "color": "#FECB52",
          "pattern": {
           "shape": ""
          }
         },
         "name": "University of North Carolina--Chapel Hill",
         "offsetgroup": "University of North Carolina--Chapel Hill",
         "orientation": "v",
         "showlegend": true,
         "textposition": "auto",
         "texttemplate": "%{y}",
         "type": "bar",
         "x": [
          "University of North Carolina--Chapel Hill"
         ],
         "xaxis": "x",
         "y": [
          33916
         ],
         "yaxis": "y"
        },
        {
         "alignmentgroup": "True",
         "hovertemplate": "name=%{x}<br>tuition_and_fees=%{y}<extra></extra>",
         "legendgroup": "Boston College",
         "marker": {
          "color": "#636efa",
          "pattern": {
           "shape": ""
          }
         },
         "name": "Boston College",
         "offsetgroup": "Boston College",
         "orientation": "v",
         "showlegend": true,
         "textposition": "auto",
         "texttemplate": "%{y}",
         "type": "bar",
         "x": [
          "Boston College"
         ],
         "xaxis": "x",
         "y": [
          51296
         ],
         "yaxis": "y"
        },
        {
         "alignmentgroup": "True",
         "hovertemplate": "name=%{x}<br>tuition_and_fees=%{y}<extra></extra>",
         "legendgroup": "College of William & Mary",
         "marker": {
          "color": "#EF553B",
          "pattern": {
           "shape": ""
          }
         },
         "name": "College of William & Mary",
         "offsetgroup": "College of William & Mary",
         "orientation": "v",
         "showlegend": true,
         "textposition": "auto",
         "texttemplate": "%{y}",
         "type": "bar",
         "x": [
          "College of William & Mary"
         ],
         "xaxis": "x",
         "y": [
          41718
         ],
         "yaxis": "y"
        },
        {
         "alignmentgroup": "True",
         "hovertemplate": "name=%{x}<br>tuition_and_fees=%{y}<extra></extra>",
         "legendgroup": "University of Rochester",
         "marker": {
          "color": "#00cc96",
          "pattern": {
           "shape": ""
          }
         },
         "name": "University of Rochester",
         "offsetgroup": "University of Rochester",
         "orientation": "v",
         "showlegend": true,
         "textposition": "auto",
         "texttemplate": "%{y}",
         "type": "bar",
         "x": [
          "University of Rochester"
         ],
         "xaxis": "x",
         "y": [
          50142
         ],
         "yaxis": "y"
        },
        {
         "alignmentgroup": "True",
         "hovertemplate": "name=%{x}<br>tuition_and_fees=%{y}<extra></extra>",
         "legendgroup": "Brandeis University",
         "marker": {
          "color": "#ab63fa",
          "pattern": {
           "shape": ""
          }
         },
         "name": "Brandeis University",
         "offsetgroup": "Brandeis University",
         "orientation": "v",
         "showlegend": true,
         "textposition": "auto",
         "texttemplate": "%{y}",
         "type": "bar",
         "x": [
          "Brandeis University"
         ],
         "xaxis": "x",
         "y": [
          51570
         ],
         "yaxis": "y"
        },
        {
         "alignmentgroup": "True",
         "hovertemplate": "name=%{x}<br>tuition_and_fees=%{y}<extra></extra>",
         "legendgroup": "Georgia Institute of Technology",
         "marker": {
          "color": "#FFA15A",
          "pattern": {
           "shape": ""
          }
         },
         "name": "Georgia Institute of Technology",
         "offsetgroup": "Georgia Institute of Technology",
         "orientation": "v",
         "showlegend": true,
         "textposition": "auto",
         "texttemplate": "%{y}",
         "type": "bar",
         "x": [
          "Georgia Institute of Technology"
         ],
         "xaxis": "x",
         "y": [
          32404
         ],
         "yaxis": "y"
        },
        {
         "alignmentgroup": "True",
         "hovertemplate": "name=%{x}<br>tuition_and_fees=%{y}<extra></extra>",
         "legendgroup": "New York University",
         "marker": {
          "color": "#19d3f3",
          "pattern": {
           "shape": ""
          }
         },
         "name": "New York University",
         "offsetgroup": "New York University",
         "orientation": "v",
         "showlegend": true,
         "textposition": "auto",
         "texttemplate": "%{y}",
         "type": "bar",
         "x": [
          "New York University"
         ],
         "xaxis": "x",
         "y": [
          49062
         ],
         "yaxis": "y"
        },
        {
         "alignmentgroup": "True",
         "hovertemplate": "name=%{x}<br>tuition_and_fees=%{y}<extra></extra>",
         "legendgroup": "Case Western Reserve University",
         "marker": {
          "color": "#FF6692",
          "pattern": {
           "shape": ""
          }
         },
         "name": "Case Western Reserve University",
         "offsetgroup": "Case Western Reserve University",
         "orientation": "v",
         "showlegend": true,
         "textposition": "auto",
         "texttemplate": "%{y}",
         "type": "bar",
         "x": [
          "Case Western Reserve University"
         ],
         "xaxis": "x",
         "y": [
          46006
         ],
         "yaxis": "y"
        },
        {
         "alignmentgroup": "True",
         "hovertemplate": "name=%{x}<br>tuition_and_fees=%{y}<extra></extra>",
         "legendgroup": "University of California--Santa Barbara",
         "marker": {
          "color": "#B6E880",
          "pattern": {
           "shape": ""
          }
         },
         "name": "University of California--Santa Barbara",
         "offsetgroup": "University of California--Santa Barbara",
         "orientation": "v",
         "showlegend": true,
         "textposition": "auto",
         "texttemplate": "%{y}",
         "type": "bar",
         "x": [
          "University of California--Santa Barbara"
         ],
         "xaxis": "x",
         "y": [
          40704
         ],
         "yaxis": "y"
        },
        {
         "alignmentgroup": "True",
         "hovertemplate": "name=%{x}<br>tuition_and_fees=%{y}<extra></extra>",
         "legendgroup": "Boston University",
         "marker": {
          "color": "#FF97FF",
          "pattern": {
           "shape": ""
          }
         },
         "name": "Boston University",
         "offsetgroup": "Boston University",
         "orientation": "v",
         "showlegend": true,
         "textposition": "auto",
         "texttemplate": "%{y}",
         "type": "bar",
         "x": [
          "Boston University"
         ],
         "xaxis": "x",
         "y": [
          50240
         ],
         "yaxis": "y"
        },
        {
         "alignmentgroup": "True",
         "hovertemplate": "name=%{x}<br>tuition_and_fees=%{y}<extra></extra>",
         "legendgroup": "Northeastern University",
         "marker": {
          "color": "#FECB52",
          "pattern": {
           "shape": ""
          }
         },
         "name": "Northeastern University",
         "offsetgroup": "Northeastern University",
         "orientation": "v",
         "showlegend": true,
         "textposition": "auto",
         "texttemplate": "%{y}",
         "type": "bar",
         "x": [
          "Northeastern University"
         ],
         "xaxis": "x",
         "y": [
          47655
         ],
         "yaxis": "y"
        },
        {
         "alignmentgroup": "True",
         "hovertemplate": "name=%{x}<br>tuition_and_fees=%{y}<extra></extra>",
         "legendgroup": "Rensselaer Polytechnic Institute",
         "marker": {
          "color": "#636efa",
          "pattern": {
           "shape": ""
          }
         },
         "name": "Rensselaer Polytechnic Institute",
         "offsetgroup": "Rensselaer Polytechnic Institute",
         "orientation": "v",
         "showlegend": true,
         "textposition": "auto",
         "texttemplate": "%{y}",
         "type": "bar",
         "x": [
          "Rensselaer Polytechnic Institute"
         ],
         "xaxis": "x",
         "y": [
          50797
         ],
         "yaxis": "y"
        },
        {
         "alignmentgroup": "True",
         "hovertemplate": "name=%{x}<br>tuition_and_fees=%{y}<extra></extra>",
         "legendgroup": "Tulane University",
         "marker": {
          "color": "#EF553B",
          "pattern": {
           "shape": ""
          }
         },
         "name": "Tulane University",
         "offsetgroup": "Tulane University",
         "orientation": "v",
         "showlegend": true,
         "textposition": "auto",
         "texttemplate": "%{y}",
         "type": "bar",
         "x": [
          "Tulane University"
         ],
         "xaxis": "x",
         "y": [
          51010
         ],
         "yaxis": "y"
        },
        {
         "alignmentgroup": "True",
         "hovertemplate": "name=%{x}<br>tuition_and_fees=%{y}<extra></extra>",
         "legendgroup": "University of California--Irvine",
         "marker": {
          "color": "#00cc96",
          "pattern": {
           "shape": ""
          }
         },
         "name": "University of California--Irvine",
         "offsetgroup": "University of California--Irvine",
         "orientation": "v",
         "showlegend": true,
         "textposition": "auto",
         "texttemplate": "%{y}",
         "type": "bar",
         "x": [
          "University of California--Irvine"
         ],
         "xaxis": "x",
         "y": [
          39458
         ],
         "yaxis": "y"
        },
        {
         "alignmentgroup": "True",
         "hovertemplate": "name=%{x}<br>tuition_and_fees=%{y}<extra></extra>",
         "legendgroup": "Lehigh University",
         "marker": {
          "color": "#ab63fa",
          "pattern": {
           "shape": ""
          }
         },
         "name": "Lehigh University",
         "offsetgroup": "Lehigh University",
         "orientation": "v",
         "showlegend": true,
         "textposition": "auto",
         "texttemplate": "%{y}",
         "type": "bar",
         "x": [
          "Lehigh University"
         ],
         "xaxis": "x",
         "y": [
          48320
         ],
         "yaxis": "y"
        },
        {
         "alignmentgroup": "True",
         "hovertemplate": "name=%{x}<br>tuition_and_fees=%{y}<extra></extra>",
         "legendgroup": "University of California--Davis",
         "marker": {
          "color": "#FFA15A",
          "pattern": {
           "shape": ""
          }
         },
         "name": "University of California--Davis",
         "offsetgroup": "University of California--Davis",
         "orientation": "v",
         "showlegend": true,
         "textposition": "auto",
         "texttemplate": "%{y}",
         "type": "bar",
         "x": [
          "University of California--Davis"
         ],
         "xaxis": "x",
         "y": [
          40728
         ],
         "yaxis": "y"
        },
        {
         "alignmentgroup": "True",
         "hovertemplate": "name=%{x}<br>tuition_and_fees=%{y}<extra></extra>",
         "legendgroup": "University of California--San Diego",
         "marker": {
          "color": "#19d3f3",
          "pattern": {
           "shape": ""
          }
         },
         "name": "University of California--San Diego",
         "offsetgroup": "University of California--San Diego",
         "orientation": "v",
         "showlegend": true,
         "textposition": "auto",
         "texttemplate": "%{y}",
         "type": "bar",
         "x": [
          "University of California--San Diego"
         ],
         "xaxis": "x",
         "y": [
          41387
         ],
         "yaxis": "y"
        },
        {
         "alignmentgroup": "True",
         "hovertemplate": "name=%{x}<br>tuition_and_fees=%{y}<extra></extra>",
         "legendgroup": "University of Illinois--Urbana-Champaign",
         "marker": {
          "color": "#FF6692",
          "pattern": {
           "shape": ""
          }
         },
         "name": "University of Illinois--Urbana-Champaign",
         "offsetgroup": "University of Illinois--Urbana-Champaign",
         "orientation": "v",
         "showlegend": true,
         "textposition": "auto",
         "texttemplate": "%{y}",
         "type": "bar",
         "x": [
          "University of Illinois--Urbana-Champaign"
         ],
         "xaxis": "x",
         "y": [
          31320
         ],
         "yaxis": "y"
        },
        {
         "alignmentgroup": "True",
         "hovertemplate": "name=%{x}<br>tuition_and_fees=%{y}<extra></extra>",
         "legendgroup": "University of Miami",
         "marker": {
          "color": "#B6E880",
          "pattern": {
           "shape": ""
          }
         },
         "name": "University of Miami",
         "offsetgroup": "University of Miami",
         "orientation": "v",
         "showlegend": true,
         "textposition": "auto",
         "texttemplate": "%{y}",
         "type": "bar",
         "x": [
          "University of Miami"
         ],
         "xaxis": "x",
         "y": [
          47004
         ],
         "yaxis": "y"
        },
        {
         "alignmentgroup": "True",
         "hovertemplate": "name=%{x}<br>tuition_and_fees=%{y}<extra></extra>",
         "legendgroup": "University of Wisconsin--Madison",
         "marker": {
          "color": "#FF97FF",
          "pattern": {
           "shape": ""
          }
         },
         "name": "University of Wisconsin--Madison",
         "offsetgroup": "University of Wisconsin--Madison",
         "orientation": "v",
         "showlegend": true,
         "textposition": "auto",
         "texttemplate": "%{y}",
         "type": "bar",
         "x": [
          "University of Wisconsin--Madison"
         ],
         "xaxis": "x",
         "y": [
          32738
         ],
         "yaxis": "y"
        },
        {
         "alignmentgroup": "True",
         "hovertemplate": "name=%{x}<br>tuition_and_fees=%{y}<extra></extra>",
         "legendgroup": "Pepperdine University",
         "marker": {
          "color": "#FECB52",
          "pattern": {
           "shape": ""
          }
         },
         "name": "Pepperdine University",
         "offsetgroup": "Pepperdine University",
         "orientation": "v",
         "showlegend": true,
         "textposition": "auto",
         "texttemplate": "%{y}",
         "type": "bar",
         "x": [
          "Pepperdine University"
         ],
         "xaxis": "x",
         "y": [
          50022
         ],
         "yaxis": "y"
        },
        {
         "alignmentgroup": "True",
         "hovertemplate": "name=%{x}<br>tuition_and_fees=%{y}<extra></extra>",
         "legendgroup": "University of Florida",
         "marker": {
          "color": "#636efa",
          "pattern": {
           "shape": ""
          }
         },
         "name": "University of Florida",
         "offsetgroup": "University of Florida",
         "orientation": "v",
         "showlegend": true,
         "textposition": "auto",
         "texttemplate": "%{y}",
         "type": "bar",
         "x": [
          "University of Florida"
         ],
         "xaxis": "x",
         "y": [
          28666
         ],
         "yaxis": "y"
        },
        {
         "alignmentgroup": "True",
         "hovertemplate": "name=%{x}<br>tuition_and_fees=%{y}<extra></extra>",
         "legendgroup": "Villanova University",
         "marker": {
          "color": "#EF553B",
          "pattern": {
           "shape": ""
          }
         },
         "name": "Villanova University",
         "offsetgroup": "Villanova University",
         "orientation": "v",
         "showlegend": true,
         "textposition": "auto",
         "texttemplate": "%{y}",
         "type": "bar",
         "x": [
          "Villanova University"
         ],
         "xaxis": "x",
         "y": [
          49280
         ],
         "yaxis": "y"
        },
        {
         "alignmentgroup": "True",
         "hovertemplate": "name=%{x}<br>tuition_and_fees=%{y}<extra></extra>",
         "legendgroup": "Pennsylvania State University--University Park",
         "marker": {
          "color": "#00cc96",
          "pattern": {
           "shape": ""
          }
         },
         "name": "Pennsylvania State University--University Park",
         "offsetgroup": "Pennsylvania State University--University Park",
         "orientation": "v",
         "showlegend": true,
         "textposition": "auto",
         "texttemplate": "%{y}",
         "type": "bar",
         "x": [
          "Pennsylvania State University--University Park"
         ],
         "xaxis": "x",
         "y": [
          32382
         ],
         "yaxis": "y"
        },
        {
         "alignmentgroup": "True",
         "hovertemplate": "name=%{x}<br>tuition_and_fees=%{y}<extra></extra>",
         "legendgroup": "Ohio State University--Columbus",
         "marker": {
          "color": "#ab63fa",
          "pattern": {
           "shape": ""
          }
         },
         "name": "Ohio State University--Columbus",
         "offsetgroup": "Ohio State University--Columbus",
         "orientation": "v",
         "showlegend": true,
         "textposition": "auto",
         "texttemplate": "%{y}",
         "type": "bar",
         "x": [
          "Ohio State University--Columbus"
         ],
         "xaxis": "x",
         "y": [
          29229
         ],
         "yaxis": "y"
        },
        {
         "alignmentgroup": "True",
         "hovertemplate": "name=%{x}<br>tuition_and_fees=%{y}<extra></extra>",
         "legendgroup": "University of Washington",
         "marker": {
          "color": "#FFA15A",
          "pattern": {
           "shape": ""
          }
         },
         "name": "University of Washington",
         "offsetgroup": "University of Washington",
         "orientation": "v",
         "showlegend": true,
         "textposition": "auto",
         "texttemplate": "%{y}",
         "type": "bar",
         "x": [
          "University of Washington"
         ],
         "xaxis": "x",
         "y": [
          34791
         ],
         "yaxis": "y"
        },
        {
         "alignmentgroup": "True",
         "hovertemplate": "name=%{x}<br>tuition_and_fees=%{y}<extra></extra>",
         "legendgroup": "George Washington University",
         "marker": {
          "color": "#19d3f3",
          "pattern": {
           "shape": ""
          }
         },
         "name": "George Washington University",
         "offsetgroup": "George Washington University",
         "orientation": "v",
         "showlegend": true,
         "textposition": "auto",
         "texttemplate": "%{y}",
         "type": "bar",
         "x": [
          "George Washington University"
         ],
         "xaxis": "x",
         "y": [
          51950
         ],
         "yaxis": "y"
        },
        {
         "alignmentgroup": "True",
         "hovertemplate": "name=%{x}<br>tuition_and_fees=%{y}<extra></extra>",
         "legendgroup": "Southern Methodist University",
         "marker": {
          "color": "#FF6692",
          "pattern": {
           "shape": ""
          }
         },
         "name": "Southern Methodist University",
         "offsetgroup": "Southern Methodist University",
         "orientation": "v",
         "showlegend": true,
         "textposition": "auto",
         "texttemplate": "%{y}",
         "type": "bar",
         "x": [
          "Southern Methodist University"
         ],
         "xaxis": "x",
         "y": [
          50358
         ],
         "yaxis": "y"
        },
        {
         "alignmentgroup": "True",
         "hovertemplate": "name=%{x}<br>tuition_and_fees=%{y}<extra></extra>",
         "legendgroup": "University of Georgia",
         "marker": {
          "color": "#B6E880",
          "pattern": {
           "shape": ""
          }
         },
         "name": "University of Georgia",
         "offsetgroup": "University of Georgia",
         "orientation": "v",
         "showlegend": true,
         "textposition": "auto",
         "texttemplate": "%{y}",
         "type": "bar",
         "x": [
          "University of Georgia"
         ],
         "xaxis": "x",
         "y": [
          29844
         ],
         "yaxis": "y"
        },
        {
         "alignmentgroup": "True",
         "hovertemplate": "name=%{x}<br>tuition_and_fees=%{y}<extra></extra>",
         "legendgroup": "University of Texas--Austin",
         "marker": {
          "color": "#FF97FF",
          "pattern": {
           "shape": ""
          }
         },
         "name": "University of Texas--Austin",
         "offsetgroup": "University of Texas--Austin",
         "orientation": "v",
         "showlegend": true,
         "textposition": "auto",
         "texttemplate": "%{y}",
         "type": "bar",
         "x": [
          "University of Texas--Austin"
         ],
         "xaxis": "x",
         "y": [
          34676
         ],
         "yaxis": "y"
        },
        {
         "alignmentgroup": "True",
         "hovertemplate": "name=%{x}<br>tuition_and_fees=%{y}<extra></extra>",
         "legendgroup": "Fordham University",
         "marker": {
          "color": "#FECB52",
          "pattern": {
           "shape": ""
          }
         },
         "name": "Fordham University",
         "offsetgroup": "Fordham University",
         "orientation": "v",
         "showlegend": true,
         "textposition": "auto",
         "texttemplate": "%{y}",
         "type": "bar",
         "x": [
          "Fordham University"
         ],
         "xaxis": "x",
         "y": [
          47317
         ],
         "yaxis": "y"
        },
        {
         "alignmentgroup": "True",
         "hovertemplate": "name=%{x}<br>tuition_and_fees=%{y}<extra></extra>",
         "legendgroup": "Purdue University--West Lafayette",
         "marker": {
          "color": "#636efa",
          "pattern": {
           "shape": ""
          }
         },
         "name": "Purdue University--West Lafayette",
         "offsetgroup": "Purdue University--West Lafayette",
         "orientation": "v",
         "showlegend": true,
         "textposition": "auto",
         "texttemplate": "%{y}",
         "type": "bar",
         "x": [
          "Purdue University--West Lafayette"
         ],
         "xaxis": "x",
         "y": [
          28804
         ],
         "yaxis": "y"
        },
        {
         "alignmentgroup": "True",
         "hovertemplate": "name=%{x}<br>tuition_and_fees=%{y}<extra></extra>",
         "legendgroup": "Syracuse University",
         "marker": {
          "color": "#EF553B",
          "pattern": {
           "shape": ""
          }
         },
         "name": "Syracuse University",
         "offsetgroup": "Syracuse University",
         "orientation": "v",
         "showlegend": true,
         "textposition": "auto",
         "texttemplate": "%{y}",
         "type": "bar",
         "x": [
          "Syracuse University"
         ],
         "xaxis": "x",
         "y": [
          45022
         ],
         "yaxis": "y"
        },
        {
         "alignmentgroup": "True",
         "hovertemplate": "name=%{x}<br>tuition_and_fees=%{y}<extra></extra>",
         "legendgroup": "University of Connecticut",
         "marker": {
          "color": "#00cc96",
          "pattern": {
           "shape": ""
          }
         },
         "name": "University of Connecticut",
         "offsetgroup": "University of Connecticut",
         "orientation": "v",
         "showlegend": true,
         "textposition": "auto",
         "texttemplate": "%{y}",
         "type": "bar",
         "x": [
          "University of Connecticut"
         ],
         "xaxis": "x",
         "y": [
          35858
         ],
         "yaxis": "y"
        },
        {
         "alignmentgroup": "True",
         "hovertemplate": "name=%{x}<br>tuition_and_fees=%{y}<extra></extra>",
         "legendgroup": "University of Maryland--College Park",
         "marker": {
          "color": "#ab63fa",
          "pattern": {
           "shape": ""
          }
         },
         "name": "University of Maryland--College Park",
         "offsetgroup": "University of Maryland--College Park",
         "orientation": "v",
         "showlegend": true,
         "textposition": "auto",
         "texttemplate": "%{y}",
         "type": "bar",
         "x": [
          "University of Maryland--College Park"
         ],
         "xaxis": "x",
         "y": [
          32045
         ],
         "yaxis": "y"
        },
        {
         "alignmentgroup": "True",
         "hovertemplate": "name=%{x}<br>tuition_and_fees=%{y}<extra></extra>",
         "legendgroup": "Worcester Polytechnic Institute",
         "marker": {
          "color": "#FFA15A",
          "pattern": {
           "shape": ""
          }
         },
         "name": "Worcester Polytechnic Institute",
         "offsetgroup": "Worcester Polytechnic Institute",
         "orientation": "v",
         "showlegend": true,
         "textposition": "auto",
         "texttemplate": "%{y}",
         "type": "bar",
         "x": [
          "Worcester Polytechnic Institute"
         ],
         "xaxis": "x",
         "y": [
          46994
         ],
         "yaxis": "y"
        },
        {
         "alignmentgroup": "True",
         "hovertemplate": "name=%{x}<br>tuition_and_fees=%{y}<extra></extra>",
         "legendgroup": "Clemson University",
         "marker": {
          "color": "#19d3f3",
          "pattern": {
           "shape": ""
          }
         },
         "name": "Clemson University",
         "offsetgroup": "Clemson University",
         "orientation": "v",
         "showlegend": true,
         "textposition": "auto",
         "texttemplate": "%{y}",
         "type": "bar",
         "x": [
          "Clemson University"
         ],
         "xaxis": "x",
         "y": [
          32796
         ],
         "yaxis": "y"
        },
        {
         "alignmentgroup": "True",
         "hovertemplate": "name=%{x}<br>tuition_and_fees=%{y}<extra></extra>",
         "legendgroup": "Yeshiva University",
         "marker": {
          "color": "#FF6692",
          "pattern": {
           "shape": ""
          }
         },
         "name": "Yeshiva University",
         "offsetgroup": "Yeshiva University",
         "orientation": "v",
         "showlegend": true,
         "textposition": "auto",
         "texttemplate": "%{y}",
         "type": "bar",
         "x": [
          "Yeshiva University"
         ],
         "xaxis": "x",
         "y": [
          40670
         ],
         "yaxis": "y"
        },
        {
         "alignmentgroup": "True",
         "hovertemplate": "name=%{x}<br>tuition_and_fees=%{y}<extra></extra>",
         "legendgroup": "Brigham Young University--Provo",
         "marker": {
          "color": "#B6E880",
          "pattern": {
           "shape": ""
          }
         },
         "name": "Brigham Young University--Provo",
         "offsetgroup": "Brigham Young University--Provo",
         "orientation": "v",
         "showlegend": true,
         "textposition": "auto",
         "texttemplate": "%{y}",
         "type": "bar",
         "x": [
          "Brigham Young University--Provo"
         ],
         "xaxis": "x",
         "y": [
          5300
         ],
         "yaxis": "y"
        },
        {
         "alignmentgroup": "True",
         "hovertemplate": "name=%{x}<br>tuition_and_fees=%{y}<extra></extra>",
         "legendgroup": "University of Pittsburgh",
         "marker": {
          "color": "#FF97FF",
          "pattern": {
           "shape": ""
          }
         },
         "name": "University of Pittsburgh",
         "offsetgroup": "University of Pittsburgh",
         "orientation": "v",
         "showlegend": true,
         "textposition": "auto",
         "texttemplate": "%{y}",
         "type": "bar",
         "x": [
          "University of Pittsburgh"
         ],
         "xaxis": "x",
         "y": [
          29758
         ],
         "yaxis": "y"
        },
        {
         "alignmentgroup": "True",
         "hovertemplate": "name=%{x}<br>tuition_and_fees=%{y}<extra></extra>",
         "legendgroup": "Rutgers University--New Brunswick",
         "marker": {
          "color": "#FECB52",
          "pattern": {
           "shape": ""
          }
         },
         "name": "Rutgers University--New Brunswick",
         "offsetgroup": "Rutgers University--New Brunswick",
         "orientation": "v",
         "showlegend": true,
         "textposition": "auto",
         "texttemplate": "%{y}",
         "type": "bar",
         "x": [
          "Rutgers University--New Brunswick"
         ],
         "xaxis": "x",
         "y": [
          30023
         ],
         "yaxis": "y"
        },
        {
         "alignmentgroup": "True",
         "hovertemplate": "name=%{x}<br>tuition_and_fees=%{y}<extra></extra>",
         "legendgroup": "Baylor University",
         "marker": {
          "color": "#636efa",
          "pattern": {
           "shape": ""
          }
         },
         "name": "Baylor University",
         "offsetgroup": "Baylor University",
         "orientation": "v",
         "showlegend": true,
         "textposition": "auto",
         "texttemplate": "%{y}",
         "type": "bar",
         "x": [
          "Baylor University"
         ],
         "xaxis": "x",
         "y": [
          42006
         ],
         "yaxis": "y"
        },
        {
         "alignmentgroup": "True",
         "hovertemplate": "name=%{x}<br>tuition_and_fees=%{y}<extra></extra>",
         "legendgroup": "Stevens Institute of Technology",
         "marker": {
          "color": "#EF553B",
          "pattern": {
           "shape": ""
          }
         },
         "name": "Stevens Institute of Technology",
         "offsetgroup": "Stevens Institute of Technology",
         "orientation": "v",
         "showlegend": true,
         "textposition": "auto",
         "texttemplate": "%{y}",
         "type": "bar",
         "x": [
          "Stevens Institute of Technology"
         ],
         "xaxis": "x",
         "y": [
          48838
         ],
         "yaxis": "y"
        },
        {
         "alignmentgroup": "True",
         "hovertemplate": "name=%{x}<br>tuition_and_fees=%{y}<extra></extra>",
         "legendgroup": "University of Minnesota--Twin Cities",
         "marker": {
          "color": "#00cc96",
          "pattern": {
           "shape": ""
          }
         },
         "name": "University of Minnesota--Twin Cities",
         "offsetgroup": "University of Minnesota--Twin Cities",
         "orientation": "v",
         "showlegend": true,
         "textposition": "auto",
         "texttemplate": "%{y}",
         "type": "bar",
         "x": [
          "University of Minnesota--Twin Cities"
         ],
         "xaxis": "x",
         "y": [
          22210
         ],
         "yaxis": "y"
        },
        {
         "alignmentgroup": "True",
         "hovertemplate": "name=%{x}<br>tuition_and_fees=%{y}<extra></extra>",
         "legendgroup": "American University",
         "marker": {
          "color": "#ab63fa",
          "pattern": {
           "shape": ""
          }
         },
         "name": "American University",
         "offsetgroup": "American University",
         "orientation": "v",
         "showlegend": true,
         "textposition": "auto",
         "texttemplate": "%{y}",
         "type": "bar",
         "x": [
          "American University"
         ],
         "xaxis": "x",
         "y": [
          44853
         ],
         "yaxis": "y"
        },
        {
         "alignmentgroup": "True",
         "hovertemplate": "name=%{x}<br>tuition_and_fees=%{y}<extra></extra>",
         "legendgroup": "Clark University",
         "marker": {
          "color": "#FFA15A",
          "pattern": {
           "shape": ""
          }
         },
         "name": "Clark University",
         "offsetgroup": "Clark University",
         "orientation": "v",
         "showlegend": true,
         "textposition": "auto",
         "texttemplate": "%{y}",
         "type": "bar",
         "x": [
          "Clark University"
         ],
         "xaxis": "x",
         "y": [
          43150
         ],
         "yaxis": "y"
        },
        {
         "alignmentgroup": "True",
         "hovertemplate": "name=%{x}<br>tuition_and_fees=%{y}<extra></extra>",
         "legendgroup": "Texas A&M University--College Station",
         "marker": {
          "color": "#19d3f3",
          "pattern": {
           "shape": ""
          }
         },
         "name": "Texas A&M University--College Station",
         "offsetgroup": "Texas A&M University--College Station",
         "orientation": "v",
         "showlegend": true,
         "textposition": "auto",
         "texttemplate": "%{y}",
         "type": "bar",
         "x": [
          "Texas A&M University--College Station"
         ],
         "xaxis": "x",
         "y": [
          28768
         ],
         "yaxis": "y"
        },
        {
         "alignmentgroup": "True",
         "hovertemplate": "name=%{x}<br>tuition_and_fees=%{y}<extra></extra>",
         "legendgroup": "University of Massachusetts--Amherst",
         "marker": {
          "color": "#FF6692",
          "pattern": {
           "shape": ""
          }
         },
         "name": "University of Massachusetts--Amherst",
         "offsetgroup": "University of Massachusetts--Amherst",
         "orientation": "v",
         "showlegend": true,
         "textposition": "auto",
         "texttemplate": "%{y}",
         "type": "bar",
         "x": [
          "University of Massachusetts--Amherst"
         ],
         "xaxis": "x",
         "y": [
          30123
         ],
         "yaxis": "y"
        },
        {
         "alignmentgroup": "True",
         "hovertemplate": "name=%{x}<br>tuition_and_fees=%{y}<extra></extra>",
         "legendgroup": "Virginia Tech",
         "marker": {
          "color": "#B6E880",
          "pattern": {
           "shape": ""
          }
         },
         "name": "Virginia Tech",
         "offsetgroup": "Virginia Tech",
         "orientation": "v",
         "showlegend": true,
         "textposition": "auto",
         "texttemplate": "%{y}",
         "type": "bar",
         "x": [
          "Virginia Tech"
         ],
         "xaxis": "x",
         "y": [
          29371
         ],
         "yaxis": "y"
        },
        {
         "alignmentgroup": "True",
         "hovertemplate": "name=%{x}<br>tuition_and_fees=%{y}<extra></extra>",
         "legendgroup": "Miami University--Oxford",
         "marker": {
          "color": "#FF97FF",
          "pattern": {
           "shape": ""
          }
         },
         "name": "Miami University--Oxford",
         "offsetgroup": "Miami University--Oxford",
         "orientation": "v",
         "showlegend": true,
         "textposition": "auto",
         "texttemplate": "%{y}",
         "type": "bar",
         "x": [
          "Miami University--Oxford"
         ],
         "xaxis": "x",
         "y": [
          31592
         ],
         "yaxis": "y"
        },
        {
         "alignmentgroup": "True",
         "hovertemplate": "name=%{x}<br>tuition_and_fees=%{y}<extra></extra>",
         "legendgroup": "University of California--Santa Cruz",
         "marker": {
          "color": "#FECB52",
          "pattern": {
           "shape": ""
          }
         },
         "name": "University of California--Santa Cruz",
         "offsetgroup": "University of California--Santa Cruz",
         "orientation": "v",
         "showlegend": true,
         "textposition": "auto",
         "texttemplate": "%{y}",
         "type": "bar",
         "x": [
          "University of California--Santa Cruz"
         ],
         "xaxis": "x",
         "y": [
          40241
         ],
         "yaxis": "y"
        },
        {
         "alignmentgroup": "True",
         "hovertemplate": "name=%{x}<br>tuition_and_fees=%{y}<extra></extra>",
         "legendgroup": "University of Delaware",
         "marker": {
          "color": "#636efa",
          "pattern": {
           "shape": ""
          }
         },
         "name": "University of Delaware",
         "offsetgroup": "University of Delaware",
         "orientation": "v",
         "showlegend": true,
         "textposition": "auto",
         "texttemplate": "%{y}",
         "type": "bar",
         "x": [
          "University of Delaware"
         ],
         "xaxis": "x",
         "y": [
          31420
         ],
         "yaxis": "y"
        },
        {
         "alignmentgroup": "True",
         "hovertemplate": "name=%{x}<br>tuition_and_fees=%{y}<extra></extra>",
         "legendgroup": "Colorado School of Mines",
         "marker": {
          "color": "#EF553B",
          "pattern": {
           "shape": ""
          }
         },
         "name": "Colorado School of Mines",
         "offsetgroup": "Colorado School of Mines",
         "orientation": "v",
         "showlegend": true,
         "textposition": "auto",
         "texttemplate": "%{y}",
         "type": "bar",
         "x": [
          "Colorado School of Mines"
         ],
         "xaxis": "x",
         "y": [
          34828
         ],
         "yaxis": "y"
        },
        {
         "alignmentgroup": "True",
         "hovertemplate": "name=%{x}<br>tuition_and_fees=%{y}<extra></extra>",
         "legendgroup": "Michigan State University",
         "marker": {
          "color": "#00cc96",
          "pattern": {
           "shape": ""
          }
         },
         "name": "Michigan State University",
         "offsetgroup": "Michigan State University",
         "orientation": "v",
         "showlegend": true,
         "textposition": "auto",
         "texttemplate": "%{y}",
         "type": "bar",
         "x": [
          "Michigan State University"
         ],
         "xaxis": "x",
         "y": [
          39090
         ],
         "yaxis": "y"
        },
        {
         "alignmentgroup": "True",
         "hovertemplate": "name=%{x}<br>tuition_and_fees=%{y}<extra></extra>",
         "legendgroup": "Texas Christian University",
         "marker": {
          "color": "#ab63fa",
          "pattern": {
           "shape": ""
          }
         },
         "name": "Texas Christian University",
         "offsetgroup": "Texas Christian University",
         "orientation": "v",
         "showlegend": true,
         "textposition": "auto",
         "texttemplate": "%{y}",
         "type": "bar",
         "x": [
          "Texas Christian University"
         ],
         "xaxis": "x",
         "y": [
          42670
         ],
         "yaxis": "y"
        },
        {
         "alignmentgroup": "True",
         "hovertemplate": "name=%{x}<br>tuition_and_fees=%{y}<extra></extra>",
         "legendgroup": "University of Iowa",
         "marker": {
          "color": "#FFA15A",
          "pattern": {
           "shape": ""
          }
         },
         "name": "University of Iowa",
         "offsetgroup": "University of Iowa",
         "orientation": "v",
         "showlegend": true,
         "textposition": "auto",
         "texttemplate": "%{y}",
         "type": "bar",
         "x": [
          "University of Iowa"
         ],
         "xaxis": "x",
         "y": [
          28413
         ],
         "yaxis": "y"
        },
        {
         "alignmentgroup": "True",
         "hovertemplate": "name=%{x}<br>tuition_and_fees=%{y}<extra></extra>",
         "legendgroup": "Binghamton University--SUNY",
         "marker": {
          "color": "#19d3f3",
          "pattern": {
           "shape": ""
          }
         },
         "name": "Binghamton University--SUNY",
         "offsetgroup": "Binghamton University--SUNY",
         "orientation": "v",
         "showlegend": true,
         "textposition": "auto",
         "texttemplate": "%{y}",
         "type": "bar",
         "x": [
          "Binghamton University--SUNY"
         ],
         "xaxis": "x",
         "y": [
          22164
         ],
         "yaxis": "y"
        },
        {
         "alignmentgroup": "True",
         "hovertemplate": "name=%{x}<br>tuition_and_fees=%{y}<extra></extra>",
         "legendgroup": "Indiana University--Bloomington",
         "marker": {
          "color": "#FF6692",
          "pattern": {
           "shape": ""
          }
         },
         "name": "Indiana University--Bloomington",
         "offsetgroup": "Indiana University--Bloomington",
         "orientation": "v",
         "showlegend": true,
         "textposition": "auto",
         "texttemplate": "%{y}",
         "type": "bar",
         "x": [
          "Indiana University--Bloomington"
         ],
         "xaxis": "x",
         "y": [
          34246
         ],
         "yaxis": "y"
        },
        {
         "alignmentgroup": "True",
         "hovertemplate": "name=%{x}<br>tuition_and_fees=%{y}<extra></extra>",
         "legendgroup": "Marquette University",
         "marker": {
          "color": "#B6E880",
          "pattern": {
           "shape": ""
          }
         },
         "name": "Marquette University",
         "offsetgroup": "Marquette University",
         "orientation": "v",
         "showlegend": true,
         "textposition": "auto",
         "texttemplate": "%{y}",
         "type": "bar",
         "x": [
          "Marquette University"
         ],
         "xaxis": "x",
         "y": [
          38470
         ],
         "yaxis": "y"
        },
        {
         "alignmentgroup": "True",
         "hovertemplate": "name=%{x}<br>tuition_and_fees=%{y}<extra></extra>",
         "legendgroup": "University of Denver",
         "marker": {
          "color": "#FF97FF",
          "pattern": {
           "shape": ""
          }
         },
         "name": "University of Denver",
         "offsetgroup": "University of Denver",
         "orientation": "v",
         "showlegend": true,
         "textposition": "auto",
         "texttemplate": "%{y}",
         "type": "bar",
         "x": [
          "University of Denver"
         ],
         "xaxis": "x",
         "y": [
          46362
         ],
         "yaxis": "y"
        },
        {
         "alignmentgroup": "True",
         "hovertemplate": "name=%{x}<br>tuition_and_fees=%{y}<extra></extra>",
         "legendgroup": "University of San Diego",
         "marker": {
          "color": "#FECB52",
          "pattern": {
           "shape": ""
          }
         },
         "name": "University of San Diego",
         "offsetgroup": "University of San Diego",
         "orientation": "v",
         "showlegend": true,
         "textposition": "auto",
         "texttemplate": "%{y}",
         "type": "bar",
         "x": [
          "University of San Diego"
         ],
         "xaxis": "x",
         "y": [
          46140
         ],
         "yaxis": "y"
        },
        {
         "alignmentgroup": "True",
         "hovertemplate": "name=%{x}<br>tuition_and_fees=%{y}<extra></extra>",
         "legendgroup": "University of Tulsa",
         "marker": {
          "color": "#636efa",
          "pattern": {
           "shape": ""
          }
         },
         "name": "University of Tulsa",
         "offsetgroup": "University of Tulsa",
         "orientation": "v",
         "showlegend": true,
         "textposition": "auto",
         "texttemplate": "%{y}",
         "type": "bar",
         "x": [
          "University of Tulsa"
         ],
         "xaxis": "x",
         "y": [
          38796
         ],
         "yaxis": "y"
        },
        {
         "alignmentgroup": "True",
         "hovertemplate": "name=%{x}<br>tuition_and_fees=%{y}<extra></extra>",
         "legendgroup": "Florida State University",
         "marker": {
          "color": "#EF553B",
          "pattern": {
           "shape": ""
          }
         },
         "name": "Florida State University",
         "offsetgroup": "Florida State University",
         "orientation": "v",
         "showlegend": true,
         "textposition": "auto",
         "texttemplate": "%{y}",
         "type": "bar",
         "x": [
          "Florida State University"
         ],
         "xaxis": "x",
         "y": [
          24673
         ],
         "yaxis": "y"
        },
        {
         "alignmentgroup": "True",
         "hovertemplate": "name=%{x}<br>tuition_and_fees=%{y}<extra></extra>",
         "legendgroup": "North Carolina State University--Raleigh",
         "marker": {
          "color": "#00cc96",
          "pattern": {
           "shape": ""
          }
         },
         "name": "North Carolina State University--Raleigh",
         "offsetgroup": "North Carolina State University--Raleigh",
         "orientation": "v",
         "showlegend": true,
         "textposition": "auto",
         "texttemplate": "%{y}",
         "type": "bar",
         "x": [
          "North Carolina State University--Raleigh"
         ],
         "xaxis": "x",
         "y": [
          26399
         ],
         "yaxis": "y"
        },
        {
         "alignmentgroup": "True",
         "hovertemplate": "name=%{x}<br>tuition_and_fees=%{y}<extra></extra>",
         "legendgroup": "University of Colorado--Boulder",
         "marker": {
          "color": "#ab63fa",
          "pattern": {
           "shape": ""
          }
         },
         "name": "University of Colorado--Boulder",
         "offsetgroup": "University of Colorado--Boulder",
         "orientation": "v",
         "showlegend": true,
         "textposition": "auto",
         "texttemplate": "%{y}",
         "type": "bar",
         "x": [
          "University of Colorado--Boulder"
         ],
         "xaxis": "x",
         "y": [
          35079
         ],
         "yaxis": "y"
        },
        {
         "alignmentgroup": "True",
         "hovertemplate": "name=%{x}<br>tuition_and_fees=%{y}<extra></extra>",
         "legendgroup": "University of Vermont",
         "marker": {
          "color": "#FFA15A",
          "pattern": {
           "shape": ""
          }
         },
         "name": "University of Vermont",
         "offsetgroup": "University of Vermont",
         "orientation": "v",
         "showlegend": true,
         "textposition": "auto",
         "texttemplate": "%{y}",
         "type": "bar",
         "x": [
          "University of Vermont"
         ],
         "xaxis": "x",
         "y": [
          40364
         ],
         "yaxis": "y"
        },
        {
         "alignmentgroup": "True",
         "hovertemplate": "name=%{x}<br>tuition_and_fees=%{y}<extra></extra>",
         "legendgroup": "Drexel University",
         "marker": {
          "color": "#19d3f3",
          "pattern": {
           "shape": ""
          }
         },
         "name": "Drexel University",
         "offsetgroup": "Drexel University",
         "orientation": "v",
         "showlegend": true,
         "textposition": "auto",
         "texttemplate": "%{y}",
         "type": "bar",
         "x": [
          "Drexel University"
         ],
         "xaxis": "x",
         "y": [
          51030
         ],
         "yaxis": "y"
        },
        {
         "alignmentgroup": "True",
         "hovertemplate": "name=%{x}<br>tuition_and_fees=%{y}<extra></extra>",
         "legendgroup": "Saint Louis University",
         "marker": {
          "color": "#FF6692",
          "pattern": {
           "shape": ""
          }
         },
         "name": "Saint Louis University",
         "offsetgroup": "Saint Louis University",
         "orientation": "v",
         "showlegend": true,
         "textposition": "auto",
         "texttemplate": "%{y}",
         "type": "bar",
         "x": [
          "Saint Louis University"
         ],
         "xaxis": "x",
         "y": [
          40726
         ],
         "yaxis": "y"
        },
        {
         "alignmentgroup": "True",
         "hovertemplate": "name=%{x}<br>tuition_and_fees=%{y}<extra></extra>",
         "legendgroup": "Stony Brook University--SUNY",
         "marker": {
          "color": "#B6E880",
          "pattern": {
           "shape": ""
          }
         },
         "name": "Stony Brook University--SUNY",
         "offsetgroup": "Stony Brook University--SUNY",
         "orientation": "v",
         "showlegend": true,
         "textposition": "auto",
         "texttemplate": "%{y}",
         "type": "bar",
         "x": [
          "Stony Brook University--SUNY"
         ],
         "xaxis": "x",
         "y": [
          26266
         ],
         "yaxis": "y"
        },
        {
         "alignmentgroup": "True",
         "hovertemplate": "name=%{x}<br>tuition_and_fees=%{y}<extra></extra>",
         "legendgroup": "Auburn University",
         "marker": {
          "color": "#FF97FF",
          "pattern": {
           "shape": ""
          }
         },
         "name": "Auburn University",
         "offsetgroup": "Auburn University",
         "orientation": "v",
         "showlegend": true,
         "textposition": "auto",
         "texttemplate": "%{y}",
         "type": "bar",
         "x": [
          "Auburn University"
         ],
         "xaxis": "x",
         "y": [
          28840
         ],
         "yaxis": "y"
        },
        {
         "alignmentgroup": "True",
         "hovertemplate": "name=%{x}<br>tuition_and_fees=%{y}<extra></extra>",
         "legendgroup": "Loyola University Chicago",
         "marker": {
          "color": "#FECB52",
          "pattern": {
           "shape": ""
          }
         },
         "name": "Loyola University Chicago",
         "offsetgroup": "Loyola University Chicago",
         "orientation": "v",
         "showlegend": true,
         "textposition": "auto",
         "texttemplate": "%{y}",
         "type": "bar",
         "x": [
          "Loyola University Chicago"
         ],
         "xaxis": "x",
         "y": [
          41384
         ],
         "yaxis": "y"
        },
        {
         "alignmentgroup": "True",
         "hovertemplate": "name=%{x}<br>tuition_and_fees=%{y}<extra></extra>",
         "legendgroup": "SUNY College of Environmental Science and Forestry",
         "marker": {
          "color": "#636efa",
          "pattern": {
           "shape": ""
          }
         },
         "name": "SUNY College of Environmental Science and Forestry",
         "offsetgroup": "SUNY College of Environmental Science and Forestry",
         "orientation": "v",
         "showlegend": true,
         "textposition": "auto",
         "texttemplate": "%{y}",
         "type": "bar",
         "x": [
          "SUNY College of Environmental Science and Forestry"
         ],
         "xaxis": "x",
         "y": [
          17620
         ],
         "yaxis": "y"
        },
        {
         "alignmentgroup": "True",
         "hovertemplate": "name=%{x}<br>tuition_and_fees=%{y}<extra></extra>",
         "legendgroup": "University at Buffalo--SUNY",
         "marker": {
          "color": "#EF553B",
          "pattern": {
           "shape": ""
          }
         },
         "name": "University at Buffalo--SUNY",
         "offsetgroup": "University at Buffalo--SUNY",
         "orientation": "v",
         "showlegend": true,
         "textposition": "auto",
         "texttemplate": "%{y}",
         "type": "bar",
         "x": [
          "University at Buffalo--SUNY"
         ],
         "xaxis": "x",
         "y": [
          26270
         ],
         "yaxis": "y"
        },
        {
         "alignmentgroup": "True",
         "hovertemplate": "name=%{x}<br>tuition_and_fees=%{y}<extra></extra>",
         "legendgroup": "Illinois Institute of Technology",
         "marker": {
          "color": "#00cc96",
          "pattern": {
           "shape": ""
          }
         },
         "name": "Illinois Institute of Technology",
         "offsetgroup": "Illinois Institute of Technology",
         "orientation": "v",
         "showlegend": true,
         "textposition": "auto",
         "texttemplate": "%{y}",
         "type": "bar",
         "x": [
          "Illinois Institute of Technology"
         ],
         "xaxis": "x",
         "y": [
          45214
         ],
         "yaxis": "y"
        },
        {
         "alignmentgroup": "True",
         "hovertemplate": "name=%{x}<br>tuition_and_fees=%{y}<extra></extra>",
         "legendgroup": "University of Alabama",
         "marker": {
          "color": "#ab63fa",
          "pattern": {
           "shape": ""
          }
         },
         "name": "University of Alabama",
         "offsetgroup": "University of Alabama",
         "orientation": "v",
         "showlegend": true,
         "textposition": "auto",
         "texttemplate": "%{y}",
         "type": "bar",
         "x": [
          "University of Alabama"
         ],
         "xaxis": "x",
         "y": [
          26950
         ],
         "yaxis": "y"
        },
        {
         "alignmentgroup": "True",
         "hovertemplate": "name=%{x}<br>tuition_and_fees=%{y}<extra></extra>",
         "legendgroup": "University of Oregon",
         "marker": {
          "color": "#FFA15A",
          "pattern": {
           "shape": ""
          }
         },
         "name": "University of Oregon",
         "offsetgroup": "University of Oregon",
         "orientation": "v",
         "showlegend": true,
         "textposition": "auto",
         "texttemplate": "%{y}",
         "type": "bar",
         "x": [
          "University of Oregon"
         ],
         "xaxis": "x",
         "y": [
          33442
         ],
         "yaxis": "y"
        },
        {
         "alignmentgroup": "True",
         "hovertemplate": "name=%{x}<br>tuition_and_fees=%{y}<extra></extra>",
         "legendgroup": "University of Tennessee",
         "marker": {
          "color": "#19d3f3",
          "pattern": {
           "shape": ""
          }
         },
         "name": "University of Tennessee",
         "offsetgroup": "University of Tennessee",
         "orientation": "v",
         "showlegend": true,
         "textposition": "auto",
         "texttemplate": "%{y}",
         "type": "bar",
         "x": [
          "University of Tennessee"
         ],
         "xaxis": "x",
         "y": [
          30858
         ],
         "yaxis": "y"
        },
        {
         "alignmentgroup": "True",
         "hovertemplate": "name=%{x}<br>tuition_and_fees=%{y}<extra></extra>",
         "legendgroup": "Rochester Institute of Technology",
         "marker": {
          "color": "#FF6692",
          "pattern": {
           "shape": ""
          }
         },
         "name": "Rochester Institute of Technology",
         "offsetgroup": "Rochester Institute of Technology",
         "orientation": "v",
         "showlegend": true,
         "textposition": "auto",
         "texttemplate": "%{y}",
         "type": "bar",
         "x": [
          "Rochester Institute of Technology"
         ],
         "xaxis": "x",
         "y": [
          38568
         ],
         "yaxis": "y"
        },
        {
         "alignmentgroup": "True",
         "hovertemplate": "name=%{x}<br>tuition_and_fees=%{y}<extra></extra>",
         "legendgroup": "University of New Hampshire",
         "marker": {
          "color": "#B6E880",
          "pattern": {
           "shape": ""
          }
         },
         "name": "University of New Hampshire",
         "offsetgroup": "University of New Hampshire",
         "orientation": "v",
         "showlegend": true,
         "textposition": "auto",
         "texttemplate": "%{y}",
         "type": "bar",
         "x": [
          "University of New Hampshire"
         ],
         "xaxis": "x",
         "y": [
          31424
         ],
         "yaxis": "y"
        },
        {
         "alignmentgroup": "True",
         "hovertemplate": "name=%{x}<br>tuition_and_fees=%{y}<extra></extra>",
         "legendgroup": "University of San Francisco",
         "marker": {
          "color": "#FF97FF",
          "pattern": {
           "shape": ""
          }
         },
         "name": "University of San Francisco",
         "offsetgroup": "University of San Francisco",
         "orientation": "v",
         "showlegend": true,
         "textposition": "auto",
         "texttemplate": "%{y}",
         "type": "bar",
         "x": [
          "University of San Francisco"
         ],
         "xaxis": "x",
         "y": [
          44494
         ],
         "yaxis": "y"
        },
        {
         "alignmentgroup": "True",
         "hovertemplate": "name=%{x}<br>tuition_and_fees=%{y}<extra></extra>",
         "legendgroup": "University of South Carolina",
         "marker": {
          "color": "#FECB52",
          "pattern": {
           "shape": ""
          }
         },
         "name": "University of South Carolina",
         "offsetgroup": "University of South Carolina",
         "orientation": "v",
         "showlegend": true,
         "textposition": "auto",
         "texttemplate": "%{y}",
         "type": "bar",
         "x": [
          "University of South Carolina"
         ],
         "xaxis": "x",
         "y": [
          31282
         ],
         "yaxis": "y"
        },
        {
         "alignmentgroup": "True",
         "hovertemplate": "name=%{x}<br>tuition_and_fees=%{y}<extra></extra>",
         "legendgroup": "Iowa State University",
         "marker": {
          "color": "#636efa",
          "pattern": {
           "shape": ""
          }
         },
         "name": "Iowa State University",
         "offsetgroup": "Iowa State University",
         "orientation": "v",
         "showlegend": true,
         "textposition": "auto",
         "texttemplate": "%{y}",
         "type": "bar",
         "x": [
          "Iowa State University"
         ],
         "xaxis": "x",
         "y": [
          21483
         ],
         "yaxis": "y"
        },
        {
         "alignmentgroup": "True",
         "hovertemplate": "name=%{x}<br>tuition_and_fees=%{y}<extra></extra>",
         "legendgroup": "University of Dayton",
         "marker": {
          "color": "#EF553B",
          "pattern": {
           "shape": ""
          }
         },
         "name": "University of Dayton",
         "offsetgroup": "University of Dayton",
         "orientation": "v",
         "showlegend": true,
         "textposition": "auto",
         "texttemplate": "%{y}",
         "type": "bar",
         "x": [
          "University of Dayton"
         ],
         "xaxis": "x",
         "y": [
          40940
         ],
         "yaxis": "y"
        },
        {
         "alignmentgroup": "True",
         "hovertemplate": "name=%{x}<br>tuition_and_fees=%{y}<extra></extra>",
         "legendgroup": "University of Missouri",
         "marker": {
          "color": "#00cc96",
          "pattern": {
           "shape": ""
          }
         },
         "name": "University of Missouri",
         "offsetgroup": "University of Missouri",
         "orientation": "v",
         "showlegend": true,
         "textposition": "auto",
         "texttemplate": "%{y}",
         "type": "bar",
         "x": [
          "University of Missouri"
         ],
         "xaxis": "x",
         "y": [
          25892
         ],
         "yaxis": "y"
        },
        {
         "alignmentgroup": "True",
         "hovertemplate": "name=%{x}<br>tuition_and_fees=%{y}<extra></extra>",
         "legendgroup": "University of Nebraska--Lincoln",
         "marker": {
          "color": "#ab63fa",
          "pattern": {
           "shape": ""
          }
         },
         "name": "University of Nebraska--Lincoln",
         "offsetgroup": "University of Nebraska--Lincoln",
         "orientation": "v",
         "showlegend": true,
         "textposition": "auto",
         "texttemplate": "%{y}",
         "type": "bar",
         "x": [
          "University of Nebraska--Lincoln"
         ],
         "xaxis": "x",
         "y": [
          23148
         ],
         "yaxis": "y"
        },
        {
         "alignmentgroup": "True",
         "hovertemplate": "name=%{x}<br>tuition_and_fees=%{y}<extra></extra>",
         "legendgroup": "University of Oklahoma",
         "marker": {
          "color": "#FFA15A",
          "pattern": {
           "shape": ""
          }
         },
         "name": "University of Oklahoma",
         "offsetgroup": "University of Oklahoma",
         "orientation": "v",
         "showlegend": true,
         "textposition": "auto",
         "texttemplate": "%{y}",
         "type": "bar",
         "x": [
          "University of Oklahoma"
         ],
         "xaxis": "x",
         "y": [
          21451
         ],
         "yaxis": "y"
        },
        {
         "alignmentgroup": "True",
         "hovertemplate": "name=%{x}<br>tuition_and_fees=%{y}<extra></extra>",
         "legendgroup": "University of the Pacific",
         "marker": {
          "color": "#19d3f3",
          "pattern": {
           "shape": ""
          }
         },
         "name": "University of the Pacific",
         "offsetgroup": "University of the Pacific",
         "orientation": "v",
         "showlegend": true,
         "textposition": "auto",
         "texttemplate": "%{y}",
         "type": "bar",
         "x": [
          "University of the Pacific"
         ],
         "xaxis": "x",
         "y": [
          44588
         ],
         "yaxis": "y"
        },
        {
         "alignmentgroup": "True",
         "hovertemplate": "name=%{x}<br>tuition_and_fees=%{y}<extra></extra>",
         "legendgroup": "University of Utah",
         "marker": {
          "color": "#FF6692",
          "pattern": {
           "shape": ""
          }
         },
         "name": "University of Utah",
         "offsetgroup": "University of Utah",
         "orientation": "v",
         "showlegend": true,
         "textposition": "auto",
         "texttemplate": "%{y}",
         "type": "bar",
         "x": [
          "University of Utah"
         ],
         "xaxis": "x",
         "y": [
          27039
         ],
         "yaxis": "y"
        },
        {
         "alignmentgroup": "True",
         "hovertemplate": "name=%{x}<br>tuition_and_fees=%{y}<extra></extra>",
         "legendgroup": "Michigan Technological University",
         "marker": {
          "color": "#B6E880",
          "pattern": {
           "shape": ""
          }
         },
         "name": "Michigan Technological University",
         "offsetgroup": "Michigan Technological University",
         "orientation": "v",
         "showlegend": true,
         "textposition": "auto",
         "texttemplate": "%{y}",
         "type": "bar",
         "x": [
          "Michigan Technological University"
         ],
         "xaxis": "x",
         "y": [
          30968
         ],
         "yaxis": "y"
        },
        {
         "alignmentgroup": "True",
         "hovertemplate": "name=%{x}<br>tuition_and_fees=%{y}<extra></extra>",
         "legendgroup": "Seton Hall University",
         "marker": {
          "color": "#FF97FF",
          "pattern": {
           "shape": ""
          }
         },
         "name": "Seton Hall University",
         "offsetgroup": "Seton Hall University",
         "orientation": "v",
         "showlegend": true,
         "textposition": "auto",
         "texttemplate": "%{y}",
         "type": "bar",
         "x": [
          "Seton Hall University"
         ],
         "xaxis": "x",
         "y": [
          39258
         ],
         "yaxis": "y"
        },
        {
         "alignmentgroup": "True",
         "hovertemplate": "name=%{x}<br>tuition_and_fees=%{y}<extra></extra>",
         "legendgroup": "Temple University",
         "marker": {
          "color": "#FECB52",
          "pattern": {
           "shape": ""
          }
         },
         "name": "Temple University",
         "offsetgroup": "Temple University",
         "orientation": "v",
         "showlegend": true,
         "textposition": "auto",
         "texttemplate": "%{y}",
         "type": "bar",
         "x": [
          "Temple University"
         ],
         "xaxis": "x",
         "y": [
          25994
         ],
         "yaxis": "y"
        },
        {
         "alignmentgroup": "True",
         "hovertemplate": "name=%{x}<br>tuition_and_fees=%{y}<extra></extra>",
         "legendgroup": "University of California--Riverside",
         "marker": {
          "color": "#636efa",
          "pattern": {
           "shape": ""
          }
         },
         "name": "University of California--Riverside",
         "offsetgroup": "University of California--Riverside",
         "orientation": "v",
         "showlegend": true,
         "textposition": "auto",
         "texttemplate": "%{y}",
         "type": "bar",
         "x": [
          "University of California--Riverside"
         ],
         "xaxis": "x",
         "y": [
          40263
         ],
         "yaxis": "y"
        },
        {
         "alignmentgroup": "True",
         "hovertemplate": "name=%{x}<br>tuition_and_fees=%{y}<extra></extra>",
         "legendgroup": "University of Kansas",
         "marker": {
          "color": "#EF553B",
          "pattern": {
           "shape": ""
          }
         },
         "name": "University of Kansas",
         "offsetgroup": "University of Kansas",
         "orientation": "v",
         "showlegend": true,
         "textposition": "auto",
         "texttemplate": "%{y}",
         "type": "bar",
         "x": [
          "University of Kansas"
         ],
         "xaxis": "x",
         "y": [
          25932
         ],
         "yaxis": "y"
        },
        {
         "alignmentgroup": "True",
         "hovertemplate": "name=%{x}<br>tuition_and_fees=%{y}<extra></extra>",
         "legendgroup": "University of St. Thomas",
         "marker": {
          "color": "#00cc96",
          "pattern": {
           "shape": ""
          }
         },
         "name": "University of St. Thomas",
         "offsetgroup": "University of St. Thomas",
         "orientation": "v",
         "showlegend": true,
         "textposition": "auto",
         "texttemplate": "%{y}",
         "type": "bar",
         "x": [
          "University of St. Thomas"
         ],
         "xaxis": "x",
         "y": [
          39594
         ],
         "yaxis": "y"
        },
        {
         "alignmentgroup": "True",
         "hovertemplate": "name=%{x}<br>tuition_and_fees=%{y}<extra></extra>",
         "legendgroup": "The Catholic University of America",
         "marker": {
          "color": "#ab63fa",
          "pattern": {
           "shape": ""
          }
         },
         "name": "The Catholic University of America",
         "offsetgroup": "The Catholic University of America",
         "orientation": "v",
         "showlegend": true,
         "textposition": "auto",
         "texttemplate": "%{y}",
         "type": "bar",
         "x": [
          "The Catholic University of America"
         ],
         "xaxis": "x",
         "y": [
          42536
         ],
         "yaxis": "y"
        },
        {
         "alignmentgroup": "True",
         "hovertemplate": "name=%{x}<br>tuition_and_fees=%{y}<extra></extra>",
         "legendgroup": "DePaul University",
         "marker": {
          "color": "#FFA15A",
          "pattern": {
           "shape": ""
          }
         },
         "name": "DePaul University",
         "offsetgroup": "DePaul University",
         "orientation": "v",
         "showlegend": true,
         "textposition": "auto",
         "texttemplate": "%{y}",
         "type": "bar",
         "x": [
          "DePaul University"
         ],
         "xaxis": "x",
         "y": [
          37626
         ],
         "yaxis": "y"
        },
        {
         "alignmentgroup": "True",
         "hovertemplate": "name=%{x}<br>tuition_and_fees=%{y}<extra></extra>",
         "legendgroup": "Duquesne University",
         "marker": {
          "color": "#19d3f3",
          "pattern": {
           "shape": ""
          }
         },
         "name": "Duquesne University",
         "offsetgroup": "Duquesne University",
         "orientation": "v",
         "showlegend": true,
         "textposition": "auto",
         "texttemplate": "%{y}",
         "type": "bar",
         "x": [
          "Duquesne University"
         ],
         "xaxis": "x",
         "y": [
          35062
         ],
         "yaxis": "y"
        },
        {
         "alignmentgroup": "True",
         "hovertemplate": "name=%{x}<br>tuition_and_fees=%{y}<extra></extra>",
         "legendgroup": "Howard University",
         "marker": {
          "color": "#FF6692",
          "pattern": {
           "shape": ""
          }
         },
         "name": "Howard University",
         "offsetgroup": "Howard University",
         "orientation": "v",
         "showlegend": true,
         "textposition": "auto",
         "texttemplate": "%{y}",
         "type": "bar",
         "x": [
          "Howard University"
         ],
         "xaxis": "x",
         "y": [
          24908
         ],
         "yaxis": "y"
        },
        {
         "alignmentgroup": "True",
         "hovertemplate": "name=%{x}<br>tuition_and_fees=%{y}<extra></extra>",
         "legendgroup": "University of Arizona",
         "marker": {
          "color": "#B6E880",
          "pattern": {
           "shape": ""
          }
         },
         "name": "University of Arizona",
         "offsetgroup": "University of Arizona",
         "orientation": "v",
         "showlegend": true,
         "textposition": "auto",
         "texttemplate": "%{y}",
         "type": "bar",
         "x": [
          "University of Arizona"
         ],
         "xaxis": "x",
         "y": [
          30025
         ],
         "yaxis": "y"
        },
        {
         "alignmentgroup": "True",
         "hovertemplate": "name=%{x}<br>tuition_and_fees=%{y}<extra></extra>",
         "legendgroup": "Arizona State University--Tempe",
         "marker": {
          "color": "#FF97FF",
          "pattern": {
           "shape": ""
          }
         },
         "name": "Arizona State University--Tempe",
         "offsetgroup": "Arizona State University--Tempe",
         "orientation": "v",
         "showlegend": true,
         "textposition": "auto",
         "texttemplate": "%{y}",
         "type": "bar",
         "x": [
          "Arizona State University--Tempe"
         ],
         "xaxis": "x",
         "y": [
          25458
         ],
         "yaxis": "y"
        },
        {
         "alignmentgroup": "True",
         "hovertemplate": "name=%{x}<br>tuition_and_fees=%{y}<extra></extra>",
         "legendgroup": "Clarkson University",
         "marker": {
          "color": "#FECB52",
          "pattern": {
           "shape": ""
          }
         },
         "name": "Clarkson University",
         "offsetgroup": "Clarkson University",
         "orientation": "v",
         "showlegend": true,
         "textposition": "auto",
         "texttemplate": "%{y}",
         "type": "bar",
         "x": [
          "Clarkson University"
         ],
         "xaxis": "x",
         "y": [
          46132
         ],
         "yaxis": "y"
        },
        {
         "alignmentgroup": "True",
         "hovertemplate": "name=%{x}<br>tuition_and_fees=%{y}<extra></extra>",
         "legendgroup": "Colorado State University",
         "marker": {
          "color": "#636efa",
          "pattern": {
           "shape": ""
          }
         },
         "name": "Colorado State University",
         "offsetgroup": "Colorado State University",
         "orientation": "v",
         "showlegend": true,
         "textposition": "auto",
         "texttemplate": "%{y}",
         "type": "bar",
         "x": [
          "Colorado State University"
         ],
         "xaxis": "x",
         "y": [
          28374
         ],
         "yaxis": "y"
        },
        {
         "alignmentgroup": "True",
         "hovertemplate": "name=%{x}<br>tuition_and_fees=%{y}<extra></extra>",
         "legendgroup": "New School",
         "marker": {
          "color": "#EF553B",
          "pattern": {
           "shape": ""
          }
         },
         "name": "New School",
         "offsetgroup": "New School",
         "orientation": "v",
         "showlegend": true,
         "textposition": "auto",
         "texttemplate": "%{y}",
         "type": "bar",
         "x": [
          "New School"
         ],
         "xaxis": "x",
         "y": [
          45535
         ],
         "yaxis": "y"
        },
        {
         "alignmentgroup": "True",
         "hovertemplate": "name=%{x}<br>tuition_and_fees=%{y}<extra></extra>",
         "legendgroup": "Hofstra University",
         "marker": {
          "color": "#00cc96",
          "pattern": {
           "shape": ""
          }
         },
         "name": "Hofstra University",
         "offsetgroup": "Hofstra University",
         "orientation": "v",
         "showlegend": true,
         "textposition": "auto",
         "texttemplate": "%{y}",
         "type": "bar",
         "x": [
          "Hofstra University"
         ],
         "xaxis": "x",
         "y": [
          42160
         ],
         "yaxis": "y"
        },
        {
         "alignmentgroup": "True",
         "hovertemplate": "name=%{x}<br>tuition_and_fees=%{y}<extra></extra>",
         "legendgroup": "University of Kentucky",
         "marker": {
          "color": "#ab63fa",
          "pattern": {
           "shape": ""
          }
         },
         "name": "University of Kentucky",
         "offsetgroup": "University of Kentucky",
         "orientation": "v",
         "showlegend": true,
         "textposition": "auto",
         "texttemplate": "%{y}",
         "type": "bar",
         "x": [
          "University of Kentucky"
         ],
         "xaxis": "x",
         "y": [
          26334
         ],
         "yaxis": "y"
        },
        {
         "alignmentgroup": "True",
         "hovertemplate": "name=%{x}<br>tuition_and_fees=%{y}<extra></extra>",
         "legendgroup": "Kansas State University",
         "marker": {
          "color": "#FFA15A",
          "pattern": {
           "shape": ""
          }
         },
         "name": "Kansas State University",
         "offsetgroup": "Kansas State University",
         "orientation": "v",
         "showlegend": true,
         "textposition": "auto",
         "texttemplate": "%{y}",
         "type": "bar",
         "x": [
          "Kansas State University"
         ],
         "xaxis": "x",
         "y": [
          23429
         ],
         "yaxis": "y"
        },
        {
         "alignmentgroup": "True",
         "hovertemplate": "name=%{x}<br>tuition_and_fees=%{y}<extra></extra>",
         "legendgroup": "Louisiana State University--Baton Rouge",
         "marker": {
          "color": "#19d3f3",
          "pattern": {
           "shape": ""
          }
         },
         "name": "Louisiana State University--Baton Rouge",
         "offsetgroup": "Louisiana State University--Baton Rouge",
         "orientation": "v",
         "showlegend": true,
         "textposition": "auto",
         "texttemplate": "%{y}",
         "type": "bar",
         "x": [
          "Louisiana State University--Baton Rouge"
         ],
         "xaxis": "x",
         "y": [
          27005
         ],
         "yaxis": "y"
        },
        {
         "alignmentgroup": "True",
         "hovertemplate": "name=%{x}<br>tuition_and_fees=%{y}<extra></extra>",
         "legendgroup": "Mercer University",
         "marker": {
          "color": "#FF6692",
          "pattern": {
           "shape": ""
          }
         },
         "name": "Mercer University",
         "offsetgroup": "Mercer University",
         "orientation": "v",
         "showlegend": true,
         "textposition": "auto",
         "texttemplate": "%{y}",
         "type": "bar",
         "x": [
          "Mercer University"
         ],
         "xaxis": "x",
         "y": [
          35130
         ],
         "yaxis": "y"
        },
        {
         "alignmentgroup": "True",
         "hovertemplate": "name=%{x}<br>tuition_and_fees=%{y}<extra></extra>",
         "legendgroup": "New Jersey Institute of Technology",
         "marker": {
          "color": "#B6E880",
          "pattern": {
           "shape": ""
          }
         },
         "name": "New Jersey Institute of Technology",
         "offsetgroup": "New Jersey Institute of Technology",
         "orientation": "v",
         "showlegend": true,
         "textposition": "auto",
         "texttemplate": "%{y}",
         "type": "bar",
         "x": [
          "New Jersey Institute of Technology"
         ],
         "xaxis": "x",
         "y": [
          30326
         ],
         "yaxis": "y"
        },
        {
         "alignmentgroup": "True",
         "hovertemplate": "name=%{x}<br>tuition_and_fees=%{y}<extra></extra>",
         "legendgroup": "Rutgers University--Newark",
         "marker": {
          "color": "#FF97FF",
          "pattern": {
           "shape": ""
          }
         },
         "name": "Rutgers University--Newark",
         "offsetgroup": "Rutgers University--Newark",
         "orientation": "v",
         "showlegend": true,
         "textposition": "auto",
         "texttemplate": "%{y}",
         "type": "bar",
         "x": [
          "Rutgers University--Newark"
         ],
         "xaxis": "x",
         "y": [
          29480
         ],
         "yaxis": "y"
        },
        {
         "alignmentgroup": "True",
         "hovertemplate": "name=%{x}<br>tuition_and_fees=%{y}<extra></extra>",
         "legendgroup": "University of Arkansas",
         "marker": {
          "color": "#FECB52",
          "pattern": {
           "shape": ""
          }
         },
         "name": "University of Arkansas",
         "offsetgroup": "University of Arkansas",
         "orientation": "v",
         "showlegend": true,
         "textposition": "auto",
         "texttemplate": "%{y}",
         "type": "bar",
         "x": [
          "University of Arkansas"
         ],
         "xaxis": "x",
         "y": [
          23168
         ],
         "yaxis": "y"
        },
        {
         "alignmentgroup": "True",
         "hovertemplate": "name=%{x}<br>tuition_and_fees=%{y}<extra></extra>",
         "legendgroup": "University of Cincinnati",
         "marker": {
          "color": "#636efa",
          "pattern": {
           "shape": ""
          }
         },
         "name": "University of Cincinnati",
         "offsetgroup": "University of Cincinnati",
         "orientation": "v",
         "showlegend": true,
         "textposition": "auto",
         "texttemplate": "%{y}",
         "type": "bar",
         "x": [
          "University of Cincinnati"
         ],
         "xaxis": "x",
         "y": [
          26334
         ],
         "yaxis": "y"
        },
        {
         "alignmentgroup": "True",
         "hovertemplate": "name=%{x}<br>tuition_and_fees=%{y}<extra></extra>",
         "legendgroup": "University of Mississippi",
         "marker": {
          "color": "#EF553B",
          "pattern": {
           "shape": ""
          }
         },
         "name": "University of Mississippi",
         "offsetgroup": "University of Mississippi",
         "orientation": "v",
         "showlegend": true,
         "textposition": "auto",
         "texttemplate": "%{y}",
         "type": "bar",
         "x": [
          "University of Mississippi"
         ],
         "xaxis": "x",
         "y": [
          22012
         ],
         "yaxis": "y"
        },
        {
         "alignmentgroup": "True",
         "hovertemplate": "name=%{x}<br>tuition_and_fees=%{y}<extra></extra>",
         "legendgroup": "George Mason University",
         "marker": {
          "color": "#00cc96",
          "pattern": {
           "shape": ""
          }
         },
         "name": "George Mason University",
         "offsetgroup": "George Mason University",
         "orientation": "v",
         "showlegend": true,
         "textposition": "auto",
         "texttemplate": "%{y}",
         "type": "bar",
         "x": [
          "George Mason University"
         ],
         "xaxis": "x",
         "y": [
          32582
         ],
         "yaxis": "y"
        },
        {
         "alignmentgroup": "True",
         "hovertemplate": "name=%{x}<br>tuition_and_fees=%{y}<extra></extra>",
         "legendgroup": "Oregon State University",
         "marker": {
          "color": "#ab63fa",
          "pattern": {
           "shape": ""
          }
         },
         "name": "Oregon State University",
         "offsetgroup": "Oregon State University",
         "orientation": "v",
         "showlegend": true,
         "textposition": "auto",
         "texttemplate": "%{y}",
         "type": "bar",
         "x": [
          "Oregon State University"
         ],
         "xaxis": "x",
         "y": [
          28846
         ],
         "yaxis": "y"
        },
        {
         "alignmentgroup": "True",
         "hovertemplate": "name=%{x}<br>tuition_and_fees=%{y}<extra></extra>",
         "legendgroup": "Washington State University",
         "marker": {
          "color": "#FFA15A",
          "pattern": {
           "shape": ""
          }
         },
         "name": "Washington State University",
         "offsetgroup": "Washington State University",
         "orientation": "v",
         "showlegend": true,
         "textposition": "auto",
         "texttemplate": "%{y}",
         "type": "bar",
         "x": [
          "Washington State University"
         ],
         "xaxis": "x",
         "y": [
          25673
         ],
         "yaxis": "y"
        },
        {
         "alignmentgroup": "True",
         "hovertemplate": "name=%{x}<br>tuition_and_fees=%{y}<extra></extra>",
         "legendgroup": "Adelphi University",
         "marker": {
          "color": "#19d3f3",
          "pattern": {
           "shape": ""
          }
         },
         "name": "Adelphi University",
         "offsetgroup": "Adelphi University",
         "orientation": "v",
         "showlegend": true,
         "textposition": "auto",
         "texttemplate": "%{y}",
         "type": "bar",
         "x": [
          "Adelphi University"
         ],
         "xaxis": "x",
         "y": [
          34034
         ],
         "yaxis": "y"
        },
        {
         "alignmentgroup": "True",
         "hovertemplate": "name=%{x}<br>tuition_and_fees=%{y}<extra></extra>",
         "legendgroup": "Ohio University",
         "marker": {
          "color": "#FF6692",
          "pattern": {
           "shape": ""
          }
         },
         "name": "Ohio University",
         "offsetgroup": "Ohio University",
         "orientation": "v",
         "showlegend": true,
         "textposition": "auto",
         "texttemplate": "%{y}",
         "type": "bar",
         "x": [
          "Ohio University"
         ],
         "xaxis": "x",
         "y": [
          21208
         ],
         "yaxis": "y"
        },
        {
         "alignmentgroup": "True",
         "hovertemplate": "name=%{x}<br>tuition_and_fees=%{y}<extra></extra>",
         "legendgroup": "San Diego State University",
         "marker": {
          "color": "#B6E880",
          "pattern": {
           "shape": ""
          }
         },
         "name": "San Diego State University",
         "offsetgroup": "San Diego State University",
         "orientation": "v",
         "showlegend": true,
         "textposition": "auto",
         "texttemplate": "%{y}",
         "type": "bar",
         "x": [
          "San Diego State University"
         ],
         "xaxis": "x",
         "y": [
          18244
         ],
         "yaxis": "y"
        },
        {
         "alignmentgroup": "True",
         "hovertemplate": "name=%{x}<br>tuition_and_fees=%{y}<extra></extra>",
         "legendgroup": "St. John Fisher College",
         "marker": {
          "color": "#FF97FF",
          "pattern": {
           "shape": ""
          }
         },
         "name": "St. John Fisher College",
         "offsetgroup": "St. John Fisher College",
         "orientation": "v",
         "showlegend": true,
         "textposition": "auto",
         "texttemplate": "%{y}",
         "type": "bar",
         "x": [
          "St. John Fisher College"
         ],
         "xaxis": "x",
         "y": [
          31880
         ],
         "yaxis": "y"
        },
        {
         "alignmentgroup": "True",
         "hovertemplate": "name=%{x}<br>tuition_and_fees=%{y}<extra></extra>",
         "legendgroup": "University at Albany--SUNY",
         "marker": {
          "color": "#FECB52",
          "pattern": {
           "shape": ""
          }
         },
         "name": "University at Albany--SUNY",
         "offsetgroup": "University at Albany--SUNY",
         "orientation": "v",
         "showlegend": true,
         "textposition": "auto",
         "texttemplate": "%{y}",
         "type": "bar",
         "x": [
          "University at Albany--SUNY"
         ],
         "xaxis": "x",
         "y": [
          22244
         ],
         "yaxis": "y"
        },
        {
         "alignmentgroup": "True",
         "hovertemplate": "name=%{x}<br>tuition_and_fees=%{y}<extra></extra>",
         "legendgroup": "University of Texas--Dallas",
         "marker": {
          "color": "#636efa",
          "pattern": {
           "shape": ""
          }
         },
         "name": "University of Texas--Dallas",
         "offsetgroup": "University of Texas--Dallas",
         "orientation": "v",
         "showlegend": true,
         "textposition": "auto",
         "texttemplate": "%{y}",
         "type": "bar",
         "x": [
          "University of Texas--Dallas"
         ],
         "xaxis": "x",
         "y": [
          33654
         ],
         "yaxis": "y"
        },
        {
         "alignmentgroup": "True",
         "hovertemplate": "name=%{x}<br>tuition_and_fees=%{y}<extra></extra>",
         "legendgroup": "Illinois State University",
         "marker": {
          "color": "#EF553B",
          "pattern": {
           "shape": ""
          }
         },
         "name": "Illinois State University",
         "offsetgroup": "Illinois State University",
         "orientation": "v",
         "showlegend": true,
         "textposition": "auto",
         "texttemplate": "%{y}",
         "type": "bar",
         "x": [
          "Illinois State University"
         ],
         "xaxis": "x",
         "y": [
          20886
         ],
         "yaxis": "y"
        },
        {
         "alignmentgroup": "True",
         "hovertemplate": "name=%{x}<br>tuition_and_fees=%{y}<extra></extra>",
         "legendgroup": "Immaculata University",
         "marker": {
          "color": "#00cc96",
          "pattern": {
           "shape": ""
          }
         },
         "name": "Immaculata University",
         "offsetgroup": "Immaculata University",
         "orientation": "v",
         "showlegend": true,
         "textposition": "auto",
         "texttemplate": "%{y}",
         "type": "bar",
         "x": [
          "Immaculata University"
         ],
         "xaxis": "x",
         "y": [
          35210
         ],
         "yaxis": "y"
        },
        {
         "alignmentgroup": "True",
         "hovertemplate": "name=%{x}<br>tuition_and_fees=%{y}<extra></extra>",
         "legendgroup": "Oklahoma State University",
         "marker": {
          "color": "#ab63fa",
          "pattern": {
           "shape": ""
          }
         },
         "name": "Oklahoma State University",
         "offsetgroup": "Oklahoma State University",
         "orientation": "v",
         "showlegend": true,
         "textposition": "auto",
         "texttemplate": "%{y}",
         "type": "bar",
         "x": [
          "Oklahoma State University"
         ],
         "xaxis": "x",
         "y": [
          20978
         ],
         "yaxis": "y"
        },
        {
         "alignmentgroup": "True",
         "hovertemplate": "name=%{x}<br>tuition_and_fees=%{y}<extra></extra>",
         "legendgroup": "University of California--Merced",
         "marker": {
          "color": "#FFA15A",
          "pattern": {
           "shape": ""
          }
         },
         "name": "University of California--Merced",
         "offsetgroup": "University of California--Merced",
         "orientation": "v",
         "showlegend": true,
         "textposition": "auto",
         "texttemplate": "%{y}",
         "type": "bar",
         "x": [
          "University of California--Merced"
         ],
         "xaxis": "x",
         "y": [
          39944
         ],
         "yaxis": "y"
        },
        {
         "alignmentgroup": "True",
         "hovertemplate": "name=%{x}<br>tuition_and_fees=%{y}<extra></extra>",
         "legendgroup": "University of Illinois--Chicago",
         "marker": {
          "color": "#19d3f3",
          "pattern": {
           "shape": ""
          }
         },
         "name": "University of Illinois--Chicago",
         "offsetgroup": "University of Illinois--Chicago",
         "orientation": "v",
         "showlegend": true,
         "textposition": "auto",
         "texttemplate": "%{y}",
         "type": "bar",
         "x": [
          "University of Illinois--Chicago"
         ],
         "xaxis": "x",
         "y": [
          26526
         ],
         "yaxis": "y"
        },
        {
         "alignmentgroup": "True",
         "hovertemplate": "name=%{x}<br>tuition_and_fees=%{y}<extra></extra>",
         "legendgroup": "University of La Verne",
         "marker": {
          "color": "#FF6692",
          "pattern": {
           "shape": ""
          }
         },
         "name": "University of La Verne",
         "offsetgroup": "University of La Verne",
         "orientation": "v",
         "showlegend": true,
         "textposition": "auto",
         "texttemplate": "%{y}",
         "type": "bar",
         "x": [
          "University of La Verne"
         ],
         "xaxis": "x",
         "y": [
          39900
         ],
         "yaxis": "y"
        },
        {
         "alignmentgroup": "True",
         "hovertemplate": "name=%{x}<br>tuition_and_fees=%{y}<extra></extra>",
         "legendgroup": "University of Massachusetts--Lowell",
         "marker": {
          "color": "#B6E880",
          "pattern": {
           "shape": ""
          }
         },
         "name": "University of Massachusetts--Lowell",
         "offsetgroup": "University of Massachusetts--Lowell",
         "orientation": "v",
         "showlegend": true,
         "textposition": "auto",
         "texttemplate": "%{y}",
         "type": "bar",
         "x": [
          "University of Massachusetts--Lowell"
         ],
         "xaxis": "x",
         "y": [
          29125
         ],
         "yaxis": "y"
        },
        {
         "alignmentgroup": "True",
         "hovertemplate": "name=%{x}<br>tuition_and_fees=%{y}<extra></extra>",
         "legendgroup": "Seattle Pacific University",
         "marker": {
          "color": "#FF97FF",
          "pattern": {
           "shape": ""
          }
         },
         "name": "Seattle Pacific University",
         "offsetgroup": "Seattle Pacific University",
         "orientation": "v",
         "showlegend": true,
         "textposition": "auto",
         "texttemplate": "%{y}",
         "type": "bar",
         "x": [
          "Seattle Pacific University"
         ],
         "xaxis": "x",
         "y": [
          38940
         ],
         "yaxis": "y"
        },
        {
         "alignmentgroup": "True",
         "hovertemplate": "name=%{x}<br>tuition_and_fees=%{y}<extra></extra>",
         "legendgroup": "University of Alabama--Birmingham",
         "marker": {
          "color": "#FECB52",
          "pattern": {
           "shape": ""
          }
         },
         "name": "University of Alabama--Birmingham",
         "offsetgroup": "University of Alabama--Birmingham",
         "orientation": "v",
         "showlegend": true,
         "textposition": "auto",
         "texttemplate": "%{y}",
         "type": "bar",
         "x": [
          "University of Alabama--Birmingham"
         ],
         "xaxis": "x",
         "y": [
          17654
         ],
         "yaxis": "y"
        },
        {
         "alignmentgroup": "True",
         "hovertemplate": "name=%{x}<br>tuition_and_fees=%{y}<extra></extra>",
         "legendgroup": "University of Maryland--Baltimore County",
         "marker": {
          "color": "#636efa",
          "pattern": {
           "shape": ""
          }
         },
         "name": "University of Maryland--Baltimore County",
         "offsetgroup": "University of Maryland--Baltimore County",
         "orientation": "v",
         "showlegend": true,
         "textposition": "auto",
         "texttemplate": "%{y}",
         "type": "bar",
         "x": [
          "University of Maryland--Baltimore County"
         ],
         "xaxis": "x",
         "y": [
          24492
         ],
         "yaxis": "y"
        },
        {
         "alignmentgroup": "True",
         "hovertemplate": "name=%{x}<br>tuition_and_fees=%{y}<extra></extra>",
         "legendgroup": "University of Rhode Island",
         "marker": {
          "color": "#EF553B",
          "pattern": {
           "shape": ""
          }
         },
         "name": "University of Rhode Island",
         "offsetgroup": "University of Rhode Island",
         "orientation": "v",
         "showlegend": true,
         "textposition": "auto",
         "texttemplate": "%{y}",
         "type": "bar",
         "x": [
          "University of Rhode Island"
         ],
         "xaxis": "x",
         "y": [
          28852
         ],
         "yaxis": "y"
        },
        {
         "alignmentgroup": "True",
         "hovertemplate": "name=%{x}<br>tuition_and_fees=%{y}<extra></extra>",
         "legendgroup": "University of South Florida",
         "marker": {
          "color": "#00cc96",
          "pattern": {
           "shape": ""
          }
         },
         "name": "University of South Florida",
         "offsetgroup": "University of South Florida",
         "orientation": "v",
         "showlegend": true,
         "textposition": "auto",
         "texttemplate": "%{y}",
         "type": "bar",
         "x": [
          "University of South Florida"
         ],
         "xaxis": "x",
         "y": [
          17325
         ],
         "yaxis": "y"
        },
        {
         "alignmentgroup": "True",
         "hovertemplate": "name=%{x}<br>tuition_and_fees=%{y}<extra></extra>",
         "legendgroup": "Biola University",
         "marker": {
          "color": "#ab63fa",
          "pattern": {
           "shape": ""
          }
         },
         "name": "Biola University",
         "offsetgroup": "Biola University",
         "orientation": "v",
         "showlegend": true,
         "textposition": "auto",
         "texttemplate": "%{y}",
         "type": "bar",
         "x": [
          "Biola University"
         ],
         "xaxis": "x",
         "y": [
          36696
         ],
         "yaxis": "y"
        },
        {
         "alignmentgroup": "True",
         "hovertemplate": "name=%{x}<br>tuition_and_fees=%{y}<extra></extra>",
         "legendgroup": "Maryville University of St. Louis",
         "marker": {
          "color": "#FFA15A",
          "pattern": {
           "shape": ""
          }
         },
         "name": "Maryville University of St. Louis",
         "offsetgroup": "Maryville University of St. Louis",
         "orientation": "v",
         "showlegend": true,
         "textposition": "auto",
         "texttemplate": "%{y}",
         "type": "bar",
         "x": [
          "Maryville University of St. Louis"
         ],
         "xaxis": "x",
         "y": [
          27958
         ],
         "yaxis": "y"
        },
        {
         "alignmentgroup": "True",
         "hovertemplate": "name=%{x}<br>tuition_and_fees=%{y}<extra></extra>",
         "legendgroup": "Missouri University of Science & Technology",
         "marker": {
          "color": "#19d3f3",
          "pattern": {
           "shape": ""
          }
         },
         "name": "Missouri University of Science & Technology",
         "offsetgroup": "Missouri University of Science & Technology",
         "orientation": "v",
         "showlegend": true,
         "textposition": "auto",
         "texttemplate": "%{y}",
         "type": "bar",
         "x": [
          "Missouri University of Science & Technology"
         ],
         "xaxis": "x",
         "y": [
          26152
         ],
         "yaxis": "y"
        },
        {
         "alignmentgroup": "True",
         "hovertemplate": "name=%{x}<br>tuition_and_fees=%{y}<extra></extra>",
         "legendgroup": "St. John's University",
         "marker": {
          "color": "#FF6692",
          "pattern": {
           "shape": ""
          }
         },
         "name": "St. John's University",
         "offsetgroup": "St. John's University",
         "orientation": "v",
         "showlegend": true,
         "textposition": "auto",
         "texttemplate": "%{y}",
         "type": "bar",
         "x": [
          "St. John's University"
         ],
         "xaxis": "x",
         "y": [
          39460
         ],
         "yaxis": "y"
        },
        {
         "alignmentgroup": "True",
         "hovertemplate": "name=%{x}<br>tuition_and_fees=%{y}<extra></extra>",
         "legendgroup": "Virginia Commonwealth University",
         "marker": {
          "color": "#B6E880",
          "pattern": {
           "shape": ""
          }
         },
         "name": "Virginia Commonwealth University",
         "offsetgroup": "Virginia Commonwealth University",
         "orientation": "v",
         "showlegend": true,
         "textposition": "auto",
         "texttemplate": "%{y}",
         "type": "bar",
         "x": [
          "Virginia Commonwealth University"
         ],
         "xaxis": "x",
         "y": [
          31608
         ],
         "yaxis": "y"
        },
        {
         "alignmentgroup": "True",
         "hovertemplate": "name=%{x}<br>tuition_and_fees=%{y}<extra></extra>",
         "legendgroup": "Union University",
         "marker": {
          "color": "#FF97FF",
          "pattern": {
           "shape": ""
          }
         },
         "name": "Union University",
         "offsetgroup": "Union University",
         "orientation": "v",
         "showlegend": true,
         "textposition": "auto",
         "texttemplate": "%{y}",
         "type": "bar",
         "x": [
          "Union University"
         ],
         "xaxis": "x",
         "y": [
          30420
         ],
         "yaxis": "y"
        },
        {
         "alignmentgroup": "True",
         "hovertemplate": "name=%{x}<br>tuition_and_fees=%{y}<extra></extra>",
         "legendgroup": "University of Hawaii--Manoa",
         "marker": {
          "color": "#FECB52",
          "pattern": {
           "shape": ""
          }
         },
         "name": "University of Hawaii--Manoa",
         "offsetgroup": "University of Hawaii--Manoa",
         "orientation": "v",
         "showlegend": true,
         "textposition": "auto",
         "texttemplate": "%{y}",
         "type": "bar",
         "x": [
          "University of Hawaii--Manoa"
         ],
         "xaxis": "x",
         "y": [
          33764
         ],
         "yaxis": "y"
        },
        {
         "alignmentgroup": "True",
         "hovertemplate": "name=%{x}<br>tuition_and_fees=%{y}<extra></extra>",
         "legendgroup": "Edgewood College",
         "marker": {
          "color": "#636efa",
          "pattern": {
           "shape": ""
          }
         },
         "name": "Edgewood College",
         "offsetgroup": "Edgewood College",
         "orientation": "v",
         "showlegend": true,
         "textposition": "auto",
         "texttemplate": "%{y}",
         "type": "bar",
         "x": [
          "Edgewood College"
         ],
         "xaxis": "x",
         "y": [
          27530
         ],
         "yaxis": "y"
        },
        {
         "alignmentgroup": "True",
         "hovertemplate": "name=%{x}<br>tuition_and_fees=%{y}<extra></extra>",
         "legendgroup": "Florida Institute of Technology",
         "marker": {
          "color": "#EF553B",
          "pattern": {
           "shape": ""
          }
         },
         "name": "Florida Institute of Technology",
         "offsetgroup": "Florida Institute of Technology",
         "orientation": "v",
         "showlegend": true,
         "textposition": "auto",
         "texttemplate": "%{y}",
         "type": "bar",
         "x": [
          "Florida Institute of Technology"
         ],
         "xaxis": "x",
         "y": [
          40446
         ],
         "yaxis": "y"
        },
        {
         "alignmentgroup": "True",
         "hovertemplate": "name=%{x}<br>tuition_and_fees=%{y}<extra></extra>",
         "legendgroup": "University of Idaho",
         "marker": {
          "color": "#00cc96",
          "pattern": {
           "shape": ""
          }
         },
         "name": "University of Idaho",
         "offsetgroup": "University of Idaho",
         "orientation": "v",
         "showlegend": true,
         "textposition": "auto",
         "texttemplate": "%{y}",
         "type": "bar",
         "x": [
          "University of Idaho"
         ],
         "xaxis": "x",
         "y": [
          22040
         ],
         "yaxis": "y"
        },
        {
         "alignmentgroup": "True",
         "hovertemplate": "name=%{x}<br>tuition_and_fees=%{y}<extra></extra>",
         "legendgroup": "University of Louisville",
         "marker": {
          "color": "#ab63fa",
          "pattern": {
           "shape": ""
          }
         },
         "name": "University of Louisville",
         "offsetgroup": "University of Louisville",
         "orientation": "v",
         "showlegend": true,
         "textposition": "auto",
         "texttemplate": "%{y}",
         "type": "bar",
         "x": [
          "University of Louisville"
         ],
         "xaxis": "x",
         "y": [
          24626
         ],
         "yaxis": "y"
        },
        {
         "alignmentgroup": "True",
         "hovertemplate": "name=%{x}<br>tuition_and_fees=%{y}<extra></extra>",
         "legendgroup": "University of Wyoming",
         "marker": {
          "color": "#FFA15A",
          "pattern": {
           "shape": ""
          }
         },
         "name": "University of Wyoming",
         "offsetgroup": "University of Wyoming",
         "orientation": "v",
         "showlegend": true,
         "textposition": "auto",
         "texttemplate": "%{y}",
         "type": "bar",
         "x": [
          "University of Wyoming"
         ],
         "xaxis": "x",
         "y": [
          16215
         ],
         "yaxis": "y"
        },
        {
         "alignmentgroup": "True",
         "hovertemplate": "name=%{x}<br>tuition_and_fees=%{y}<extra></extra>",
         "legendgroup": "Ball State University",
         "marker": {
          "color": "#19d3f3",
          "pattern": {
           "shape": ""
          }
         },
         "name": "Ball State University",
         "offsetgroup": "Ball State University",
         "orientation": "v",
         "showlegend": true,
         "textposition": "auto",
         "texttemplate": "%{y}",
         "type": "bar",
         "x": [
          "Ball State University"
         ],
         "xaxis": "x",
         "y": [
          25428
         ],
         "yaxis": "y"
        },
        {
         "alignmentgroup": "True",
         "hovertemplate": "name=%{x}<br>tuition_and_fees=%{y}<extra></extra>",
         "legendgroup": "Lipscomb University",
         "marker": {
          "color": "#FF6692",
          "pattern": {
           "shape": ""
          }
         },
         "name": "Lipscomb University",
         "offsetgroup": "Lipscomb University",
         "orientation": "v",
         "showlegend": true,
         "textposition": "auto",
         "texttemplate": "%{y}",
         "type": "bar",
         "x": [
          "Lipscomb University"
         ],
         "xaxis": "x",
         "y": [
          29756
         ],
         "yaxis": "y"
        },
        {
         "alignmentgroup": "True",
         "hovertemplate": "name=%{x}<br>tuition_and_fees=%{y}<extra></extra>",
         "legendgroup": "Mississippi State University",
         "marker": {
          "color": "#B6E880",
          "pattern": {
           "shape": ""
          }
         },
         "name": "Mississippi State University",
         "offsetgroup": "Mississippi State University",
         "orientation": "v",
         "showlegend": true,
         "textposition": "auto",
         "texttemplate": "%{y}",
         "type": "bar",
         "x": [
          "Mississippi State University"
         ],
         "xaxis": "x",
         "y": [
          20142
         ],
         "yaxis": "y"
        },
        {
         "alignmentgroup": "True",
         "hovertemplate": "name=%{x}<br>tuition_and_fees=%{y}<extra></extra>",
         "legendgroup": "Montclair State University",
         "marker": {
          "color": "#FF97FF",
          "pattern": {
           "shape": ""
          }
         },
         "name": "Montclair State University",
         "offsetgroup": "Montclair State University",
         "orientation": "v",
         "showlegend": true,
         "textposition": "auto",
         "texttemplate": "%{y}",
         "type": "bar",
         "x": [
          "Montclair State University"
         ],
         "xaxis": "x",
         "y": [
          20318
         ],
         "yaxis": "y"
        },
        {
         "alignmentgroup": "True",
         "hovertemplate": "name=%{x}<br>tuition_and_fees=%{y}<extra></extra>",
         "legendgroup": "Texas Tech University",
         "marker": {
          "color": "#FECB52",
          "pattern": {
           "shape": ""
          }
         },
         "name": "Texas Tech University",
         "offsetgroup": "Texas Tech University",
         "orientation": "v",
         "showlegend": true,
         "textposition": "auto",
         "texttemplate": "%{y}",
         "type": "bar",
         "x": [
          "Texas Tech University"
         ],
         "xaxis": "x",
         "y": [
          22861
         ],
         "yaxis": "y"
        },
        {
         "alignmentgroup": "True",
         "hovertemplate": "name=%{x}<br>tuition_and_fees=%{y}<extra></extra>",
         "legendgroup": "University of Central Florida",
         "marker": {
          "color": "#636efa",
          "pattern": {
           "shape": ""
          }
         },
         "name": "University of Central Florida",
         "offsetgroup": "University of Central Florida",
         "orientation": "v",
         "showlegend": true,
         "textposition": "auto",
         "texttemplate": "%{y}",
         "type": "bar",
         "x": [
          "University of Central Florida"
         ],
         "xaxis": "x",
         "y": [
          22467
         ],
         "yaxis": "y"
        },
        {
         "alignmentgroup": "True",
         "hovertemplate": "name=%{x}<br>tuition_and_fees=%{y}<extra></extra>",
         "legendgroup": "University of New Mexico",
         "marker": {
          "color": "#EF553B",
          "pattern": {
           "shape": ""
          }
         },
         "name": "University of New Mexico",
         "offsetgroup": "University of New Mexico",
         "orientation": "v",
         "showlegend": true,
         "textposition": "auto",
         "texttemplate": "%{y}",
         "type": "bar",
         "x": [
          "University of New Mexico"
         ],
         "xaxis": "x",
         "y": [
          21302
         ],
         "yaxis": "y"
        },
        {
         "alignmentgroup": "True",
         "hovertemplate": "name=%{x}<br>tuition_and_fees=%{y}<extra></extra>",
         "legendgroup": "Andrews University",
         "marker": {
          "color": "#00cc96",
          "pattern": {
           "shape": ""
          }
         },
         "name": "Andrews University",
         "offsetgroup": "Andrews University",
         "orientation": "v",
         "showlegend": true,
         "textposition": "auto",
         "texttemplate": "%{y}",
         "type": "bar",
         "x": [
          "Andrews University"
         ],
         "xaxis": "x",
         "y": [
          27684
         ],
         "yaxis": "y"
        },
        {
         "alignmentgroup": "True",
         "hovertemplate": "name=%{x}<br>tuition_and_fees=%{y}<extra></extra>",
         "legendgroup": "Azusa Pacific University",
         "marker": {
          "color": "#ab63fa",
          "pattern": {
           "shape": ""
          }
         },
         "name": "Azusa Pacific University",
         "offsetgroup": "Azusa Pacific University",
         "orientation": "v",
         "showlegend": true,
         "textposition": "auto",
         "texttemplate": "%{y}",
         "type": "bar",
         "x": [
          "Azusa Pacific University"
         ],
         "xaxis": "x",
         "y": [
          36120
         ],
         "yaxis": "y"
        },
        {
         "alignmentgroup": "True",
         "hovertemplate": "name=%{x}<br>tuition_and_fees=%{y}<extra></extra>",
         "legendgroup": "University of Maine",
         "marker": {
          "color": "#FFA15A",
          "pattern": {
           "shape": ""
          }
         },
         "name": "University of Maine",
         "offsetgroup": "University of Maine",
         "orientation": "v",
         "showlegend": true,
         "textposition": "auto",
         "texttemplate": "%{y}",
         "type": "bar",
         "x": [
          "University of Maine"
         ],
         "xaxis": "x",
         "y": [
          29498
         ],
         "yaxis": "y"
        },
        {
         "alignmentgroup": "True",
         "hovertemplate": "name=%{x}<br>tuition_and_fees=%{y}<extra></extra>",
         "legendgroup": "West Virginia University",
         "marker": {
          "color": "#19d3f3",
          "pattern": {
           "shape": ""
          }
         },
         "name": "West Virginia University",
         "offsetgroup": "West Virginia University",
         "orientation": "v",
         "showlegend": true,
         "textposition": "auto",
         "texttemplate": "%{y}",
         "type": "bar",
         "x": [
          "West Virginia University"
         ],
         "xaxis": "x",
         "y": [
          21432
         ],
         "yaxis": "y"
        },
        {
         "alignmentgroup": "True",
         "hovertemplate": "name=%{x}<br>tuition_and_fees=%{y}<extra></extra>",
         "legendgroup": "Widener University",
         "marker": {
          "color": "#FF6692",
          "pattern": {
           "shape": ""
          }
         },
         "name": "Widener University",
         "offsetgroup": "Widener University",
         "orientation": "v",
         "showlegend": true,
         "textposition": "auto",
         "texttemplate": "%{y}",
         "type": "bar",
         "x": [
          "Widener University"
         ],
         "xaxis": "x",
         "y": [
          42870
         ],
         "yaxis": "y"
        },
        {
         "alignmentgroup": "True",
         "hovertemplate": "name=%{x}<br>tuition_and_fees=%{y}<extra></extra>",
         "legendgroup": "Kent State University",
         "marker": {
          "color": "#B6E880",
          "pattern": {
           "shape": ""
          }
         },
         "name": "Kent State University",
         "offsetgroup": "Kent State University",
         "orientation": "v",
         "showlegend": true,
         "textposition": "auto",
         "texttemplate": "%{y}",
         "type": "bar",
         "x": [
          "Kent State University"
         ],
         "xaxis": "x",
         "y": [
          18376
         ],
         "yaxis": "y"
        },
        {
         "alignmentgroup": "True",
         "hovertemplate": "name=%{x}<br>tuition_and_fees=%{y}<extra></extra>",
         "legendgroup": "North Dakota State University",
         "marker": {
          "color": "#FF97FF",
          "pattern": {
           "shape": ""
          }
         },
         "name": "North Dakota State University",
         "offsetgroup": "North Dakota State University",
         "orientation": "v",
         "showlegend": true,
         "textposition": "auto",
         "texttemplate": "%{y}",
         "type": "bar",
         "x": [
          "North Dakota State University"
         ],
         "xaxis": "x",
         "y": [
          19790
         ],
         "yaxis": "y"
        },
        {
         "alignmentgroup": "True",
         "hovertemplate": "name=%{x}<br>tuition_and_fees=%{y}<extra></extra>",
         "legendgroup": "Pace University",
         "marker": {
          "color": "#FECB52",
          "pattern": {
           "shape": ""
          }
         },
         "name": "Pace University",
         "offsetgroup": "Pace University",
         "orientation": "v",
         "showlegend": true,
         "textposition": "auto",
         "texttemplate": "%{y}",
         "type": "bar",
         "x": [
          "Pace University"
         ],
         "xaxis": "x",
         "y": [
          42772
         ],
         "yaxis": "y"
        },
        {
         "alignmentgroup": "True",
         "hovertemplate": "name=%{x}<br>tuition_and_fees=%{y}<extra></extra>",
         "legendgroup": "Robert Morris University",
         "marker": {
          "color": "#636efa",
          "pattern": {
           "shape": ""
          }
         },
         "name": "Robert Morris University",
         "offsetgroup": "Robert Morris University",
         "orientation": "v",
         "showlegend": true,
         "textposition": "auto",
         "texttemplate": "%{y}",
         "type": "bar",
         "x": [
          "Robert Morris University"
         ],
         "xaxis": "x",
         "y": [
          28250
         ],
         "yaxis": "y"
        },
        {
         "alignmentgroup": "True",
         "hovertemplate": "name=%{x}<br>tuition_and_fees=%{y}<extra></extra>",
         "legendgroup": "Suffolk University",
         "marker": {
          "color": "#EF553B",
          "pattern": {
           "shape": ""
          }
         },
         "name": "Suffolk University",
         "offsetgroup": "Suffolk University",
         "orientation": "v",
         "showlegend": true,
         "textposition": "auto",
         "texttemplate": "%{y}",
         "type": "bar",
         "x": [
          "Suffolk University"
         ],
         "xaxis": "x",
         "y": [
          35578
         ],
         "yaxis": "y"
        },
        {
         "alignmentgroup": "True",
         "hovertemplate": "name=%{x}<br>tuition_and_fees=%{y}<extra></extra>",
         "legendgroup": "University of Hartford",
         "marker": {
          "color": "#00cc96",
          "pattern": {
           "shape": ""
          }
         },
         "name": "University of Hartford",
         "offsetgroup": "University of Hartford",
         "orientation": "v",
         "showlegend": true,
         "textposition": "auto",
         "texttemplate": "%{y}",
         "type": "bar",
         "x": [
          "University of Hartford"
         ],
         "xaxis": "x",
         "y": [
          37790
         ],
         "yaxis": "y"
        },
        {
         "alignmentgroup": "True",
         "hovertemplate": "name=%{x}<br>tuition_and_fees=%{y}<extra></extra>",
         "legendgroup": "Bowling Green State University",
         "marker": {
          "color": "#ab63fa",
          "pattern": {
           "shape": ""
          }
         },
         "name": "Bowling Green State University",
         "offsetgroup": "Bowling Green State University",
         "orientation": "v",
         "showlegend": true,
         "textposition": "auto",
         "texttemplate": "%{y}",
         "type": "bar",
         "x": [
          "Bowling Green State University"
         ],
         "xaxis": "x",
         "y": [
          18332
         ],
         "yaxis": "y"
        },
        {
         "alignmentgroup": "True",
         "hovertemplate": "name=%{x}<br>tuition_and_fees=%{y}<extra></extra>",
         "legendgroup": "University of Houston",
         "marker": {
          "color": "#FFA15A",
          "pattern": {
           "shape": ""
          }
         },
         "name": "University of Houston",
         "offsetgroup": "University of Houston",
         "orientation": "v",
         "showlegend": true,
         "textposition": "auto",
         "texttemplate": "%{y}",
         "type": "bar",
         "x": [
          "University of Houston"
         ],
         "xaxis": "x",
         "y": [
          25410
         ],
         "yaxis": "y"
        },
        {
         "alignmentgroup": "True",
         "hovertemplate": "name=%{x}<br>tuition_and_fees=%{y}<extra></extra>",
         "legendgroup": "Western Michigan University",
         "marker": {
          "color": "#19d3f3",
          "pattern": {
           "shape": ""
          }
         },
         "name": "Western Michigan University",
         "offsetgroup": "Western Michigan University",
         "orientation": "v",
         "showlegend": true,
         "textposition": "auto",
         "texttemplate": "%{y}",
         "type": "bar",
         "x": [
          "Western Michigan University"
         ],
         "xaxis": "x",
         "y": [
          25713
         ],
         "yaxis": "y"
        },
        {
         "alignmentgroup": "True",
         "hovertemplate": "name=%{x}<br>tuition_and_fees=%{y}<extra></extra>",
         "legendgroup": "Indiana University-Purdue University--Indianapolis",
         "marker": {
          "color": "#FF6692",
          "pattern": {
           "shape": ""
          }
         },
         "name": "Indiana University-Purdue University--Indianapolis",
         "offsetgroup": "Indiana University-Purdue University--Indianapolis",
         "orientation": "v",
         "showlegend": true,
         "textposition": "auto",
         "texttemplate": "%{y}",
         "type": "bar",
         "x": [
          "Indiana University-Purdue University--Indianapolis"
         ],
         "xaxis": "x",
         "y": [
          29791
         ],
         "yaxis": "y"
        },
        {
         "alignmentgroup": "True",
         "hovertemplate": "name=%{x}<br>tuition_and_fees=%{y}<extra></extra>",
         "legendgroup": "Lesley University",
         "marker": {
          "color": "#B6E880",
          "pattern": {
           "shape": ""
          }
         },
         "name": "Lesley University",
         "offsetgroup": "Lesley University",
         "orientation": "v",
         "showlegend": true,
         "textposition": "auto",
         "texttemplate": "%{y}",
         "type": "bar",
         "x": [
          "Lesley University"
         ],
         "xaxis": "x",
         "y": [
          25750
         ],
         "yaxis": "y"
        },
        {
         "alignmentgroup": "True",
         "hovertemplate": "name=%{x}<br>tuition_and_fees=%{y}<extra></extra>",
         "legendgroup": "University of Alabama--Huntsville",
         "marker": {
          "color": "#FF97FF",
          "pattern": {
           "shape": ""
          }
         },
         "name": "University of Alabama--Huntsville",
         "offsetgroup": "University of Alabama--Huntsville",
         "orientation": "v",
         "showlegend": true,
         "textposition": "auto",
         "texttemplate": "%{y}",
         "type": "bar",
         "x": [
          "University of Alabama--Huntsville"
         ],
         "xaxis": "x",
         "y": [
          20622
         ],
         "yaxis": "y"
        },
        {
         "alignmentgroup": "True",
         "hovertemplate": "name=%{x}<br>tuition_and_fees=%{y}<extra></extra>",
         "legendgroup": "University of Colorado--Denver",
         "marker": {
          "color": "#FECB52",
          "pattern": {
           "shape": ""
          }
         },
         "name": "University of Colorado--Denver",
         "offsetgroup": "University of Colorado--Denver",
         "orientation": "v",
         "showlegend": true,
         "textposition": "auto",
         "texttemplate": "%{y}",
         "type": "bar",
         "x": [
          "University of Colorado--Denver"
         ],
         "xaxis": "x",
         "y": [
          29334
         ],
         "yaxis": "y"
        },
        {
         "alignmentgroup": "True",
         "hovertemplate": "name=%{x}<br>tuition_and_fees=%{y}<extra></extra>",
         "legendgroup": "University of Nevada--Reno",
         "marker": {
          "color": "#636efa",
          "pattern": {
           "shape": ""
          }
         },
         "name": "University of Nevada--Reno",
         "offsetgroup": "University of Nevada--Reno",
         "orientation": "v",
         "showlegend": true,
         "textposition": "auto",
         "texttemplate": "%{y}",
         "type": "bar",
         "x": [
          "University of Nevada--Reno"
         ],
         "xaxis": "x",
         "y": [
          21052
         ],
         "yaxis": "y"
        },
        {
         "alignmentgroup": "True",
         "hovertemplate": "name=%{x}<br>tuition_and_fees=%{y}<extra></extra>",
         "legendgroup": "California State University--Fullerton",
         "marker": {
          "color": "#EF553B",
          "pattern": {
           "shape": ""
          }
         },
         "name": "California State University--Fullerton",
         "offsetgroup": "California State University--Fullerton",
         "orientation": "v",
         "showlegend": true,
         "textposition": "auto",
         "texttemplate": "%{y}",
         "type": "bar",
         "x": [
          "California State University--Fullerton"
         ],
         "xaxis": "x",
         "y": [
          17596
         ],
         "yaxis": "y"
        },
        {
         "alignmentgroup": "True",
         "hovertemplate": "name=%{x}<br>tuition_and_fees=%{y}<extra></extra>",
         "legendgroup": "Central Michigan University",
         "marker": {
          "color": "#00cc96",
          "pattern": {
           "shape": ""
          }
         },
         "name": "Central Michigan University",
         "offsetgroup": "Central Michigan University",
         "orientation": "v",
         "showlegend": true,
         "textposition": "auto",
         "texttemplate": "%{y}",
         "type": "bar",
         "x": [
          "Central Michigan University"
         ],
         "xaxis": "x",
         "y": [
          23670
         ],
         "yaxis": "y"
        },
        {
         "alignmentgroup": "True",
         "hovertemplate": "name=%{x}<br>tuition_and_fees=%{y}<extra></extra>",
         "legendgroup": "Louisiana Tech University",
         "marker": {
          "color": "#ab63fa",
          "pattern": {
           "shape": ""
          }
         },
         "name": "Louisiana Tech University",
         "offsetgroup": "Louisiana Tech University",
         "orientation": "v",
         "showlegend": true,
         "textposition": "auto",
         "texttemplate": "%{y}",
         "type": "bar",
         "x": [
          "Louisiana Tech University"
         ],
         "xaxis": "x",
         "y": [
          25851
         ],
         "yaxis": "y"
        },
        {
         "alignmentgroup": "True",
         "hovertemplate": "name=%{x}<br>tuition_and_fees=%{y}<extra></extra>",
         "legendgroup": "South Dakota State University",
         "marker": {
          "color": "#FFA15A",
          "pattern": {
           "shape": ""
          }
         },
         "name": "South Dakota State University",
         "offsetgroup": "South Dakota State University",
         "orientation": "v",
         "showlegend": true,
         "textposition": "auto",
         "texttemplate": "%{y}",
         "type": "bar",
         "x": [
          "South Dakota State University"
         ],
         "xaxis": "x",
         "y": [
          11403
         ],
         "yaxis": "y"
        },
        {
         "alignmentgroup": "True",
         "hovertemplate": "name=%{x}<br>tuition_and_fees=%{y}<extra></extra>",
         "legendgroup": "University of Alaska--Fairbanks",
         "marker": {
          "color": "#19d3f3",
          "pattern": {
           "shape": ""
          }
         },
         "name": "University of Alaska--Fairbanks",
         "offsetgroup": "University of Alaska--Fairbanks",
         "orientation": "v",
         "showlegend": true,
         "textposition": "auto",
         "texttemplate": "%{y}",
         "type": "bar",
         "x": [
          "University of Alaska--Fairbanks"
         ],
         "xaxis": "x",
         "y": [
          22469
         ],
         "yaxis": "y"
        },
        {
         "alignmentgroup": "True",
         "hovertemplate": "name=%{x}<br>tuition_and_fees=%{y}<extra></extra>",
         "legendgroup": "University of North Carolina--Charlotte",
         "marker": {
          "color": "#FF6692",
          "pattern": {
           "shape": ""
          }
         },
         "name": "University of North Carolina--Charlotte",
         "offsetgroup": "University of North Carolina--Charlotte",
         "orientation": "v",
         "showlegend": true,
         "textposition": "auto",
         "texttemplate": "%{y}",
         "type": "bar",
         "x": [
          "University of North Carolina--Charlotte"
         ],
         "xaxis": "x",
         "y": [
          20193
         ],
         "yaxis": "y"
        },
        {
         "alignmentgroup": "True",
         "hovertemplate": "name=%{x}<br>tuition_and_fees=%{y}<extra></extra>",
         "legendgroup": "University of North Dakota",
         "marker": {
          "color": "#B6E880",
          "pattern": {
           "shape": ""
          }
         },
         "name": "University of North Dakota",
         "offsetgroup": "University of North Dakota",
         "orientation": "v",
         "showlegend": true,
         "textposition": "auto",
         "texttemplate": "%{y}",
         "type": "bar",
         "x": [
          "University of North Dakota"
         ],
         "xaxis": "x",
         "y": [
          18899
         ],
         "yaxis": "y"
        },
        {
         "alignmentgroup": "True",
         "hovertemplate": "name=%{x}<br>tuition_and_fees=%{y}<extra></extra>",
         "legendgroup": "University of South Dakota",
         "marker": {
          "color": "#FF97FF",
          "pattern": {
           "shape": ""
          }
         },
         "name": "University of South Dakota",
         "offsetgroup": "University of South Dakota",
         "orientation": "v",
         "showlegend": true,
         "textposition": "auto",
         "texttemplate": "%{y}",
         "type": "bar",
         "x": [
          "University of South Dakota"
         ],
         "xaxis": "x",
         "y": [
          11688
         ],
         "yaxis": "y"
        },
        {
         "alignmentgroup": "True",
         "hovertemplate": "name=%{x}<br>tuition_and_fees=%{y}<extra></extra>",
         "legendgroup": "East Carolina University",
         "marker": {
          "color": "#FECB52",
          "pattern": {
           "shape": ""
          }
         },
         "name": "East Carolina University",
         "offsetgroup": "East Carolina University",
         "orientation": "v",
         "showlegend": true,
         "textposition": "auto",
         "texttemplate": "%{y}",
         "type": "bar",
         "x": [
          "East Carolina University"
         ],
         "xaxis": "x",
         "y": [
          22904
         ],
         "yaxis": "y"
        },
        {
         "alignmentgroup": "True",
         "hovertemplate": "name=%{x}<br>tuition_and_fees=%{y}<extra></extra>",
         "legendgroup": "Montana State University",
         "marker": {
          "color": "#636efa",
          "pattern": {
           "shape": ""
          }
         },
         "name": "Montana State University",
         "offsetgroup": "Montana State University",
         "orientation": "v",
         "showlegend": true,
         "textposition": "auto",
         "texttemplate": "%{y}",
         "type": "bar",
         "x": [
          "Montana State University"
         ],
         "xaxis": "x",
         "y": [
          23042
         ],
         "yaxis": "y"
        },
        {
         "alignmentgroup": "True",
         "hovertemplate": "name=%{x}<br>tuition_and_fees=%{y}<extra></extra>",
         "legendgroup": "Old Dominion University",
         "marker": {
          "color": "#EF553B",
          "pattern": {
           "shape": ""
          }
         },
         "name": "Old Dominion University",
         "offsetgroup": "Old Dominion University",
         "orientation": "v",
         "showlegend": true,
         "textposition": "auto",
         "texttemplate": "%{y}",
         "type": "bar",
         "x": [
          "Old Dominion University"
         ],
         "xaxis": "x",
         "y": [
          27028
         ],
         "yaxis": "y"
        },
        {
         "alignmentgroup": "True",
         "hovertemplate": "name=%{x}<br>tuition_and_fees=%{y}<extra></extra>",
         "legendgroup": "University of Missouri--Kansas City",
         "marker": {
          "color": "#00cc96",
          "pattern": {
           "shape": ""
          }
         },
         "name": "University of Missouri--Kansas City",
         "offsetgroup": "University of Missouri--Kansas City",
         "orientation": "v",
         "showlegend": true,
         "textposition": "auto",
         "texttemplate": "%{y}",
         "type": "bar",
         "x": [
          "University of Missouri--Kansas City"
         ],
         "xaxis": "x",
         "y": [
          22714
         ],
         "yaxis": "y"
        },
        {
         "alignmentgroup": "True",
         "hovertemplate": "name=%{x}<br>tuition_and_fees=%{y}<extra></extra>",
         "legendgroup": "Ashland University",
         "marker": {
          "color": "#ab63fa",
          "pattern": {
           "shape": ""
          }
         },
         "name": "Ashland University",
         "offsetgroup": "Ashland University",
         "orientation": "v",
         "showlegend": true,
         "textposition": "auto",
         "texttemplate": "%{y}",
         "type": "bar",
         "x": [
          "Ashland University"
         ],
         "xaxis": "x",
         "y": [
          20392
         ],
         "yaxis": "y"
        },
        {
         "alignmentgroup": "True",
         "hovertemplate": "name=%{x}<br>tuition_and_fees=%{y}<extra></extra>",
         "legendgroup": "Dallas Baptist University",
         "marker": {
          "color": "#FFA15A",
          "pattern": {
           "shape": ""
          }
         },
         "name": "Dallas Baptist University",
         "offsetgroup": "Dallas Baptist University",
         "orientation": "v",
         "showlegend": true,
         "textposition": "auto",
         "texttemplate": "%{y}",
         "type": "bar",
         "x": [
          "Dallas Baptist University"
         ],
         "xaxis": "x",
         "y": [
          26180
         ],
         "yaxis": "y"
        },
        {
         "alignmentgroup": "True",
         "hovertemplate": "name=%{x}<br>tuition_and_fees=%{y}<extra></extra>",
         "legendgroup": "Northern Illinois University",
         "marker": {
          "color": "#19d3f3",
          "pattern": {
           "shape": ""
          }
         },
         "name": "Northern Illinois University",
         "offsetgroup": "Northern Illinois University",
         "orientation": "v",
         "showlegend": true,
         "textposition": "auto",
         "texttemplate": "%{y}",
         "type": "bar",
         "x": [
          "Northern Illinois University"
         ],
         "xaxis": "x",
         "y": [
          23799
         ],
         "yaxis": "y"
        },
        {
         "alignmentgroup": "True",
         "hovertemplate": "name=%{x}<br>tuition_and_fees=%{y}<extra></extra>",
         "legendgroup": "Nova Southeastern University",
         "marker": {
          "color": "#FF6692",
          "pattern": {
           "shape": ""
          }
         },
         "name": "Nova Southeastern University",
         "offsetgroup": "Nova Southeastern University",
         "orientation": "v",
         "showlegend": true,
         "textposition": "auto",
         "texttemplate": "%{y}",
         "type": "bar",
         "x": [
          "Nova Southeastern University"
         ],
         "xaxis": "x",
         "y": [
          27660
         ],
         "yaxis": "y"
        },
        {
         "alignmentgroup": "True",
         "hovertemplate": "name=%{x}<br>tuition_and_fees=%{y}<extra></extra>",
         "legendgroup": "Southern Illinois University--Carbondale",
         "marker": {
          "color": "#B6E880",
          "pattern": {
           "shape": ""
          }
         },
         "name": "Southern Illinois University--Carbondale",
         "offsetgroup": "Southern Illinois University--Carbondale",
         "orientation": "v",
         "showlegend": true,
         "textposition": "auto",
         "texttemplate": "%{y}",
         "type": "bar",
         "x": [
          "Southern Illinois University--Carbondale"
         ],
         "xaxis": "x",
         "y": [
          27130
         ],
         "yaxis": "y"
        },
        {
         "alignmentgroup": "True",
         "hovertemplate": "name=%{x}<br>tuition_and_fees=%{y}<extra></extra>",
         "legendgroup": "University of Montana",
         "marker": {
          "color": "#FF97FF",
          "pattern": {
           "shape": ""
          }
         },
         "name": "University of Montana",
         "offsetgroup": "University of Montana",
         "orientation": "v",
         "showlegend": true,
         "textposition": "auto",
         "texttemplate": "%{y}",
         "type": "bar",
         "x": [
          "University of Montana"
         ],
         "xaxis": "x",
         "y": [
          24562
         ],
         "yaxis": "y"
        },
        {
         "alignmentgroup": "True",
         "hovertemplate": "name=%{x}<br>tuition_and_fees=%{y}<extra></extra>",
         "legendgroup": "Benedictine University",
         "marker": {
          "color": "#FECB52",
          "pattern": {
           "shape": ""
          }
         },
         "name": "Benedictine University",
         "offsetgroup": "Benedictine University",
         "orientation": "v",
         "showlegend": true,
         "textposition": "auto",
         "texttemplate": "%{y}",
         "type": "bar",
         "x": [
          "Benedictine University"
         ],
         "xaxis": "x",
         "y": [
          32170
         ],
         "yaxis": "y"
        },
        {
         "alignmentgroup": "True",
         "hovertemplate": "name=%{x}<br>tuition_and_fees=%{y}<extra></extra>",
         "legendgroup": "California State University--Fresno",
         "marker": {
          "color": "#636efa",
          "pattern": {
           "shape": ""
          }
         },
         "name": "California State University--Fresno",
         "offsetgroup": "California State University--Fresno",
         "orientation": "v",
         "showlegend": true,
         "textposition": "auto",
         "texttemplate": "%{y}",
         "type": "bar",
         "x": [
          "California State University--Fresno"
         ],
         "xaxis": "x",
         "y": [
          17209
         ],
         "yaxis": "y"
        },
        {
         "alignmentgroup": "True",
         "hovertemplate": "name=%{x}<br>tuition_and_fees=%{y}<extra></extra>",
         "legendgroup": "Gardner-Webb University",
         "marker": {
          "color": "#EF553B",
          "pattern": {
           "shape": ""
          }
         },
         "name": "Gardner-Webb University",
         "offsetgroup": "Gardner-Webb University",
         "orientation": "v",
         "showlegend": true,
         "textposition": "auto",
         "texttemplate": "%{y}",
         "type": "bar",
         "x": [
          "Gardner-Webb University"
         ],
         "xaxis": "x",
         "y": [
          29850
         ],
         "yaxis": "y"
        },
        {
         "alignmentgroup": "True",
         "hovertemplate": "name=%{x}<br>tuition_and_fees=%{y}<extra></extra>",
         "legendgroup": "New Mexico State University",
         "marker": {
          "color": "#00cc96",
          "pattern": {
           "shape": ""
          }
         },
         "name": "New Mexico State University",
         "offsetgroup": "New Mexico State University",
         "orientation": "v",
         "showlegend": true,
         "textposition": "auto",
         "texttemplate": "%{y}",
         "type": "bar",
         "x": [
          "New Mexico State University"
         ],
         "xaxis": "x",
         "y": [
          21234
         ],
         "yaxis": "y"
        },
        {
         "alignmentgroup": "True",
         "hovertemplate": "name=%{x}<br>tuition_and_fees=%{y}<extra></extra>",
         "legendgroup": "Shenandoah University",
         "marker": {
          "color": "#ab63fa",
          "pattern": {
           "shape": ""
          }
         },
         "name": "Shenandoah University",
         "offsetgroup": "Shenandoah University",
         "orientation": "v",
         "showlegend": true,
         "textposition": "auto",
         "texttemplate": "%{y}",
         "type": "bar",
         "x": [
          "Shenandoah University"
         ],
         "xaxis": "x",
         "y": [
          31322
         ],
         "yaxis": "y"
        },
        {
         "alignmentgroup": "True",
         "hovertemplate": "name=%{x}<br>tuition_and_fees=%{y}<extra></extra>",
         "legendgroup": "Tennessee Technological University",
         "marker": {
          "color": "#FFA15A",
          "pattern": {
           "shape": ""
          }
         },
         "name": "Tennessee Technological University",
         "offsetgroup": "Tennessee Technological University",
         "orientation": "v",
         "showlegend": true,
         "textposition": "auto",
         "texttemplate": "%{y}",
         "type": "bar",
         "x": [
          "Tennessee Technological University"
         ],
         "xaxis": "x",
         "y": [
          24800
         ],
         "yaxis": "y"
        },
        {
         "alignmentgroup": "True",
         "hovertemplate": "name=%{x}<br>tuition_and_fees=%{y}<extra></extra>",
         "legendgroup": "University of Massachusetts--Boston",
         "marker": {
          "color": "#19d3f3",
          "pattern": {
           "shape": ""
          }
         },
         "name": "University of Massachusetts--Boston",
         "offsetgroup": "University of Massachusetts--Boston",
         "orientation": "v",
         "showlegend": true,
         "textposition": "auto",
         "texttemplate": "%{y}",
         "type": "bar",
         "x": [
          "University of Massachusetts--Boston"
         ],
         "xaxis": "x",
         "y": [
          32023
         ],
         "yaxis": "y"
        },
        {
         "alignmentgroup": "True",
         "hovertemplate": "name=%{x}<br>tuition_and_fees=%{y}<extra></extra>",
         "legendgroup": "University of Massachusetts--Dartmouth",
         "marker": {
          "color": "#FF6692",
          "pattern": {
           "shape": ""
          }
         },
         "name": "University of Massachusetts--Dartmouth",
         "offsetgroup": "University of Massachusetts--Dartmouth",
         "orientation": "v",
         "showlegend": true,
         "textposition": "auto",
         "texttemplate": "%{y}",
         "type": "bar",
         "x": [
          "University of Massachusetts--Dartmouth"
         ],
         "xaxis": "x",
         "y": [
          19270
         ],
         "yaxis": "y"
        },
        {
         "alignmentgroup": "True",
         "hovertemplate": "name=%{x}<br>tuition_and_fees=%{y}<extra></extra>",
         "legendgroup": "University of Missouri--St. Louis",
         "marker": {
          "color": "#B6E880",
          "pattern": {
           "shape": ""
          }
         },
         "name": "University of Missouri--St. Louis",
         "offsetgroup": "University of Missouri--St. Louis",
         "orientation": "v",
         "showlegend": true,
         "textposition": "auto",
         "texttemplate": "%{y}",
         "type": "bar",
         "x": [
          "University of Missouri--St. Louis"
         ],
         "xaxis": "x",
         "y": [
          26277
         ],
         "yaxis": "y"
        },
        {
         "alignmentgroup": "True",
         "hovertemplate": "name=%{x}<br>tuition_and_fees=%{y}<extra></extra>",
         "legendgroup": "University of North Carolina--Greensboro",
         "marker": {
          "color": "#FF97FF",
          "pattern": {
           "shape": ""
          }
         },
         "name": "University of North Carolina--Greensboro",
         "offsetgroup": "University of North Carolina--Greensboro",
         "orientation": "v",
         "showlegend": true,
         "textposition": "auto",
         "texttemplate": "%{y}",
         "type": "bar",
         "x": [
          "University of North Carolina--Greensboro"
         ],
         "xaxis": "x",
         "y": [
          21595
         ],
         "yaxis": "y"
        },
        {
         "alignmentgroup": "True",
         "hovertemplate": "name=%{x}<br>tuition_and_fees=%{y}<extra></extra>",
         "legendgroup": "University of Southern Mississippi",
         "marker": {
          "color": "#FECB52",
          "pattern": {
           "shape": ""
          }
         },
         "name": "University of Southern Mississippi",
         "offsetgroup": "University of Southern Mississippi",
         "orientation": "v",
         "showlegend": true,
         "textposition": "auto",
         "texttemplate": "%{y}",
         "type": "bar",
         "x": [
          "University of Southern Mississippi"
         ],
         "xaxis": "x",
         "y": [
          16094
         ],
         "yaxis": "y"
        },
        {
         "alignmentgroup": "True",
         "hovertemplate": "name=%{x}<br>tuition_and_fees=%{y}<extra></extra>",
         "legendgroup": "Utah State University",
         "marker": {
          "color": "#636efa",
          "pattern": {
           "shape": ""
          }
         },
         "name": "Utah State University",
         "offsetgroup": "Utah State University",
         "orientation": "v",
         "showlegend": true,
         "textposition": "auto",
         "texttemplate": "%{y}",
         "type": "bar",
         "x": [
          "Utah State University"
         ],
         "xaxis": "x",
         "y": [
          19772
         ],
         "yaxis": "y"
        }
       ],
       "layout": {
        "barmode": "stack",
        "height": 900,
        "legend": {
         "title": {
          "text": "name"
         },
         "tracegroupgap": 0
        },
        "margin": {
         "t": 60
        },
        "template": {
         "data": {
          "bar": [
           {
            "error_x": {
             "color": "#2a3f5f"
            },
            "error_y": {
             "color": "#2a3f5f"
            },
            "marker": {
             "line": {
              "color": "#E5ECF6",
              "width": 0.5
             },
             "pattern": {
              "fillmode": "overlay",
              "size": 10,
              "solidity": 0.2
             }
            },
            "type": "bar"
           }
          ],
          "barpolar": [
           {
            "marker": {
             "line": {
              "color": "#E5ECF6",
              "width": 0.5
             },
             "pattern": {
              "fillmode": "overlay",
              "size": 10,
              "solidity": 0.2
             }
            },
            "type": "barpolar"
           }
          ],
          "carpet": [
           {
            "aaxis": {
             "endlinecolor": "#2a3f5f",
             "gridcolor": "white",
             "linecolor": "white",
             "minorgridcolor": "white",
             "startlinecolor": "#2a3f5f"
            },
            "baxis": {
             "endlinecolor": "#2a3f5f",
             "gridcolor": "white",
             "linecolor": "white",
             "minorgridcolor": "white",
             "startlinecolor": "#2a3f5f"
            },
            "type": "carpet"
           }
          ],
          "choropleth": [
           {
            "colorbar": {
             "outlinewidth": 0,
             "ticks": ""
            },
            "type": "choropleth"
           }
          ],
          "contour": [
           {
            "colorbar": {
             "outlinewidth": 0,
             "ticks": ""
            },
            "colorscale": [
             [
              0,
              "#0d0887"
             ],
             [
              0.1111111111111111,
              "#46039f"
             ],
             [
              0.2222222222222222,
              "#7201a8"
             ],
             [
              0.3333333333333333,
              "#9c179e"
             ],
             [
              0.4444444444444444,
              "#bd3786"
             ],
             [
              0.5555555555555556,
              "#d8576b"
             ],
             [
              0.6666666666666666,
              "#ed7953"
             ],
             [
              0.7777777777777778,
              "#fb9f3a"
             ],
             [
              0.8888888888888888,
              "#fdca26"
             ],
             [
              1,
              "#f0f921"
             ]
            ],
            "type": "contour"
           }
          ],
          "contourcarpet": [
           {
            "colorbar": {
             "outlinewidth": 0,
             "ticks": ""
            },
            "type": "contourcarpet"
           }
          ],
          "heatmap": [
           {
            "colorbar": {
             "outlinewidth": 0,
             "ticks": ""
            },
            "colorscale": [
             [
              0,
              "#0d0887"
             ],
             [
              0.1111111111111111,
              "#46039f"
             ],
             [
              0.2222222222222222,
              "#7201a8"
             ],
             [
              0.3333333333333333,
              "#9c179e"
             ],
             [
              0.4444444444444444,
              "#bd3786"
             ],
             [
              0.5555555555555556,
              "#d8576b"
             ],
             [
              0.6666666666666666,
              "#ed7953"
             ],
             [
              0.7777777777777778,
              "#fb9f3a"
             ],
             [
              0.8888888888888888,
              "#fdca26"
             ],
             [
              1,
              "#f0f921"
             ]
            ],
            "type": "heatmap"
           }
          ],
          "heatmapgl": [
           {
            "colorbar": {
             "outlinewidth": 0,
             "ticks": ""
            },
            "colorscale": [
             [
              0,
              "#0d0887"
             ],
             [
              0.1111111111111111,
              "#46039f"
             ],
             [
              0.2222222222222222,
              "#7201a8"
             ],
             [
              0.3333333333333333,
              "#9c179e"
             ],
             [
              0.4444444444444444,
              "#bd3786"
             ],
             [
              0.5555555555555556,
              "#d8576b"
             ],
             [
              0.6666666666666666,
              "#ed7953"
             ],
             [
              0.7777777777777778,
              "#fb9f3a"
             ],
             [
              0.8888888888888888,
              "#fdca26"
             ],
             [
              1,
              "#f0f921"
             ]
            ],
            "type": "heatmapgl"
           }
          ],
          "histogram": [
           {
            "marker": {
             "pattern": {
              "fillmode": "overlay",
              "size": 10,
              "solidity": 0.2
             }
            },
            "type": "histogram"
           }
          ],
          "histogram2d": [
           {
            "colorbar": {
             "outlinewidth": 0,
             "ticks": ""
            },
            "colorscale": [
             [
              0,
              "#0d0887"
             ],
             [
              0.1111111111111111,
              "#46039f"
             ],
             [
              0.2222222222222222,
              "#7201a8"
             ],
             [
              0.3333333333333333,
              "#9c179e"
             ],
             [
              0.4444444444444444,
              "#bd3786"
             ],
             [
              0.5555555555555556,
              "#d8576b"
             ],
             [
              0.6666666666666666,
              "#ed7953"
             ],
             [
              0.7777777777777778,
              "#fb9f3a"
             ],
             [
              0.8888888888888888,
              "#fdca26"
             ],
             [
              1,
              "#f0f921"
             ]
            ],
            "type": "histogram2d"
           }
          ],
          "histogram2dcontour": [
           {
            "colorbar": {
             "outlinewidth": 0,
             "ticks": ""
            },
            "colorscale": [
             [
              0,
              "#0d0887"
             ],
             [
              0.1111111111111111,
              "#46039f"
             ],
             [
              0.2222222222222222,
              "#7201a8"
             ],
             [
              0.3333333333333333,
              "#9c179e"
             ],
             [
              0.4444444444444444,
              "#bd3786"
             ],
             [
              0.5555555555555556,
              "#d8576b"
             ],
             [
              0.6666666666666666,
              "#ed7953"
             ],
             [
              0.7777777777777778,
              "#fb9f3a"
             ],
             [
              0.8888888888888888,
              "#fdca26"
             ],
             [
              1,
              "#f0f921"
             ]
            ],
            "type": "histogram2dcontour"
           }
          ],
          "mesh3d": [
           {
            "colorbar": {
             "outlinewidth": 0,
             "ticks": ""
            },
            "type": "mesh3d"
           }
          ],
          "parcoords": [
           {
            "line": {
             "colorbar": {
              "outlinewidth": 0,
              "ticks": ""
             }
            },
            "type": "parcoords"
           }
          ],
          "pie": [
           {
            "automargin": true,
            "type": "pie"
           }
          ],
          "scatter": [
           {
            "fillpattern": {
             "fillmode": "overlay",
             "size": 10,
             "solidity": 0.2
            },
            "type": "scatter"
           }
          ],
          "scatter3d": [
           {
            "line": {
             "colorbar": {
              "outlinewidth": 0,
              "ticks": ""
             }
            },
            "marker": {
             "colorbar": {
              "outlinewidth": 0,
              "ticks": ""
             }
            },
            "type": "scatter3d"
           }
          ],
          "scattercarpet": [
           {
            "marker": {
             "colorbar": {
              "outlinewidth": 0,
              "ticks": ""
             }
            },
            "type": "scattercarpet"
           }
          ],
          "scattergeo": [
           {
            "marker": {
             "colorbar": {
              "outlinewidth": 0,
              "ticks": ""
             }
            },
            "type": "scattergeo"
           }
          ],
          "scattergl": [
           {
            "marker": {
             "colorbar": {
              "outlinewidth": 0,
              "ticks": ""
             }
            },
            "type": "scattergl"
           }
          ],
          "scattermapbox": [
           {
            "marker": {
             "colorbar": {
              "outlinewidth": 0,
              "ticks": ""
             }
            },
            "type": "scattermapbox"
           }
          ],
          "scatterpolar": [
           {
            "marker": {
             "colorbar": {
              "outlinewidth": 0,
              "ticks": ""
             }
            },
            "type": "scatterpolar"
           }
          ],
          "scatterpolargl": [
           {
            "marker": {
             "colorbar": {
              "outlinewidth": 0,
              "ticks": ""
             }
            },
            "type": "scatterpolargl"
           }
          ],
          "scatterternary": [
           {
            "marker": {
             "colorbar": {
              "outlinewidth": 0,
              "ticks": ""
             }
            },
            "type": "scatterternary"
           }
          ],
          "surface": [
           {
            "colorbar": {
             "outlinewidth": 0,
             "ticks": ""
            },
            "colorscale": [
             [
              0,
              "#0d0887"
             ],
             [
              0.1111111111111111,
              "#46039f"
             ],
             [
              0.2222222222222222,
              "#7201a8"
             ],
             [
              0.3333333333333333,
              "#9c179e"
             ],
             [
              0.4444444444444444,
              "#bd3786"
             ],
             [
              0.5555555555555556,
              "#d8576b"
             ],
             [
              0.6666666666666666,
              "#ed7953"
             ],
             [
              0.7777777777777778,
              "#fb9f3a"
             ],
             [
              0.8888888888888888,
              "#fdca26"
             ],
             [
              1,
              "#f0f921"
             ]
            ],
            "type": "surface"
           }
          ],
          "table": [
           {
            "cells": {
             "fill": {
              "color": "#EBF0F8"
             },
             "line": {
              "color": "white"
             }
            },
            "header": {
             "fill": {
              "color": "#C8D4E3"
             },
             "line": {
              "color": "white"
             }
            },
            "type": "table"
           }
          ]
         },
         "layout": {
          "annotationdefaults": {
           "arrowcolor": "#2a3f5f",
           "arrowhead": 0,
           "arrowwidth": 1
          },
          "autotypenumbers": "strict",
          "coloraxis": {
           "colorbar": {
            "outlinewidth": 0,
            "ticks": ""
           }
          },
          "colorscale": {
           "diverging": [
            [
             0,
             "#8e0152"
            ],
            [
             0.1,
             "#c51b7d"
            ],
            [
             0.2,
             "#de77ae"
            ],
            [
             0.3,
             "#f1b6da"
            ],
            [
             0.4,
             "#fde0ef"
            ],
            [
             0.5,
             "#f7f7f7"
            ],
            [
             0.6,
             "#e6f5d0"
            ],
            [
             0.7,
             "#b8e186"
            ],
            [
             0.8,
             "#7fbc41"
            ],
            [
             0.9,
             "#4d9221"
            ],
            [
             1,
             "#276419"
            ]
           ],
           "sequential": [
            [
             0,
             "#0d0887"
            ],
            [
             0.1111111111111111,
             "#46039f"
            ],
            [
             0.2222222222222222,
             "#7201a8"
            ],
            [
             0.3333333333333333,
             "#9c179e"
            ],
            [
             0.4444444444444444,
             "#bd3786"
            ],
            [
             0.5555555555555556,
             "#d8576b"
            ],
            [
             0.6666666666666666,
             "#ed7953"
            ],
            [
             0.7777777777777778,
             "#fb9f3a"
            ],
            [
             0.8888888888888888,
             "#fdca26"
            ],
            [
             1,
             "#f0f921"
            ]
           ],
           "sequentialminus": [
            [
             0,
             "#0d0887"
            ],
            [
             0.1111111111111111,
             "#46039f"
            ],
            [
             0.2222222222222222,
             "#7201a8"
            ],
            [
             0.3333333333333333,
             "#9c179e"
            ],
            [
             0.4444444444444444,
             "#bd3786"
            ],
            [
             0.5555555555555556,
             "#d8576b"
            ],
            [
             0.6666666666666666,
             "#ed7953"
            ],
            [
             0.7777777777777778,
             "#fb9f3a"
            ],
            [
             0.8888888888888888,
             "#fdca26"
            ],
            [
             1,
             "#f0f921"
            ]
           ]
          },
          "colorway": [
           "#636efa",
           "#EF553B",
           "#00cc96",
           "#ab63fa",
           "#FFA15A",
           "#19d3f3",
           "#FF6692",
           "#B6E880",
           "#FF97FF",
           "#FECB52"
          ],
          "font": {
           "color": "#2a3f5f"
          },
          "geo": {
           "bgcolor": "white",
           "lakecolor": "white",
           "landcolor": "#E5ECF6",
           "showlakes": true,
           "showland": true,
           "subunitcolor": "white"
          },
          "hoverlabel": {
           "align": "left"
          },
          "hovermode": "closest",
          "mapbox": {
           "style": "light"
          },
          "paper_bgcolor": "white",
          "plot_bgcolor": "#E5ECF6",
          "polar": {
           "angularaxis": {
            "gridcolor": "white",
            "linecolor": "white",
            "ticks": ""
           },
           "bgcolor": "#E5ECF6",
           "radialaxis": {
            "gridcolor": "white",
            "linecolor": "white",
            "ticks": ""
           }
          },
          "scene": {
           "xaxis": {
            "backgroundcolor": "#E5ECF6",
            "gridcolor": "white",
            "gridwidth": 2,
            "linecolor": "white",
            "showbackground": true,
            "ticks": "",
            "zerolinecolor": "white"
           },
           "yaxis": {
            "backgroundcolor": "#E5ECF6",
            "gridcolor": "white",
            "gridwidth": 2,
            "linecolor": "white",
            "showbackground": true,
            "ticks": "",
            "zerolinecolor": "white"
           },
           "zaxis": {
            "backgroundcolor": "#E5ECF6",
            "gridcolor": "white",
            "gridwidth": 2,
            "linecolor": "white",
            "showbackground": true,
            "ticks": "",
            "zerolinecolor": "white"
           }
          },
          "shapedefaults": {
           "line": {
            "color": "#2a3f5f"
           }
          },
          "ternary": {
           "aaxis": {
            "gridcolor": "white",
            "linecolor": "white",
            "ticks": ""
           },
           "baxis": {
            "gridcolor": "white",
            "linecolor": "white",
            "ticks": ""
           },
           "bgcolor": "#E5ECF6",
           "caxis": {
            "gridcolor": "white",
            "linecolor": "white",
            "ticks": ""
           }
          },
          "title": {
           "x": 0.05
          },
          "xaxis": {
           "automargin": true,
           "gridcolor": "white",
           "linecolor": "white",
           "ticks": "",
           "title": {
            "standoff": 15
           },
           "zerolinecolor": "white",
           "zerolinewidth": 2
          },
          "yaxis": {
           "automargin": true,
           "gridcolor": "white",
           "linecolor": "white",
           "ticks": "",
           "title": {
            "standoff": 15
           },
           "zerolinecolor": "white",
           "zerolinewidth": 2
          }
         }
        },
        "title": {
         "text": "Top Universities by Tuition_and_fees"
        },
        "width": 2500,
        "xaxis": {
         "anchor": "y",
         "categoryarray": [
          "Princeton University",
          "Harvard University",
          "University of Chicago",
          "Yale University",
          "Columbia University",
          "Stanford University",
          "Massachusetts Institute of Technology",
          "Duke University",
          "University of Pennsylvania",
          "Johns Hopkins University",
          "Dartmouth College",
          "California Institute of Technology",
          "Northwestern University",
          "Brown University",
          "Cornell University",
          "Rice University",
          "University of Notre Dame",
          "Vanderbilt University",
          "Washington University in St. Louis",
          "Emory University",
          "Georgetown University",
          "University of California--Berkeley",
          "University of Southern California",
          "Carnegie Mellon University",
          "University of California--Los Angeles",
          "University of Virginia",
          "Tufts University",
          "University of Michigan--Ann Arbor",
          "Wake Forest University",
          "University of North Carolina--Chapel Hill",
          "Boston College",
          "College of William & Mary",
          "University of Rochester",
          "Brandeis University",
          "Georgia Institute of Technology",
          "New York University",
          "Case Western Reserve University",
          "University of California--Santa Barbara",
          "Boston University",
          "Northeastern University",
          "Rensselaer Polytechnic Institute",
          "Tulane University",
          "University of California--Irvine",
          "Lehigh University",
          "University of California--Davis",
          "University of California--San Diego",
          "University of Illinois--Urbana-Champaign",
          "University of Miami",
          "University of Wisconsin--Madison",
          "Pepperdine University",
          "University of Florida",
          "Villanova University",
          "Pennsylvania State University--University Park",
          "Ohio State University--Columbus",
          "University of Washington",
          "George Washington University",
          "Southern Methodist University",
          "University of Georgia",
          "University of Texas--Austin",
          "Fordham University",
          "Purdue University--West Lafayette",
          "Syracuse University",
          "University of Connecticut",
          "University of Maryland--College Park",
          "Worcester Polytechnic Institute",
          "Clemson University",
          "Yeshiva University",
          "Brigham Young University--Provo",
          "University of Pittsburgh",
          "Rutgers University--New Brunswick",
          "Baylor University",
          "Stevens Institute of Technology",
          "University of Minnesota--Twin Cities",
          "American University",
          "Clark University",
          "Texas A&M University--College Station",
          "University of Massachusetts--Amherst",
          "Virginia Tech",
          "Miami University--Oxford",
          "University of California--Santa Cruz",
          "University of Delaware",
          "Colorado School of Mines",
          "Michigan State University",
          "Texas Christian University",
          "University of Iowa",
          "Binghamton University--SUNY",
          "Indiana University--Bloomington",
          "Marquette University",
          "University of Denver",
          "University of San Diego",
          "University of Tulsa",
          "Florida State University",
          "North Carolina State University--Raleigh",
          "University of Colorado--Boulder",
          "University of Vermont",
          "Drexel University",
          "Saint Louis University",
          "Stony Brook University--SUNY",
          "Auburn University",
          "Loyola University Chicago",
          "SUNY College of Environmental Science and Forestry",
          "University at Buffalo--SUNY",
          "Illinois Institute of Technology",
          "University of Alabama",
          "University of Oregon",
          "University of Tennessee",
          "Rochester Institute of Technology",
          "University of New Hampshire",
          "University of San Francisco",
          "University of South Carolina",
          "Iowa State University",
          "University of Dayton",
          "University of Missouri",
          "University of Nebraska--Lincoln",
          "University of Oklahoma",
          "University of the Pacific",
          "University of Utah",
          "Michigan Technological University",
          "Seton Hall University",
          "Temple University",
          "University of California--Riverside",
          "University of Kansas",
          "University of St. Thomas",
          "The Catholic University of America",
          "DePaul University",
          "Duquesne University",
          "Howard University",
          "University of Arizona",
          "Arizona State University--Tempe",
          "Clarkson University",
          "Colorado State University",
          "New School",
          "Hofstra University",
          "University of Kentucky",
          "Kansas State University",
          "Louisiana State University--Baton Rouge",
          "Mercer University",
          "New Jersey Institute of Technology",
          "Rutgers University--Newark",
          "University of Arkansas",
          "University of Cincinnati",
          "University of Mississippi",
          "George Mason University",
          "Oregon State University",
          "Washington State University",
          "Adelphi University",
          "Ohio University",
          "San Diego State University",
          "St. John Fisher College",
          "University at Albany--SUNY",
          "University of Texas--Dallas",
          "Illinois State University",
          "Immaculata University",
          "Oklahoma State University",
          "University of California--Merced",
          "University of Illinois--Chicago",
          "University of La Verne",
          "University of Massachusetts--Lowell",
          "Seattle Pacific University",
          "University of Alabama--Birmingham",
          "University of Maryland--Baltimore County",
          "University of Rhode Island",
          "University of South Florida",
          "Biola University",
          "Maryville University of St. Louis",
          "Missouri University of Science & Technology",
          "St. John's University",
          "Virginia Commonwealth University",
          "Union University",
          "University of Hawaii--Manoa",
          "Edgewood College",
          "Florida Institute of Technology",
          "University of Idaho",
          "University of Louisville",
          "University of Wyoming",
          "Ball State University",
          "Lipscomb University",
          "Mississippi State University",
          "Montclair State University",
          "Texas Tech University",
          "University of Central Florida",
          "University of New Mexico",
          "Andrews University",
          "Azusa Pacific University",
          "University of Maine",
          "West Virginia University",
          "Widener University",
          "Kent State University",
          "North Dakota State University",
          "Pace University",
          "Robert Morris University",
          "Suffolk University",
          "University of Hartford",
          "Bowling Green State University",
          "University of Houston",
          "Western Michigan University",
          "Indiana University-Purdue University--Indianapolis",
          "Lesley University",
          "University of Alabama--Huntsville",
          "University of Colorado--Denver",
          "University of Nevada--Reno",
          "California State University--Fullerton",
          "Central Michigan University",
          "Louisiana Tech University",
          "South Dakota State University",
          "University of Alaska--Fairbanks",
          "University of North Carolina--Charlotte",
          "University of North Dakota",
          "University of South Dakota",
          "East Carolina University",
          "Montana State University",
          "Old Dominion University",
          "University of Missouri--Kansas City",
          "Ashland University",
          "Dallas Baptist University",
          "Northern Illinois University",
          "Nova Southeastern University",
          "Southern Illinois University--Carbondale",
          "University of Montana",
          "Benedictine University",
          "California State University--Fresno",
          "Gardner-Webb University",
          "New Mexico State University",
          "Shenandoah University",
          "Tennessee Technological University",
          "University of Massachusetts--Boston",
          "University of Massachusetts--Dartmouth",
          "University of Missouri--St. Louis",
          "University of North Carolina--Greensboro",
          "University of Southern Mississippi",
          "Utah State University"
         ],
         "categoryorder": "total descending",
         "domain": [
          0,
          1
         ],
         "title": {
          "text": "name"
         }
        },
        "yaxis": {
         "anchor": "x",
         "domain": [
          0,
          1
         ],
         "title": {
          "text": "tuition_and_fees"
         }
        }
       }
      }
     },
     "metadata": {},
     "output_type": "display_data"
    }
   ],
   "source": [
    "fig = px.bar(df_nur, y=\"tuition_and_fees\", x=\"name\", color=\"name\", text_auto=True,height = 900, width= 2500)\n",
    "fig.update_layout(barmode=\"stack\", xaxis={\"categoryorder\": \"total descending\"}, title_text=\"Top Universities by Tuition_and_fees\")\n",
    "fig.show()"
   ]
  },
  {
   "cell_type": "code",
   "execution_count": 22,
   "metadata": {},
   "outputs": [
    {
     "data": {
      "application/vnd.plotly.v1+json": {
       "config": {
        "plotlyServerURL": "https://plot.ly"
       },
       "data": [
        {
         "alignmentgroup": "True",
         "hovertemplate": "name=%{x}<br>undergrad_enrollment=%{y}<extra></extra>",
         "legendgroup": "Princeton University",
         "marker": {
          "color": "#636efa",
          "pattern": {
           "shape": ""
          }
         },
         "name": "Princeton University",
         "offsetgroup": "Princeton University",
         "orientation": "v",
         "showlegend": true,
         "textposition": "auto",
         "texttemplate": "%{y}",
         "type": "bar",
         "x": [
          "Princeton University"
         ],
         "xaxis": "x",
         "y": [
          5402
         ],
         "yaxis": "y"
        },
        {
         "alignmentgroup": "True",
         "hovertemplate": "name=%{x}<br>undergrad_enrollment=%{y}<extra></extra>",
         "legendgroup": "Harvard University",
         "marker": {
          "color": "#EF553B",
          "pattern": {
           "shape": ""
          }
         },
         "name": "Harvard University",
         "offsetgroup": "Harvard University",
         "orientation": "v",
         "showlegend": true,
         "textposition": "auto",
         "texttemplate": "%{y}",
         "type": "bar",
         "x": [
          "Harvard University"
         ],
         "xaxis": "x",
         "y": [
          6699
         ],
         "yaxis": "y"
        },
        {
         "alignmentgroup": "True",
         "hovertemplate": "name=%{x}<br>undergrad_enrollment=%{y}<extra></extra>",
         "legendgroup": "University of Chicago",
         "marker": {
          "color": "#00cc96",
          "pattern": {
           "shape": ""
          }
         },
         "name": "University of Chicago",
         "offsetgroup": "University of Chicago",
         "orientation": "v",
         "showlegend": true,
         "textposition": "auto",
         "texttemplate": "%{y}",
         "type": "bar",
         "x": [
          "University of Chicago"
         ],
         "xaxis": "x",
         "y": [
          5844
         ],
         "yaxis": "y"
        },
        {
         "alignmentgroup": "True",
         "hovertemplate": "name=%{x}<br>undergrad_enrollment=%{y}<extra></extra>",
         "legendgroup": "Yale University",
         "marker": {
          "color": "#ab63fa",
          "pattern": {
           "shape": ""
          }
         },
         "name": "Yale University",
         "offsetgroup": "Yale University",
         "orientation": "v",
         "showlegend": true,
         "textposition": "auto",
         "texttemplate": "%{y}",
         "type": "bar",
         "x": [
          "Yale University"
         ],
         "xaxis": "x",
         "y": [
          5532
         ],
         "yaxis": "y"
        },
        {
         "alignmentgroup": "True",
         "hovertemplate": "name=%{x}<br>undergrad_enrollment=%{y}<extra></extra>",
         "legendgroup": "Columbia University",
         "marker": {
          "color": "#FFA15A",
          "pattern": {
           "shape": ""
          }
         },
         "name": "Columbia University",
         "offsetgroup": "Columbia University",
         "orientation": "v",
         "showlegend": true,
         "textposition": "auto",
         "texttemplate": "%{y}",
         "type": "bar",
         "x": [
          "Columbia University"
         ],
         "xaxis": "x",
         "y": [
          6102
         ],
         "yaxis": "y"
        },
        {
         "alignmentgroup": "True",
         "hovertemplate": "name=%{x}<br>undergrad_enrollment=%{y}<extra></extra>",
         "legendgroup": "Stanford University",
         "marker": {
          "color": "#19d3f3",
          "pattern": {
           "shape": ""
          }
         },
         "name": "Stanford University",
         "offsetgroup": "Stanford University",
         "orientation": "v",
         "showlegend": true,
         "textposition": "auto",
         "texttemplate": "%{y}",
         "type": "bar",
         "x": [
          "Stanford University"
         ],
         "xaxis": "x",
         "y": [
          6999
         ],
         "yaxis": "y"
        },
        {
         "alignmentgroup": "True",
         "hovertemplate": "name=%{x}<br>undergrad_enrollment=%{y}<extra></extra>",
         "legendgroup": "Massachusetts Institute of Technology",
         "marker": {
          "color": "#FF6692",
          "pattern": {
           "shape": ""
          }
         },
         "name": "Massachusetts Institute of Technology",
         "offsetgroup": "Massachusetts Institute of Technology",
         "orientation": "v",
         "showlegend": true,
         "textposition": "auto",
         "texttemplate": "%{y}",
         "type": "bar",
         "x": [
          "Massachusetts Institute of Technology"
         ],
         "xaxis": "x",
         "y": [
          4527
         ],
         "yaxis": "y"
        },
        {
         "alignmentgroup": "True",
         "hovertemplate": "name=%{x}<br>undergrad_enrollment=%{y}<extra></extra>",
         "legendgroup": "Duke University",
         "marker": {
          "color": "#B6E880",
          "pattern": {
           "shape": ""
          }
         },
         "name": "Duke University",
         "offsetgroup": "Duke University",
         "orientation": "v",
         "showlegend": true,
         "textposition": "auto",
         "texttemplate": "%{y}",
         "type": "bar",
         "x": [
          "Duke University"
         ],
         "xaxis": "x",
         "y": [
          6639
         ],
         "yaxis": "y"
        },
        {
         "alignmentgroup": "True",
         "hovertemplate": "name=%{x}<br>undergrad_enrollment=%{y}<extra></extra>",
         "legendgroup": "University of Pennsylvania",
         "marker": {
          "color": "#FF97FF",
          "pattern": {
           "shape": ""
          }
         },
         "name": "University of Pennsylvania",
         "offsetgroup": "University of Pennsylvania",
         "orientation": "v",
         "showlegend": true,
         "textposition": "auto",
         "texttemplate": "%{y}",
         "type": "bar",
         "x": [
          "University of Pennsylvania"
         ],
         "xaxis": "x",
         "y": [
          9726
         ],
         "yaxis": "y"
        },
        {
         "alignmentgroup": "True",
         "hovertemplate": "name=%{x}<br>undergrad_enrollment=%{y}<extra></extra>",
         "legendgroup": "Johns Hopkins University",
         "marker": {
          "color": "#FECB52",
          "pattern": {
           "shape": ""
          }
         },
         "name": "Johns Hopkins University",
         "offsetgroup": "Johns Hopkins University",
         "orientation": "v",
         "showlegend": true,
         "textposition": "auto",
         "texttemplate": "%{y}",
         "type": "bar",
         "x": [
          "Johns Hopkins University"
         ],
         "xaxis": "x",
         "y": [
          6524
         ],
         "yaxis": "y"
        },
        {
         "alignmentgroup": "True",
         "hovertemplate": "name=%{x}<br>undergrad_enrollment=%{y}<extra></extra>",
         "legendgroup": "Dartmouth College",
         "marker": {
          "color": "#636efa",
          "pattern": {
           "shape": ""
          }
         },
         "name": "Dartmouth College",
         "offsetgroup": "Dartmouth College",
         "orientation": "v",
         "showlegend": true,
         "textposition": "auto",
         "texttemplate": "%{y}",
         "type": "bar",
         "x": [
          "Dartmouth College"
         ],
         "xaxis": "x",
         "y": [
          4307
         ],
         "yaxis": "y"
        },
        {
         "alignmentgroup": "True",
         "hovertemplate": "name=%{x}<br>undergrad_enrollment=%{y}<extra></extra>",
         "legendgroup": "California Institute of Technology",
         "marker": {
          "color": "#EF553B",
          "pattern": {
           "shape": ""
          }
         },
         "name": "California Institute of Technology",
         "offsetgroup": "California Institute of Technology",
         "orientation": "v",
         "showlegend": true,
         "textposition": "auto",
         "texttemplate": "%{y}",
         "type": "bar",
         "x": [
          "California Institute of Technology"
         ],
         "xaxis": "x",
         "y": [
          1001
         ],
         "yaxis": "y"
        },
        {
         "alignmentgroup": "True",
         "hovertemplate": "name=%{x}<br>undergrad_enrollment=%{y}<extra></extra>",
         "legendgroup": "Northwestern University",
         "marker": {
          "color": "#00cc96",
          "pattern": {
           "shape": ""
          }
         },
         "name": "Northwestern University",
         "offsetgroup": "Northwestern University",
         "orientation": "v",
         "showlegend": true,
         "textposition": "auto",
         "texttemplate": "%{y}",
         "type": "bar",
         "x": [
          "Northwestern University"
         ],
         "xaxis": "x",
         "y": [
          8314
         ],
         "yaxis": "y"
        },
        {
         "alignmentgroup": "True",
         "hovertemplate": "name=%{x}<br>undergrad_enrollment=%{y}<extra></extra>",
         "legendgroup": "Brown University",
         "marker": {
          "color": "#ab63fa",
          "pattern": {
           "shape": ""
          }
         },
         "name": "Brown University",
         "offsetgroup": "Brown University",
         "orientation": "v",
         "showlegend": true,
         "textposition": "auto",
         "texttemplate": "%{y}",
         "type": "bar",
         "x": [
          "Brown University"
         ],
         "xaxis": "x",
         "y": [
          6652
         ],
         "yaxis": "y"
        },
        {
         "alignmentgroup": "True",
         "hovertemplate": "name=%{x}<br>undergrad_enrollment=%{y}<extra></extra>",
         "legendgroup": "Cornell University",
         "marker": {
          "color": "#FFA15A",
          "pattern": {
           "shape": ""
          }
         },
         "name": "Cornell University",
         "offsetgroup": "Cornell University",
         "orientation": "v",
         "showlegend": true,
         "textposition": "auto",
         "texttemplate": "%{y}",
         "type": "bar",
         "x": [
          "Cornell University"
         ],
         "xaxis": "x",
         "y": [
          14315
         ],
         "yaxis": "y"
        },
        {
         "alignmentgroup": "True",
         "hovertemplate": "name=%{x}<br>undergrad_enrollment=%{y}<extra></extra>",
         "legendgroup": "Rice University",
         "marker": {
          "color": "#19d3f3",
          "pattern": {
           "shape": ""
          }
         },
         "name": "Rice University",
         "offsetgroup": "Rice University",
         "orientation": "v",
         "showlegend": true,
         "textposition": "auto",
         "texttemplate": "%{y}",
         "type": "bar",
         "x": [
          "Rice University"
         ],
         "xaxis": "x",
         "y": [
          3910
         ],
         "yaxis": "y"
        },
        {
         "alignmentgroup": "True",
         "hovertemplate": "name=%{x}<br>undergrad_enrollment=%{y}<extra></extra>",
         "legendgroup": "University of Notre Dame",
         "marker": {
          "color": "#FF6692",
          "pattern": {
           "shape": ""
          }
         },
         "name": "University of Notre Dame",
         "offsetgroup": "University of Notre Dame",
         "orientation": "v",
         "showlegend": true,
         "textposition": "auto",
         "texttemplate": "%{y}",
         "type": "bar",
         "x": [
          "University of Notre Dame"
         ],
         "xaxis": "x",
         "y": [
          8462
         ],
         "yaxis": "y"
        },
        {
         "alignmentgroup": "True",
         "hovertemplate": "name=%{x}<br>undergrad_enrollment=%{y}<extra></extra>",
         "legendgroup": "Vanderbilt University",
         "marker": {
          "color": "#B6E880",
          "pattern": {
           "shape": ""
          }
         },
         "name": "Vanderbilt University",
         "offsetgroup": "Vanderbilt University",
         "orientation": "v",
         "showlegend": true,
         "textposition": "auto",
         "texttemplate": "%{y}",
         "type": "bar",
         "x": [
          "Vanderbilt University"
         ],
         "xaxis": "x",
         "y": [
          6883
         ],
         "yaxis": "y"
        },
        {
         "alignmentgroup": "True",
         "hovertemplate": "name=%{x}<br>undergrad_enrollment=%{y}<extra></extra>",
         "legendgroup": "Washington University in St. Louis",
         "marker": {
          "color": "#FF97FF",
          "pattern": {
           "shape": ""
          }
         },
         "name": "Washington University in St. Louis",
         "offsetgroup": "Washington University in St. Louis",
         "orientation": "v",
         "showlegend": true,
         "textposition": "auto",
         "texttemplate": "%{y}",
         "type": "bar",
         "x": [
          "Washington University in St. Louis"
         ],
         "xaxis": "x",
         "y": [
          7504
         ],
         "yaxis": "y"
        },
        {
         "alignmentgroup": "True",
         "hovertemplate": "name=%{x}<br>undergrad_enrollment=%{y}<extra></extra>",
         "legendgroup": "Emory University",
         "marker": {
          "color": "#FECB52",
          "pattern": {
           "shape": ""
          }
         },
         "name": "Emory University",
         "offsetgroup": "Emory University",
         "orientation": "v",
         "showlegend": true,
         "textposition": "auto",
         "texttemplate": "%{y}",
         "type": "bar",
         "x": [
          "Emory University"
         ],
         "xaxis": "x",
         "y": [
          6867
         ],
         "yaxis": "y"
        },
        {
         "alignmentgroup": "True",
         "hovertemplate": "name=%{x}<br>undergrad_enrollment=%{y}<extra></extra>",
         "legendgroup": "Georgetown University",
         "marker": {
          "color": "#636efa",
          "pattern": {
           "shape": ""
          }
         },
         "name": "Georgetown University",
         "offsetgroup": "Georgetown University",
         "orientation": "v",
         "showlegend": true,
         "textposition": "auto",
         "texttemplate": "%{y}",
         "type": "bar",
         "x": [
          "Georgetown University"
         ],
         "xaxis": "x",
         "y": [
          7562
         ],
         "yaxis": "y"
        },
        {
         "alignmentgroup": "True",
         "hovertemplate": "name=%{x}<br>undergrad_enrollment=%{y}<extra></extra>",
         "legendgroup": "University of California--Berkeley",
         "marker": {
          "color": "#EF553B",
          "pattern": {
           "shape": ""
          }
         },
         "name": "University of California--Berkeley",
         "offsetgroup": "University of California--Berkeley",
         "orientation": "v",
         "showlegend": true,
         "textposition": "auto",
         "texttemplate": "%{y}",
         "type": "bar",
         "x": [
          "University of California--Berkeley"
         ],
         "xaxis": "x",
         "y": [
          27496
         ],
         "yaxis": "y"
        },
        {
         "alignmentgroup": "True",
         "hovertemplate": "name=%{x}<br>undergrad_enrollment=%{y}<extra></extra>",
         "legendgroup": "University of Southern California",
         "marker": {
          "color": "#00cc96",
          "pattern": {
           "shape": ""
          }
         },
         "name": "University of Southern California",
         "offsetgroup": "University of Southern California",
         "orientation": "v",
         "showlegend": true,
         "textposition": "auto",
         "texttemplate": "%{y}",
         "type": "bar",
         "x": [
          "University of Southern California"
         ],
         "xaxis": "x",
         "y": [
          18810
         ],
         "yaxis": "y"
        },
        {
         "alignmentgroup": "True",
         "hovertemplate": "name=%{x}<br>undergrad_enrollment=%{y}<extra></extra>",
         "legendgroup": "Carnegie Mellon University",
         "marker": {
          "color": "#ab63fa",
          "pattern": {
           "shape": ""
          }
         },
         "name": "Carnegie Mellon University",
         "offsetgroup": "Carnegie Mellon University",
         "orientation": "v",
         "showlegend": true,
         "textposition": "auto",
         "texttemplate": "%{y}",
         "type": "bar",
         "x": [
          "Carnegie Mellon University"
         ],
         "xaxis": "x",
         "y": [
          6454
         ],
         "yaxis": "y"
        },
        {
         "alignmentgroup": "True",
         "hovertemplate": "name=%{x}<br>undergrad_enrollment=%{y}<extra></extra>",
         "legendgroup": "University of California--Los Angeles",
         "marker": {
          "color": "#FFA15A",
          "pattern": {
           "shape": ""
          }
         },
         "name": "University of California--Los Angeles",
         "offsetgroup": "University of California--Los Angeles",
         "orientation": "v",
         "showlegend": true,
         "textposition": "auto",
         "texttemplate": "%{y}",
         "type": "bar",
         "x": [
          "University of California--Los Angeles"
         ],
         "xaxis": "x",
         "y": [
          29585
         ],
         "yaxis": "y"
        },
        {
         "alignmentgroup": "True",
         "hovertemplate": "name=%{x}<br>undergrad_enrollment=%{y}<extra></extra>",
         "legendgroup": "University of Virginia",
         "marker": {
          "color": "#19d3f3",
          "pattern": {
           "shape": ""
          }
         },
         "name": "University of Virginia",
         "offsetgroup": "University of Virginia",
         "orientation": "v",
         "showlegend": true,
         "textposition": "auto",
         "texttemplate": "%{y}",
         "type": "bar",
         "x": [
          "University of Virginia"
         ],
         "xaxis": "x",
         "y": [
          16736
         ],
         "yaxis": "y"
        },
        {
         "alignmentgroup": "True",
         "hovertemplate": "name=%{x}<br>undergrad_enrollment=%{y}<extra></extra>",
         "legendgroup": "Tufts University",
         "marker": {
          "color": "#FF6692",
          "pattern": {
           "shape": ""
          }
         },
         "name": "Tufts University",
         "offsetgroup": "Tufts University",
         "orientation": "v",
         "showlegend": true,
         "textposition": "auto",
         "texttemplate": "%{y}",
         "type": "bar",
         "x": [
          "Tufts University"
         ],
         "xaxis": "x",
         "y": [
          5290
         ],
         "yaxis": "y"
        },
        {
         "alignmentgroup": "True",
         "hovertemplate": "name=%{x}<br>undergrad_enrollment=%{y}<extra></extra>",
         "legendgroup": "University of Michigan--Ann Arbor",
         "marker": {
          "color": "#B6E880",
          "pattern": {
           "shape": ""
          }
         },
         "name": "University of Michigan--Ann Arbor",
         "offsetgroup": "University of Michigan--Ann Arbor",
         "orientation": "v",
         "showlegend": true,
         "textposition": "auto",
         "texttemplate": "%{y}",
         "type": "bar",
         "x": [
          "University of Michigan--Ann Arbor"
         ],
         "xaxis": "x",
         "y": [
          28312
         ],
         "yaxis": "y"
        },
        {
         "alignmentgroup": "True",
         "hovertemplate": "name=%{x}<br>undergrad_enrollment=%{y}<extra></extra>",
         "legendgroup": "Wake Forest University",
         "marker": {
          "color": "#FF97FF",
          "pattern": {
           "shape": ""
          }
         },
         "name": "Wake Forest University",
         "offsetgroup": "Wake Forest University",
         "orientation": "v",
         "showlegend": true,
         "textposition": "auto",
         "texttemplate": "%{y}",
         "type": "bar",
         "x": [
          "Wake Forest University"
         ],
         "xaxis": "x",
         "y": [
          4871
         ],
         "yaxis": "y"
        },
        {
         "alignmentgroup": "True",
         "hovertemplate": "name=%{x}<br>undergrad_enrollment=%{y}<extra></extra>",
         "legendgroup": "University of North Carolina--Chapel Hill",
         "marker": {
          "color": "#FECB52",
          "pattern": {
           "shape": ""
          }
         },
         "name": "University of North Carolina--Chapel Hill",
         "offsetgroup": "University of North Carolina--Chapel Hill",
         "orientation": "v",
         "showlegend": true,
         "textposition": "auto",
         "texttemplate": "%{y}",
         "type": "bar",
         "x": [
          "University of North Carolina--Chapel Hill"
         ],
         "xaxis": "x",
         "y": [
          18415
         ],
         "yaxis": "y"
        },
        {
         "alignmentgroup": "True",
         "hovertemplate": "name=%{x}<br>undergrad_enrollment=%{y}<extra></extra>",
         "legendgroup": "Boston College",
         "marker": {
          "color": "#636efa",
          "pattern": {
           "shape": ""
          }
         },
         "name": "Boston College",
         "offsetgroup": "Boston College",
         "orientation": "v",
         "showlegend": true,
         "textposition": "auto",
         "texttemplate": "%{y}",
         "type": "bar",
         "x": [
          "Boston College"
         ],
         "xaxis": "x",
         "y": [
          9192
         ],
         "yaxis": "y"
        },
        {
         "alignmentgroup": "True",
         "hovertemplate": "name=%{x}<br>undergrad_enrollment=%{y}<extra></extra>",
         "legendgroup": "College of William & Mary",
         "marker": {
          "color": "#EF553B",
          "pattern": {
           "shape": ""
          }
         },
         "name": "College of William & Mary",
         "offsetgroup": "College of William & Mary",
         "orientation": "v",
         "showlegend": true,
         "textposition": "auto",
         "texttemplate": "%{y}",
         "type": "bar",
         "x": [
          "College of William & Mary"
         ],
         "xaxis": "x",
         "y": [
          6301
         ],
         "yaxis": "y"
        },
        {
         "alignmentgroup": "True",
         "hovertemplate": "name=%{x}<br>undergrad_enrollment=%{y}<extra></extra>",
         "legendgroup": "University of Rochester",
         "marker": {
          "color": "#00cc96",
          "pattern": {
           "shape": ""
          }
         },
         "name": "University of Rochester",
         "offsetgroup": "University of Rochester",
         "orientation": "v",
         "showlegend": true,
         "textposition": "auto",
         "texttemplate": "%{y}",
         "type": "bar",
         "x": [
          "University of Rochester"
         ],
         "xaxis": "x",
         "y": [
          6304
         ],
         "yaxis": "y"
        },
        {
         "alignmentgroup": "True",
         "hovertemplate": "name=%{x}<br>undergrad_enrollment=%{y}<extra></extra>",
         "legendgroup": "Brandeis University",
         "marker": {
          "color": "#ab63fa",
          "pattern": {
           "shape": ""
          }
         },
         "name": "Brandeis University",
         "offsetgroup": "Brandeis University",
         "orientation": "v",
         "showlegend": true,
         "textposition": "auto",
         "texttemplate": "%{y}",
         "type": "bar",
         "x": [
          "Brandeis University"
         ],
         "xaxis": "x",
         "y": [
          3621
         ],
         "yaxis": "y"
        },
        {
         "alignmentgroup": "True",
         "hovertemplate": "name=%{x}<br>undergrad_enrollment=%{y}<extra></extra>",
         "legendgroup": "Georgia Institute of Technology",
         "marker": {
          "color": "#FFA15A",
          "pattern": {
           "shape": ""
          }
         },
         "name": "Georgia Institute of Technology",
         "offsetgroup": "Georgia Institute of Technology",
         "orientation": "v",
         "showlegend": true,
         "textposition": "auto",
         "texttemplate": "%{y}",
         "type": "bar",
         "x": [
          "Georgia Institute of Technology"
         ],
         "xaxis": "x",
         "y": [
          15142
         ],
         "yaxis": "y"
        },
        {
         "alignmentgroup": "True",
         "hovertemplate": "name=%{x}<br>undergrad_enrollment=%{y}<extra></extra>",
         "legendgroup": "New York University",
         "marker": {
          "color": "#19d3f3",
          "pattern": {
           "shape": ""
          }
         },
         "name": "New York University",
         "offsetgroup": "New York University",
         "orientation": "v",
         "showlegend": true,
         "textposition": "auto",
         "texttemplate": "%{y}",
         "type": "bar",
         "x": [
          "New York University"
         ],
         "xaxis": "x",
         "y": [
          25722
         ],
         "yaxis": "y"
        },
        {
         "alignmentgroup": "True",
         "hovertemplate": "name=%{x}<br>undergrad_enrollment=%{y}<extra></extra>",
         "legendgroup": "Case Western Reserve University",
         "marker": {
          "color": "#FF6692",
          "pattern": {
           "shape": ""
          }
         },
         "name": "Case Western Reserve University",
         "offsetgroup": "Case Western Reserve University",
         "orientation": "v",
         "showlegend": true,
         "textposition": "auto",
         "texttemplate": "%{y}",
         "type": "bar",
         "x": [
          "Case Western Reserve University"
         ],
         "xaxis": "x",
         "y": [
          5121
         ],
         "yaxis": "y"
        },
        {
         "alignmentgroup": "True",
         "hovertemplate": "name=%{x}<br>undergrad_enrollment=%{y}<extra></extra>",
         "legendgroup": "University of California--Santa Barbara",
         "marker": {
          "color": "#B6E880",
          "pattern": {
           "shape": ""
          }
         },
         "name": "University of California--Santa Barbara",
         "offsetgroup": "University of California--Santa Barbara",
         "orientation": "v",
         "showlegend": true,
         "textposition": "auto",
         "texttemplate": "%{y}",
         "type": "bar",
         "x": [
          "University of California--Santa Barbara"
         ],
         "xaxis": "x",
         "y": [
          20607
         ],
         "yaxis": "y"
        },
        {
         "alignmentgroup": "True",
         "hovertemplate": "name=%{x}<br>undergrad_enrollment=%{y}<extra></extra>",
         "legendgroup": "Boston University",
         "marker": {
          "color": "#FF97FF",
          "pattern": {
           "shape": ""
          }
         },
         "name": "Boston University",
         "offsetgroup": "Boston University",
         "orientation": "v",
         "showlegend": true,
         "textposition": "auto",
         "texttemplate": "%{y}",
         "type": "bar",
         "x": [
          "Boston University"
         ],
         "xaxis": "x",
         "y": [
          17932
         ],
         "yaxis": "y"
        },
        {
         "alignmentgroup": "True",
         "hovertemplate": "name=%{x}<br>undergrad_enrollment=%{y}<extra></extra>",
         "legendgroup": "Northeastern University",
         "marker": {
          "color": "#FECB52",
          "pattern": {
           "shape": ""
          }
         },
         "name": "Northeastern University",
         "offsetgroup": "Northeastern University",
         "orientation": "v",
         "showlegend": true,
         "textposition": "auto",
         "texttemplate": "%{y}",
         "type": "bar",
         "x": [
          "Northeastern University"
         ],
         "xaxis": "x",
         "y": [
          13697
         ],
         "yaxis": "y"
        },
        {
         "alignmentgroup": "True",
         "hovertemplate": "name=%{x}<br>undergrad_enrollment=%{y}<extra></extra>",
         "legendgroup": "Rensselaer Polytechnic Institute",
         "marker": {
          "color": "#636efa",
          "pattern": {
           "shape": ""
          }
         },
         "name": "Rensselaer Polytechnic Institute",
         "offsetgroup": "Rensselaer Polytechnic Institute",
         "orientation": "v",
         "showlegend": true,
         "textposition": "auto",
         "texttemplate": "%{y}",
         "type": "bar",
         "x": [
          "Rensselaer Polytechnic Institute"
         ],
         "xaxis": "x",
         "y": [
          5864
         ],
         "yaxis": "y"
        },
        {
         "alignmentgroup": "True",
         "hovertemplate": "name=%{x}<br>undergrad_enrollment=%{y}<extra></extra>",
         "legendgroup": "Tulane University",
         "marker": {
          "color": "#EF553B",
          "pattern": {
           "shape": ""
          }
         },
         "name": "Tulane University",
         "offsetgroup": "Tulane University",
         "orientation": "v",
         "showlegend": true,
         "textposition": "auto",
         "texttemplate": "%{y}",
         "type": "bar",
         "x": [
          "Tulane University"
         ],
         "xaxis": "x",
         "y": [
          6662
         ],
         "yaxis": "y"
        },
        {
         "alignmentgroup": "True",
         "hovertemplate": "name=%{x}<br>undergrad_enrollment=%{y}<extra></extra>",
         "legendgroup": "University of California--Irvine",
         "marker": {
          "color": "#00cc96",
          "pattern": {
           "shape": ""
          }
         },
         "name": "University of California--Irvine",
         "offsetgroup": "University of California--Irvine",
         "orientation": "v",
         "showlegend": true,
         "textposition": "auto",
         "texttemplate": "%{y}",
         "type": "bar",
         "x": [
          "University of California--Irvine"
         ],
         "xaxis": "x",
         "y": [
          25256
         ],
         "yaxis": "y"
        },
        {
         "alignmentgroup": "True",
         "hovertemplate": "name=%{x}<br>undergrad_enrollment=%{y}<extra></extra>",
         "legendgroup": "Lehigh University",
         "marker": {
          "color": "#ab63fa",
          "pattern": {
           "shape": ""
          }
         },
         "name": "Lehigh University",
         "offsetgroup": "Lehigh University",
         "orientation": "v",
         "showlegend": true,
         "textposition": "auto",
         "texttemplate": "%{y}",
         "type": "bar",
         "x": [
          "Lehigh University"
         ],
         "xaxis": "x",
         "y": [
          5075
         ],
         "yaxis": "y"
        },
        {
         "alignmentgroup": "True",
         "hovertemplate": "name=%{x}<br>undergrad_enrollment=%{y}<extra></extra>",
         "legendgroup": "University of California--Davis",
         "marker": {
          "color": "#FFA15A",
          "pattern": {
           "shape": ""
          }
         },
         "name": "University of California--Davis",
         "offsetgroup": "University of California--Davis",
         "orientation": "v",
         "showlegend": true,
         "textposition": "auto",
         "texttemplate": "%{y}",
         "type": "bar",
         "x": [
          "University of California--Davis"
         ],
         "xaxis": "x",
         "y": [
          28384
         ],
         "yaxis": "y"
        },
        {
         "alignmentgroup": "True",
         "hovertemplate": "name=%{x}<br>undergrad_enrollment=%{y}<extra></extra>",
         "legendgroup": "University of California--San Diego",
         "marker": {
          "color": "#19d3f3",
          "pattern": {
           "shape": ""
          }
         },
         "name": "University of California--San Diego",
         "offsetgroup": "University of California--San Diego",
         "orientation": "v",
         "showlegend": true,
         "textposition": "auto",
         "texttemplate": "%{y}",
         "type": "bar",
         "x": [
          "University of California--San Diego"
         ],
         "xaxis": "x",
         "y": [
          26590
         ],
         "yaxis": "y"
        },
        {
         "alignmentgroup": "True",
         "hovertemplate": "name=%{x}<br>undergrad_enrollment=%{y}<extra></extra>",
         "legendgroup": "University of Illinois--Urbana-Champaign",
         "marker": {
          "color": "#FF6692",
          "pattern": {
           "shape": ""
          }
         },
         "name": "University of Illinois--Urbana-Champaign",
         "offsetgroup": "University of Illinois--Urbana-Champaign",
         "orientation": "v",
         "showlegend": true,
         "textposition": "auto",
         "texttemplate": "%{y}",
         "type": "bar",
         "x": [
          "University of Illinois--Urbana-Champaign"
         ],
         "xaxis": "x",
         "y": [
          33368
         ],
         "yaxis": "y"
        },
        {
         "alignmentgroup": "True",
         "hovertemplate": "name=%{x}<br>undergrad_enrollment=%{y}<extra></extra>",
         "legendgroup": "University of Miami",
         "marker": {
          "color": "#B6E880",
          "pattern": {
           "shape": ""
          }
         },
         "name": "University of Miami",
         "offsetgroup": "University of Miami",
         "orientation": "v",
         "showlegend": true,
         "textposition": "auto",
         "texttemplate": "%{y}",
         "type": "bar",
         "x": [
          "University of Miami"
         ],
         "xaxis": "x",
         "y": [
          11122
         ],
         "yaxis": "y"
        },
        {
         "alignmentgroup": "True",
         "hovertemplate": "name=%{x}<br>undergrad_enrollment=%{y}<extra></extra>",
         "legendgroup": "University of Wisconsin--Madison",
         "marker": {
          "color": "#FF97FF",
          "pattern": {
           "shape": ""
          }
         },
         "name": "University of Wisconsin--Madison",
         "offsetgroup": "University of Wisconsin--Madison",
         "orientation": "v",
         "showlegend": true,
         "textposition": "auto",
         "texttemplate": "%{y}",
         "type": "bar",
         "x": [
          "University of Wisconsin--Madison"
         ],
         "xaxis": "x",
         "y": [
          31662
         ],
         "yaxis": "y"
        },
        {
         "alignmentgroup": "True",
         "hovertemplate": "name=%{x}<br>undergrad_enrollment=%{y}<extra></extra>",
         "legendgroup": "Pepperdine University",
         "marker": {
          "color": "#FECB52",
          "pattern": {
           "shape": ""
          }
         },
         "name": "Pepperdine University",
         "offsetgroup": "Pepperdine University",
         "orientation": "v",
         "showlegend": true,
         "textposition": "auto",
         "texttemplate": "%{y}",
         "type": "bar",
         "x": [
          "Pepperdine University"
         ],
         "xaxis": "x",
         "y": [
          3533
         ],
         "yaxis": "y"
        },
        {
         "alignmentgroup": "True",
         "hovertemplate": "name=%{x}<br>undergrad_enrollment=%{y}<extra></extra>",
         "legendgroup": "University of Florida",
         "marker": {
          "color": "#636efa",
          "pattern": {
           "shape": ""
          }
         },
         "name": "University of Florida",
         "offsetgroup": "University of Florida",
         "orientation": "v",
         "showlegend": true,
         "textposition": "auto",
         "texttemplate": "%{y}",
         "type": "bar",
         "x": [
          "University of Florida"
         ],
         "xaxis": "x",
         "y": [
          35043
         ],
         "yaxis": "y"
        },
        {
         "alignmentgroup": "True",
         "hovertemplate": "name=%{x}<br>undergrad_enrollment=%{y}<extra></extra>",
         "legendgroup": "Villanova University",
         "marker": {
          "color": "#EF553B",
          "pattern": {
           "shape": ""
          }
         },
         "name": "Villanova University",
         "offsetgroup": "Villanova University",
         "orientation": "v",
         "showlegend": true,
         "textposition": "auto",
         "texttemplate": "%{y}",
         "type": "bar",
         "x": [
          "Villanova University"
         ],
         "xaxis": "x",
         "y": [
          6994
         ],
         "yaxis": "y"
        },
        {
         "alignmentgroup": "True",
         "hovertemplate": "name=%{x}<br>undergrad_enrollment=%{y}<extra></extra>",
         "legendgroup": "Pennsylvania State University--University Park",
         "marker": {
          "color": "#00cc96",
          "pattern": {
           "shape": ""
          }
         },
         "name": "Pennsylvania State University--University Park",
         "offsetgroup": "Pennsylvania State University--University Park",
         "orientation": "v",
         "showlegend": true,
         "textposition": "auto",
         "texttemplate": "%{y}",
         "type": "bar",
         "x": [
          "Pennsylvania State University--University Park"
         ],
         "xaxis": "x",
         "y": [
          40742
         ],
         "yaxis": "y"
        },
        {
         "alignmentgroup": "True",
         "hovertemplate": "name=%{x}<br>undergrad_enrollment=%{y}<extra></extra>",
         "legendgroup": "Ohio State University--Columbus",
         "marker": {
          "color": "#ab63fa",
          "pattern": {
           "shape": ""
          }
         },
         "name": "Ohio State University--Columbus",
         "offsetgroup": "Ohio State University--Columbus",
         "orientation": "v",
         "showlegend": true,
         "textposition": "auto",
         "texttemplate": "%{y}",
         "type": "bar",
         "x": [
          "Ohio State University--Columbus"
         ],
         "xaxis": "x",
         "y": [
          45289
         ],
         "yaxis": "y"
        },
        {
         "alignmentgroup": "True",
         "hovertemplate": "name=%{x}<br>undergrad_enrollment=%{y}<extra></extra>",
         "legendgroup": "University of Washington",
         "marker": {
          "color": "#FFA15A",
          "pattern": {
           "shape": ""
          }
         },
         "name": "University of Washington",
         "offsetgroup": "University of Washington",
         "orientation": "v",
         "showlegend": true,
         "textposition": "auto",
         "texttemplate": "%{y}",
         "type": "bar",
         "x": [
          "University of Washington"
         ],
         "xaxis": "x",
         "y": [
          31063
         ],
         "yaxis": "y"
        },
        {
         "alignmentgroup": "True",
         "hovertemplate": "name=%{x}<br>undergrad_enrollment=%{y}<extra></extra>",
         "legendgroup": "George Washington University",
         "marker": {
          "color": "#19d3f3",
          "pattern": {
           "shape": ""
          }
         },
         "name": "George Washington University",
         "offsetgroup": "George Washington University",
         "orientation": "v",
         "showlegend": true,
         "textposition": "auto",
         "texttemplate": "%{y}",
         "type": "bar",
         "x": [
          "George Washington University"
         ],
         "xaxis": "x",
         "y": [
          11157
         ],
         "yaxis": "y"
        },
        {
         "alignmentgroup": "True",
         "hovertemplate": "name=%{x}<br>undergrad_enrollment=%{y}<extra></extra>",
         "legendgroup": "Southern Methodist University",
         "marker": {
          "color": "#FF6692",
          "pattern": {
           "shape": ""
          }
         },
         "name": "Southern Methodist University",
         "offsetgroup": "Southern Methodist University",
         "orientation": "v",
         "showlegend": true,
         "textposition": "auto",
         "texttemplate": "%{y}",
         "type": "bar",
         "x": [
          "Southern Methodist University"
         ],
         "xaxis": "x",
         "y": [
          6411
         ],
         "yaxis": "y"
        },
        {
         "alignmentgroup": "True",
         "hovertemplate": "name=%{x}<br>undergrad_enrollment=%{y}<extra></extra>",
         "legendgroup": "University of Georgia",
         "marker": {
          "color": "#B6E880",
          "pattern": {
           "shape": ""
          }
         },
         "name": "University of Georgia",
         "offsetgroup": "University of Georgia",
         "orientation": "v",
         "showlegend": true,
         "textposition": "auto",
         "texttemplate": "%{y}",
         "type": "bar",
         "x": [
          "University of Georgia"
         ],
         "xaxis": "x",
         "y": [
          27547
         ],
         "yaxis": "y"
        },
        {
         "alignmentgroup": "True",
         "hovertemplate": "name=%{x}<br>undergrad_enrollment=%{y}<extra></extra>",
         "legendgroup": "University of Texas--Austin",
         "marker": {
          "color": "#FF97FF",
          "pattern": {
           "shape": ""
          }
         },
         "name": "University of Texas--Austin",
         "offsetgroup": "University of Texas--Austin",
         "orientation": "v",
         "showlegend": true,
         "textposition": "auto",
         "texttemplate": "%{y}",
         "type": "bar",
         "x": [
          "University of Texas--Austin"
         ],
         "xaxis": "x",
         "y": [
          39619
         ],
         "yaxis": "y"
        },
        {
         "alignmentgroup": "True",
         "hovertemplate": "name=%{x}<br>undergrad_enrollment=%{y}<extra></extra>",
         "legendgroup": "Fordham University",
         "marker": {
          "color": "#FECB52",
          "pattern": {
           "shape": ""
          }
         },
         "name": "Fordham University",
         "offsetgroup": "Fordham University",
         "orientation": "v",
         "showlegend": true,
         "textposition": "auto",
         "texttemplate": "%{y}",
         "type": "bar",
         "x": [
          "Fordham University"
         ],
         "xaxis": "x",
         "y": [
          8855
         ],
         "yaxis": "y"
        },
        {
         "alignmentgroup": "True",
         "hovertemplate": "name=%{x}<br>undergrad_enrollment=%{y}<extra></extra>",
         "legendgroup": "Purdue University--West Lafayette",
         "marker": {
          "color": "#636efa",
          "pattern": {
           "shape": ""
          }
         },
         "name": "Purdue University--West Lafayette",
         "offsetgroup": "Purdue University--West Lafayette",
         "orientation": "v",
         "showlegend": true,
         "textposition": "auto",
         "texttemplate": "%{y}",
         "type": "bar",
         "x": [
          "Purdue University--West Lafayette"
         ],
         "xaxis": "x",
         "y": [
          29497
         ],
         "yaxis": "y"
        },
        {
         "alignmentgroup": "True",
         "hovertemplate": "name=%{x}<br>undergrad_enrollment=%{y}<extra></extra>",
         "legendgroup": "Syracuse University",
         "marker": {
          "color": "#EF553B",
          "pattern": {
           "shape": ""
          }
         },
         "name": "Syracuse University",
         "offsetgroup": "Syracuse University",
         "orientation": "v",
         "showlegend": true,
         "textposition": "auto",
         "texttemplate": "%{y}",
         "type": "bar",
         "x": [
          "Syracuse University"
         ],
         "xaxis": "x",
         "y": [
          15196
         ],
         "yaxis": "y"
        },
        {
         "alignmentgroup": "True",
         "hovertemplate": "name=%{x}<br>undergrad_enrollment=%{y}<extra></extra>",
         "legendgroup": "University of Connecticut",
         "marker": {
          "color": "#00cc96",
          "pattern": {
           "shape": ""
          }
         },
         "name": "University of Connecticut",
         "offsetgroup": "University of Connecticut",
         "orientation": "v",
         "showlegend": true,
         "textposition": "auto",
         "texttemplate": "%{y}",
         "type": "bar",
         "x": [
          "University of Connecticut"
         ],
         "xaxis": "x",
         "y": [
          18826
         ],
         "yaxis": "y"
        },
        {
         "alignmentgroup": "True",
         "hovertemplate": "name=%{x}<br>undergrad_enrollment=%{y}<extra></extra>",
         "legendgroup": "University of Maryland--College Park",
         "marker": {
          "color": "#ab63fa",
          "pattern": {
           "shape": ""
          }
         },
         "name": "University of Maryland--College Park",
         "offsetgroup": "University of Maryland--College Park",
         "orientation": "v",
         "showlegend": true,
         "textposition": "auto",
         "texttemplate": "%{y}",
         "type": "bar",
         "x": [
          "University of Maryland--College Park"
         ],
         "xaxis": "x",
         "y": [
          27443
         ],
         "yaxis": "y"
        },
        {
         "alignmentgroup": "True",
         "hovertemplate": "name=%{x}<br>undergrad_enrollment=%{y}<extra></extra>",
         "legendgroup": "Worcester Polytechnic Institute",
         "marker": {
          "color": "#FFA15A",
          "pattern": {
           "shape": ""
          }
         },
         "name": "Worcester Polytechnic Institute",
         "offsetgroup": "Worcester Polytechnic Institute",
         "orientation": "v",
         "showlegend": true,
         "textposition": "auto",
         "texttemplate": "%{y}",
         "type": "bar",
         "x": [
          "Worcester Polytechnic Institute"
         ],
         "xaxis": "x",
         "y": [
          4299
         ],
         "yaxis": "y"
        },
        {
         "alignmentgroup": "True",
         "hovertemplate": "name=%{x}<br>undergrad_enrollment=%{y}<extra></extra>",
         "legendgroup": "Clemson University",
         "marker": {
          "color": "#19d3f3",
          "pattern": {
           "shape": ""
          }
         },
         "name": "Clemson University",
         "offsetgroup": "Clemson University",
         "orientation": "v",
         "showlegend": true,
         "textposition": "auto",
         "texttemplate": "%{y}",
         "type": "bar",
         "x": [
          "Clemson University"
         ],
         "xaxis": "x",
         "y": [
          18016
         ],
         "yaxis": "y"
        },
        {
         "alignmentgroup": "True",
         "hovertemplate": "name=%{x}<br>undergrad_enrollment=%{y}<extra></extra>",
         "legendgroup": "Yeshiva University",
         "marker": {
          "color": "#FF6692",
          "pattern": {
           "shape": ""
          }
         },
         "name": "Yeshiva University",
         "offsetgroup": "Yeshiva University",
         "orientation": "v",
         "showlegend": true,
         "textposition": "auto",
         "texttemplate": "%{y}",
         "type": "bar",
         "x": [
          "Yeshiva University"
         ],
         "xaxis": "x",
         "y": [
          2744
         ],
         "yaxis": "y"
        },
        {
         "alignmentgroup": "True",
         "hovertemplate": "name=%{x}<br>undergrad_enrollment=%{y}<extra></extra>",
         "legendgroup": "Brigham Young University--Provo",
         "marker": {
          "color": "#B6E880",
          "pattern": {
           "shape": ""
          }
         },
         "name": "Brigham Young University--Provo",
         "offsetgroup": "Brigham Young University--Provo",
         "orientation": "v",
         "showlegend": true,
         "textposition": "auto",
         "texttemplate": "%{y}",
         "type": "bar",
         "x": [
          "Brigham Young University--Provo"
         ],
         "xaxis": "x",
         "y": [
          30221
         ],
         "yaxis": "y"
        },
        {
         "alignmentgroup": "True",
         "hovertemplate": "name=%{x}<br>undergrad_enrollment=%{y}<extra></extra>",
         "legendgroup": "University of Pittsburgh",
         "marker": {
          "color": "#FF97FF",
          "pattern": {
           "shape": ""
          }
         },
         "name": "University of Pittsburgh",
         "offsetgroup": "University of Pittsburgh",
         "orientation": "v",
         "showlegend": true,
         "textposition": "auto",
         "texttemplate": "%{y}",
         "type": "bar",
         "x": [
          "University of Pittsburgh"
         ],
         "xaxis": "x",
         "y": [
          18908
         ],
         "yaxis": "y"
        },
        {
         "alignmentgroup": "True",
         "hovertemplate": "name=%{x}<br>undergrad_enrollment=%{y}<extra></extra>",
         "legendgroup": "Rutgers University--New Brunswick",
         "marker": {
          "color": "#FECB52",
          "pattern": {
           "shape": ""
          }
         },
         "name": "Rutgers University--New Brunswick",
         "offsetgroup": "Rutgers University--New Brunswick",
         "orientation": "v",
         "showlegend": true,
         "textposition": "auto",
         "texttemplate": "%{y}",
         "type": "bar",
         "x": [
          "Rutgers University--New Brunswick"
         ],
         "xaxis": "x",
         "y": [
          35484
         ],
         "yaxis": "y"
        },
        {
         "alignmentgroup": "True",
         "hovertemplate": "name=%{x}<br>undergrad_enrollment=%{y}<extra></extra>",
         "legendgroup": "Baylor University",
         "marker": {
          "color": "#636efa",
          "pattern": {
           "shape": ""
          }
         },
         "name": "Baylor University",
         "offsetgroup": "Baylor University",
         "orientation": "v",
         "showlegend": true,
         "textposition": "auto",
         "texttemplate": "%{y}",
         "type": "bar",
         "x": [
          "Baylor University"
         ],
         "xaxis": "x",
         "y": [
          14189
         ],
         "yaxis": "y"
        },
        {
         "alignmentgroup": "True",
         "hovertemplate": "name=%{x}<br>undergrad_enrollment=%{y}<extra></extra>",
         "legendgroup": "Stevens Institute of Technology",
         "marker": {
          "color": "#EF553B",
          "pattern": {
           "shape": ""
          }
         },
         "name": "Stevens Institute of Technology",
         "offsetgroup": "Stevens Institute of Technology",
         "orientation": "v",
         "showlegend": true,
         "textposition": "auto",
         "texttemplate": "%{y}",
         "type": "bar",
         "x": [
          "Stevens Institute of Technology"
         ],
         "xaxis": "x",
         "y": [
          2873
         ],
         "yaxis": "y"
        },
        {
         "alignmentgroup": "True",
         "hovertemplate": "name=%{x}<br>undergrad_enrollment=%{y}<extra></extra>",
         "legendgroup": "University of Minnesota--Twin Cities",
         "marker": {
          "color": "#00cc96",
          "pattern": {
           "shape": ""
          }
         },
         "name": "University of Minnesota--Twin Cities",
         "offsetgroup": "University of Minnesota--Twin Cities",
         "orientation": "v",
         "showlegend": true,
         "textposition": "auto",
         "texttemplate": "%{y}",
         "type": "bar",
         "x": [
          "University of Minnesota--Twin Cities"
         ],
         "xaxis": "x",
         "y": [
          34071
         ],
         "yaxis": "y"
        },
        {
         "alignmentgroup": "True",
         "hovertemplate": "name=%{x}<br>undergrad_enrollment=%{y}<extra></extra>",
         "legendgroup": "American University",
         "marker": {
          "color": "#ab63fa",
          "pattern": {
           "shape": ""
          }
         },
         "name": "American University",
         "offsetgroup": "American University",
         "orientation": "v",
         "showlegend": true,
         "textposition": "auto",
         "texttemplate": "%{y}",
         "type": "bar",
         "x": [
          "American University"
         ],
         "xaxis": "x",
         "y": [
          7909
         ],
         "yaxis": "y"
        },
        {
         "alignmentgroup": "True",
         "hovertemplate": "name=%{x}<br>undergrad_enrollment=%{y}<extra></extra>",
         "legendgroup": "Clark University",
         "marker": {
          "color": "#FFA15A",
          "pattern": {
           "shape": ""
          }
         },
         "name": "Clark University",
         "offsetgroup": "Clark University",
         "orientation": "v",
         "showlegend": true,
         "textposition": "auto",
         "texttemplate": "%{y}",
         "type": "bar",
         "x": [
          "Clark University"
         ],
         "xaxis": "x",
         "y": [
          2397
         ],
         "yaxis": "y"
        },
        {
         "alignmentgroup": "True",
         "hovertemplate": "name=%{x}<br>undergrad_enrollment=%{y}<extra></extra>",
         "legendgroup": "Texas A&M University--College Station",
         "marker": {
          "color": "#19d3f3",
          "pattern": {
           "shape": ""
          }
         },
         "name": "Texas A&M University--College Station",
         "offsetgroup": "Texas A&M University--College Station",
         "orientation": "v",
         "showlegend": true,
         "textposition": "auto",
         "texttemplate": "%{y}",
         "type": "bar",
         "x": [
          "Texas A&M University--College Station"
         ],
         "xaxis": "x",
         "y": [
          48960
         ],
         "yaxis": "y"
        },
        {
         "alignmentgroup": "True",
         "hovertemplate": "name=%{x}<br>undergrad_enrollment=%{y}<extra></extra>",
         "legendgroup": "University of Massachusetts--Amherst",
         "marker": {
          "color": "#FF6692",
          "pattern": {
           "shape": ""
          }
         },
         "name": "University of Massachusetts--Amherst",
         "offsetgroup": "University of Massachusetts--Amherst",
         "orientation": "v",
         "showlegend": true,
         "textposition": "auto",
         "texttemplate": "%{y}",
         "type": "bar",
         "x": [
          "University of Massachusetts--Amherst"
         ],
         "xaxis": "x",
         "y": [
          22748
         ],
         "yaxis": "y"
        },
        {
         "alignmentgroup": "True",
         "hovertemplate": "name=%{x}<br>undergrad_enrollment=%{y}<extra></extra>",
         "legendgroup": "Virginia Tech",
         "marker": {
          "color": "#B6E880",
          "pattern": {
           "shape": ""
          }
         },
         "name": "Virginia Tech",
         "offsetgroup": "Virginia Tech",
         "orientation": "v",
         "showlegend": true,
         "textposition": "auto",
         "texttemplate": "%{y}",
         "type": "bar",
         "x": [
          "Virginia Tech"
         ],
         "xaxis": "x",
         "y": [
          25384
         ],
         "yaxis": "y"
        },
        {
         "alignmentgroup": "True",
         "hovertemplate": "name=%{x}<br>undergrad_enrollment=%{y}<extra></extra>",
         "legendgroup": "Miami University--Oxford",
         "marker": {
          "color": "#FF97FF",
          "pattern": {
           "shape": ""
          }
         },
         "name": "Miami University--Oxford",
         "offsetgroup": "Miami University--Oxford",
         "orientation": "v",
         "showlegend": true,
         "textposition": "auto",
         "texttemplate": "%{y}",
         "type": "bar",
         "x": [
          "Miami University--Oxford"
         ],
         "xaxis": "x",
         "y": [
          16387
         ],
         "yaxis": "y"
        },
        {
         "alignmentgroup": "True",
         "hovertemplate": "name=%{x}<br>undergrad_enrollment=%{y}<extra></extra>",
         "legendgroup": "University of California--Santa Cruz",
         "marker": {
          "color": "#FECB52",
          "pattern": {
           "shape": ""
          }
         },
         "name": "University of California--Santa Cruz",
         "offsetgroup": "University of California--Santa Cruz",
         "orientation": "v",
         "showlegend": true,
         "textposition": "auto",
         "texttemplate": "%{y}",
         "type": "bar",
         "x": [
          "University of California--Santa Cruz"
         ],
         "xaxis": "x",
         "y": [
          16231
         ],
         "yaxis": "y"
        },
        {
         "alignmentgroup": "True",
         "hovertemplate": "name=%{x}<br>undergrad_enrollment=%{y}<extra></extra>",
         "legendgroup": "University of Delaware",
         "marker": {
          "color": "#636efa",
          "pattern": {
           "shape": ""
          }
         },
         "name": "University of Delaware",
         "offsetgroup": "University of Delaware",
         "orientation": "v",
         "showlegend": true,
         "textposition": "auto",
         "texttemplate": "%{y}",
         "type": "bar",
         "x": [
          "University of Delaware"
         ],
         "xaxis": "x",
         "y": [
          18322
         ],
         "yaxis": "y"
        },
        {
         "alignmentgroup": "True",
         "hovertemplate": "name=%{x}<br>undergrad_enrollment=%{y}<extra></extra>",
         "legendgroup": "Colorado School of Mines",
         "marker": {
          "color": "#EF553B",
          "pattern": {
           "shape": ""
          }
         },
         "name": "Colorado School of Mines",
         "offsetgroup": "Colorado School of Mines",
         "orientation": "v",
         "showlegend": true,
         "textposition": "auto",
         "texttemplate": "%{y}",
         "type": "bar",
         "x": [
          "Colorado School of Mines"
         ],
         "xaxis": "x",
         "y": [
          4608
         ],
         "yaxis": "y"
        },
        {
         "alignmentgroup": "True",
         "hovertemplate": "name=%{x}<br>undergrad_enrollment=%{y}<extra></extra>",
         "legendgroup": "Michigan State University",
         "marker": {
          "color": "#00cc96",
          "pattern": {
           "shape": ""
          }
         },
         "name": "Michigan State University",
         "offsetgroup": "Michigan State University",
         "orientation": "v",
         "showlegend": true,
         "textposition": "auto",
         "texttemplate": "%{y}",
         "type": "bar",
         "x": [
          "Michigan State University"
         ],
         "xaxis": "x",
         "y": [
          39143
         ],
         "yaxis": "y"
        },
        {
         "alignmentgroup": "True",
         "hovertemplate": "name=%{x}<br>undergrad_enrollment=%{y}<extra></extra>",
         "legendgroup": "Texas Christian University",
         "marker": {
          "color": "#ab63fa",
          "pattern": {
           "shape": ""
          }
         },
         "name": "Texas Christian University",
         "offsetgroup": "Texas Christian University",
         "orientation": "v",
         "showlegend": true,
         "textposition": "auto",
         "texttemplate": "%{y}",
         "type": "bar",
         "x": [
          "Texas Christian University"
         ],
         "xaxis": "x",
         "y": [
          8894
         ],
         "yaxis": "y"
        },
        {
         "alignmentgroup": "True",
         "hovertemplate": "name=%{x}<br>undergrad_enrollment=%{y}<extra></extra>",
         "legendgroup": "University of Iowa",
         "marker": {
          "color": "#FFA15A",
          "pattern": {
           "shape": ""
          }
         },
         "name": "University of Iowa",
         "offsetgroup": "University of Iowa",
         "orientation": "v",
         "showlegend": true,
         "textposition": "auto",
         "texttemplate": "%{y}",
         "type": "bar",
         "x": [
          "University of Iowa"
         ],
         "xaxis": "x",
         "y": [
          23357
         ],
         "yaxis": "y"
        },
        {
         "alignmentgroup": "True",
         "hovertemplate": "name=%{x}<br>undergrad_enrollment=%{y}<extra></extra>",
         "legendgroup": "Binghamton University--SUNY",
         "marker": {
          "color": "#19d3f3",
          "pattern": {
           "shape": ""
          }
         },
         "name": "Binghamton University--SUNY",
         "offsetgroup": "Binghamton University--SUNY",
         "orientation": "v",
         "showlegend": true,
         "textposition": "auto",
         "texttemplate": "%{y}",
         "type": "bar",
         "x": [
          "Binghamton University--SUNY"
         ],
         "xaxis": "x",
         "y": [
          13491
         ],
         "yaxis": "y"
        },
        {
         "alignmentgroup": "True",
         "hovertemplate": "name=%{x}<br>undergrad_enrollment=%{y}<extra></extra>",
         "legendgroup": "Indiana University--Bloomington",
         "marker": {
          "color": "#FF6692",
          "pattern": {
           "shape": ""
          }
         },
         "name": "Indiana University--Bloomington",
         "offsetgroup": "Indiana University--Bloomington",
         "orientation": "v",
         "showlegend": true,
         "textposition": "auto",
         "texttemplate": "%{y}",
         "type": "bar",
         "x": [
          "Indiana University--Bloomington"
         ],
         "xaxis": "x",
         "y": [
          38364
         ],
         "yaxis": "y"
        },
        {
         "alignmentgroup": "True",
         "hovertemplate": "name=%{x}<br>undergrad_enrollment=%{y}<extra></extra>",
         "legendgroup": "Marquette University",
         "marker": {
          "color": "#B6E880",
          "pattern": {
           "shape": ""
          }
         },
         "name": "Marquette University",
         "offsetgroup": "Marquette University",
         "orientation": "v",
         "showlegend": true,
         "textposition": "auto",
         "texttemplate": "%{y}",
         "type": "bar",
         "x": [
          "Marquette University"
         ],
         "xaxis": "x",
         "y": [
          8334
         ],
         "yaxis": "y"
        },
        {
         "alignmentgroup": "True",
         "hovertemplate": "name=%{x}<br>undergrad_enrollment=%{y}<extra></extra>",
         "legendgroup": "University of Denver",
         "marker": {
          "color": "#FF97FF",
          "pattern": {
           "shape": ""
          }
         },
         "name": "University of Denver",
         "offsetgroup": "University of Denver",
         "orientation": "v",
         "showlegend": true,
         "textposition": "auto",
         "texttemplate": "%{y}",
         "type": "bar",
         "x": [
          "University of Denver"
         ],
         "xaxis": "x",
         "y": [
          5758
         ],
         "yaxis": "y"
        },
        {
         "alignmentgroup": "True",
         "hovertemplate": "name=%{x}<br>undergrad_enrollment=%{y}<extra></extra>",
         "legendgroup": "University of San Diego",
         "marker": {
          "color": "#FECB52",
          "pattern": {
           "shape": ""
          }
         },
         "name": "University of San Diego",
         "offsetgroup": "University of San Diego",
         "orientation": "v",
         "showlegend": true,
         "textposition": "auto",
         "texttemplate": "%{y}",
         "type": "bar",
         "x": [
          "University of San Diego"
         ],
         "xaxis": "x",
         "y": [
          5647
         ],
         "yaxis": "y"
        },
        {
         "alignmentgroup": "True",
         "hovertemplate": "name=%{x}<br>undergrad_enrollment=%{y}<extra></extra>",
         "legendgroup": "University of Tulsa",
         "marker": {
          "color": "#636efa",
          "pattern": {
           "shape": ""
          }
         },
         "name": "University of Tulsa",
         "offsetgroup": "University of Tulsa",
         "orientation": "v",
         "showlegend": true,
         "textposition": "auto",
         "texttemplate": "%{y}",
         "type": "bar",
         "x": [
          "University of Tulsa"
         ],
         "xaxis": "x",
         "y": [
          3478
         ],
         "yaxis": "y"
        },
        {
         "alignmentgroup": "True",
         "hovertemplate": "name=%{x}<br>undergrad_enrollment=%{y}<extra></extra>",
         "legendgroup": "Florida State University",
         "marker": {
          "color": "#EF553B",
          "pattern": {
           "shape": ""
          }
         },
         "name": "Florida State University",
         "offsetgroup": "Florida State University",
         "orientation": "v",
         "showlegend": true,
         "textposition": "auto",
         "texttemplate": "%{y}",
         "type": "bar",
         "x": [
          "Florida State University"
         ],
         "xaxis": "x",
         "y": [
          32706
         ],
         "yaxis": "y"
        },
        {
         "alignmentgroup": "True",
         "hovertemplate": "name=%{x}<br>undergrad_enrollment=%{y}<extra></extra>",
         "legendgroup": "North Carolina State University--Raleigh",
         "marker": {
          "color": "#00cc96",
          "pattern": {
           "shape": ""
          }
         },
         "name": "North Carolina State University--Raleigh",
         "offsetgroup": "North Carolina State University--Raleigh",
         "orientation": "v",
         "showlegend": true,
         "textposition": "auto",
         "texttemplate": "%{y}",
         "type": "bar",
         "x": [
          "North Carolina State University--Raleigh"
         ],
         "xaxis": "x",
         "y": [
          24111
         ],
         "yaxis": "y"
        },
        {
         "alignmentgroup": "True",
         "hovertemplate": "name=%{x}<br>undergrad_enrollment=%{y}<extra></extra>",
         "legendgroup": "University of Colorado--Boulder",
         "marker": {
          "color": "#ab63fa",
          "pattern": {
           "shape": ""
          }
         },
         "name": "University of Colorado--Boulder",
         "offsetgroup": "University of Colorado--Boulder",
         "orientation": "v",
         "showlegend": true,
         "textposition": "auto",
         "texttemplate": "%{y}",
         "type": "bar",
         "x": [
          "University of Colorado--Boulder"
         ],
         "xaxis": "x",
         "y": [
          27010
         ],
         "yaxis": "y"
        },
        {
         "alignmentgroup": "True",
         "hovertemplate": "name=%{x}<br>undergrad_enrollment=%{y}<extra></extra>",
         "legendgroup": "University of Vermont",
         "marker": {
          "color": "#FFA15A",
          "pattern": {
           "shape": ""
          }
         },
         "name": "University of Vermont",
         "offsetgroup": "University of Vermont",
         "orientation": "v",
         "showlegend": true,
         "textposition": "auto",
         "texttemplate": "%{y}",
         "type": "bar",
         "x": [
          "University of Vermont"
         ],
         "xaxis": "x",
         "y": [
          10973
         ],
         "yaxis": "y"
        },
        {
         "alignmentgroup": "True",
         "hovertemplate": "name=%{x}<br>undergrad_enrollment=%{y}<extra></extra>",
         "legendgroup": "Drexel University",
         "marker": {
          "color": "#19d3f3",
          "pattern": {
           "shape": ""
          }
         },
         "name": "Drexel University",
         "offsetgroup": "Drexel University",
         "orientation": "v",
         "showlegend": true,
         "textposition": "auto",
         "texttemplate": "%{y}",
         "type": "bar",
         "x": [
          "Drexel University"
         ],
         "xaxis": "x",
         "y": [
          14138
         ],
         "yaxis": "y"
        },
        {
         "alignmentgroup": "True",
         "hovertemplate": "name=%{x}<br>undergrad_enrollment=%{y}<extra></extra>",
         "legendgroup": "Saint Louis University",
         "marker": {
          "color": "#FF6692",
          "pattern": {
           "shape": ""
          }
         },
         "name": "Saint Louis University",
         "offsetgroup": "Saint Louis University",
         "orientation": "v",
         "showlegend": true,
         "textposition": "auto",
         "texttemplate": "%{y}",
         "type": "bar",
         "x": [
          "Saint Louis University"
         ],
         "xaxis": "x",
         "y": [
          8248
         ],
         "yaxis": "y"
        },
        {
         "alignmentgroup": "True",
         "hovertemplate": "name=%{x}<br>undergrad_enrollment=%{y}<extra></extra>",
         "legendgroup": "Stony Brook University--SUNY",
         "marker": {
          "color": "#B6E880",
          "pattern": {
           "shape": ""
          }
         },
         "name": "Stony Brook University--SUNY",
         "offsetgroup": "Stony Brook University--SUNY",
         "orientation": "v",
         "showlegend": true,
         "textposition": "auto",
         "texttemplate": "%{y}",
         "type": "bar",
         "x": [
          "Stony Brook University--SUNY"
         ],
         "xaxis": "x",
         "y": [
          16831
         ],
         "yaxis": "y"
        },
        {
         "alignmentgroup": "True",
         "hovertemplate": "name=%{x}<br>undergrad_enrollment=%{y}<extra></extra>",
         "legendgroup": "Auburn University",
         "marker": {
          "color": "#FF97FF",
          "pattern": {
           "shape": ""
          }
         },
         "name": "Auburn University",
         "offsetgroup": "Auburn University",
         "orientation": "v",
         "showlegend": true,
         "textposition": "auto",
         "texttemplate": "%{y}",
         "type": "bar",
         "x": [
          "Auburn University"
         ],
         "xaxis": "x",
         "y": [
          21786
         ],
         "yaxis": "y"
        },
        {
         "alignmentgroup": "True",
         "hovertemplate": "name=%{x}<br>undergrad_enrollment=%{y}<extra></extra>",
         "legendgroup": "Loyola University Chicago",
         "marker": {
          "color": "#FECB52",
          "pattern": {
           "shape": ""
          }
         },
         "name": "Loyola University Chicago",
         "offsetgroup": "Loyola University Chicago",
         "orientation": "v",
         "showlegend": true,
         "textposition": "auto",
         "texttemplate": "%{y}",
         "type": "bar",
         "x": [
          "Loyola University Chicago"
         ],
         "xaxis": "x",
         "y": [
          11079
         ],
         "yaxis": "y"
        },
        {
         "alignmentgroup": "True",
         "hovertemplate": "name=%{x}<br>undergrad_enrollment=%{y}<extra></extra>",
         "legendgroup": "SUNY College of Environmental Science and Forestry",
         "marker": {
          "color": "#636efa",
          "pattern": {
           "shape": ""
          }
         },
         "name": "SUNY College of Environmental Science and Forestry",
         "offsetgroup": "SUNY College of Environmental Science and Forestry",
         "orientation": "v",
         "showlegend": true,
         "textposition": "auto",
         "texttemplate": "%{y}",
         "type": "bar",
         "x": [
          "SUNY College of Environmental Science and Forestry"
         ],
         "xaxis": "x",
         "y": [
          1839
         ],
         "yaxis": "y"
        },
        {
         "alignmentgroup": "True",
         "hovertemplate": "name=%{x}<br>undergrad_enrollment=%{y}<extra></extra>",
         "legendgroup": "University at Buffalo--SUNY",
         "marker": {
          "color": "#EF553B",
          "pattern": {
           "shape": ""
          }
         },
         "name": "University at Buffalo--SUNY",
         "offsetgroup": "University at Buffalo--SUNY",
         "orientation": "v",
         "showlegend": true,
         "textposition": "auto",
         "texttemplate": "%{y}",
         "type": "bar",
         "x": [
          "University at Buffalo--SUNY"
         ],
         "xaxis": "x",
         "y": [
          19951
         ],
         "yaxis": "y"
        },
        {
         "alignmentgroup": "True",
         "hovertemplate": "name=%{x}<br>undergrad_enrollment=%{y}<extra></extra>",
         "legendgroup": "Illinois Institute of Technology",
         "marker": {
          "color": "#00cc96",
          "pattern": {
           "shape": ""
          }
         },
         "name": "Illinois Institute of Technology",
         "offsetgroup": "Illinois Institute of Technology",
         "orientation": "v",
         "showlegend": true,
         "textposition": "auto",
         "texttemplate": "%{y}",
         "type": "bar",
         "x": [
          "Illinois Institute of Technology"
         ],
         "xaxis": "x",
         "y": [
          2991
         ],
         "yaxis": "y"
        },
        {
         "alignmentgroup": "True",
         "hovertemplate": "name=%{x}<br>undergrad_enrollment=%{y}<extra></extra>",
         "legendgroup": "University of Alabama",
         "marker": {
          "color": "#ab63fa",
          "pattern": {
           "shape": ""
          }
         },
         "name": "University of Alabama",
         "offsetgroup": "University of Alabama",
         "orientation": "v",
         "showlegend": true,
         "textposition": "auto",
         "texttemplate": "%{y}",
         "type": "bar",
         "x": [
          "University of Alabama"
         ],
         "xaxis": "x",
         "y": [
          31958
         ],
         "yaxis": "y"
        },
        {
         "alignmentgroup": "True",
         "hovertemplate": "name=%{x}<br>undergrad_enrollment=%{y}<extra></extra>",
         "legendgroup": "University of Oregon",
         "marker": {
          "color": "#FFA15A",
          "pattern": {
           "shape": ""
          }
         },
         "name": "University of Oregon",
         "offsetgroup": "University of Oregon",
         "orientation": "v",
         "showlegend": true,
         "textposition": "auto",
         "texttemplate": "%{y}",
         "type": "bar",
         "x": [
          "University of Oregon"
         ],
         "xaxis": "x",
         "y": [
          20538
         ],
         "yaxis": "y"
        },
        {
         "alignmentgroup": "True",
         "hovertemplate": "name=%{x}<br>undergrad_enrollment=%{y}<extra></extra>",
         "legendgroup": "University of Tennessee",
         "marker": {
          "color": "#19d3f3",
          "pattern": {
           "shape": ""
          }
         },
         "name": "University of Tennessee",
         "offsetgroup": "University of Tennessee",
         "orientation": "v",
         "showlegend": true,
         "textposition": "auto",
         "texttemplate": "%{y}",
         "type": "bar",
         "x": [
          "University of Tennessee"
         ],
         "xaxis": "x",
         "y": [
          21863
         ],
         "yaxis": "y"
        },
        {
         "alignmentgroup": "True",
         "hovertemplate": "name=%{x}<br>undergrad_enrollment=%{y}<extra></extra>",
         "legendgroup": "Rochester Institute of Technology",
         "marker": {
          "color": "#FF6692",
          "pattern": {
           "shape": ""
          }
         },
         "name": "Rochester Institute of Technology",
         "offsetgroup": "Rochester Institute of Technology",
         "orientation": "v",
         "showlegend": true,
         "textposition": "auto",
         "texttemplate": "%{y}",
         "type": "bar",
         "x": [
          "Rochester Institute of Technology"
         ],
         "xaxis": "x",
         "y": [
          12607
         ],
         "yaxis": "y"
        },
        {
         "alignmentgroup": "True",
         "hovertemplate": "name=%{x}<br>undergrad_enrollment=%{y}<extra></extra>",
         "legendgroup": "University of New Hampshire",
         "marker": {
          "color": "#B6E880",
          "pattern": {
           "shape": ""
          }
         },
         "name": "University of New Hampshire",
         "offsetgroup": "University of New Hampshire",
         "orientation": "v",
         "showlegend": true,
         "textposition": "auto",
         "texttemplate": "%{y}",
         "type": "bar",
         "x": [
          "University of New Hampshire"
         ],
         "xaxis": "x",
         "y": [
          13034
         ],
         "yaxis": "y"
        },
        {
         "alignmentgroup": "True",
         "hovertemplate": "name=%{x}<br>undergrad_enrollment=%{y}<extra></extra>",
         "legendgroup": "University of San Francisco",
         "marker": {
          "color": "#FF97FF",
          "pattern": {
           "shape": ""
          }
         },
         "name": "University of San Francisco",
         "offsetgroup": "University of San Francisco",
         "orientation": "v",
         "showlegend": true,
         "textposition": "auto",
         "texttemplate": "%{y}",
         "type": "bar",
         "x": [
          "University of San Francisco"
         ],
         "xaxis": "x",
         "y": [
          6782
         ],
         "yaxis": "y"
        },
        {
         "alignmentgroup": "True",
         "hovertemplate": "name=%{x}<br>undergrad_enrollment=%{y}<extra></extra>",
         "legendgroup": "University of South Carolina",
         "marker": {
          "color": "#FECB52",
          "pattern": {
           "shape": ""
          }
         },
         "name": "University of South Carolina",
         "offsetgroup": "University of South Carolina",
         "orientation": "v",
         "showlegend": true,
         "textposition": "auto",
         "texttemplate": "%{y}",
         "type": "bar",
         "x": [
          "University of South Carolina"
         ],
         "xaxis": "x",
         "y": [
          25237
         ],
         "yaxis": "y"
        },
        {
         "alignmentgroup": "True",
         "hovertemplate": "name=%{x}<br>undergrad_enrollment=%{y}<extra></extra>",
         "legendgroup": "Iowa State University",
         "marker": {
          "color": "#636efa",
          "pattern": {
           "shape": ""
          }
         },
         "name": "Iowa State University",
         "offsetgroup": "Iowa State University",
         "orientation": "v",
         "showlegend": true,
         "textposition": "auto",
         "texttemplate": "%{y}",
         "type": "bar",
         "x": [
          "Iowa State University"
         ],
         "xaxis": "x",
         "y": [
          30034
         ],
         "yaxis": "y"
        },
        {
         "alignmentgroup": "True",
         "hovertemplate": "name=%{x}<br>undergrad_enrollment=%{y}<extra></extra>",
         "legendgroup": "University of Dayton",
         "marker": {
          "color": "#EF553B",
          "pattern": {
           "shape": ""
          }
         },
         "name": "University of Dayton",
         "offsetgroup": "University of Dayton",
         "orientation": "v",
         "showlegend": true,
         "textposition": "auto",
         "texttemplate": "%{y}",
         "type": "bar",
         "x": [
          "University of Dayton"
         ],
         "xaxis": "x",
         "y": [
          8665
         ],
         "yaxis": "y"
        },
        {
         "alignmentgroup": "True",
         "hovertemplate": "name=%{x}<br>undergrad_enrollment=%{y}<extra></extra>",
         "legendgroup": "University of Missouri",
         "marker": {
          "color": "#00cc96",
          "pattern": {
           "shape": ""
          }
         },
         "name": "University of Missouri",
         "offsetgroup": "University of Missouri",
         "orientation": "v",
         "showlegend": true,
         "textposition": "auto",
         "texttemplate": "%{y}",
         "type": "bar",
         "x": [
          "University of Missouri"
         ],
         "xaxis": "x",
         "y": [
          27812
         ],
         "yaxis": "y"
        },
        {
         "alignmentgroup": "True",
         "hovertemplate": "name=%{x}<br>undergrad_enrollment=%{y}<extra></extra>",
         "legendgroup": "University of Nebraska--Lincoln",
         "marker": {
          "color": "#ab63fa",
          "pattern": {
           "shape": ""
          }
         },
         "name": "University of Nebraska--Lincoln",
         "offsetgroup": "University of Nebraska--Lincoln",
         "orientation": "v",
         "showlegend": true,
         "textposition": "auto",
         "texttemplate": "%{y}",
         "type": "bar",
         "x": [
          "University of Nebraska--Lincoln"
         ],
         "xaxis": "x",
         "y": [
          20182
         ],
         "yaxis": "y"
        },
        {
         "alignmentgroup": "True",
         "hovertemplate": "name=%{x}<br>undergrad_enrollment=%{y}<extra></extra>",
         "legendgroup": "University of Oklahoma",
         "marker": {
          "color": "#FFA15A",
          "pattern": {
           "shape": ""
          }
         },
         "name": "University of Oklahoma",
         "offsetgroup": "University of Oklahoma",
         "orientation": "v",
         "showlegend": true,
         "textposition": "auto",
         "texttemplate": "%{y}",
         "type": "bar",
         "x": [
          "University of Oklahoma"
         ],
         "xaxis": "x",
         "y": [
          22132
         ],
         "yaxis": "y"
        },
        {
         "alignmentgroup": "True",
         "hovertemplate": "name=%{x}<br>undergrad_enrollment=%{y}<extra></extra>",
         "legendgroup": "University of the Pacific",
         "marker": {
          "color": "#19d3f3",
          "pattern": {
           "shape": ""
          }
         },
         "name": "University of the Pacific",
         "offsetgroup": "University of the Pacific",
         "orientation": "v",
         "showlegend": true,
         "textposition": "auto",
         "texttemplate": "%{y}",
         "type": "bar",
         "x": [
          "University of the Pacific"
         ],
         "xaxis": "x",
         "y": [
          3735
         ],
         "yaxis": "y"
        },
        {
         "alignmentgroup": "True",
         "hovertemplate": "name=%{x}<br>undergrad_enrollment=%{y}<extra></extra>",
         "legendgroup": "University of Utah",
         "marker": {
          "color": "#FF6692",
          "pattern": {
           "shape": ""
          }
         },
         "name": "University of Utah",
         "offsetgroup": "University of Utah",
         "orientation": "v",
         "showlegend": true,
         "textposition": "auto",
         "texttemplate": "%{y}",
         "type": "bar",
         "x": [
          "University of Utah"
         ],
         "xaxis": "x",
         "y": [
          23794
         ],
         "yaxis": "y"
        },
        {
         "alignmentgroup": "True",
         "hovertemplate": "name=%{x}<br>undergrad_enrollment=%{y}<extra></extra>",
         "legendgroup": "Michigan Technological University",
         "marker": {
          "color": "#B6E880",
          "pattern": {
           "shape": ""
          }
         },
         "name": "Michigan Technological University",
         "offsetgroup": "Michigan Technological University",
         "orientation": "v",
         "showlegend": true,
         "textposition": "auto",
         "texttemplate": "%{y}",
         "type": "bar",
         "x": [
          "Michigan Technological University"
         ],
         "xaxis": "x",
         "y": [
          5721
         ],
         "yaxis": "y"
        },
        {
         "alignmentgroup": "True",
         "hovertemplate": "name=%{x}<br>undergrad_enrollment=%{y}<extra></extra>",
         "legendgroup": "Seton Hall University",
         "marker": {
          "color": "#FF97FF",
          "pattern": {
           "shape": ""
          }
         },
         "name": "Seton Hall University",
         "offsetgroup": "Seton Hall University",
         "orientation": "v",
         "showlegend": true,
         "textposition": "auto",
         "texttemplate": "%{y}",
         "type": "bar",
         "x": [
          "Seton Hall University"
         ],
         "xaxis": "x",
         "y": [
          6090
         ],
         "yaxis": "y"
        },
        {
         "alignmentgroup": "True",
         "hovertemplate": "name=%{x}<br>undergrad_enrollment=%{y}<extra></extra>",
         "legendgroup": "Temple University",
         "marker": {
          "color": "#FECB52",
          "pattern": {
           "shape": ""
          }
         },
         "name": "Temple University",
         "offsetgroup": "Temple University",
         "orientation": "v",
         "showlegend": true,
         "textposition": "auto",
         "texttemplate": "%{y}",
         "type": "bar",
         "x": [
          "Temple University"
         ],
         "xaxis": "x",
         "y": [
          28609
         ],
         "yaxis": "y"
        },
        {
         "alignmentgroup": "True",
         "hovertemplate": "name=%{x}<br>undergrad_enrollment=%{y}<extra></extra>",
         "legendgroup": "University of California--Riverside",
         "marker": {
          "color": "#636efa",
          "pattern": {
           "shape": ""
          }
         },
         "name": "University of California--Riverside",
         "offsetgroup": "University of California--Riverside",
         "orientation": "v",
         "showlegend": true,
         "textposition": "auto",
         "texttemplate": "%{y}",
         "type": "bar",
         "x": [
          "University of California--Riverside"
         ],
         "xaxis": "x",
         "y": [
          18608
         ],
         "yaxis": "y"
        },
        {
         "alignmentgroup": "True",
         "hovertemplate": "name=%{x}<br>undergrad_enrollment=%{y}<extra></extra>",
         "legendgroup": "University of Kansas",
         "marker": {
          "color": "#EF553B",
          "pattern": {
           "shape": ""
          }
         },
         "name": "University of Kansas",
         "offsetgroup": "University of Kansas",
         "orientation": "v",
         "showlegend": true,
         "textposition": "auto",
         "texttemplate": "%{y}",
         "type": "bar",
         "x": [
          "University of Kansas"
         ],
         "xaxis": "x",
         "y": [
          19245
         ],
         "yaxis": "y"
        },
        {
         "alignmentgroup": "True",
         "hovertemplate": "name=%{x}<br>undergrad_enrollment=%{y}<extra></extra>",
         "legendgroup": "University of St. Thomas",
         "marker": {
          "color": "#00cc96",
          "pattern": {
           "shape": ""
          }
         },
         "name": "University of St. Thomas",
         "offsetgroup": "University of St. Thomas",
         "orientation": "v",
         "showlegend": true,
         "textposition": "auto",
         "texttemplate": "%{y}",
         "type": "bar",
         "x": [
          "University of St. Thomas"
         ],
         "xaxis": "x",
         "y": [
          6240
         ],
         "yaxis": "y"
        },
        {
         "alignmentgroup": "True",
         "hovertemplate": "name=%{x}<br>undergrad_enrollment=%{y}<extra></extra>",
         "legendgroup": "The Catholic University of America",
         "marker": {
          "color": "#ab63fa",
          "pattern": {
           "shape": ""
          }
         },
         "name": "The Catholic University of America",
         "offsetgroup": "The Catholic University of America",
         "orientation": "v",
         "showlegend": true,
         "textposition": "auto",
         "texttemplate": "%{y}",
         "type": "bar",
         "x": [
          "The Catholic University of America"
         ],
         "xaxis": "x",
         "y": [
          3480
         ],
         "yaxis": "y"
        },
        {
         "alignmentgroup": "True",
         "hovertemplate": "name=%{x}<br>undergrad_enrollment=%{y}<extra></extra>",
         "legendgroup": "DePaul University",
         "marker": {
          "color": "#FFA15A",
          "pattern": {
           "shape": ""
          }
         },
         "name": "DePaul University",
         "offsetgroup": "DePaul University",
         "orientation": "v",
         "showlegend": true,
         "textposition": "auto",
         "texttemplate": "%{y}",
         "type": "bar",
         "x": [
          "DePaul University"
         ],
         "xaxis": "x",
         "y": [
          15961
         ],
         "yaxis": "y"
        },
        {
         "alignmentgroup": "True",
         "hovertemplate": "name=%{x}<br>undergrad_enrollment=%{y}<extra></extra>",
         "legendgroup": "Duquesne University",
         "marker": {
          "color": "#19d3f3",
          "pattern": {
           "shape": ""
          }
         },
         "name": "Duquesne University",
         "offsetgroup": "Duquesne University",
         "orientation": "v",
         "showlegend": true,
         "textposition": "auto",
         "texttemplate": "%{y}",
         "type": "bar",
         "x": [
          "Duquesne University"
         ],
         "xaxis": "x",
         "y": [
          5961
         ],
         "yaxis": "y"
        },
        {
         "alignmentgroup": "True",
         "hovertemplate": "name=%{x}<br>undergrad_enrollment=%{y}<extra></extra>",
         "legendgroup": "Howard University",
         "marker": {
          "color": "#FF6692",
          "pattern": {
           "shape": ""
          }
         },
         "name": "Howard University",
         "offsetgroup": "Howard University",
         "orientation": "v",
         "showlegend": true,
         "textposition": "auto",
         "texttemplate": "%{y}",
         "type": "bar",
         "x": [
          "Howard University"
         ],
         "xaxis": "x",
         "y": [
          6883
         ],
         "yaxis": "y"
        },
        {
         "alignmentgroup": "True",
         "hovertemplate": "name=%{x}<br>undergrad_enrollment=%{y}<extra></extra>",
         "legendgroup": "University of Arizona",
         "marker": {
          "color": "#B6E880",
          "pattern": {
           "shape": ""
          }
         },
         "name": "University of Arizona",
         "offsetgroup": "University of Arizona",
         "orientation": "v",
         "showlegend": true,
         "textposition": "auto",
         "texttemplate": "%{y}",
         "type": "bar",
         "x": [
          "University of Arizona"
         ],
         "xaxis": "x",
         "y": [
          33732
         ],
         "yaxis": "y"
        },
        {
         "alignmentgroup": "True",
         "hovertemplate": "name=%{x}<br>undergrad_enrollment=%{y}<extra></extra>",
         "legendgroup": "Arizona State University--Tempe",
         "marker": {
          "color": "#FF97FF",
          "pattern": {
           "shape": ""
          }
         },
         "name": "Arizona State University--Tempe",
         "offsetgroup": "Arizona State University--Tempe",
         "orientation": "v",
         "showlegend": true,
         "textposition": "auto",
         "texttemplate": "%{y}",
         "type": "bar",
         "x": [
          "Arizona State University--Tempe"
         ],
         "xaxis": "x",
         "y": [
          41828
         ],
         "yaxis": "y"
        },
        {
         "alignmentgroup": "True",
         "hovertemplate": "name=%{x}<br>undergrad_enrollment=%{y}<extra></extra>",
         "legendgroup": "Clarkson University",
         "marker": {
          "color": "#FECB52",
          "pattern": {
           "shape": ""
          }
         },
         "name": "Clarkson University",
         "offsetgroup": "Clarkson University",
         "orientation": "v",
         "showlegend": true,
         "textposition": "auto",
         "texttemplate": "%{y}",
         "type": "bar",
         "x": [
          "Clarkson University"
         ],
         "xaxis": "x",
         "y": [
          3257
         ],
         "yaxis": "y"
        },
        {
         "alignmentgroup": "True",
         "hovertemplate": "name=%{x}<br>undergrad_enrollment=%{y}<extra></extra>",
         "legendgroup": "Colorado State University",
         "marker": {
          "color": "#636efa",
          "pattern": {
           "shape": ""
          }
         },
         "name": "Colorado State University",
         "offsetgroup": "Colorado State University",
         "orientation": "v",
         "showlegend": true,
         "textposition": "auto",
         "texttemplate": "%{y}",
         "type": "bar",
         "x": [
          "Colorado State University"
         ],
         "xaxis": "x",
         "y": [
          24433
         ],
         "yaxis": "y"
        },
        {
         "alignmentgroup": "True",
         "hovertemplate": "name=%{x}<br>undergrad_enrollment=%{y}<extra></extra>",
         "legendgroup": "New School",
         "marker": {
          "color": "#EF553B",
          "pattern": {
           "shape": ""
          }
         },
         "name": "New School",
         "offsetgroup": "New School",
         "orientation": "v",
         "showlegend": true,
         "textposition": "auto",
         "texttemplate": "%{y}",
         "type": "bar",
         "x": [
          "New School"
         ],
         "xaxis": "x",
         "y": [
          6792
         ],
         "yaxis": "y"
        },
        {
         "alignmentgroup": "True",
         "hovertemplate": "name=%{x}<br>undergrad_enrollment=%{y}<extra></extra>",
         "legendgroup": "Hofstra University",
         "marker": {
          "color": "#00cc96",
          "pattern": {
           "shape": ""
          }
         },
         "name": "Hofstra University",
         "offsetgroup": "Hofstra University",
         "orientation": "v",
         "showlegend": true,
         "textposition": "auto",
         "texttemplate": "%{y}",
         "type": "bar",
         "x": [
          "Hofstra University"
         ],
         "xaxis": "x",
         "y": [
          6824
         ],
         "yaxis": "y"
        },
        {
         "alignmentgroup": "True",
         "hovertemplate": "name=%{x}<br>undergrad_enrollment=%{y}<extra></extra>",
         "legendgroup": "University of Kentucky",
         "marker": {
          "color": "#ab63fa",
          "pattern": {
           "shape": ""
          }
         },
         "name": "University of Kentucky",
         "offsetgroup": "University of Kentucky",
         "orientation": "v",
         "showlegend": true,
         "textposition": "auto",
         "texttemplate": "%{y}",
         "type": "bar",
         "x": [
          "University of Kentucky"
         ],
         "xaxis": "x",
         "y": [
          22705
         ],
         "yaxis": "y"
        },
        {
         "alignmentgroup": "True",
         "hovertemplate": "name=%{x}<br>undergrad_enrollment=%{y}<extra></extra>",
         "legendgroup": "Kansas State University",
         "marker": {
          "color": "#FFA15A",
          "pattern": {
           "shape": ""
          }
         },
         "name": "Kansas State University",
         "offsetgroup": "Kansas State University",
         "orientation": "v",
         "showlegend": true,
         "textposition": "auto",
         "texttemplate": "%{y}",
         "type": "bar",
         "x": [
          "Kansas State University"
         ],
         "xaxis": "x",
         "y": [
          19859
         ],
         "yaxis": "y"
        },
        {
         "alignmentgroup": "True",
         "hovertemplate": "name=%{x}<br>undergrad_enrollment=%{y}<extra></extra>",
         "legendgroup": "Louisiana State University--Baton Rouge",
         "marker": {
          "color": "#19d3f3",
          "pattern": {
           "shape": ""
          }
         },
         "name": "Louisiana State University--Baton Rouge",
         "offsetgroup": "Louisiana State University--Baton Rouge",
         "orientation": "v",
         "showlegend": true,
         "textposition": "auto",
         "texttemplate": "%{y}",
         "type": "bar",
         "x": [
          "Louisiana State University--Baton Rouge"
         ],
         "xaxis": "x",
         "y": [
          26156
         ],
         "yaxis": "y"
        },
        {
         "alignmentgroup": "True",
         "hovertemplate": "name=%{x}<br>undergrad_enrollment=%{y}<extra></extra>",
         "legendgroup": "Mercer University",
         "marker": {
          "color": "#FF6692",
          "pattern": {
           "shape": ""
          }
         },
         "name": "Mercer University",
         "offsetgroup": "Mercer University",
         "orientation": "v",
         "showlegend": true,
         "textposition": "auto",
         "texttemplate": "%{y}",
         "type": "bar",
         "x": [
          "Mercer University"
         ],
         "xaxis": "x",
         "y": [
          4667
         ],
         "yaxis": "y"
        },
        {
         "alignmentgroup": "True",
         "hovertemplate": "name=%{x}<br>undergrad_enrollment=%{y}<extra></extra>",
         "legendgroup": "New Jersey Institute of Technology",
         "marker": {
          "color": "#B6E880",
          "pattern": {
           "shape": ""
          }
         },
         "name": "New Jersey Institute of Technology",
         "offsetgroup": "New Jersey Institute of Technology",
         "orientation": "v",
         "showlegend": true,
         "textposition": "auto",
         "texttemplate": "%{y}",
         "type": "bar",
         "x": [
          "New Jersey Institute of Technology"
         ],
         "xaxis": "x",
         "y": [
          8008
         ],
         "yaxis": "y"
        },
        {
         "alignmentgroup": "True",
         "hovertemplate": "name=%{x}<br>undergrad_enrollment=%{y}<extra></extra>",
         "legendgroup": "Rutgers University--Newark",
         "marker": {
          "color": "#FF97FF",
          "pattern": {
           "shape": ""
          }
         },
         "name": "Rutgers University--Newark",
         "offsetgroup": "Rutgers University--Newark",
         "orientation": "v",
         "showlegend": true,
         "textposition": "auto",
         "texttemplate": "%{y}",
         "type": "bar",
         "x": [
          "Rutgers University--Newark"
         ],
         "xaxis": "x",
         "y": [
          7713
         ],
         "yaxis": "y"
        },
        {
         "alignmentgroup": "True",
         "hovertemplate": "name=%{x}<br>undergrad_enrollment=%{y}<extra></extra>",
         "legendgroup": "University of Arkansas",
         "marker": {
          "color": "#FECB52",
          "pattern": {
           "shape": ""
          }
         },
         "name": "University of Arkansas",
         "offsetgroup": "University of Arkansas",
         "orientation": "v",
         "showlegend": true,
         "textposition": "auto",
         "texttemplate": "%{y}",
         "type": "bar",
         "x": [
          "University of Arkansas"
         ],
         "xaxis": "x",
         "y": [
          22159
         ],
         "yaxis": "y"
        },
        {
         "alignmentgroup": "True",
         "hovertemplate": "name=%{x}<br>undergrad_enrollment=%{y}<extra></extra>",
         "legendgroup": "University of Cincinnati",
         "marker": {
          "color": "#636efa",
          "pattern": {
           "shape": ""
          }
         },
         "name": "University of Cincinnati",
         "offsetgroup": "University of Cincinnati",
         "orientation": "v",
         "showlegend": true,
         "textposition": "auto",
         "texttemplate": "%{y}",
         "type": "bar",
         "x": [
          "University of Cincinnati"
         ],
         "xaxis": "x",
         "y": [
          25054
         ],
         "yaxis": "y"
        },
        {
         "alignmentgroup": "True",
         "hovertemplate": "name=%{x}<br>undergrad_enrollment=%{y}<extra></extra>",
         "legendgroup": "University of Mississippi",
         "marker": {
          "color": "#EF553B",
          "pattern": {
           "shape": ""
          }
         },
         "name": "University of Mississippi",
         "offsetgroup": "University of Mississippi",
         "orientation": "v",
         "showlegend": true,
         "textposition": "auto",
         "texttemplate": "%{y}",
         "type": "bar",
         "x": [
          "University of Mississippi"
         ],
         "xaxis": "x",
         "y": [
          18785
         ],
         "yaxis": "y"
        },
        {
         "alignmentgroup": "True",
         "hovertemplate": "name=%{x}<br>undergrad_enrollment=%{y}<extra></extra>",
         "legendgroup": "George Mason University",
         "marker": {
          "color": "#00cc96",
          "pattern": {
           "shape": ""
          }
         },
         "name": "George Mason University",
         "offsetgroup": "George Mason University",
         "orientation": "v",
         "showlegend": true,
         "textposition": "auto",
         "texttemplate": "%{y}",
         "type": "bar",
         "x": [
          "George Mason University"
         ],
         "xaxis": "x",
         "y": [
          23062
         ],
         "yaxis": "y"
        },
        {
         "alignmentgroup": "True",
         "hovertemplate": "name=%{x}<br>undergrad_enrollment=%{y}<extra></extra>",
         "legendgroup": "Oregon State University",
         "marker": {
          "color": "#ab63fa",
          "pattern": {
           "shape": ""
          }
         },
         "name": "Oregon State University",
         "offsetgroup": "Oregon State University",
         "orientation": "v",
         "showlegend": true,
         "textposition": "auto",
         "texttemplate": "%{y}",
         "type": "bar",
         "x": [
          "Oregon State University"
         ],
         "xaxis": "x",
         "y": [
          24612
         ],
         "yaxis": "y"
        },
        {
         "alignmentgroup": "True",
         "hovertemplate": "name=%{x}<br>undergrad_enrollment=%{y}<extra></extra>",
         "legendgroup": "Washington State University",
         "marker": {
          "color": "#FFA15A",
          "pattern": {
           "shape": ""
          }
         },
         "name": "Washington State University",
         "offsetgroup": "Washington State University",
         "orientation": "v",
         "showlegend": true,
         "textposition": "auto",
         "texttemplate": "%{y}",
         "type": "bar",
         "x": [
          "Washington State University"
         ],
         "xaxis": "x",
         "y": [
          24470
         ],
         "yaxis": "y"
        },
        {
         "alignmentgroup": "True",
         "hovertemplate": "name=%{x}<br>undergrad_enrollment=%{y}<extra></extra>",
         "legendgroup": "Adelphi University",
         "marker": {
          "color": "#19d3f3",
          "pattern": {
           "shape": ""
          }
         },
         "name": "Adelphi University",
         "offsetgroup": "Adelphi University",
         "orientation": "v",
         "showlegend": true,
         "textposition": "auto",
         "texttemplate": "%{y}",
         "type": "bar",
         "x": [
          "Adelphi University"
         ],
         "xaxis": "x",
         "y": [
          4852
         ],
         "yaxis": "y"
        },
        {
         "alignmentgroup": "True",
         "hovertemplate": "name=%{x}<br>undergrad_enrollment=%{y}<extra></extra>",
         "legendgroup": "Ohio University",
         "marker": {
          "color": "#FF6692",
          "pattern": {
           "shape": ""
          }
         },
         "name": "Ohio University",
         "offsetgroup": "Ohio University",
         "orientation": "v",
         "showlegend": true,
         "textposition": "auto",
         "texttemplate": "%{y}",
         "type": "bar",
         "x": [
          "Ohio University"
         ],
         "xaxis": "x",
         "y": [
          23513
         ],
         "yaxis": "y"
        },
        {
         "alignmentgroup": "True",
         "hovertemplate": "name=%{x}<br>undergrad_enrollment=%{y}<extra></extra>",
         "legendgroup": "San Diego State University",
         "marker": {
          "color": "#B6E880",
          "pattern": {
           "shape": ""
          }
         },
         "name": "San Diego State University",
         "offsetgroup": "San Diego State University",
         "orientation": "v",
         "showlegend": true,
         "textposition": "auto",
         "texttemplate": "%{y}",
         "type": "bar",
         "x": [
          "San Diego State University"
         ],
         "xaxis": "x",
         "y": [
          29234
         ],
         "yaxis": "y"
        },
        {
         "alignmentgroup": "True",
         "hovertemplate": "name=%{x}<br>undergrad_enrollment=%{y}<extra></extra>",
         "legendgroup": "St. John Fisher College",
         "marker": {
          "color": "#FF97FF",
          "pattern": {
           "shape": ""
          }
         },
         "name": "St. John Fisher College",
         "offsetgroup": "St. John Fisher College",
         "orientation": "v",
         "showlegend": true,
         "textposition": "auto",
         "texttemplate": "%{y}",
         "type": "bar",
         "x": [
          "St. John Fisher College"
         ],
         "xaxis": "x",
         "y": [
          2805
         ],
         "yaxis": "y"
        },
        {
         "alignmentgroup": "True",
         "hovertemplate": "name=%{x}<br>undergrad_enrollment=%{y}<extra></extra>",
         "legendgroup": "University at Albany--SUNY",
         "marker": {
          "color": "#FECB52",
          "pattern": {
           "shape": ""
          }
         },
         "name": "University at Albany--SUNY",
         "offsetgroup": "University at Albany--SUNY",
         "orientation": "v",
         "showlegend": true,
         "textposition": "auto",
         "texttemplate": "%{y}",
         "type": "bar",
         "x": [
          "University at Albany--SUNY"
         ],
         "xaxis": "x",
         "y": [
          12908
         ],
         "yaxis": "y"
        },
        {
         "alignmentgroup": "True",
         "hovertemplate": "name=%{x}<br>undergrad_enrollment=%{y}<extra></extra>",
         "legendgroup": "University of Texas--Dallas",
         "marker": {
          "color": "#636efa",
          "pattern": {
           "shape": ""
          }
         },
         "name": "University of Texas--Dallas",
         "offsetgroup": "University of Texas--Dallas",
         "orientation": "v",
         "showlegend": true,
         "textposition": "auto",
         "texttemplate": "%{y}",
         "type": "bar",
         "x": [
          "University of Texas--Dallas"
         ],
         "xaxis": "x",
         "y": [
          15575
         ],
         "yaxis": "y"
        },
        {
         "alignmentgroup": "True",
         "hovertemplate": "name=%{x}<br>undergrad_enrollment=%{y}<extra></extra>",
         "legendgroup": "Illinois State University",
         "marker": {
          "color": "#EF553B",
          "pattern": {
           "shape": ""
          }
         },
         "name": "Illinois State University",
         "offsetgroup": "Illinois State University",
         "orientation": "v",
         "showlegend": true,
         "textposition": "auto",
         "texttemplate": "%{y}",
         "type": "bar",
         "x": [
          "Illinois State University"
         ],
         "xaxis": "x",
         "y": [
          18426
         ],
         "yaxis": "y"
        },
        {
         "alignmentgroup": "True",
         "hovertemplate": "name=%{x}<br>undergrad_enrollment=%{y}<extra></extra>",
         "legendgroup": "Immaculata University",
         "marker": {
          "color": "#00cc96",
          "pattern": {
           "shape": ""
          }
         },
         "name": "Immaculata University",
         "offsetgroup": "Immaculata University",
         "orientation": "v",
         "showlegend": true,
         "textposition": "auto",
         "texttemplate": "%{y}",
         "type": "bar",
         "x": [
          "Immaculata University"
         ],
         "xaxis": "x",
         "y": [
          1790
         ],
         "yaxis": "y"
        },
        {
         "alignmentgroup": "True",
         "hovertemplate": "name=%{x}<br>undergrad_enrollment=%{y}<extra></extra>",
         "legendgroup": "Oklahoma State University",
         "marker": {
          "color": "#ab63fa",
          "pattern": {
           "shape": ""
          }
         },
         "name": "Oklahoma State University",
         "offsetgroup": "Oklahoma State University",
         "orientation": "v",
         "showlegend": true,
         "textposition": "auto",
         "texttemplate": "%{y}",
         "type": "bar",
         "x": [
          "Oklahoma State University"
         ],
         "xaxis": "x",
         "y": [
          21046
         ],
         "yaxis": "y"
        },
        {
         "alignmentgroup": "True",
         "hovertemplate": "name=%{x}<br>undergrad_enrollment=%{y}<extra></extra>",
         "legendgroup": "University of California--Merced",
         "marker": {
          "color": "#FFA15A",
          "pattern": {
           "shape": ""
          }
         },
         "name": "University of California--Merced",
         "offsetgroup": "University of California--Merced",
         "orientation": "v",
         "showlegend": true,
         "textposition": "auto",
         "texttemplate": "%{y}",
         "type": "bar",
         "x": [
          "University of California--Merced"
         ],
         "xaxis": "x",
         "y": [
          6237
         ],
         "yaxis": "y"
        },
        {
         "alignmentgroup": "True",
         "hovertemplate": "name=%{x}<br>undergrad_enrollment=%{y}<extra></extra>",
         "legendgroup": "University of Illinois--Chicago",
         "marker": {
          "color": "#19d3f3",
          "pattern": {
           "shape": ""
          }
         },
         "name": "University of Illinois--Chicago",
         "offsetgroup": "University of Illinois--Chicago",
         "orientation": "v",
         "showlegend": true,
         "textposition": "auto",
         "texttemplate": "%{y}",
         "type": "bar",
         "x": [
          "University of Illinois--Chicago"
         ],
         "xaxis": "x",
         "y": [
          17575
         ],
         "yaxis": "y"
        },
        {
         "alignmentgroup": "True",
         "hovertemplate": "name=%{x}<br>undergrad_enrollment=%{y}<extra></extra>",
         "legendgroup": "University of La Verne",
         "marker": {
          "color": "#FF6692",
          "pattern": {
           "shape": ""
          }
         },
         "name": "University of La Verne",
         "offsetgroup": "University of La Verne",
         "orientation": "v",
         "showlegend": true,
         "textposition": "auto",
         "texttemplate": "%{y}",
         "type": "bar",
         "x": [
          "University of La Verne"
         ],
         "xaxis": "x",
         "y": [
          2864
         ],
         "yaxis": "y"
        },
        {
         "alignmentgroup": "True",
         "hovertemplate": "name=%{x}<br>undergrad_enrollment=%{y}<extra></extra>",
         "legendgroup": "University of Massachusetts--Lowell",
         "marker": {
          "color": "#B6E880",
          "pattern": {
           "shape": ""
          }
         },
         "name": "University of Massachusetts--Lowell",
         "offsetgroup": "University of Massachusetts--Lowell",
         "orientation": "v",
         "showlegend": true,
         "textposition": "auto",
         "texttemplate": "%{y}",
         "type": "bar",
         "x": [
          "University of Massachusetts--Lowell"
         ],
         "xaxis": "x",
         "y": [
          13266
         ],
         "yaxis": "y"
        },
        {
         "alignmentgroup": "True",
         "hovertemplate": "name=%{x}<br>undergrad_enrollment=%{y}<extra></extra>",
         "legendgroup": "Seattle Pacific University",
         "marker": {
          "color": "#FF97FF",
          "pattern": {
           "shape": ""
          }
         },
         "name": "Seattle Pacific University",
         "offsetgroup": "Seattle Pacific University",
         "orientation": "v",
         "showlegend": true,
         "textposition": "auto",
         "texttemplate": "%{y}",
         "type": "bar",
         "x": [
          "Seattle Pacific University"
         ],
         "xaxis": "x",
         "y": [
          3202
         ],
         "yaxis": "y"
        },
        {
         "alignmentgroup": "True",
         "hovertemplate": "name=%{x}<br>undergrad_enrollment=%{y}<extra></extra>",
         "legendgroup": "University of Alabama--Birmingham",
         "marker": {
          "color": "#FECB52",
          "pattern": {
           "shape": ""
          }
         },
         "name": "University of Alabama--Birmingham",
         "offsetgroup": "University of Alabama--Birmingham",
         "orientation": "v",
         "showlegend": true,
         "textposition": "auto",
         "texttemplate": "%{y}",
         "type": "bar",
         "x": [
          "University of Alabama--Birmingham"
         ],
         "xaxis": "x",
         "y": [
          11511
         ],
         "yaxis": "y"
        },
        {
         "alignmentgroup": "True",
         "hovertemplate": "name=%{x}<br>undergrad_enrollment=%{y}<extra></extra>",
         "legendgroup": "University of Maryland--Baltimore County",
         "marker": {
          "color": "#636efa",
          "pattern": {
           "shape": ""
          }
         },
         "name": "University of Maryland--Baltimore County",
         "offsetgroup": "University of Maryland--Baltimore County",
         "orientation": "v",
         "showlegend": true,
         "textposition": "auto",
         "texttemplate": "%{y}",
         "type": "bar",
         "x": [
          "University of Maryland--Baltimore County"
         ],
         "xaxis": "x",
         "y": [
          11243
         ],
         "yaxis": "y"
        },
        {
         "alignmentgroup": "True",
         "hovertemplate": "name=%{x}<br>undergrad_enrollment=%{y}<extra></extra>",
         "legendgroup": "University of Rhode Island",
         "marker": {
          "color": "#EF553B",
          "pattern": {
           "shape": ""
          }
         },
         "name": "University of Rhode Island",
         "offsetgroup": "University of Rhode Island",
         "orientation": "v",
         "showlegend": true,
         "textposition": "auto",
         "texttemplate": "%{y}",
         "type": "bar",
         "x": [
          "University of Rhode Island"
         ],
         "xaxis": "x",
         "y": [
          13641
         ],
         "yaxis": "y"
        },
        {
         "alignmentgroup": "True",
         "hovertemplate": "name=%{x}<br>undergrad_enrollment=%{y}<extra></extra>",
         "legendgroup": "University of South Florida",
         "marker": {
          "color": "#00cc96",
          "pattern": {
           "shape": ""
          }
         },
         "name": "University of South Florida",
         "offsetgroup": "University of South Florida",
         "orientation": "v",
         "showlegend": true,
         "textposition": "auto",
         "texttemplate": "%{y}",
         "type": "bar",
         "x": [
          "University of South Florida"
         ],
         "xaxis": "x",
         "y": [
          31111
         ],
         "yaxis": "y"
        },
        {
         "alignmentgroup": "True",
         "hovertemplate": "name=%{x}<br>undergrad_enrollment=%{y}<extra></extra>",
         "legendgroup": "Biola University",
         "marker": {
          "color": "#ab63fa",
          "pattern": {
           "shape": ""
          }
         },
         "name": "Biola University",
         "offsetgroup": "Biola University",
         "orientation": "v",
         "showlegend": true,
         "textposition": "auto",
         "texttemplate": "%{y}",
         "type": "bar",
         "x": [
          "Biola University"
         ],
         "xaxis": "x",
         "y": [
          4225
         ],
         "yaxis": "y"
        },
        {
         "alignmentgroup": "True",
         "hovertemplate": "name=%{x}<br>undergrad_enrollment=%{y}<extra></extra>",
         "legendgroup": "Maryville University of St. Louis",
         "marker": {
          "color": "#FFA15A",
          "pattern": {
           "shape": ""
          }
         },
         "name": "Maryville University of St. Louis",
         "offsetgroup": "Maryville University of St. Louis",
         "orientation": "v",
         "showlegend": true,
         "textposition": "auto",
         "texttemplate": "%{y}",
         "type": "bar",
         "x": [
          "Maryville University of St. Louis"
         ],
         "xaxis": "x",
         "y": [
          2795
         ],
         "yaxis": "y"
        },
        {
         "alignmentgroup": "True",
         "hovertemplate": "name=%{x}<br>undergrad_enrollment=%{y}<extra></extra>",
         "legendgroup": "Missouri University of Science & Technology",
         "marker": {
          "color": "#19d3f3",
          "pattern": {
           "shape": ""
          }
         },
         "name": "Missouri University of Science & Technology",
         "offsetgroup": "Missouri University of Science & Technology",
         "orientation": "v",
         "showlegend": true,
         "textposition": "auto",
         "texttemplate": "%{y}",
         "type": "bar",
         "x": [
          "Missouri University of Science & Technology"
         ],
         "xaxis": "x",
         "y": [
          6841
         ],
         "yaxis": "y"
        },
        {
         "alignmentgroup": "True",
         "hovertemplate": "name=%{x}<br>undergrad_enrollment=%{y}<extra></extra>",
         "legendgroup": "St. John's University",
         "marker": {
          "color": "#FF6692",
          "pattern": {
           "shape": ""
          }
         },
         "name": "St. John's University",
         "offsetgroup": "St. John's University",
         "orientation": "v",
         "showlegend": true,
         "textposition": "auto",
         "texttemplate": "%{y}",
         "type": "bar",
         "x": [
          "St. John's University"
         ],
         "xaxis": "x",
         "y": [
          16210
         ],
         "yaxis": "y"
        },
        {
         "alignmentgroup": "True",
         "hovertemplate": "name=%{x}<br>undergrad_enrollment=%{y}<extra></extra>",
         "legendgroup": "Virginia Commonwealth University",
         "marker": {
          "color": "#B6E880",
          "pattern": {
           "shape": ""
          }
         },
         "name": "Virginia Commonwealth University",
         "offsetgroup": "Virginia Commonwealth University",
         "orientation": "v",
         "showlegend": true,
         "textposition": "auto",
         "texttemplate": "%{y}",
         "type": "bar",
         "x": [
          "Virginia Commonwealth University"
         ],
         "xaxis": "x",
         "y": [
          24051
         ],
         "yaxis": "y"
        },
        {
         "alignmentgroup": "True",
         "hovertemplate": "name=%{x}<br>undergrad_enrollment=%{y}<extra></extra>",
         "legendgroup": "Union University",
         "marker": {
          "color": "#FF97FF",
          "pattern": {
           "shape": ""
          }
         },
         "name": "Union University",
         "offsetgroup": "Union University",
         "orientation": "v",
         "showlegend": true,
         "textposition": "auto",
         "texttemplate": "%{y}",
         "type": "bar",
         "x": [
          "Union University"
         ],
         "xaxis": "x",
         "y": [
          2829
         ],
         "yaxis": "y"
        },
        {
         "alignmentgroup": "True",
         "hovertemplate": "name=%{x}<br>undergrad_enrollment=%{y}<extra></extra>",
         "legendgroup": "University of Hawaii--Manoa",
         "marker": {
          "color": "#FECB52",
          "pattern": {
           "shape": ""
          }
         },
         "name": "University of Hawaii--Manoa",
         "offsetgroup": "University of Hawaii--Manoa",
         "orientation": "v",
         "showlegend": true,
         "textposition": "auto",
         "texttemplate": "%{y}",
         "type": "bar",
         "x": [
          "University of Hawaii--Manoa"
         ],
         "xaxis": "x",
         "y": [
          13689
         ],
         "yaxis": "y"
        },
        {
         "alignmentgroup": "True",
         "hovertemplate": "name=%{x}<br>undergrad_enrollment=%{y}<extra></extra>",
         "legendgroup": "Edgewood College",
         "marker": {
          "color": "#636efa",
          "pattern": {
           "shape": ""
          }
         },
         "name": "Edgewood College",
         "offsetgroup": "Edgewood College",
         "orientation": "v",
         "showlegend": true,
         "textposition": "auto",
         "texttemplate": "%{y}",
         "type": "bar",
         "x": [
          "Edgewood College"
         ],
         "xaxis": "x",
         "y": [
          1813
         ],
         "yaxis": "y"
        },
        {
         "alignmentgroup": "True",
         "hovertemplate": "name=%{x}<br>undergrad_enrollment=%{y}<extra></extra>",
         "legendgroup": "Florida Institute of Technology",
         "marker": {
          "color": "#EF553B",
          "pattern": {
           "shape": ""
          }
         },
         "name": "Florida Institute of Technology",
         "offsetgroup": "Florida Institute of Technology",
         "orientation": "v",
         "showlegend": true,
         "textposition": "auto",
         "texttemplate": "%{y}",
         "type": "bar",
         "x": [
          "Florida Institute of Technology"
         ],
         "xaxis": "x",
         "y": [
          3586
         ],
         "yaxis": "y"
        },
        {
         "alignmentgroup": "True",
         "hovertemplate": "name=%{x}<br>undergrad_enrollment=%{y}<extra></extra>",
         "legendgroup": "University of Idaho",
         "marker": {
          "color": "#00cc96",
          "pattern": {
           "shape": ""
          }
         },
         "name": "University of Idaho",
         "offsetgroup": "University of Idaho",
         "orientation": "v",
         "showlegend": true,
         "textposition": "auto",
         "texttemplate": "%{y}",
         "type": "bar",
         "x": [
          "University of Idaho"
         ],
         "xaxis": "x",
         "y": [
          9116
         ],
         "yaxis": "y"
        },
        {
         "alignmentgroup": "True",
         "hovertemplate": "name=%{x}<br>undergrad_enrollment=%{y}<extra></extra>",
         "legendgroup": "University of Louisville",
         "marker": {
          "color": "#ab63fa",
          "pattern": {
           "shape": ""
          }
         },
         "name": "University of Louisville",
         "offsetgroup": "University of Louisville",
         "orientation": "v",
         "showlegend": true,
         "textposition": "auto",
         "texttemplate": "%{y}",
         "type": "bar",
         "x": [
          "University of Louisville"
         ],
         "xaxis": "x",
         "y": [
          15769
         ],
         "yaxis": "y"
        },
        {
         "alignmentgroup": "True",
         "hovertemplate": "name=%{x}<br>undergrad_enrollment=%{y}<extra></extra>",
         "legendgroup": "University of Wyoming",
         "marker": {
          "color": "#FFA15A",
          "pattern": {
           "shape": ""
          }
         },
         "name": "University of Wyoming",
         "offsetgroup": "University of Wyoming",
         "orientation": "v",
         "showlegend": true,
         "textposition": "auto",
         "texttemplate": "%{y}",
         "type": "bar",
         "x": [
          "University of Wyoming"
         ],
         "xaxis": "x",
         "y": [
          10045
         ],
         "yaxis": "y"
        },
        {
         "alignmentgroup": "True",
         "hovertemplate": "name=%{x}<br>undergrad_enrollment=%{y}<extra></extra>",
         "legendgroup": "Ball State University",
         "marker": {
          "color": "#19d3f3",
          "pattern": {
           "shape": ""
          }
         },
         "name": "Ball State University",
         "offsetgroup": "Ball State University",
         "orientation": "v",
         "showlegend": true,
         "textposition": "auto",
         "texttemplate": "%{y}",
         "type": "bar",
         "x": [
          "Ball State University"
         ],
         "xaxis": "x",
         "y": [
          16602
         ],
         "yaxis": "y"
        },
        {
         "alignmentgroup": "True",
         "hovertemplate": "name=%{x}<br>undergrad_enrollment=%{y}<extra></extra>",
         "legendgroup": "Lipscomb University",
         "marker": {
          "color": "#FF6692",
          "pattern": {
           "shape": ""
          }
         },
         "name": "Lipscomb University",
         "offsetgroup": "Lipscomb University",
         "orientation": "v",
         "showlegend": true,
         "textposition": "auto",
         "texttemplate": "%{y}",
         "type": "bar",
         "x": [
          "Lipscomb University"
         ],
         "xaxis": "x",
         "y": [
          3030
         ],
         "yaxis": "y"
        },
        {
         "alignmentgroup": "True",
         "hovertemplate": "name=%{x}<br>undergrad_enrollment=%{y}<extra></extra>",
         "legendgroup": "Mississippi State University",
         "marker": {
          "color": "#B6E880",
          "pattern": {
           "shape": ""
          }
         },
         "name": "Mississippi State University",
         "offsetgroup": "Mississippi State University",
         "orientation": "v",
         "showlegend": true,
         "textposition": "auto",
         "texttemplate": "%{y}",
         "type": "bar",
         "x": [
          "Mississippi State University"
         ],
         "xaxis": "x",
         "y": [
          17421
         ],
         "yaxis": "y"
        },
        {
         "alignmentgroup": "True",
         "hovertemplate": "name=%{x}<br>undergrad_enrollment=%{y}<extra></extra>",
         "legendgroup": "Montclair State University",
         "marker": {
          "color": "#FF97FF",
          "pattern": {
           "shape": ""
          }
         },
         "name": "Montclair State University",
         "offsetgroup": "Montclair State University",
         "orientation": "v",
         "showlegend": true,
         "textposition": "auto",
         "texttemplate": "%{y}",
         "type": "bar",
         "x": [
          "Montclair State University"
         ],
         "xaxis": "x",
         "y": [
          16336
         ],
         "yaxis": "y"
        },
        {
         "alignmentgroup": "True",
         "hovertemplate": "name=%{x}<br>undergrad_enrollment=%{y}<extra></extra>",
         "legendgroup": "Texas Tech University",
         "marker": {
          "color": "#FECB52",
          "pattern": {
           "shape": ""
          }
         },
         "name": "Texas Tech University",
         "offsetgroup": "Texas Tech University",
         "orientation": "v",
         "showlegend": true,
         "textposition": "auto",
         "texttemplate": "%{y}",
         "type": "bar",
         "x": [
          "Texas Tech University"
         ],
         "xaxis": "x",
         "y": [
          29237
         ],
         "yaxis": "y"
        },
        {
         "alignmentgroup": "True",
         "hovertemplate": "name=%{x}<br>undergrad_enrollment=%{y}<extra></extra>",
         "legendgroup": "University of Central Florida",
         "marker": {
          "color": "#636efa",
          "pattern": {
           "shape": ""
          }
         },
         "name": "University of Central Florida",
         "offsetgroup": "University of Central Florida",
         "orientation": "v",
         "showlegend": true,
         "textposition": "auto",
         "texttemplate": "%{y}",
         "type": "bar",
         "x": [
          "University of Central Florida"
         ],
         "xaxis": "x",
         "y": [
          54513
         ],
         "yaxis": "y"
        },
        {
         "alignmentgroup": "True",
         "hovertemplate": "name=%{x}<br>undergrad_enrollment=%{y}<extra></extra>",
         "legendgroup": "University of New Mexico",
         "marker": {
          "color": "#EF553B",
          "pattern": {
           "shape": ""
          }
         },
         "name": "University of New Mexico",
         "offsetgroup": "University of New Mexico",
         "orientation": "v",
         "showlegend": true,
         "textposition": "auto",
         "texttemplate": "%{y}",
         "type": "bar",
         "x": [
          "University of New Mexico"
         ],
         "xaxis": "x",
         "y": [
          20522
         ],
         "yaxis": "y"
        },
        {
         "alignmentgroup": "True",
         "hovertemplate": "name=%{x}<br>undergrad_enrollment=%{y}<extra></extra>",
         "legendgroup": "Andrews University",
         "marker": {
          "color": "#00cc96",
          "pattern": {
           "shape": ""
          }
         },
         "name": "Andrews University",
         "offsetgroup": "Andrews University",
         "orientation": "v",
         "showlegend": true,
         "textposition": "auto",
         "texttemplate": "%{y}",
         "type": "bar",
         "x": [
          "Andrews University"
         ],
         "xaxis": "x",
         "y": [
          1733
         ],
         "yaxis": "y"
        },
        {
         "alignmentgroup": "True",
         "hovertemplate": "name=%{x}<br>undergrad_enrollment=%{y}<extra></extra>",
         "legendgroup": "Azusa Pacific University",
         "marker": {
          "color": "#ab63fa",
          "pattern": {
           "shape": ""
          }
         },
         "name": "Azusa Pacific University",
         "offsetgroup": "Azusa Pacific University",
         "orientation": "v",
         "showlegend": true,
         "textposition": "auto",
         "texttemplate": "%{y}",
         "type": "bar",
         "x": [
          "Azusa Pacific University"
         ],
         "xaxis": "x",
         "y": [
          5883
         ],
         "yaxis": "y"
        },
        {
         "alignmentgroup": "True",
         "hovertemplate": "name=%{x}<br>undergrad_enrollment=%{y}<extra></extra>",
         "legendgroup": "University of Maine",
         "marker": {
          "color": "#FFA15A",
          "pattern": {
           "shape": ""
          }
         },
         "name": "University of Maine",
         "offsetgroup": "University of Maine",
         "orientation": "v",
         "showlegend": true,
         "textposition": "auto",
         "texttemplate": "%{y}",
         "type": "bar",
         "x": [
          "University of Maine"
         ],
         "xaxis": "x",
         "y": [
          9297
         ],
         "yaxis": "y"
        },
        {
         "alignmentgroup": "True",
         "hovertemplate": "name=%{x}<br>undergrad_enrollment=%{y}<extra></extra>",
         "legendgroup": "West Virginia University",
         "marker": {
          "color": "#19d3f3",
          "pattern": {
           "shape": ""
          }
         },
         "name": "West Virginia University",
         "offsetgroup": "West Virginia University",
         "orientation": "v",
         "showlegend": true,
         "textposition": "auto",
         "texttemplate": "%{y}",
         "type": "bar",
         "x": [
          "West Virginia University"
         ],
         "xaxis": "x",
         "y": [
          22498
         ],
         "yaxis": "y"
        },
        {
         "alignmentgroup": "True",
         "hovertemplate": "name=%{x}<br>undergrad_enrollment=%{y}<extra></extra>",
         "legendgroup": "Widener University",
         "marker": {
          "color": "#FF6692",
          "pattern": {
           "shape": ""
          }
         },
         "name": "Widener University",
         "offsetgroup": "Widener University",
         "orientation": "v",
         "showlegend": true,
         "textposition": "auto",
         "texttemplate": "%{y}",
         "type": "bar",
         "x": [
          "Widener University"
         ],
         "xaxis": "x",
         "y": [
          3554
         ],
         "yaxis": "y"
        },
        {
         "alignmentgroup": "True",
         "hovertemplate": "name=%{x}<br>undergrad_enrollment=%{y}<extra></extra>",
         "legendgroup": "Kent State University",
         "marker": {
          "color": "#B6E880",
          "pattern": {
           "shape": ""
          }
         },
         "name": "Kent State University",
         "offsetgroup": "Kent State University",
         "orientation": "v",
         "showlegend": true,
         "textposition": "auto",
         "texttemplate": "%{y}",
         "type": "bar",
         "x": [
          "Kent State University"
         ],
         "xaxis": "x",
         "y": [
          23607
         ],
         "yaxis": "y"
        },
        {
         "alignmentgroup": "True",
         "hovertemplate": "name=%{x}<br>undergrad_enrollment=%{y}<extra></extra>",
         "legendgroup": "North Dakota State University",
         "marker": {
          "color": "#FF97FF",
          "pattern": {
           "shape": ""
          }
         },
         "name": "North Dakota State University",
         "offsetgroup": "North Dakota State University",
         "orientation": "v",
         "showlegend": true,
         "textposition": "auto",
         "texttemplate": "%{y}",
         "type": "bar",
         "x": [
          "North Dakota State University"
         ],
         "xaxis": "x",
         "y": [
          12037
         ],
         "yaxis": "y"
        },
        {
         "alignmentgroup": "True",
         "hovertemplate": "name=%{x}<br>undergrad_enrollment=%{y}<extra></extra>",
         "legendgroup": "Pace University",
         "marker": {
          "color": "#FECB52",
          "pattern": {
           "shape": ""
          }
         },
         "name": "Pace University",
         "offsetgroup": "Pace University",
         "orientation": "v",
         "showlegend": true,
         "textposition": "auto",
         "texttemplate": "%{y}",
         "type": "bar",
         "x": [
          "Pace University"
         ],
         "xaxis": "x",
         "y": [
          8747
         ],
         "yaxis": "y"
        },
        {
         "alignmentgroup": "True",
         "hovertemplate": "name=%{x}<br>undergrad_enrollment=%{y}<extra></extra>",
         "legendgroup": "Robert Morris University",
         "marker": {
          "color": "#636efa",
          "pattern": {
           "shape": ""
          }
         },
         "name": "Robert Morris University",
         "offsetgroup": "Robert Morris University",
         "orientation": "v",
         "showlegend": true,
         "textposition": "auto",
         "texttemplate": "%{y}",
         "type": "bar",
         "x": [
          "Robert Morris University"
         ],
         "xaxis": "x",
         "y": [
          4497
         ],
         "yaxis": "y"
        },
        {
         "alignmentgroup": "True",
         "hovertemplate": "name=%{x}<br>undergrad_enrollment=%{y}<extra></extra>",
         "legendgroup": "Suffolk University",
         "marker": {
          "color": "#EF553B",
          "pattern": {
           "shape": ""
          }
         },
         "name": "Suffolk University",
         "offsetgroup": "Suffolk University",
         "orientation": "v",
         "showlegend": true,
         "textposition": "auto",
         "texttemplate": "%{y}",
         "type": "bar",
         "x": [
          "Suffolk University"
         ],
         "xaxis": "x",
         "y": [
          5565
         ],
         "yaxis": "y"
        },
        {
         "alignmentgroup": "True",
         "hovertemplate": "name=%{x}<br>undergrad_enrollment=%{y}<extra></extra>",
         "legendgroup": "University of Hartford",
         "marker": {
          "color": "#00cc96",
          "pattern": {
           "shape": ""
          }
         },
         "name": "University of Hartford",
         "offsetgroup": "University of Hartford",
         "orientation": "v",
         "showlegend": true,
         "textposition": "auto",
         "texttemplate": "%{y}",
         "type": "bar",
         "x": [
          "University of Hartford"
         ],
         "xaxis": "x",
         "y": [
          5246
         ],
         "yaxis": "y"
        },
        {
         "alignmentgroup": "True",
         "hovertemplate": "name=%{x}<br>undergrad_enrollment=%{y}<extra></extra>",
         "legendgroup": "Bowling Green State University",
         "marker": {
          "color": "#ab63fa",
          "pattern": {
           "shape": ""
          }
         },
         "name": "Bowling Green State University",
         "offsetgroup": "Bowling Green State University",
         "orientation": "v",
         "showlegend": true,
         "textposition": "auto",
         "texttemplate": "%{y}",
         "type": "bar",
         "x": [
          "Bowling Green State University"
         ],
         "xaxis": "x",
         "y": [
          14334
         ],
         "yaxis": "y"
        },
        {
         "alignmentgroup": "True",
         "hovertemplate": "name=%{x}<br>undergrad_enrollment=%{y}<extra></extra>",
         "legendgroup": "University of Houston",
         "marker": {
          "color": "#FFA15A",
          "pattern": {
           "shape": ""
          }
         },
         "name": "University of Houston",
         "offsetgroup": "University of Houston",
         "orientation": "v",
         "showlegend": true,
         "textposition": "auto",
         "texttemplate": "%{y}",
         "type": "bar",
         "x": [
          "University of Houston"
         ],
         "xaxis": "x",
         "y": [
          34716
         ],
         "yaxis": "y"
        },
        {
         "alignmentgroup": "True",
         "hovertemplate": "name=%{x}<br>undergrad_enrollment=%{y}<extra></extra>",
         "legendgroup": "Western Michigan University",
         "marker": {
          "color": "#19d3f3",
          "pattern": {
           "shape": ""
          }
         },
         "name": "Western Michigan University",
         "offsetgroup": "Western Michigan University",
         "orientation": "v",
         "showlegend": true,
         "textposition": "auto",
         "texttemplate": "%{y}",
         "type": "bar",
         "x": [
          "Western Michigan University"
         ],
         "xaxis": "x",
         "y": [
          18567
         ],
         "yaxis": "y"
        },
        {
         "alignmentgroup": "True",
         "hovertemplate": "name=%{x}<br>undergrad_enrollment=%{y}<extra></extra>",
         "legendgroup": "Indiana University-Purdue University--Indianapolis",
         "marker": {
          "color": "#FF6692",
          "pattern": {
           "shape": ""
          }
         },
         "name": "Indiana University-Purdue University--Indianapolis",
         "offsetgroup": "Indiana University-Purdue University--Indianapolis",
         "orientation": "v",
         "showlegend": true,
         "textposition": "auto",
         "texttemplate": "%{y}",
         "type": "bar",
         "x": [
          "Indiana University-Purdue University--Indianapolis"
         ],
         "xaxis": "x",
         "y": [
          21985
         ],
         "yaxis": "y"
        },
        {
         "alignmentgroup": "True",
         "hovertemplate": "name=%{x}<br>undergrad_enrollment=%{y}<extra></extra>",
         "legendgroup": "Lesley University",
         "marker": {
          "color": "#B6E880",
          "pattern": {
           "shape": ""
          }
         },
         "name": "Lesley University",
         "offsetgroup": "Lesley University",
         "orientation": "v",
         "showlegend": true,
         "textposition": "auto",
         "texttemplate": "%{y}",
         "type": "bar",
         "x": [
          "Lesley University"
         ],
         "xaxis": "x",
         "y": [
          1520
         ],
         "yaxis": "y"
        },
        {
         "alignmentgroup": "True",
         "hovertemplate": "name=%{x}<br>undergrad_enrollment=%{y}<extra></extra>",
         "legendgroup": "University of Alabama--Huntsville",
         "marker": {
          "color": "#FF97FF",
          "pattern": {
           "shape": ""
          }
         },
         "name": "University of Alabama--Huntsville",
         "offsetgroup": "University of Alabama--Huntsville",
         "orientation": "v",
         "showlegend": true,
         "textposition": "auto",
         "texttemplate": "%{y}",
         "type": "bar",
         "x": [
          "University of Alabama--Huntsville"
         ],
         "xaxis": "x",
         "y": [
          6013
         ],
         "yaxis": "y"
        },
        {
         "alignmentgroup": "True",
         "hovertemplate": "name=%{x}<br>undergrad_enrollment=%{y}<extra></extra>",
         "legendgroup": "University of Colorado--Denver",
         "marker": {
          "color": "#FECB52",
          "pattern": {
           "shape": ""
          }
         },
         "name": "University of Colorado--Denver",
         "offsetgroup": "University of Colorado--Denver",
         "orientation": "v",
         "showlegend": true,
         "textposition": "auto",
         "texttemplate": "%{y}",
         "type": "bar",
         "x": [
          "University of Colorado--Denver"
         ],
         "xaxis": "x",
         "y": [
          14036
         ],
         "yaxis": "y"
        },
        {
         "alignmentgroup": "True",
         "hovertemplate": "name=%{x}<br>undergrad_enrollment=%{y}<extra></extra>",
         "legendgroup": "University of Nevada--Reno",
         "marker": {
          "color": "#636efa",
          "pattern": {
           "shape": ""
          }
         },
         "name": "University of Nevada--Reno",
         "offsetgroup": "University of Nevada--Reno",
         "orientation": "v",
         "showlegend": true,
         "textposition": "auto",
         "texttemplate": "%{y}",
         "type": "bar",
         "x": [
          "University of Nevada--Reno"
         ],
         "xaxis": "x",
         "y": [
          17770
         ],
         "yaxis": "y"
        },
        {
         "alignmentgroup": "True",
         "hovertemplate": "name=%{x}<br>undergrad_enrollment=%{y}<extra></extra>",
         "legendgroup": "California State University--Fullerton",
         "marker": {
          "color": "#EF553B",
          "pattern": {
           "shape": ""
          }
         },
         "name": "California State University--Fullerton",
         "offsetgroup": "California State University--Fullerton",
         "orientation": "v",
         "showlegend": true,
         "textposition": "auto",
         "texttemplate": "%{y}",
         "type": "bar",
         "x": [
          "California State University--Fullerton"
         ],
         "xaxis": "x",
         "y": [
          33144
         ],
         "yaxis": "y"
        },
        {
         "alignmentgroup": "True",
         "hovertemplate": "name=%{x}<br>undergrad_enrollment=%{y}<extra></extra>",
         "legendgroup": "Central Michigan University",
         "marker": {
          "color": "#00cc96",
          "pattern": {
           "shape": ""
          }
         },
         "name": "Central Michigan University",
         "offsetgroup": "Central Michigan University",
         "orientation": "v",
         "showlegend": true,
         "textposition": "auto",
         "texttemplate": "%{y}",
         "type": "bar",
         "x": [
          "Central Michigan University"
         ],
         "xaxis": "x",
         "y": [
          20498
         ],
         "yaxis": "y"
        },
        {
         "alignmentgroup": "True",
         "hovertemplate": "name=%{x}<br>undergrad_enrollment=%{y}<extra></extra>",
         "legendgroup": "Louisiana Tech University",
         "marker": {
          "color": "#ab63fa",
          "pattern": {
           "shape": ""
          }
         },
         "name": "Louisiana Tech University",
         "offsetgroup": "Louisiana Tech University",
         "orientation": "v",
         "showlegend": true,
         "textposition": "auto",
         "texttemplate": "%{y}",
         "type": "bar",
         "x": [
          "Louisiana Tech University"
         ],
         "xaxis": "x",
         "y": [
          10682
         ],
         "yaxis": "y"
        },
        {
         "alignmentgroup": "True",
         "hovertemplate": "name=%{x}<br>undergrad_enrollment=%{y}<extra></extra>",
         "legendgroup": "South Dakota State University",
         "marker": {
          "color": "#FFA15A",
          "pattern": {
           "shape": ""
          }
         },
         "name": "South Dakota State University",
         "offsetgroup": "South Dakota State University",
         "orientation": "v",
         "showlegend": true,
         "textposition": "auto",
         "texttemplate": "%{y}",
         "type": "bar",
         "x": [
          "South Dakota State University"
         ],
         "xaxis": "x",
         "y": [
          11007
         ],
         "yaxis": "y"
        },
        {
         "alignmentgroup": "True",
         "hovertemplate": "name=%{x}<br>undergrad_enrollment=%{y}<extra></extra>",
         "legendgroup": "University of Alaska--Fairbanks",
         "marker": {
          "color": "#19d3f3",
          "pattern": {
           "shape": ""
          }
         },
         "name": "University of Alaska--Fairbanks",
         "offsetgroup": "University of Alaska--Fairbanks",
         "orientation": "v",
         "showlegend": true,
         "textposition": "auto",
         "texttemplate": "%{y}",
         "type": "bar",
         "x": [
          "University of Alaska--Fairbanks"
         ],
         "xaxis": "x",
         "y": [
          7610
         ],
         "yaxis": "y"
        },
        {
         "alignmentgroup": "True",
         "hovertemplate": "name=%{x}<br>undergrad_enrollment=%{y}<extra></extra>",
         "legendgroup": "University of North Carolina--Charlotte",
         "marker": {
          "color": "#FF6692",
          "pattern": {
           "shape": ""
          }
         },
         "name": "University of North Carolina--Charlotte",
         "offsetgroup": "University of North Carolina--Charlotte",
         "orientation": "v",
         "showlegend": true,
         "textposition": "auto",
         "texttemplate": "%{y}",
         "type": "bar",
         "x": [
          "University of North Carolina--Charlotte"
         ],
         "xaxis": "x",
         "y": [
          22732
         ],
         "yaxis": "y"
        },
        {
         "alignmentgroup": "True",
         "hovertemplate": "name=%{x}<br>undergrad_enrollment=%{y}<extra></extra>",
         "legendgroup": "University of North Dakota",
         "marker": {
          "color": "#B6E880",
          "pattern": {
           "shape": ""
          }
         },
         "name": "University of North Dakota",
         "offsetgroup": "University of North Dakota",
         "orientation": "v",
         "showlegend": true,
         "textposition": "auto",
         "texttemplate": "%{y}",
         "type": "bar",
         "x": [
          "University of North Dakota"
         ],
         "xaxis": "x",
         "y": [
          11577
         ],
         "yaxis": "y"
        },
        {
         "alignmentgroup": "True",
         "hovertemplate": "name=%{x}<br>undergrad_enrollment=%{y}<extra></extra>",
         "legendgroup": "University of South Dakota",
         "marker": {
          "color": "#FF97FF",
          "pattern": {
           "shape": ""
          }
         },
         "name": "University of South Dakota",
         "offsetgroup": "University of South Dakota",
         "orientation": "v",
         "showlegend": true,
         "textposition": "auto",
         "texttemplate": "%{y}",
         "type": "bar",
         "x": [
          "University of South Dakota"
         ],
         "xaxis": "x",
         "y": [
          7435
         ],
         "yaxis": "y"
        },
        {
         "alignmentgroup": "True",
         "hovertemplate": "name=%{x}<br>undergrad_enrollment=%{y}<extra></extra>",
         "legendgroup": "East Carolina University",
         "marker": {
          "color": "#FECB52",
          "pattern": {
           "shape": ""
          }
         },
         "name": "East Carolina University",
         "offsetgroup": "East Carolina University",
         "orientation": "v",
         "showlegend": true,
         "textposition": "auto",
         "texttemplate": "%{y}",
         "type": "bar",
         "x": [
          "East Carolina University"
         ],
         "xaxis": "x",
         "y": [
          23039
         ],
         "yaxis": "y"
        },
        {
         "alignmentgroup": "True",
         "hovertemplate": "name=%{x}<br>undergrad_enrollment=%{y}<extra></extra>",
         "legendgroup": "Montana State University",
         "marker": {
          "color": "#636efa",
          "pattern": {
           "shape": ""
          }
         },
         "name": "Montana State University",
         "offsetgroup": "Montana State University",
         "orientation": "v",
         "showlegend": true,
         "textposition": "auto",
         "texttemplate": "%{y}",
         "type": "bar",
         "x": [
          "Montana State University"
         ],
         "xaxis": "x",
         "y": [
          13707
         ],
         "yaxis": "y"
        },
        {
         "alignmentgroup": "True",
         "hovertemplate": "name=%{x}<br>undergrad_enrollment=%{y}<extra></extra>",
         "legendgroup": "Old Dominion University",
         "marker": {
          "color": "#EF553B",
          "pattern": {
           "shape": ""
          }
         },
         "name": "Old Dominion University",
         "offsetgroup": "Old Dominion University",
         "orientation": "v",
         "showlegend": true,
         "textposition": "auto",
         "texttemplate": "%{y}",
         "type": "bar",
         "x": [
          "Old Dominion University"
         ],
         "xaxis": "x",
         "y": [
          20101
         ],
         "yaxis": "y"
        },
        {
         "alignmentgroup": "True",
         "hovertemplate": "name=%{x}<br>undergrad_enrollment=%{y}<extra></extra>",
         "legendgroup": "University of Missouri--Kansas City",
         "marker": {
          "color": "#00cc96",
          "pattern": {
           "shape": ""
          }
         },
         "name": "University of Missouri--Kansas City",
         "offsetgroup": "University of Missouri--Kansas City",
         "orientation": "v",
         "showlegend": true,
         "textposition": "auto",
         "texttemplate": "%{y}",
         "type": "bar",
         "x": [
          "University of Missouri--Kansas City"
         ],
         "xaxis": "x",
         "y": [
          11253
         ],
         "yaxis": "y"
        },
        {
         "alignmentgroup": "True",
         "hovertemplate": "name=%{x}<br>undergrad_enrollment=%{y}<extra></extra>",
         "legendgroup": "Ashland University",
         "marker": {
          "color": "#ab63fa",
          "pattern": {
           "shape": ""
          }
         },
         "name": "Ashland University",
         "offsetgroup": "Ashland University",
         "orientation": "v",
         "showlegend": true,
         "textposition": "auto",
         "texttemplate": "%{y}",
         "type": "bar",
         "x": [
          "Ashland University"
         ],
         "xaxis": "x",
         "y": [
          3716
         ],
         "yaxis": "y"
        },
        {
         "alignmentgroup": "True",
         "hovertemplate": "name=%{x}<br>undergrad_enrollment=%{y}<extra></extra>",
         "legendgroup": "Dallas Baptist University",
         "marker": {
          "color": "#FFA15A",
          "pattern": {
           "shape": ""
          }
         },
         "name": "Dallas Baptist University",
         "offsetgroup": "Dallas Baptist University",
         "orientation": "v",
         "showlegend": true,
         "textposition": "auto",
         "texttemplate": "%{y}",
         "type": "bar",
         "x": [
          "Dallas Baptist University"
         ],
         "xaxis": "x",
         "y": [
          3315
         ],
         "yaxis": "y"
        },
        {
         "alignmentgroup": "True",
         "hovertemplate": "name=%{x}<br>undergrad_enrollment=%{y}<extra></extra>",
         "legendgroup": "Northern Illinois University",
         "marker": {
          "color": "#19d3f3",
          "pattern": {
           "shape": ""
          }
         },
         "name": "Northern Illinois University",
         "offsetgroup": "Northern Illinois University",
         "orientation": "v",
         "showlegend": true,
         "textposition": "auto",
         "texttemplate": "%{y}",
         "type": "bar",
         "x": [
          "Northern Illinois University"
         ],
         "xaxis": "x",
         "y": [
          15027
         ],
         "yaxis": "y"
        },
        {
         "alignmentgroup": "True",
         "hovertemplate": "name=%{x}<br>undergrad_enrollment=%{y}<extra></extra>",
         "legendgroup": "Nova Southeastern University",
         "marker": {
          "color": "#FF6692",
          "pattern": {
           "shape": ""
          }
         },
         "name": "Nova Southeastern University",
         "offsetgroup": "Nova Southeastern University",
         "orientation": "v",
         "showlegend": true,
         "textposition": "auto",
         "texttemplate": "%{y}",
         "type": "bar",
         "x": [
          "Nova Southeastern University"
         ],
         "xaxis": "x",
         "y": [
          4641
         ],
         "yaxis": "y"
        },
        {
         "alignmentgroup": "True",
         "hovertemplate": "name=%{x}<br>undergrad_enrollment=%{y}<extra></extra>",
         "legendgroup": "Southern Illinois University--Carbondale",
         "marker": {
          "color": "#B6E880",
          "pattern": {
           "shape": ""
          }
         },
         "name": "Southern Illinois University--Carbondale",
         "offsetgroup": "Southern Illinois University--Carbondale",
         "orientation": "v",
         "showlegend": true,
         "textposition": "auto",
         "texttemplate": "%{y}",
         "type": "bar",
         "x": [
          "Southern Illinois University--Carbondale"
         ],
         "xaxis": "x",
         "y": [
          13031
         ],
         "yaxis": "y"
        },
        {
         "alignmentgroup": "True",
         "hovertemplate": "name=%{x}<br>undergrad_enrollment=%{y}<extra></extra>",
         "legendgroup": "University of Montana",
         "marker": {
          "color": "#FF97FF",
          "pattern": {
           "shape": ""
          }
         },
         "name": "University of Montana",
         "offsetgroup": "University of Montana",
         "orientation": "v",
         "showlegend": true,
         "textposition": "auto",
         "texttemplate": "%{y}",
         "type": "bar",
         "x": [
          "University of Montana"
         ],
         "xaxis": "x",
         "y": [
          8732
         ],
         "yaxis": "y"
        },
        {
         "alignmentgroup": "True",
         "hovertemplate": "name=%{x}<br>undergrad_enrollment=%{y}<extra></extra>",
         "legendgroup": "Benedictine University",
         "marker": {
          "color": "#FECB52",
          "pattern": {
           "shape": ""
          }
         },
         "name": "Benedictine University",
         "offsetgroup": "Benedictine University",
         "orientation": "v",
         "showlegend": true,
         "textposition": "auto",
         "texttemplate": "%{y}",
         "type": "bar",
         "x": [
          "Benedictine University"
         ],
         "xaxis": "x",
         "y": [
          3347
         ],
         "yaxis": "y"
        },
        {
         "alignmentgroup": "True",
         "hovertemplate": "name=%{x}<br>undergrad_enrollment=%{y}<extra></extra>",
         "legendgroup": "California State University--Fresno",
         "marker": {
          "color": "#636efa",
          "pattern": {
           "shape": ""
          }
         },
         "name": "California State University--Fresno",
         "offsetgroup": "California State University--Fresno",
         "orientation": "v",
         "showlegend": true,
         "textposition": "auto",
         "texttemplate": "%{y}",
         "type": "bar",
         "x": [
          "California State University--Fresno"
         ],
         "xaxis": "x",
         "y": [
          21482
         ],
         "yaxis": "y"
        },
        {
         "alignmentgroup": "True",
         "hovertemplate": "name=%{x}<br>undergrad_enrollment=%{y}<extra></extra>",
         "legendgroup": "Gardner-Webb University",
         "marker": {
          "color": "#EF553B",
          "pattern": {
           "shape": ""
          }
         },
         "name": "Gardner-Webb University",
         "offsetgroup": "Gardner-Webb University",
         "orientation": "v",
         "showlegend": true,
         "textposition": "auto",
         "texttemplate": "%{y}",
         "type": "bar",
         "x": [
          "Gardner-Webb University"
         ],
         "xaxis": "x",
         "y": [
          2615
         ],
         "yaxis": "y"
        },
        {
         "alignmentgroup": "True",
         "hovertemplate": "name=%{x}<br>undergrad_enrollment=%{y}<extra></extra>",
         "legendgroup": "New Mexico State University",
         "marker": {
          "color": "#00cc96",
          "pattern": {
           "shape": ""
          }
         },
         "name": "New Mexico State University",
         "offsetgroup": "New Mexico State University",
         "orientation": "v",
         "showlegend": true,
         "textposition": "auto",
         "texttemplate": "%{y}",
         "type": "bar",
         "x": [
          "New Mexico State University"
         ],
         "xaxis": "x",
         "y": [
          12526
         ],
         "yaxis": "y"
        },
        {
         "alignmentgroup": "True",
         "hovertemplate": "name=%{x}<br>undergrad_enrollment=%{y}<extra></extra>",
         "legendgroup": "Shenandoah University",
         "marker": {
          "color": "#ab63fa",
          "pattern": {
           "shape": ""
          }
         },
         "name": "Shenandoah University",
         "offsetgroup": "Shenandoah University",
         "orientation": "v",
         "showlegend": true,
         "textposition": "auto",
         "texttemplate": "%{y}",
         "type": "bar",
         "x": [
          "Shenandoah University"
         ],
         "xaxis": "x",
         "y": [
          2010
         ],
         "yaxis": "y"
        },
        {
         "alignmentgroup": "True",
         "hovertemplate": "name=%{x}<br>undergrad_enrollment=%{y}<extra></extra>",
         "legendgroup": "Tennessee Technological University",
         "marker": {
          "color": "#FFA15A",
          "pattern": {
           "shape": ""
          }
         },
         "name": "Tennessee Technological University",
         "offsetgroup": "Tennessee Technological University",
         "orientation": "v",
         "showlegend": true,
         "textposition": "auto",
         "texttemplate": "%{y}",
         "type": "bar",
         "x": [
          "Tennessee Technological University"
         ],
         "xaxis": "x",
         "y": [
          9801
         ],
         "yaxis": "y"
        },
        {
         "alignmentgroup": "True",
         "hovertemplate": "name=%{x}<br>undergrad_enrollment=%{y}<extra></extra>",
         "legendgroup": "University of Massachusetts--Boston",
         "marker": {
          "color": "#19d3f3",
          "pattern": {
           "shape": ""
          }
         },
         "name": "University of Massachusetts--Boston",
         "offsetgroup": "University of Massachusetts--Boston",
         "orientation": "v",
         "showlegend": true,
         "textposition": "auto",
         "texttemplate": "%{y}",
         "type": "bar",
         "x": [
          "University of Massachusetts--Boston"
         ],
         "xaxis": "x",
         "y": [
          12949
         ],
         "yaxis": "y"
        },
        {
         "alignmentgroup": "True",
         "hovertemplate": "name=%{x}<br>undergrad_enrollment=%{y}<extra></extra>",
         "legendgroup": "University of Massachusetts--Dartmouth",
         "marker": {
          "color": "#FF6692",
          "pattern": {
           "shape": ""
          }
         },
         "name": "University of Massachusetts--Dartmouth",
         "offsetgroup": "University of Massachusetts--Dartmouth",
         "orientation": "v",
         "showlegend": true,
         "textposition": "auto",
         "texttemplate": "%{y}",
         "type": "bar",
         "x": [
          "University of Massachusetts--Dartmouth"
         ],
         "xaxis": "x",
         "y": [
          7295
         ],
         "yaxis": "y"
        },
        {
         "alignmentgroup": "True",
         "hovertemplate": "name=%{x}<br>undergrad_enrollment=%{y}<extra></extra>",
         "legendgroup": "University of Missouri--St. Louis",
         "marker": {
          "color": "#B6E880",
          "pattern": {
           "shape": ""
          }
         },
         "name": "University of Missouri--St. Louis",
         "offsetgroup": "University of Missouri--St. Louis",
         "orientation": "v",
         "showlegend": true,
         "textposition": "auto",
         "texttemplate": "%{y}",
         "type": "bar",
         "x": [
          "University of Missouri--St. Louis"
         ],
         "xaxis": "x",
         "y": [
          13569
         ],
         "yaxis": "y"
        },
        {
         "alignmentgroup": "True",
         "hovertemplate": "name=%{x}<br>undergrad_enrollment=%{y}<extra></extra>",
         "legendgroup": "University of North Carolina--Greensboro",
         "marker": {
          "color": "#FF97FF",
          "pattern": {
           "shape": ""
          }
         },
         "name": "University of North Carolina--Greensboro",
         "offsetgroup": "University of North Carolina--Greensboro",
         "orientation": "v",
         "showlegend": true,
         "textposition": "auto",
         "texttemplate": "%{y}",
         "type": "bar",
         "x": [
          "University of North Carolina--Greensboro"
         ],
         "xaxis": "x",
         "y": [
          15951
         ],
         "yaxis": "y"
        },
        {
         "alignmentgroup": "True",
         "hovertemplate": "name=%{x}<br>undergrad_enrollment=%{y}<extra></extra>",
         "legendgroup": "University of Southern Mississippi",
         "marker": {
          "color": "#FECB52",
          "pattern": {
           "shape": ""
          }
         },
         "name": "University of Southern Mississippi",
         "offsetgroup": "University of Southern Mississippi",
         "orientation": "v",
         "showlegend": true,
         "textposition": "auto",
         "texttemplate": "%{y}",
         "type": "bar",
         "x": [
          "University of Southern Mississippi"
         ],
         "xaxis": "x",
         "y": [
          11840
         ],
         "yaxis": "y"
        },
        {
         "alignmentgroup": "True",
         "hovertemplate": "name=%{x}<br>undergrad_enrollment=%{y}<extra></extra>",
         "legendgroup": "Utah State University",
         "marker": {
          "color": "#636efa",
          "pattern": {
           "shape": ""
          }
         },
         "name": "Utah State University",
         "offsetgroup": "Utah State University",
         "orientation": "v",
         "showlegend": true,
         "textposition": "auto",
         "texttemplate": "%{y}",
         "type": "bar",
         "x": [
          "Utah State University"
         ],
         "xaxis": "x",
         "y": [
          25259
         ],
         "yaxis": "y"
        }
       ],
       "layout": {
        "barmode": "stack",
        "height": 900,
        "legend": {
         "title": {
          "text": "name"
         },
         "tracegroupgap": 0
        },
        "margin": {
         "t": 60
        },
        "template": {
         "data": {
          "bar": [
           {
            "error_x": {
             "color": "#2a3f5f"
            },
            "error_y": {
             "color": "#2a3f5f"
            },
            "marker": {
             "line": {
              "color": "#E5ECF6",
              "width": 0.5
             },
             "pattern": {
              "fillmode": "overlay",
              "size": 10,
              "solidity": 0.2
             }
            },
            "type": "bar"
           }
          ],
          "barpolar": [
           {
            "marker": {
             "line": {
              "color": "#E5ECF6",
              "width": 0.5
             },
             "pattern": {
              "fillmode": "overlay",
              "size": 10,
              "solidity": 0.2
             }
            },
            "type": "barpolar"
           }
          ],
          "carpet": [
           {
            "aaxis": {
             "endlinecolor": "#2a3f5f",
             "gridcolor": "white",
             "linecolor": "white",
             "minorgridcolor": "white",
             "startlinecolor": "#2a3f5f"
            },
            "baxis": {
             "endlinecolor": "#2a3f5f",
             "gridcolor": "white",
             "linecolor": "white",
             "minorgridcolor": "white",
             "startlinecolor": "#2a3f5f"
            },
            "type": "carpet"
           }
          ],
          "choropleth": [
           {
            "colorbar": {
             "outlinewidth": 0,
             "ticks": ""
            },
            "type": "choropleth"
           }
          ],
          "contour": [
           {
            "colorbar": {
             "outlinewidth": 0,
             "ticks": ""
            },
            "colorscale": [
             [
              0,
              "#0d0887"
             ],
             [
              0.1111111111111111,
              "#46039f"
             ],
             [
              0.2222222222222222,
              "#7201a8"
             ],
             [
              0.3333333333333333,
              "#9c179e"
             ],
             [
              0.4444444444444444,
              "#bd3786"
             ],
             [
              0.5555555555555556,
              "#d8576b"
             ],
             [
              0.6666666666666666,
              "#ed7953"
             ],
             [
              0.7777777777777778,
              "#fb9f3a"
             ],
             [
              0.8888888888888888,
              "#fdca26"
             ],
             [
              1,
              "#f0f921"
             ]
            ],
            "type": "contour"
           }
          ],
          "contourcarpet": [
           {
            "colorbar": {
             "outlinewidth": 0,
             "ticks": ""
            },
            "type": "contourcarpet"
           }
          ],
          "heatmap": [
           {
            "colorbar": {
             "outlinewidth": 0,
             "ticks": ""
            },
            "colorscale": [
             [
              0,
              "#0d0887"
             ],
             [
              0.1111111111111111,
              "#46039f"
             ],
             [
              0.2222222222222222,
              "#7201a8"
             ],
             [
              0.3333333333333333,
              "#9c179e"
             ],
             [
              0.4444444444444444,
              "#bd3786"
             ],
             [
              0.5555555555555556,
              "#d8576b"
             ],
             [
              0.6666666666666666,
              "#ed7953"
             ],
             [
              0.7777777777777778,
              "#fb9f3a"
             ],
             [
              0.8888888888888888,
              "#fdca26"
             ],
             [
              1,
              "#f0f921"
             ]
            ],
            "type": "heatmap"
           }
          ],
          "heatmapgl": [
           {
            "colorbar": {
             "outlinewidth": 0,
             "ticks": ""
            },
            "colorscale": [
             [
              0,
              "#0d0887"
             ],
             [
              0.1111111111111111,
              "#46039f"
             ],
             [
              0.2222222222222222,
              "#7201a8"
             ],
             [
              0.3333333333333333,
              "#9c179e"
             ],
             [
              0.4444444444444444,
              "#bd3786"
             ],
             [
              0.5555555555555556,
              "#d8576b"
             ],
             [
              0.6666666666666666,
              "#ed7953"
             ],
             [
              0.7777777777777778,
              "#fb9f3a"
             ],
             [
              0.8888888888888888,
              "#fdca26"
             ],
             [
              1,
              "#f0f921"
             ]
            ],
            "type": "heatmapgl"
           }
          ],
          "histogram": [
           {
            "marker": {
             "pattern": {
              "fillmode": "overlay",
              "size": 10,
              "solidity": 0.2
             }
            },
            "type": "histogram"
           }
          ],
          "histogram2d": [
           {
            "colorbar": {
             "outlinewidth": 0,
             "ticks": ""
            },
            "colorscale": [
             [
              0,
              "#0d0887"
             ],
             [
              0.1111111111111111,
              "#46039f"
             ],
             [
              0.2222222222222222,
              "#7201a8"
             ],
             [
              0.3333333333333333,
              "#9c179e"
             ],
             [
              0.4444444444444444,
              "#bd3786"
             ],
             [
              0.5555555555555556,
              "#d8576b"
             ],
             [
              0.6666666666666666,
              "#ed7953"
             ],
             [
              0.7777777777777778,
              "#fb9f3a"
             ],
             [
              0.8888888888888888,
              "#fdca26"
             ],
             [
              1,
              "#f0f921"
             ]
            ],
            "type": "histogram2d"
           }
          ],
          "histogram2dcontour": [
           {
            "colorbar": {
             "outlinewidth": 0,
             "ticks": ""
            },
            "colorscale": [
             [
              0,
              "#0d0887"
             ],
             [
              0.1111111111111111,
              "#46039f"
             ],
             [
              0.2222222222222222,
              "#7201a8"
             ],
             [
              0.3333333333333333,
              "#9c179e"
             ],
             [
              0.4444444444444444,
              "#bd3786"
             ],
             [
              0.5555555555555556,
              "#d8576b"
             ],
             [
              0.6666666666666666,
              "#ed7953"
             ],
             [
              0.7777777777777778,
              "#fb9f3a"
             ],
             [
              0.8888888888888888,
              "#fdca26"
             ],
             [
              1,
              "#f0f921"
             ]
            ],
            "type": "histogram2dcontour"
           }
          ],
          "mesh3d": [
           {
            "colorbar": {
             "outlinewidth": 0,
             "ticks": ""
            },
            "type": "mesh3d"
           }
          ],
          "parcoords": [
           {
            "line": {
             "colorbar": {
              "outlinewidth": 0,
              "ticks": ""
             }
            },
            "type": "parcoords"
           }
          ],
          "pie": [
           {
            "automargin": true,
            "type": "pie"
           }
          ],
          "scatter": [
           {
            "fillpattern": {
             "fillmode": "overlay",
             "size": 10,
             "solidity": 0.2
            },
            "type": "scatter"
           }
          ],
          "scatter3d": [
           {
            "line": {
             "colorbar": {
              "outlinewidth": 0,
              "ticks": ""
             }
            },
            "marker": {
             "colorbar": {
              "outlinewidth": 0,
              "ticks": ""
             }
            },
            "type": "scatter3d"
           }
          ],
          "scattercarpet": [
           {
            "marker": {
             "colorbar": {
              "outlinewidth": 0,
              "ticks": ""
             }
            },
            "type": "scattercarpet"
           }
          ],
          "scattergeo": [
           {
            "marker": {
             "colorbar": {
              "outlinewidth": 0,
              "ticks": ""
             }
            },
            "type": "scattergeo"
           }
          ],
          "scattergl": [
           {
            "marker": {
             "colorbar": {
              "outlinewidth": 0,
              "ticks": ""
             }
            },
            "type": "scattergl"
           }
          ],
          "scattermapbox": [
           {
            "marker": {
             "colorbar": {
              "outlinewidth": 0,
              "ticks": ""
             }
            },
            "type": "scattermapbox"
           }
          ],
          "scatterpolar": [
           {
            "marker": {
             "colorbar": {
              "outlinewidth": 0,
              "ticks": ""
             }
            },
            "type": "scatterpolar"
           }
          ],
          "scatterpolargl": [
           {
            "marker": {
             "colorbar": {
              "outlinewidth": 0,
              "ticks": ""
             }
            },
            "type": "scatterpolargl"
           }
          ],
          "scatterternary": [
           {
            "marker": {
             "colorbar": {
              "outlinewidth": 0,
              "ticks": ""
             }
            },
            "type": "scatterternary"
           }
          ],
          "surface": [
           {
            "colorbar": {
             "outlinewidth": 0,
             "ticks": ""
            },
            "colorscale": [
             [
              0,
              "#0d0887"
             ],
             [
              0.1111111111111111,
              "#46039f"
             ],
             [
              0.2222222222222222,
              "#7201a8"
             ],
             [
              0.3333333333333333,
              "#9c179e"
             ],
             [
              0.4444444444444444,
              "#bd3786"
             ],
             [
              0.5555555555555556,
              "#d8576b"
             ],
             [
              0.6666666666666666,
              "#ed7953"
             ],
             [
              0.7777777777777778,
              "#fb9f3a"
             ],
             [
              0.8888888888888888,
              "#fdca26"
             ],
             [
              1,
              "#f0f921"
             ]
            ],
            "type": "surface"
           }
          ],
          "table": [
           {
            "cells": {
             "fill": {
              "color": "#EBF0F8"
             },
             "line": {
              "color": "white"
             }
            },
            "header": {
             "fill": {
              "color": "#C8D4E3"
             },
             "line": {
              "color": "white"
             }
            },
            "type": "table"
           }
          ]
         },
         "layout": {
          "annotationdefaults": {
           "arrowcolor": "#2a3f5f",
           "arrowhead": 0,
           "arrowwidth": 1
          },
          "autotypenumbers": "strict",
          "coloraxis": {
           "colorbar": {
            "outlinewidth": 0,
            "ticks": ""
           }
          },
          "colorscale": {
           "diverging": [
            [
             0,
             "#8e0152"
            ],
            [
             0.1,
             "#c51b7d"
            ],
            [
             0.2,
             "#de77ae"
            ],
            [
             0.3,
             "#f1b6da"
            ],
            [
             0.4,
             "#fde0ef"
            ],
            [
             0.5,
             "#f7f7f7"
            ],
            [
             0.6,
             "#e6f5d0"
            ],
            [
             0.7,
             "#b8e186"
            ],
            [
             0.8,
             "#7fbc41"
            ],
            [
             0.9,
             "#4d9221"
            ],
            [
             1,
             "#276419"
            ]
           ],
           "sequential": [
            [
             0,
             "#0d0887"
            ],
            [
             0.1111111111111111,
             "#46039f"
            ],
            [
             0.2222222222222222,
             "#7201a8"
            ],
            [
             0.3333333333333333,
             "#9c179e"
            ],
            [
             0.4444444444444444,
             "#bd3786"
            ],
            [
             0.5555555555555556,
             "#d8576b"
            ],
            [
             0.6666666666666666,
             "#ed7953"
            ],
            [
             0.7777777777777778,
             "#fb9f3a"
            ],
            [
             0.8888888888888888,
             "#fdca26"
            ],
            [
             1,
             "#f0f921"
            ]
           ],
           "sequentialminus": [
            [
             0,
             "#0d0887"
            ],
            [
             0.1111111111111111,
             "#46039f"
            ],
            [
             0.2222222222222222,
             "#7201a8"
            ],
            [
             0.3333333333333333,
             "#9c179e"
            ],
            [
             0.4444444444444444,
             "#bd3786"
            ],
            [
             0.5555555555555556,
             "#d8576b"
            ],
            [
             0.6666666666666666,
             "#ed7953"
            ],
            [
             0.7777777777777778,
             "#fb9f3a"
            ],
            [
             0.8888888888888888,
             "#fdca26"
            ],
            [
             1,
             "#f0f921"
            ]
           ]
          },
          "colorway": [
           "#636efa",
           "#EF553B",
           "#00cc96",
           "#ab63fa",
           "#FFA15A",
           "#19d3f3",
           "#FF6692",
           "#B6E880",
           "#FF97FF",
           "#FECB52"
          ],
          "font": {
           "color": "#2a3f5f"
          },
          "geo": {
           "bgcolor": "white",
           "lakecolor": "white",
           "landcolor": "#E5ECF6",
           "showlakes": true,
           "showland": true,
           "subunitcolor": "white"
          },
          "hoverlabel": {
           "align": "left"
          },
          "hovermode": "closest",
          "mapbox": {
           "style": "light"
          },
          "paper_bgcolor": "white",
          "plot_bgcolor": "#E5ECF6",
          "polar": {
           "angularaxis": {
            "gridcolor": "white",
            "linecolor": "white",
            "ticks": ""
           },
           "bgcolor": "#E5ECF6",
           "radialaxis": {
            "gridcolor": "white",
            "linecolor": "white",
            "ticks": ""
           }
          },
          "scene": {
           "xaxis": {
            "backgroundcolor": "#E5ECF6",
            "gridcolor": "white",
            "gridwidth": 2,
            "linecolor": "white",
            "showbackground": true,
            "ticks": "",
            "zerolinecolor": "white"
           },
           "yaxis": {
            "backgroundcolor": "#E5ECF6",
            "gridcolor": "white",
            "gridwidth": 2,
            "linecolor": "white",
            "showbackground": true,
            "ticks": "",
            "zerolinecolor": "white"
           },
           "zaxis": {
            "backgroundcolor": "#E5ECF6",
            "gridcolor": "white",
            "gridwidth": 2,
            "linecolor": "white",
            "showbackground": true,
            "ticks": "",
            "zerolinecolor": "white"
           }
          },
          "shapedefaults": {
           "line": {
            "color": "#2a3f5f"
           }
          },
          "ternary": {
           "aaxis": {
            "gridcolor": "white",
            "linecolor": "white",
            "ticks": ""
           },
           "baxis": {
            "gridcolor": "white",
            "linecolor": "white",
            "ticks": ""
           },
           "bgcolor": "#E5ECF6",
           "caxis": {
            "gridcolor": "white",
            "linecolor": "white",
            "ticks": ""
           }
          },
          "title": {
           "x": 0.05
          },
          "xaxis": {
           "automargin": true,
           "gridcolor": "white",
           "linecolor": "white",
           "ticks": "",
           "title": {
            "standoff": 15
           },
           "zerolinecolor": "white",
           "zerolinewidth": 2
          },
          "yaxis": {
           "automargin": true,
           "gridcolor": "white",
           "linecolor": "white",
           "ticks": "",
           "title": {
            "standoff": 15
           },
           "zerolinecolor": "white",
           "zerolinewidth": 2
          }
         }
        },
        "title": {
         "text": "Top Universities by Undergrad_enrollment"
        },
        "width": 2500,
        "xaxis": {
         "anchor": "y",
         "categoryarray": [
          "Princeton University",
          "Harvard University",
          "University of Chicago",
          "Yale University",
          "Columbia University",
          "Stanford University",
          "Massachusetts Institute of Technology",
          "Duke University",
          "University of Pennsylvania",
          "Johns Hopkins University",
          "Dartmouth College",
          "California Institute of Technology",
          "Northwestern University",
          "Brown University",
          "Cornell University",
          "Rice University",
          "University of Notre Dame",
          "Vanderbilt University",
          "Washington University in St. Louis",
          "Emory University",
          "Georgetown University",
          "University of California--Berkeley",
          "University of Southern California",
          "Carnegie Mellon University",
          "University of California--Los Angeles",
          "University of Virginia",
          "Tufts University",
          "University of Michigan--Ann Arbor",
          "Wake Forest University",
          "University of North Carolina--Chapel Hill",
          "Boston College",
          "College of William & Mary",
          "University of Rochester",
          "Brandeis University",
          "Georgia Institute of Technology",
          "New York University",
          "Case Western Reserve University",
          "University of California--Santa Barbara",
          "Boston University",
          "Northeastern University",
          "Rensselaer Polytechnic Institute",
          "Tulane University",
          "University of California--Irvine",
          "Lehigh University",
          "University of California--Davis",
          "University of California--San Diego",
          "University of Illinois--Urbana-Champaign",
          "University of Miami",
          "University of Wisconsin--Madison",
          "Pepperdine University",
          "University of Florida",
          "Villanova University",
          "Pennsylvania State University--University Park",
          "Ohio State University--Columbus",
          "University of Washington",
          "George Washington University",
          "Southern Methodist University",
          "University of Georgia",
          "University of Texas--Austin",
          "Fordham University",
          "Purdue University--West Lafayette",
          "Syracuse University",
          "University of Connecticut",
          "University of Maryland--College Park",
          "Worcester Polytechnic Institute",
          "Clemson University",
          "Yeshiva University",
          "Brigham Young University--Provo",
          "University of Pittsburgh",
          "Rutgers University--New Brunswick",
          "Baylor University",
          "Stevens Institute of Technology",
          "University of Minnesota--Twin Cities",
          "American University",
          "Clark University",
          "Texas A&M University--College Station",
          "University of Massachusetts--Amherst",
          "Virginia Tech",
          "Miami University--Oxford",
          "University of California--Santa Cruz",
          "University of Delaware",
          "Colorado School of Mines",
          "Michigan State University",
          "Texas Christian University",
          "University of Iowa",
          "Binghamton University--SUNY",
          "Indiana University--Bloomington",
          "Marquette University",
          "University of Denver",
          "University of San Diego",
          "University of Tulsa",
          "Florida State University",
          "North Carolina State University--Raleigh",
          "University of Colorado--Boulder",
          "University of Vermont",
          "Drexel University",
          "Saint Louis University",
          "Stony Brook University--SUNY",
          "Auburn University",
          "Loyola University Chicago",
          "SUNY College of Environmental Science and Forestry",
          "University at Buffalo--SUNY",
          "Illinois Institute of Technology",
          "University of Alabama",
          "University of Oregon",
          "University of Tennessee",
          "Rochester Institute of Technology",
          "University of New Hampshire",
          "University of San Francisco",
          "University of South Carolina",
          "Iowa State University",
          "University of Dayton",
          "University of Missouri",
          "University of Nebraska--Lincoln",
          "University of Oklahoma",
          "University of the Pacific",
          "University of Utah",
          "Michigan Technological University",
          "Seton Hall University",
          "Temple University",
          "University of California--Riverside",
          "University of Kansas",
          "University of St. Thomas",
          "The Catholic University of America",
          "DePaul University",
          "Duquesne University",
          "Howard University",
          "University of Arizona",
          "Arizona State University--Tempe",
          "Clarkson University",
          "Colorado State University",
          "New School",
          "Hofstra University",
          "University of Kentucky",
          "Kansas State University",
          "Louisiana State University--Baton Rouge",
          "Mercer University",
          "New Jersey Institute of Technology",
          "Rutgers University--Newark",
          "University of Arkansas",
          "University of Cincinnati",
          "University of Mississippi",
          "George Mason University",
          "Oregon State University",
          "Washington State University",
          "Adelphi University",
          "Ohio University",
          "San Diego State University",
          "St. John Fisher College",
          "University at Albany--SUNY",
          "University of Texas--Dallas",
          "Illinois State University",
          "Immaculata University",
          "Oklahoma State University",
          "University of California--Merced",
          "University of Illinois--Chicago",
          "University of La Verne",
          "University of Massachusetts--Lowell",
          "Seattle Pacific University",
          "University of Alabama--Birmingham",
          "University of Maryland--Baltimore County",
          "University of Rhode Island",
          "University of South Florida",
          "Biola University",
          "Maryville University of St. Louis",
          "Missouri University of Science & Technology",
          "St. John's University",
          "Virginia Commonwealth University",
          "Union University",
          "University of Hawaii--Manoa",
          "Edgewood College",
          "Florida Institute of Technology",
          "University of Idaho",
          "University of Louisville",
          "University of Wyoming",
          "Ball State University",
          "Lipscomb University",
          "Mississippi State University",
          "Montclair State University",
          "Texas Tech University",
          "University of Central Florida",
          "University of New Mexico",
          "Andrews University",
          "Azusa Pacific University",
          "University of Maine",
          "West Virginia University",
          "Widener University",
          "Kent State University",
          "North Dakota State University",
          "Pace University",
          "Robert Morris University",
          "Suffolk University",
          "University of Hartford",
          "Bowling Green State University",
          "University of Houston",
          "Western Michigan University",
          "Indiana University-Purdue University--Indianapolis",
          "Lesley University",
          "University of Alabama--Huntsville",
          "University of Colorado--Denver",
          "University of Nevada--Reno",
          "California State University--Fullerton",
          "Central Michigan University",
          "Louisiana Tech University",
          "South Dakota State University",
          "University of Alaska--Fairbanks",
          "University of North Carolina--Charlotte",
          "University of North Dakota",
          "University of South Dakota",
          "East Carolina University",
          "Montana State University",
          "Old Dominion University",
          "University of Missouri--Kansas City",
          "Ashland University",
          "Dallas Baptist University",
          "Northern Illinois University",
          "Nova Southeastern University",
          "Southern Illinois University--Carbondale",
          "University of Montana",
          "Benedictine University",
          "California State University--Fresno",
          "Gardner-Webb University",
          "New Mexico State University",
          "Shenandoah University",
          "Tennessee Technological University",
          "University of Massachusetts--Boston",
          "University of Massachusetts--Dartmouth",
          "University of Missouri--St. Louis",
          "University of North Carolina--Greensboro",
          "University of Southern Mississippi",
          "Utah State University"
         ],
         "categoryorder": "total descending",
         "domain": [
          0,
          1
         ],
         "title": {
          "text": "name"
         }
        },
        "yaxis": {
         "anchor": "x",
         "domain": [
          0,
          1
         ],
         "title": {
          "text": "undergrad_enrollment"
         }
        }
       }
      }
     },
     "metadata": {},
     "output_type": "display_data"
    }
   ],
   "source": [
    "fig = px.bar(df_nur, y=\"undergrad_enrollment\", x=\"name\", color=\"name\", text_auto=True,height = 900, width= 2500)\n",
    "fig.update_layout(barmode=\"stack\", xaxis={\"categoryorder\": \"total descending\"}, title_text=\"Top Universities by Undergrad_enrollment\")\n",
    "fig.show()"
   ]
  },
  {
   "cell_type": "markdown",
   "metadata": {},
   "source": [
    "# ALL YOUR TASK SHOULD BE DONE BELOW THIS MARKDOWN FOR EASY MERGING"
   ]
  }
 ],
 "metadata": {
  "kernelspec": {
   "display_name": "Python 3 (ipykernel)",
   "language": "python",
   "name": "python3"
  },
  "language_info": {
   "codemirror_mode": {
    "name": "ipython",
    "version": 3
   },
   "file_extension": ".py",
   "mimetype": "text/x-python",
   "name": "python",
   "nbconvert_exporter": "python",
   "pygments_lexer": "ipython3",
   "version": "3.10.1"
  }
 },
 "nbformat": 4,
 "nbformat_minor": 2
}
