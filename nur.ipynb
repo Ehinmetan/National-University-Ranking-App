{
 "cells": [
  {
   "cell_type": "markdown",
   "metadata": {},
   "source": [
    "# National University Ranking\n",
    "\n",
    "![](2023-07-13-00-48-01.png)"
   ]
  },
  {
   "cell_type": "markdown",
   "metadata": {},
   "source": [
    "ROUGH OUTLINE\n",
    "1. extract the state short code from location\n",
    "2. extract the year founded from description\n",
    "3. clean up the fees, in-state and enrollment columns\n",
    "4. clean up the columns names\n",
    "\n",
    "* 51 states\n",
    "\n",
    "5. seperate each state schools\n",
    "6. each state will be a table of it's own in the database for database optimization\n",
    "7. create a state table\n",
    "8. can rank school inside each state based on enrollment\n",
    "\n",
    "-- EDA\n",
    "\n",
    "9. Top school based on rank, tuition fees, instate fees, and enrollment\n",
    "10. Top 2 schools within 56 states\n",
    "11. oldest schools based on year founded\n",
    "12. oldest school within 51 states\n",
    "\n",
    "-- App interface\n",
    "\n",
    "13. A brief overview with visuals from top school based on rank (overall)\n",
    "14. selection box to select state. Once selected, brief overview with a visual of the top school in that state.\n",
    "* Overview will include details based on the available data like average tuition and top ranked school.\n",
    "15. Another section where we take in input from the user to recommend a movie within a choosen state.\n",
    "16. If no state is choosen, we recommend based on the user location, and closest state.\n",
    "* For closest state, we can do some resear to know which state is closer to each other (Feature engineering) \n",
    "\n",
    "## Objectives\n",
    "Outline breakdown\n",
    "\n",
    "### Data Cleaning: \n",
    "* Objective: Clean the data and feature engineer new columns\n",
    "* Tools: Python\n",
    "\n",
    "### EDA\n",
    "* Objective: Create visuals from the cleaned data\n",
    "* Tools: Power BI, Python\n",
    "\n",
    "### Database Engineers\n",
    "* Objective: Create the database and the schema. Views if possible\n",
    "* Tools: SQL\n",
    "\n",
    "### Project App\n",
    "* Objective: Create the user interface\n",
    "* Tools: Python, SQL, USer\n",
    "\n",
    "### Technical Writers\n",
    "* Objective: Document every process\n",
    "* Microsoft/Google Suites (Slide, Docs, Excel, etc)\n",
    "\n",
    "## Have a video meeting to discuss milestone achievement"
   ]
  },
  {
   "cell_type": "markdown",
   "metadata": {},
   "source": [
    "### Developing a searchable database to help high school students identify colleges that match their criteria in terms of tuition, graduation rate, location, and rank."
   ]
  },
  {
   "cell_type": "markdown",
   "metadata": {},
   "source": [
    "### Import Libraries"
   ]
  },
  {
   "cell_type": "code",
   "execution_count": 2,
   "metadata": {},
   "outputs": [],
   "source": [
    "import pandas as pd\n",
    "import plotly.express as px\n"
   ]
  },
  {
   "cell_type": "code",
   "execution_count": 5,
   "metadata": {},
   "outputs": [
    {
     "data": {
      "text/plain": [
       "(231, 7)"
      ]
     },
     "execution_count": 5,
     "metadata": {},
     "output_type": "execute_result"
    }
   ],
   "source": [
    "# Loading the dataset\n",
    "nur = pd.read_csv(\"dataset/National Universities Rankings.csv\", index_col=0)\n",
    "nur.shape"
   ]
  },
  {
   "cell_type": "code",
   "execution_count": 4,
   "metadata": {},
   "outputs": [
    {
     "data": {
      "text/html": [
       "<div>\n",
       "<style scoped>\n",
       "    .dataframe tbody tr th:only-of-type {\n",
       "        vertical-align: middle;\n",
       "    }\n",
       "\n",
       "    .dataframe tbody tr th {\n",
       "        vertical-align: top;\n",
       "    }\n",
       "\n",
       "    .dataframe thead th {\n",
       "        text-align: right;\n",
       "    }\n",
       "</style>\n",
       "<table border=\"1\" class=\"dataframe\">\n",
       "  <thead>\n",
       "    <tr style=\"text-align: right;\">\n",
       "      <th></th>\n",
       "      <th>Name</th>\n",
       "      <th>Location</th>\n",
       "      <th>Rank</th>\n",
       "      <th>Description</th>\n",
       "      <th>Tuition and fees</th>\n",
       "      <th>In-state</th>\n",
       "      <th>Undergrad Enrollment</th>\n",
       "    </tr>\n",
       "    <tr>\n",
       "      <th>index</th>\n",
       "      <th></th>\n",
       "      <th></th>\n",
       "      <th></th>\n",
       "      <th></th>\n",
       "      <th></th>\n",
       "      <th></th>\n",
       "      <th></th>\n",
       "    </tr>\n",
       "  </thead>\n",
       "  <tbody>\n",
       "    <tr>\n",
       "      <th>0</th>\n",
       "      <td>Princeton University</td>\n",
       "      <td>Princeton, NJ</td>\n",
       "      <td>1</td>\n",
       "      <td>Princeton, the fourth-oldest college in the Un...</td>\n",
       "      <td>$45,320</td>\n",
       "      <td>NaN</td>\n",
       "      <td>5,402</td>\n",
       "    </tr>\n",
       "    <tr>\n",
       "      <th>1</th>\n",
       "      <td>Harvard University</td>\n",
       "      <td>Cambridge, MA</td>\n",
       "      <td>2</td>\n",
       "      <td>Harvard is located in Cambridge, Massachusetts...</td>\n",
       "      <td>$47,074</td>\n",
       "      <td>NaN</td>\n",
       "      <td>6,699</td>\n",
       "    </tr>\n",
       "    <tr>\n",
       "      <th>2</th>\n",
       "      <td>University of Chicago</td>\n",
       "      <td>Chicago, IL</td>\n",
       "      <td>3</td>\n",
       "      <td>The University of Chicago, situated in Chicago...</td>\n",
       "      <td>$52,491</td>\n",
       "      <td>NaN</td>\n",
       "      <td>5,844</td>\n",
       "    </tr>\n",
       "    <tr>\n",
       "      <th>3</th>\n",
       "      <td>Yale University</td>\n",
       "      <td>New Haven, CT</td>\n",
       "      <td>3</td>\n",
       "      <td>Yale University, located in New Haven, Connect...</td>\n",
       "      <td>$49,480</td>\n",
       "      <td>NaN</td>\n",
       "      <td>5,532</td>\n",
       "    </tr>\n",
       "    <tr>\n",
       "      <th>4</th>\n",
       "      <td>Columbia University</td>\n",
       "      <td>New York, NY</td>\n",
       "      <td>5</td>\n",
       "      <td>Columbia University, located in Manhattan's Mo...</td>\n",
       "      <td>$55,056</td>\n",
       "      <td>NaN</td>\n",
       "      <td>6,102</td>\n",
       "    </tr>\n",
       "  </tbody>\n",
       "</table>\n",
       "</div>"
      ],
      "text/plain": [
       "                        Name       Location  Rank  \\\n",
       "index                                               \n",
       "0       Princeton University  Princeton, NJ     1   \n",
       "1         Harvard University  Cambridge, MA     2   \n",
       "2      University of Chicago    Chicago, IL     3   \n",
       "3            Yale University  New Haven, CT     3   \n",
       "4        Columbia University   New York, NY     5   \n",
       "\n",
       "                                             Description Tuition and fees  \\\n",
       "index                                                                       \n",
       "0      Princeton, the fourth-oldest college in the Un...         $45,320    \n",
       "1      Harvard is located in Cambridge, Massachusetts...         $47,074    \n",
       "2      The University of Chicago, situated in Chicago...         $52,491    \n",
       "3      Yale University, located in New Haven, Connect...         $49,480    \n",
       "4      Columbia University, located in Manhattan's Mo...         $55,056    \n",
       "\n",
       "      In-state Undergrad Enrollment  \n",
       "index                                \n",
       "0          NaN                5,402  \n",
       "1          NaN                6,699  \n",
       "2          NaN                5,844  \n",
       "3          NaN                5,532  \n",
       "4          NaN                6,102  "
      ]
     },
     "execution_count": 4,
     "metadata": {},
     "output_type": "execute_result"
    }
   ],
   "source": [
    "nur.head()"
   ]
  },
  {
   "cell_type": "markdown",
   "metadata": {},
   "source": [
    "### DATA CLEANING"
   ]
  },
  {
   "cell_type": "code",
   "execution_count": 6,
   "metadata": {},
   "outputs": [],
   "source": [
    "df_nur = nur.copy()"
   ]
  },
  {
   "cell_type": "markdown",
   "metadata": {},
   "source": [
    "### 1. "
   ]
  },
  {
   "cell_type": "code",
   "execution_count": null,
   "metadata": {},
   "outputs": [],
   "source": [
    "# Remove the dollar sign ($) and comma\n",
    "df_nur['Tuition and fees'] = df_nur['Tuition and fees'].str.replace('$', '').str.replace(',', '')\n",
    "\n",
    "# convert the column datatype to integer\n",
    "df_nur['Tuition and fees'] = df_nur['Tuition and fees'].fillna('0').astype(int)"
   ]
  },
  {
   "cell_type": "code",
   "execution_count": null,
   "metadata": {},
   "outputs": [
    {
     "data": {
      "text/plain": [
       "index\n",
       "68     29758\n",
       "77     29371\n",
       "87     38470\n",
       "14     50953\n",
       "21     40191\n",
       "129    46132\n",
       "16     49685\n",
       "119    25994\n",
       "143    28846\n",
       "79     40241\n",
       "Name: Tuition and fees, dtype: int64"
      ]
     },
     "metadata": {},
     "output_type": "display_data"
    }
   ],
   "source": [
    "df_nur['Tuition and fees'].sample(10)"
   ]
  },
  {
   "cell_type": "code",
   "execution_count": null,
   "metadata": {},
   "outputs": [
    {
     "data": {
      "text/html": [
       "<div>\n",
       "<style scoped>\n",
       "    .dataframe tbody tr th:only-of-type {\n",
       "        vertical-align: middle;\n",
       "    }\n",
       "\n",
       "    .dataframe tbody tr th {\n",
       "        vertical-align: top;\n",
       "    }\n",
       "\n",
       "    .dataframe thead th {\n",
       "        text-align: right;\n",
       "    }\n",
       "</style>\n",
       "<table border=\"1\" class=\"dataframe\">\n",
       "  <thead>\n",
       "    <tr style=\"text-align: right;\">\n",
       "      <th></th>\n",
       "      <th>Name</th>\n",
       "      <th>Location</th>\n",
       "      <th>Rank</th>\n",
       "      <th>Description</th>\n",
       "      <th>Tuition and fees</th>\n",
       "      <th>In-state</th>\n",
       "      <th>Undergrad Enrollment</th>\n",
       "    </tr>\n",
       "    <tr>\n",
       "      <th>index</th>\n",
       "      <th></th>\n",
       "      <th></th>\n",
       "      <th></th>\n",
       "      <th></th>\n",
       "      <th></th>\n",
       "      <th></th>\n",
       "      <th></th>\n",
       "    </tr>\n",
       "  </thead>\n",
       "  <tbody>\n",
       "    <tr>\n",
       "      <th>98</th>\n",
       "      <td>Auburn University</td>\n",
       "      <td>Auburn, AL</td>\n",
       "      <td>99</td>\n",
       "      <td>Auburn, Alabama, has been ranked one of the be...</td>\n",
       "      <td>28840</td>\n",
       "      <td>$10,696</td>\n",
       "      <td>21,786</td>\n",
       "    </tr>\n",
       "    <tr>\n",
       "      <th>9</th>\n",
       "      <td>Johns Hopkins University</td>\n",
       "      <td>Baltimore, MD</td>\n",
       "      <td>10</td>\n",
       "      <td>Johns Hopkins University has four main campuse...</td>\n",
       "      <td>50410</td>\n",
       "      <td>NaN</td>\n",
       "      <td>6,524</td>\n",
       "    </tr>\n",
       "    <tr>\n",
       "      <th>19</th>\n",
       "      <td>Emory University</td>\n",
       "      <td>Atlanta, GA</td>\n",
       "      <td>20</td>\n",
       "      <td>Emory University is located in the suburb of D...</td>\n",
       "      <td>47954</td>\n",
       "      <td>NaN</td>\n",
       "      <td>6,867</td>\n",
       "    </tr>\n",
       "    <tr>\n",
       "      <th>172</th>\n",
       "      <td>University of Idaho</td>\n",
       "      <td>Moscow, ID</td>\n",
       "      <td>171</td>\n",
       "      <td>University of Idaho is located in the northwes...</td>\n",
       "      <td>22040</td>\n",
       "      <td>$7,232</td>\n",
       "      <td>9,116</td>\n",
       "    </tr>\n",
       "    <tr>\n",
       "      <th>10</th>\n",
       "      <td>Dartmouth College</td>\n",
       "      <td>Hanover, NH</td>\n",
       "      <td>11</td>\n",
       "      <td>Dartmouth College, located in Hanover, New Ham...</td>\n",
       "      <td>51438</td>\n",
       "      <td>NaN</td>\n",
       "      <td>4,307</td>\n",
       "    </tr>\n",
       "    <tr>\n",
       "      <th>164</th>\n",
       "      <td>Maryville University of St. Louis</td>\n",
       "      <td>St Louis, MO</td>\n",
       "      <td>164</td>\n",
       "      <td>Founded in 1872, Maryville University of St. L...</td>\n",
       "      <td>27958</td>\n",
       "      <td>NaN</td>\n",
       "      <td>2,795</td>\n",
       "    </tr>\n",
       "    <tr>\n",
       "      <th>75</th>\n",
       "      <td>Texas A&amp;M University--College Station</td>\n",
       "      <td>College Station, TX</td>\n",
       "      <td>74</td>\n",
       "      <td>Ready to be an Aggie? All students assume the ...</td>\n",
       "      <td>28768</td>\n",
       "      <td>$10,176</td>\n",
       "      <td>48,960</td>\n",
       "    </tr>\n",
       "    <tr>\n",
       "      <th>181</th>\n",
       "      <td>University of New Mexico</td>\n",
       "      <td>Albuquerque, NM</td>\n",
       "      <td>176</td>\n",
       "      <td>Founded in 1889, University of New Mexico is a...</td>\n",
       "      <td>21302</td>\n",
       "      <td>$7,071</td>\n",
       "      <td>20,522</td>\n",
       "    </tr>\n",
       "    <tr>\n",
       "      <th>187</th>\n",
       "      <td>Kent State University</td>\n",
       "      <td>Kent, OH</td>\n",
       "      <td>188</td>\n",
       "      <td>Kent State University is located in northeaste...</td>\n",
       "      <td>18376</td>\n",
       "      <td>$10,012</td>\n",
       "      <td>23,607</td>\n",
       "    </tr>\n",
       "    <tr>\n",
       "      <th>62</th>\n",
       "      <td>University of Connecticut</td>\n",
       "      <td>Storrs, CT</td>\n",
       "      <td>60</td>\n",
       "      <td>The University of Connecticut, located in Stor...</td>\n",
       "      <td>35858</td>\n",
       "      <td>$14,066</td>\n",
       "      <td>18,826</td>\n",
       "    </tr>\n",
       "  </tbody>\n",
       "</table>\n",
       "</div>"
      ],
      "text/plain": [
       "                                        Name             Location  Rank  \\\n",
       "index                                                                     \n",
       "98                         Auburn University           Auburn, AL    99   \n",
       "9                   Johns Hopkins University        Baltimore, MD    10   \n",
       "19                          Emory University          Atlanta, GA    20   \n",
       "172                      University of Idaho           Moscow, ID   171   \n",
       "10                         Dartmouth College          Hanover, NH    11   \n",
       "164        Maryville University of St. Louis         St Louis, MO   164   \n",
       "75     Texas A&M University--College Station  College Station, TX    74   \n",
       "181                 University of New Mexico      Albuquerque, NM   176   \n",
       "187                    Kent State University             Kent, OH   188   \n",
       "62                 University of Connecticut           Storrs, CT    60   \n",
       "\n",
       "                                             Description  Tuition and fees  \\\n",
       "index                                                                        \n",
       "98     Auburn, Alabama, has been ranked one of the be...             28840   \n",
       "9      Johns Hopkins University has four main campuse...             50410   \n",
       "19     Emory University is located in the suburb of D...             47954   \n",
       "172    University of Idaho is located in the northwes...             22040   \n",
       "10     Dartmouth College, located in Hanover, New Ham...             51438   \n",
       "164    Founded in 1872, Maryville University of St. L...             27958   \n",
       "75     Ready to be an Aggie? All students assume the ...             28768   \n",
       "181    Founded in 1889, University of New Mexico is a...             21302   \n",
       "187    Kent State University is located in northeaste...             18376   \n",
       "62     The University of Connecticut, located in Stor...             35858   \n",
       "\n",
       "       In-state Undergrad Enrollment  \n",
       "index                                 \n",
       "98     $10,696                21,786  \n",
       "9           NaN                6,524  \n",
       "19          NaN                6,867  \n",
       "172     $7,232                 9,116  \n",
       "10          NaN                4,307  \n",
       "164         NaN                2,795  \n",
       "75     $10,176                48,960  \n",
       "181     $7,071                20,522  \n",
       "187    $10,012                23,607  \n",
       "62     $14,066                18,826  "
      ]
     },
     "metadata": {},
     "output_type": "display_data"
    }
   ],
   "source": [
    "df_nur.sample(10)"
   ]
  },
  {
   "cell_type": "markdown",
   "metadata": {},
   "source": [
    "### 2"
   ]
  },
  {
   "cell_type": "markdown",
   "metadata": {},
   "source": [
    "### 3"
   ]
  },
  {
   "cell_type": "code",
   "execution_count": null,
   "metadata": {},
   "outputs": [],
   "source": []
  },
  {
   "cell_type": "code",
   "execution_count": null,
   "metadata": {},
   "outputs": [],
   "source": []
  },
  {
   "cell_type": "code",
   "execution_count": null,
   "metadata": {},
   "outputs": [],
   "source": []
  },
  {
   "cell_type": "code",
   "execution_count": 4,
   "metadata": {},
   "outputs": [
    {
     "data": {
      "text/plain": [
       "array([' NJ', ' MA', ' IL', ' CT', ' NY', ' CA', ' NC', ' PA', ' MD',\n",
       "       ' NH', ' RI', ' TX', ' IN', ' TN', ' MO', ' GA', ' DC', ' VA',\n",
       "       ' MI', ' OH', ' LA', ' FL', ' WI', ' WA', ' SC', ' UT', ' MN',\n",
       "       ' DE', ' CO', ' IA', ' OK', ' VT', ' AL', ' OR', ' NE', ' KS',\n",
       "       ' AZ', ' KY', ' AR', ' MS', ' HI', ' ID', ' WY', ' NM', ' ME',\n",
       "       ' WV', ' ND', ' NV', ' SD', ' AK', ' MT'], dtype=object)"
      ]
     },
     "execution_count": 4,
     "metadata": {},
     "output_type": "execute_result"
    }
   ],
   "source": [
    "nur['Location'].apply(lambda x: x.split(',')[1]).unique()"
   ]
  },
  {
   "cell_type": "code",
   "execution_count": 5,
   "metadata": {},
   "outputs": [
    {
     "data": {
      "text/plain": [
       "51"
      ]
     },
     "execution_count": 5,
     "metadata": {},
     "output_type": "execute_result"
    }
   ],
   "source": [
    "len(nur['Location'].apply(lambda x: x.split(',')[1]).unique())"
   ]
  },
  {
   "cell_type": "code",
   "execution_count": 7,
   "metadata": {},
   "outputs": [
    {
     "data": {
      "text/plain": [
       "Name                    object\n",
       "Location                object\n",
       "Rank                     int64\n",
       "Description             object\n",
       "Tuition and fees        object\n",
       "In-state                object\n",
       "Undergrad Enrollment    object\n",
       "dtype: object"
      ]
     },
     "execution_count": 7,
     "metadata": {},
     "output_type": "execute_result"
    }
   ],
   "source": [
    "df_nur.dtypes"
   ]
  },
  {
   "cell_type": "code",
   "execution_count": 8,
   "metadata": {},
   "outputs": [
    {
     "data": {
      "text/plain": [
       "Name                     0\n",
       "Location                 0\n",
       "Rank                     0\n",
       "Description              0\n",
       "Tuition and fees         0\n",
       "In-state                98\n",
       "Undergrad Enrollment     0\n",
       "dtype: int64"
      ]
     },
     "execution_count": 8,
     "metadata": {},
     "output_type": "execute_result"
    }
   ],
   "source": [
    "df_nur.isna().sum()"
   ]
  }
 ],
 "metadata": {
  "kernelspec": {
   "display_name": "base",
   "language": "python",
   "name": "python3"
  },
  "language_info": {
   "codemirror_mode": {
    "name": "ipython",
    "version": 3
   },
   "file_extension": ".py",
   "mimetype": "text/x-python",
   "name": "python",
   "nbconvert_exporter": "python",
   "pygments_lexer": "ipython3",
   "version": "3.10.9"
  },
  "orig_nbformat": 4
 },
 "nbformat": 4,
 "nbformat_minor": 2
}
