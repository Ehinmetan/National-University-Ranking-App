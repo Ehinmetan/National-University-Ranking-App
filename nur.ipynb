{
 "cells": [
  {
   "cell_type": "markdown",
   "metadata": {},
   "source": [
    "# National University Ranking\n",
    "\n",
    "![](2023-07-13-00-48-01.png)"
   ]
  },
  {
   "cell_type": "markdown",
   "metadata": {},
   "source": [
    "ROUGH OUTLINE\n",
    "1. extract the state short code from location\n",
    "2. extract the year founded from description\n",
    "3. clean up the fees, in-state and enrollment columns\n",
    "4. clean up the columns names\n",
    "\n",
    "* 51 states\n",
    "\n",
    "5. seperate each state schools\n",
    "6. each state will be a table of it's own in the database for database optimization\n",
    "7. create a state table\n",
    "8. can rank school inside each state based on enrollment\n",
    "\n",
    "-- EDA\n",
    "\n",
    "9. Top school based on rank, tuition fees, instate fees, and enrollment\n",
    "10. Top 2 schools within 56 states\n",
    "11. oldest schools based on year founded\n",
    "12. oldest school within 51 states\n",
    "\n",
    "-- App interface\n",
    "\n",
    "13. A brief overview with visuals from top school based on rank (overall)\n",
    "14. selection box to select state. Once selected, brief overview with a visual of the top school in that state.\n",
    "* Overview will include details based on the available data like average tuition and top ranked school.\n",
    "15. Another section where we take in input from the user to recommend a movie within a choosen state.\n",
    "16. If no state is choosen, we recommend based on the user location, and closest state.\n",
    "* For closest state, we can do some resear to know which state is closer to each other (Feature engineering) \n",
    "\n",
    "## Objectives\n",
    "Outline breakdown\n",
    "\n",
    "### Data Cleaning: \n",
    "* Objective: Clean the data and feature engineer new columns\n",
    "* Tools: Python\n",
    "\n",
    "### EDA\n",
    "* Objective: Create visuals from the cleaned data\n",
    "* Tools: Power BI, Python\n",
    "\n",
    "### Database Engineers\n",
    "* Objective: Create the database and the schema. Views if possible\n",
    "* Tools: SQL\n",
    "\n",
    "### Project App\n",
    "* Objective: Create the user interface\n",
    "* Tools: Python, SQL, USer\n",
    "\n",
    "### Technical Writers\n",
    "* Objective: Document every process\n",
    "* Microsoft/Google Suites (Slide, Docs, Excel, etc)\n",
    "\n",
    "## Have a video meeting to discuss milestone achievement"
   ]
  },
  {
   "cell_type": "markdown",
   "metadata": {},
   "source": [
    "### Developing a searchable database to help high school students identify colleges that match their criteria in terms of tuition, graduation rate, location, and rank."
   ]
  },
  {
   "cell_type": "markdown",
   "metadata": {},
   "source": [
    "### Import Libraries"
   ]
  },
  {
   "cell_type": "code",
   "execution_count": 2,
   "metadata": {},
   "outputs": [],
   "source": [
    "import pandas as pd\n",
    "import plotly.express as px\n"
   ]
  },
  {
   "cell_type": "code",
   "execution_count": 5,
   "metadata": {},
   "outputs": [
    {
     "data": {
      "text/plain": [
       "(231, 7)"
      ]
     },
     "execution_count": 5,
     "metadata": {},
     "output_type": "execute_result"
    }
   ],
   "source": [
    "# Loading the dataset\n",
    "nur = pd.read_csv(\"dataset/National Universities Rankings.csv\", index_col=0)\n",
    "nur.shape"
   ]
  },
  {
   "cell_type": "code",
   "execution_count": 4,
   "metadata": {},
   "outputs": [
    {
     "data": {
      "text/html": [
       "<div>\n",
       "<style scoped>\n",
       "    .dataframe tbody tr th:only-of-type {\n",
       "        vertical-align: middle;\n",
       "    }\n",
       "\n",
       "    .dataframe tbody tr th {\n",
       "        vertical-align: top;\n",
       "    }\n",
       "\n",
       "    .dataframe thead th {\n",
       "        text-align: right;\n",
       "    }\n",
       "</style>\n",
       "<table border=\"1\" class=\"dataframe\">\n",
       "  <thead>\n",
       "    <tr style=\"text-align: right;\">\n",
       "      <th></th>\n",
       "      <th>Name</th>\n",
       "      <th>Location</th>\n",
       "      <th>Rank</th>\n",
       "      <th>Description</th>\n",
       "      <th>Tuition and fees</th>\n",
       "      <th>In-state</th>\n",
       "      <th>Undergrad Enrollment</th>\n",
       "    </tr>\n",
       "    <tr>\n",
       "      <th>index</th>\n",
       "      <th></th>\n",
       "      <th></th>\n",
       "      <th></th>\n",
       "      <th></th>\n",
       "      <th></th>\n",
       "      <th></th>\n",
       "      <th></th>\n",
       "    </tr>\n",
       "  </thead>\n",
       "  <tbody>\n",
       "    <tr>\n",
       "      <th>0</th>\n",
       "      <td>Princeton University</td>\n",
       "      <td>Princeton, NJ</td>\n",
       "      <td>1</td>\n",
       "      <td>Princeton, the fourth-oldest college in the Un...</td>\n",
       "      <td>$45,320</td>\n",
       "      <td>NaN</td>\n",
       "      <td>5,402</td>\n",
       "    </tr>\n",
       "    <tr>\n",
       "      <th>125</th>\n",
       "      <td>Duquesne University</td>\n",
       "      <td>Pittsburgh, PA</td>\n",
       "      <td>124</td>\n",
       "      <td>Founded in 1878, Duquesne University is a priv...</td>\n",
       "      <td>$35,062</td>\n",
       "      <td>NaN</td>\n",
       "      <td>5,961</td>\n",
       "    </tr>\n",
       "    <tr>\n",
       "      <th>2</th>\n",
       "      <td>University of Chicago</td>\n",
       "      <td>Chicago, IL</td>\n",
       "      <td>3</td>\n",
       "      <td>The University of Chicago, situated in Chicago...</td>\n",
       "      <td>$52,491</td>\n",
       "      <td>NaN</td>\n",
       "      <td>5,844</td>\n",
       "    </tr>\n",
       "    <tr>\n",
       "      <th>3</th>\n",
       "      <td>Yale University</td>\n",
       "      <td>New Haven, CT</td>\n",
       "      <td>3</td>\n",
       "      <td>Yale University, located in New Haven, Connect...</td>\n",
       "      <td>$49,480</td>\n",
       "      <td>NaN</td>\n",
       "      <td>5,532</td>\n",
       "    </tr>\n",
       "    <tr>\n",
       "      <th>4</th>\n",
       "      <td>Columbia University</td>\n",
       "      <td>New York, NY</td>\n",
       "      <td>5</td>\n",
       "      <td>Columbia University, located in Manhattan's Mo...</td>\n",
       "      <td>$55,056</td>\n",
       "      <td>NaN</td>\n",
       "      <td>6,102</td>\n",
       "    </tr>\n",
       "  </tbody>\n",
       "</table>\n",
       "</div>"
      ],
      "text/plain": [
       "                        Name       Location  Rank  \\\n",
       "index                                               \n",
       "0       Princeton University  Princeton, NJ     1   \n",
       "1         Harvard University  Cambridge, MA     2   \n",
       "2      University of Chicago    Chicago, IL     3   \n",
       "3            Yale University  New Haven, CT     3   \n",
       "4        Columbia University   New York, NY     5   \n",
       "\n",
       "                                             Description Tuition and fees  \\\n",
       "index                                                                       \n",
       "0      Princeton, the fourth-oldest college in the Un...         $45,320    \n",
       "1      Harvard is located in Cambridge, Massachusetts...         $47,074    \n",
       "2      The University of Chicago, situated in Chicago...         $52,491    \n",
       "3      Yale University, located in New Haven, Connect...         $49,480    \n",
       "4      Columbia University, located in Manhattan's Mo...         $55,056    \n",
       "\n",
       "      In-state Undergrad Enrollment  \n",
       "index                                \n",
       "0          NaN                5,402  \n",
       "1          NaN                6,699  \n",
       "2          NaN                5,844  \n",
       "3          NaN                5,532  \n",
       "4          NaN                6,102  "
      ]
     },
     "execution_count": 5,
     "metadata": {},
     "output_type": "execute_result"
    }
   ],
   "source": [
    "nur.head()"
   ]
  },
  {
   "source": [
    "### DATA CLEANING"
   ]
  },
  {
   "cell_type": "code",
   "execution_count": 7,
   "metadata": {},
   "outputs": [],
   "source": [
    "df_nur = nur.copy()"
   ]
  },
  {
   "cell_type": "markdown",
   "metadata": {},
   "source": [
    "### 1. "
   ]
  },
  {
   "cell_type": "code",
   "execution_count": null,
   "metadata": {},
   "outputs": [
    {
     "name": "stderr",
     "output_type": "stream",
     "text": [
      "C:\\Users\\user\\AppData\\Local\\Temp\\ipykernel_31224\\3591692019.py:2: FutureWarning: The default value of regex will change from True to False in a future version. In addition, single character regular expressions will *not* be treated as literal strings when regex=True.\n",
      "  df_nur['Tuition and fees'] = df_nur['Tuition and fees'].str.replace('$', '').str.replace(',', '')\n"
     ]
    }
   ],
   "source": [
    "# Remove the dollar sign ($) and comma\n",
    "df_nur['Tuition and fees'] = df_nur['Tuition and fees'].str.replace('$', '').str.replace(',', '')\n",
    "\n",
    "# convert the column datatype to integer\n",
    "df_nur['Tuition and fees'] = df_nur['Tuition and fees'].fillna('0').astype(int)"
   ]
  },
  {
   "cell_type": "code",
   "execution_count": null,
   "metadata": {},
   "outputs": [
    {
     "data": {
      "text/plain": [
       "index\n",
       "146    21208\n",
       "95     51030\n",
       "114    21451\n",
       "117    30968\n",
       "211    27028\n",
       "64     46994\n",
       "182    27684\n",
       "3      49480\n",
       "144    25673\n",
       "79     40241\n",
       "Name: Tuition and fees, dtype: int32"
      ]
     },
     "metadata": {},
     "output_type": "display_data"
    }
   ],
   "source": [
    "df_nur['Tuition and fees'].sample(10)"
   ]
  },
  {
   "cell_type": "code",
   "execution_count": null,
   "metadata": {},
   "outputs": [
    {
     "data": {
      "text/html": [
       "<div>\n",
       "<style scoped>\n",
       "    .dataframe tbody tr th:only-of-type {\n",
       "        vertical-align: middle;\n",
       "    }\n",
       "\n",
       "    .dataframe tbody tr th {\n",
       "        vertical-align: top;\n",
       "    }\n",
       "\n",
       "    .dataframe thead th {\n",
       "        text-align: right;\n",
       "    }\n",
       "</style>\n",
       "<table border=\"1\" class=\"dataframe\">\n",
       "  <thead>\n",
       "    <tr style=\"text-align: right;\">\n",
       "      <th></th>\n",
       "      <th>Name</th>\n",
       "      <th>Location</th>\n",
       "      <th>Rank</th>\n",
       "      <th>Description</th>\n",
       "      <th>Tuition and fees</th>\n",
       "      <th>In-state</th>\n",
       "      <th>Undergrad Enrollment</th>\n",
       "    </tr>\n",
       "    <tr>\n",
       "      <th>index</th>\n",
       "      <th></th>\n",
       "      <th></th>\n",
       "      <th></th>\n",
       "      <th></th>\n",
       "      <th></th>\n",
       "      <th></th>\n",
       "      <th></th>\n",
       "    </tr>\n",
       "  </thead>\n",
       "  <tbody>\n",
       "    <tr>\n",
       "      <th>51</th>\n",
       "      <td>Villanova University</td>\n",
       "      <td>Villanova, PA</td>\n",
       "      <td>50</td>\n",
       "      <td>Villanova University, named for the Spanish Au...</td>\n",
       "      <td>49280</td>\n",
       "      <td>NaN</td>\n",
       "      <td>6,994</td>\n",
       "    </tr>\n",
       "    <tr>\n",
       "      <th>128</th>\n",
       "      <td>Arizona State University--Tempe</td>\n",
       "      <td>Tempe, AZ</td>\n",
       "      <td>129</td>\n",
       "      <td>Arizona State University--Tempe, which has one...</td>\n",
       "      <td>25458</td>\n",
       "      <td>$10,158</td>\n",
       "      <td>41,828</td>\n",
       "    </tr>\n",
       "    <tr>\n",
       "      <th>219</th>\n",
       "      <td>Benedictine University</td>\n",
       "      <td>Lisle, IL</td>\n",
       "      <td>220</td>\n",
       "      <td>Founded in 1887, Benedictine University is a p...</td>\n",
       "      <td>32170</td>\n",
       "      <td>NaN</td>\n",
       "      <td>3,347</td>\n",
       "    </tr>\n",
       "    <tr>\n",
       "      <th>22</th>\n",
       "      <td>University of Southern California</td>\n",
       "      <td>Los Angeles, CA</td>\n",
       "      <td>23</td>\n",
       "      <td>The University of Southern California's centra...</td>\n",
       "      <td>52217</td>\n",
       "      <td>NaN</td>\n",
       "      <td>18,810</td>\n",
       "    </tr>\n",
       "    <tr>\n",
       "      <th>97</th>\n",
       "      <td>Stony Brook University--SUNY</td>\n",
       "      <td>Stony Brook, NY</td>\n",
       "      <td>96</td>\n",
       "      <td>Stony Brook University is one of 64 schools in...</td>\n",
       "      <td>26266</td>\n",
       "      <td>$9,026</td>\n",
       "      <td>16,831</td>\n",
       "    </tr>\n",
       "    <tr>\n",
       "      <th>146</th>\n",
       "      <td>Ohio University</td>\n",
       "      <td>Athens, OH</td>\n",
       "      <td>146</td>\n",
       "      <td>Freshmen at Ohio University (OU) in Athens can...</td>\n",
       "      <td>21208</td>\n",
       "      <td>$11,744</td>\n",
       "      <td>23,513</td>\n",
       "    </tr>\n",
       "    <tr>\n",
       "      <th>49</th>\n",
       "      <td>Pepperdine University</td>\n",
       "      <td>Malibu, CA</td>\n",
       "      <td>50</td>\n",
       "      <td>Squeezed in among the Santa Monica Mountain fo...</td>\n",
       "      <td>50022</td>\n",
       "      <td>NaN</td>\n",
       "      <td>3,533</td>\n",
       "    </tr>\n",
       "    <tr>\n",
       "      <th>37</th>\n",
       "      <td>University of California--Santa Barbara</td>\n",
       "      <td>Santa Barbara, CA</td>\n",
       "      <td>37</td>\n",
       "      <td>Located 100 miles up the coast from Los Angele...</td>\n",
       "      <td>40704</td>\n",
       "      <td>$14,022</td>\n",
       "      <td>20,607</td>\n",
       "    </tr>\n",
       "    <tr>\n",
       "      <th>57</th>\n",
       "      <td>University of Georgia</td>\n",
       "      <td>Athens, GA</td>\n",
       "      <td>56</td>\n",
       "      <td>At its founding, The University of Georgia mad...</td>\n",
       "      <td>29844</td>\n",
       "      <td>$11,634</td>\n",
       "      <td>27,547</td>\n",
       "    </tr>\n",
       "    <tr>\n",
       "      <th>55</th>\n",
       "      <td>George Washington University</td>\n",
       "      <td>Washington, DC</td>\n",
       "      <td>56</td>\n",
       "      <td>George Washington University's urban location ...</td>\n",
       "      <td>51950</td>\n",
       "      <td>NaN</td>\n",
       "      <td>11,157</td>\n",
       "    </tr>\n",
       "  </tbody>\n",
       "</table>\n",
       "</div>"
      ],
      "text/plain": [
       "                                          Name           Location  Rank  \\\n",
       "index                                                                     \n",
       "51                        Villanova University      Villanova, PA    50   \n",
       "128            Arizona State University--Tempe          Tempe, AZ   129   \n",
       "219                     Benedictine University          Lisle, IL   220   \n",
       "22           University of Southern California    Los Angeles, CA    23   \n",
       "97                Stony Brook University--SUNY    Stony Brook, NY    96   \n",
       "146                            Ohio University         Athens, OH   146   \n",
       "49                       Pepperdine University         Malibu, CA    50   \n",
       "37     University of California--Santa Barbara  Santa Barbara, CA    37   \n",
       "57                       University of Georgia         Athens, GA    56   \n",
       "55                George Washington University     Washington, DC    56   \n",
       "\n",
       "                                             Description  Tuition and fees  \\\n",
       "index                                                                        \n",
       "51     Villanova University, named for the Spanish Au...             49280   \n",
       "128    Arizona State University--Tempe, which has one...             25458   \n",
       "219    Founded in 1887, Benedictine University is a p...             32170   \n",
       "22     The University of Southern California's centra...             52217   \n",
       "97     Stony Brook University is one of 64 schools in...             26266   \n",
       "146    Freshmen at Ohio University (OU) in Athens can...             21208   \n",
       "49     Squeezed in among the Santa Monica Mountain fo...             50022   \n",
       "37     Located 100 miles up the coast from Los Angele...             40704   \n",
       "57     At its founding, The University of Georgia mad...             29844   \n",
       "55     George Washington University's urban location ...             51950   \n",
       "\n",
       "       In-state Undergrad Enrollment  \n",
       "index                                 \n",
       "51          NaN                6,994  \n",
       "128    $10,158                41,828  \n",
       "219         NaN                3,347  \n",
       "22          NaN               18,810  \n",
       "97      $9,026                16,831  \n",
       "146    $11,744                23,513  \n",
       "49          NaN                3,533  \n",
       "37     $14,022                20,607  \n",
       "57     $11,634                27,547  \n",
       "55          NaN               11,157  "
      ]
     },
     "metadata": {},
     "output_type": "display_data"
    }
   ],
   "source": [
    "df_nur.sample(10)"
   ]
  },
  {
   "cell_type": "markdown",
   "metadata": {},
   "source": [
    "### 2"
   ]
  },
  {
   "cell_type": "markdown",
   "metadata": {},
   "source": [
    "### 3"
   ]
  },
  {
   "cell_type": "code",
   "execution_count": null,
   "metadata": {},
   "outputs": [],
   "source": []
  },
  {
   "cell_type": "code",
   "execution_count": null,
   "metadata": {},
   "outputs": [],
   "source": []
  },
  {
   "cell_type": "code",
   "execution_count": null,
   "metadata": {},
   "outputs": [],
   "source": []
  },
  {
   "cell_type": "code",
   "execution_count": 4,
   "metadata": {},
   "outputs": [
    {
     "data": {
      "text/plain": [
       "array([' NJ', ' MA', ' IL', ' CT', ' NY', ' CA', ' NC', ' PA', ' MD',\n",
       "       ' NH', ' RI', ' TX', ' IN', ' TN', ' MO', ' GA', ' DC', ' VA',\n",
       "       ' MI', ' OH', ' LA', ' FL', ' WI', ' WA', ' SC', ' UT', ' MN',\n",
       "       ' DE', ' CO', ' IA', ' OK', ' VT', ' AL', ' OR', ' NE', ' KS',\n",
       "       ' AZ', ' KY', ' AR', ' MS', ' HI', ' ID', ' WY', ' NM', ' ME',\n",
       "       ' WV', ' ND', ' NV', ' SD', ' AK', ' MT'], dtype=object)"
      ]
     },
     "execution_count": 4,
     "metadata": {},
     "output_type": "execute_result"
    }
   ],
   "source": [
    "nur['Location'].apply(lambda x: x.split(',')[1]).unique()"
   ]
  },
  {
   "cell_type": "code",
   "execution_count": 5,
   "metadata": {},
   "outputs": [
    {
     "data": {
      "text/plain": [
       "51"
      ]
     },
     "execution_count": 5,
     "metadata": {},
     "output_type": "execute_result"
    }
   ],
   "source": [
    "len(nur['Location'].apply(lambda x: x.split(',')[1]).unique())"
   ]
  },
  {
   "cell_type": "code",
   "execution_count": 7,
   "metadata": {},
   "outputs": [
    {
     "data": {
      "text/plain": [
       "Name                    object\n",
       "Location                object\n",
       "Rank                     int64\n",
       "Description             object\n",
       "Tuition and fees        object\n",
       "In-state                object\n",
       "Undergrad Enrollment    object\n",
       "dtype: object"
      ]
     },
     "execution_count": 7,
     "metadata": {},
     "output_type": "execute_result"
    }
   ],
   "source": [
    "df_nur.dtypes"
   ]
  },
  {
   "cell_type": "code",
   "execution_count": 8,
   "metadata": {},
   "outputs": [
    {
     "data": {
      "text/plain": [
       "Name                     0\n",
       "Location                 0\n",
       "Rank                     0\n",
       "Description              0\n",
       "Tuition and fees         0\n",
       "In-state                98\n",
       "Undergrad Enrollment     0\n",
       "dtype: int64"
      ]
     },
     "execution_count": 8,
     "metadata": {},
     "output_type": "execute_result"
    }
   ],
   "source": [
    "df_nur.isna().sum()"
   ]
  },
  {
   "cell_type": "markdown",
   "metadata": {},
   "source": [
    "### Cleaning the undergraduate enrollment column"
   ]
  },
  {
   "cell_type": "code",
   "execution_count": 41,
   "metadata": {},
   "outputs": [],
   "source": [
    "# create a copy of dataframe\n",
    "df_nur = nur.copy()"
   ]
  },
  {
   "cell_type": "code",
   "execution_count": 42,
   "metadata": {},
   "outputs": [
    {
     "data": {
      "text/html": [
       "<div>\n",
       "<style scoped>\n",
       "    .dataframe tbody tr th:only-of-type {\n",
       "        vertical-align: middle;\n",
       "    }\n",
       "\n",
       "    .dataframe tbody tr th {\n",
       "        vertical-align: top;\n",
       "    }\n",
       "\n",
       "    .dataframe thead th {\n",
       "        text-align: right;\n",
       "    }\n",
       "</style>\n",
       "<table border=\"1\" class=\"dataframe\">\n",
       "  <thead>\n",
       "    <tr style=\"text-align: right;\">\n",
       "      <th></th>\n",
       "      <th>Name</th>\n",
       "      <th>Location</th>\n",
       "      <th>Rank</th>\n",
       "      <th>Description</th>\n",
       "      <th>Tuition and fees</th>\n",
       "      <th>In-state</th>\n",
       "      <th>Undergrad Enrollment</th>\n",
       "    </tr>\n",
       "    <tr>\n",
       "      <th>index</th>\n",
       "      <th></th>\n",
       "      <th></th>\n",
       "      <th></th>\n",
       "      <th></th>\n",
       "      <th></th>\n",
       "      <th></th>\n",
       "      <th></th>\n",
       "    </tr>\n",
       "  </thead>\n",
       "  <tbody>\n",
       "    <tr>\n",
       "      <th>0</th>\n",
       "      <td>Princeton University</td>\n",
       "      <td>Princeton, NJ</td>\n",
       "      <td>1</td>\n",
       "      <td>Princeton, the fourth-oldest college in the Un...</td>\n",
       "      <td>$45,320</td>\n",
       "      <td>NaN</td>\n",
       "      <td>5,402</td>\n",
       "    </tr>\n",
       "  </tbody>\n",
       "</table>\n",
       "</div>"
      ],
      "text/plain": [
       "                       Name       Location  Rank  \\\n",
       "index                                              \n",
       "0      Princeton University  Princeton, NJ     1   \n",
       "\n",
       "                                             Description Tuition and fees  \\\n",
       "index                                                                       \n",
       "0      Princeton, the fourth-oldest college in the Un...         $45,320    \n",
       "\n",
       "      In-state Undergrad Enrollment  \n",
       "index                                \n",
       "0          NaN                5,402  "
      ]
     },
     "execution_count": 42,
     "metadata": {},
     "output_type": "execute_result"
    }
   ],
   "source": [
    "# access dataframe\n",
    "df_nur.head(1)"
   ]
  },
  {
   "cell_type": "code",
   "execution_count": 43,
   "metadata": {},
   "outputs": [
    {
     "data": {
      "text/plain": [
       "Name                    object\n",
       "Location                object\n",
       "Rank                     int64\n",
       "Description             object\n",
       "Tuition and fees        object\n",
       "In-state                object\n",
       "Undergrad Enrollment    object\n",
       "dtype: object"
      ]
     },
     "execution_count": 43,
     "metadata": {},
     "output_type": "execute_result"
    }
   ],
   "source": [
    "# access datatype\n",
    "df_nur.dtypes"
   ]
  },
  {
   "cell_type": "code",
   "execution_count": 44,
   "metadata": {},
   "outputs": [],
   "source": [
    "# data cleaning by replacing ',' with '' and converting column to integer\n",
    "df_nur['Undergrad Enrollment'] = df_nur['Undergrad Enrollment'].str.replace(',','').astype('int')"
   ]
  },
  {
   "cell_type": "code",
   "execution_count": 45,
   "metadata": {},
   "outputs": [
    {
     "data": {
      "text/html": [
       "<div>\n",
       "<style scoped>\n",
       "    .dataframe tbody tr th:only-of-type {\n",
       "        vertical-align: middle;\n",
       "    }\n",
       "\n",
       "    .dataframe tbody tr th {\n",
       "        vertical-align: top;\n",
       "    }\n",
       "\n",
       "    .dataframe thead th {\n",
       "        text-align: right;\n",
       "    }\n",
       "</style>\n",
       "<table border=\"1\" class=\"dataframe\">\n",
       "  <thead>\n",
       "    <tr style=\"text-align: right;\">\n",
       "      <th></th>\n",
       "      <th>Name</th>\n",
       "      <th>Location</th>\n",
       "      <th>Rank</th>\n",
       "      <th>Description</th>\n",
       "      <th>Tuition and fees</th>\n",
       "      <th>In-state</th>\n",
       "      <th>Undergrad Enrollment</th>\n",
       "    </tr>\n",
       "    <tr>\n",
       "      <th>index</th>\n",
       "      <th></th>\n",
       "      <th></th>\n",
       "      <th></th>\n",
       "      <th></th>\n",
       "      <th></th>\n",
       "      <th></th>\n",
       "      <th></th>\n",
       "    </tr>\n",
       "  </thead>\n",
       "  <tbody>\n",
       "    <tr>\n",
       "      <th>92</th>\n",
       "      <td>North Carolina State University--Raleigh</td>\n",
       "      <td>Raleigh, NC</td>\n",
       "      <td>92</td>\n",
       "      <td>North Carolina State University, also known as...</td>\n",
       "      <td>$26,399</td>\n",
       "      <td>$8,880</td>\n",
       "      <td>24111</td>\n",
       "    </tr>\n",
       "    <tr>\n",
       "      <th>53</th>\n",
       "      <td>Ohio State University--Columbus</td>\n",
       "      <td>Columbus, OH</td>\n",
       "      <td>54</td>\n",
       "      <td>Located in the state capital of Columbus, The ...</td>\n",
       "      <td>$29,229</td>\n",
       "      <td>$10,037</td>\n",
       "      <td>45289</td>\n",
       "    </tr>\n",
       "    <tr>\n",
       "      <th>140</th>\n",
       "      <td>University of Cincinnati</td>\n",
       "      <td>Cincinnati, OH</td>\n",
       "      <td>135</td>\n",
       "      <td>The University of Cincinnati is a public schoo...</td>\n",
       "      <td>$26,334</td>\n",
       "      <td>$11,000</td>\n",
       "      <td>25054</td>\n",
       "    </tr>\n",
       "    <tr>\n",
       "      <th>147</th>\n",
       "      <td>San Diego State University</td>\n",
       "      <td>San Diego, CA</td>\n",
       "      <td>146</td>\n",
       "      <td>Founded in 1897, San Diego State University is...</td>\n",
       "      <td>$18,244</td>\n",
       "      <td>$7,084</td>\n",
       "      <td>29234</td>\n",
       "    </tr>\n",
       "    <tr>\n",
       "      <th>118</th>\n",
       "      <td>Seton Hall University</td>\n",
       "      <td>South Orange, NJ</td>\n",
       "      <td>118</td>\n",
       "      <td>Seton Hall University is a private, Catholic s...</td>\n",
       "      <td>$39,258</td>\n",
       "      <td>NaN</td>\n",
       "      <td>6090</td>\n",
       "    </tr>\n",
       "  </tbody>\n",
       "</table>\n",
       "</div>"
      ],
      "text/plain": [
       "                                           Name          Location  Rank  \\\n",
       "index                                                                     \n",
       "92     North Carolina State University--Raleigh       Raleigh, NC    92   \n",
       "53              Ohio State University--Columbus      Columbus, OH    54   \n",
       "140                    University of Cincinnati    Cincinnati, OH   135   \n",
       "147                  San Diego State University     San Diego, CA   146   \n",
       "118                       Seton Hall University  South Orange, NJ   118   \n",
       "\n",
       "                                             Description Tuition and fees  \\\n",
       "index                                                                       \n",
       "92     North Carolina State University, also known as...         $26,399    \n",
       "53     Located in the state capital of Columbus, The ...         $29,229    \n",
       "140    The University of Cincinnati is a public schoo...         $26,334    \n",
       "147    Founded in 1897, San Diego State University is...         $18,244    \n",
       "118    Seton Hall University is a private, Catholic s...         $39,258    \n",
       "\n",
       "       In-state  Undergrad Enrollment  \n",
       "index                                  \n",
       "92      $8,880                  24111  \n",
       "53     $10,037                  45289  \n",
       "140    $11,000                  25054  \n",
       "147     $7,084                  29234  \n",
       "118         NaN                  6090  "
      ]
     },
     "execution_count": 45,
     "metadata": {},
     "output_type": "execute_result"
    }
   ],
   "source": [
    "# check\n",
    "df_nur.sample(5)"
   ]
  },
  {
   "cell_type": "code",
   "execution_count": 46,
   "metadata": {},
   "outputs": [
    {
     "data": {
      "text/plain": [
       "Name                    object\n",
       "Location                object\n",
       "Rank                     int64\n",
       "Description             object\n",
       "Tuition and fees        object\n",
       "In-state                object\n",
       "Undergrad Enrollment     int32\n",
       "dtype: object"
      ]
     },
     "execution_count": 46,
     "metadata": {},
     "output_type": "execute_result"
    }
   ],
   "source": [
    "# check\n",
    "df_nur.dtypes"
   ]
  },
  {
   "cell_type": "code",
   "execution_count": null,
   "metadata": {},
   "outputs": [],
   "source": []
  }
 ],
 "metadata": {
  "kernelspec": {
   "display_name": "Python 3 (ipykernel)",
   "language": "python",
   "name": "python3"
  },
  "language_info": {
   "codemirror_mode": {
    "name": "ipython",
    "version": 3
   },
   "file_extension": ".py",
   "mimetype": "text/x-python",
   "name": "python",
   "nbconvert_exporter": "python",
   "pygments_lexer": "ipython3",
   "version": "3.10.9"
  },
  "orig_nbformat": 4
 },
 "nbformat": 4,
 "nbformat_minor": 2
}
