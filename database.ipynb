{
 "cells": [
  {
   "cell_type": "code",
   "execution_count": null,
   "metadata": {},
   "outputs": [],
   "source": [
    "import pandas as pd\n",
    "import shortuuid"
   ]
  },
  {
   "cell_type": "code",
   "execution_count": null,
   "metadata": {},
   "outputs": [],
   "source": [
    "df = pd.read_csv('dataset/cleaned_nur_data.csv', index_col=0)\n",
    "df.head()"
   ]
  },
  {
   "cell_type": "code",
   "execution_count": null,
   "metadata": {},
   "outputs": [],
   "source": [
    "def generate_short_unique_id(row):\n",
    "    concat_str = str(row['rank']) + str(row['column2']) + str(row['column3'])\n",
    "    # Generate a UUID from the concatenated string\n",
    "    unique_id = shortuuid.uuid(name=concat_str)\n",
    "    return unique_id"
   ]
  },
  {
   "cell_type": "code",
   "execution_count": null,
   "metadata": {},
   "outputs": [],
   "source": [
    "df_nur = df.copy()\n",
    "df_nur = df_nur.rename(columns={'state': 'state_id'})\n",
    "df_nur['rank_id'] = "
   ]
  },
  {
   "cell_type": "code",
   "execution_count": null,
   "metadata": {},
   "outputs": [],
   "source": [
    "import pandas as pd\n",
    "import shortuuid\n",
    "\n",
    "# Sample DataFrame\n",
    "data = {\n",
    "    'column1': [1, 2, 3],\n",
    "    'column2': ['A', 'B', 'C'],\n",
    "    'column3': ['X', 'Y', 'Z']\n",
    "}\n",
    "df = pd.DataFrame(data)\n",
    "\n",
    "# Function to generate a short unique ID using shortuuid\n",
    "def generate_short_unique_id(row):\n",
    "    # Concatenate the values from multiple columns into a string\n",
    "    concat_str = str(row['column1']) + str(row['column2']) + str(row['column3'])\n",
    "    # Generate a UUID from the concatenated string\n",
    "    unique_id = shortuuid.uuid(name=concat_str)\n",
    "    return unique_id\n",
    "\n",
    "# Apply the function to each row and create a new column 'short_unique_id'\n",
    "df['short_unique_id'] = df.apply(generate_short_unique_id, axis=1)\n",
    "\n",
    "print(df)"
   ]
  }
 ],
 "metadata": {
  "kernelspec": {
   "display_name": "base",
   "language": "python",
   "name": "python3"
  },
  "language_info": {
   "name": "python",
   "version": "3.10.9"
  },
  "orig_nbformat": 4
 },
 "nbformat": 4,
 "nbformat_minor": 2
}
